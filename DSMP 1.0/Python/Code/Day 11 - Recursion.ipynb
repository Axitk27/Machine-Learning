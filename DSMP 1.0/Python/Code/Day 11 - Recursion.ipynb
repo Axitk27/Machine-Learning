{
 "cells": [
  {
   "cell_type": "code",
   "execution_count": 1,
   "id": "4a3ab702",
   "metadata": {},
   "outputs": [],
   "source": [
    "def multiple(a,b):\n",
    "    result = 0\n",
    "    \n",
    "    for i in range(0,b):\n",
    "        result = result + a\n",
    "        \n",
    "    return result\n"
   ]
  },
  {
   "cell_type": "code",
   "execution_count": 2,
   "id": "d2af732a",
   "metadata": {},
   "outputs": [
    {
     "name": "stdout",
     "output_type": "stream",
     "text": [
      "2\n"
     ]
    }
   ],
   "source": [
    "print(multiple(1,2))"
   ]
  },
  {
   "cell_type": "code",
   "execution_count": 5,
   "id": "c96eae3a",
   "metadata": {},
   "outputs": [],
   "source": [
    "def multiple(a,b):\n",
    "    if b == 1:\n",
    "        return a\n",
    "    else:\n",
    "        return a + multiple(a,b-1)"
   ]
  },
  {
   "cell_type": "code",
   "execution_count": 7,
   "id": "cb88bd44",
   "metadata": {},
   "outputs": [
    {
     "name": "stdout",
     "output_type": "stream",
     "text": [
      "30\n"
     ]
    }
   ],
   "source": [
    "print(multiple(5,6))"
   ]
  },
  {
   "cell_type": "code",
   "execution_count": 8,
   "id": "edc874b5",
   "metadata": {},
   "outputs": [],
   "source": [
    "def fact(a):\n",
    "    if a == 1:\n",
    "        return 1\n",
    "    else :\n",
    "        return a*fact(a-1) "
   ]
  },
  {
   "cell_type": "code",
   "execution_count": 9,
   "id": "2394c742",
   "metadata": {},
   "outputs": [
    {
     "name": "stdout",
     "output_type": "stream",
     "text": [
      "120\n"
     ]
    }
   ],
   "source": [
    "print(fact(5))"
   ]
  },
  {
   "cell_type": "code",
   "execution_count": null,
   "id": "2f6e257e",
   "metadata": {},
   "outputs": [],
   "source": [
    "# string is a palindrome or not\n",
    "\n",
    "def if_palindrom(a):\n",
    "    if len(a)==1 or len(a) == 0:\n",
    "        return 'Yes Palindrome'\n",
    "    else:\n",
    "        if(a[0] == a[-1]):\n",
    "            a = a[1:len(a)-1]\n",
    "            return if_palindrom(a)\n",
    "        else:\n",
    "            return 'Not Palindrome'"
   ]
  },
  {
   "cell_type": "code",
   "execution_count": 17,
   "id": "440a9143",
   "metadata": {},
   "outputs": [
    {
     "name": "stdout",
     "output_type": "stream",
     "text": [
      "Not Palindrome\n"
     ]
    }
   ],
   "source": [
    "print(if_palindrom('madem'))"
   ]
  },
  {
   "cell_type": "code",
   "execution_count": null,
   "id": "0dc72ff0",
   "metadata": {},
   "outputs": [
    {
     "data": {
      "text/plain": [
       "24157817"
      ]
     },
     "execution_count": 22,
     "metadata": {},
     "output_type": "execute_result"
    }
   ],
   "source": [
    "#Fibonachi series --> really slow in terms of Execution\n",
    "\n",
    "def feb(a):\n",
    "    if a == 0:\n",
    "        return 1\n",
    "    elif a == 1:\n",
    "        return 1\n",
    "    else: \n",
    "        return feb(a-1) + feb(a-2)\n",
    "    \n",
    "feb(36)  "
   ]
  },
  {
   "cell_type": "code",
   "execution_count": 32,
   "id": "422dee01",
   "metadata": {},
   "outputs": [
    {
     "name": "stdout",
     "output_type": "stream",
     "text": [
      "8\n",
      "{0: 1, 1: 1, 2: 2, 3: 3, 4: 5, 5: 8}\n"
     ]
    }
   ],
   "source": [
    "#We need to use here dynamic Programming\n",
    "\n",
    "def feb(a,d):\n",
    "    if a in d:\n",
    "        return d[a]\n",
    "    else:\n",
    "        d[a] = feb(a-1,d) + feb(a-2,d)\n",
    "        return d[a]\n",
    "    \n",
    "    \n",
    "    \n",
    "d = {0:1,1:1}\n",
    "print(feb(5,d))\n",
    "print(d)"
   ]
  },
  {
   "cell_type": "code",
   "execution_count": null,
   "id": "fff2dfb2",
   "metadata": {},
   "outputs": [
    {
     "name": "stdout",
     "output_type": "stream",
     "text": [
      "[[], [1, 2]]\n"
     ]
    }
   ],
   "source": [
    "def power_set(a,l):\n",
    "    for item in a:\n",
    "        power_set()\n",
    "    "
   ]
  },
  {
   "cell_type": "code",
   "execution_count": 1,
   "id": "a5a89935",
   "metadata": {},
   "outputs": [
    {
     "name": "stdout",
     "output_type": "stream",
     "text": [
      "0\n"
     ]
    }
   ],
   "source": [
    "print(len(\"\"))"
   ]
  },
  {
   "cell_type": "code",
   "execution_count": null,
   "id": "37a9689f",
   "metadata": {},
   "outputs": [],
   "source": []
  },
  {
   "cell_type": "code",
   "execution_count": null,
   "id": "a0f4ab33",
   "metadata": {},
   "outputs": [],
   "source": []
  },
  {
   "cell_type": "code",
   "execution_count": null,
   "id": "190f7cd0",
   "metadata": {},
   "outputs": [],
   "source": []
  },
  {
   "cell_type": "code",
   "execution_count": null,
   "id": "65b4e15c",
   "metadata": {},
   "outputs": [],
   "source": []
  },
  {
   "cell_type": "code",
   "execution_count": null,
   "id": "4b209e33",
   "metadata": {},
   "outputs": [],
   "source": []
  }
 ],
 "metadata": {
  "kernelspec": {
   "display_name": "Machinelearning_new",
   "language": "python",
   "name": "python3"
  },
  "language_info": {
   "codemirror_mode": {
    "name": "ipython",
    "version": 3
   },
   "file_extension": ".py",
   "mimetype": "text/x-python",
   "name": "python",
   "nbconvert_exporter": "python",
   "pygments_lexer": "ipython3",
   "version": "3.11.11"
  }
 },
 "nbformat": 4,
 "nbformat_minor": 5
}
