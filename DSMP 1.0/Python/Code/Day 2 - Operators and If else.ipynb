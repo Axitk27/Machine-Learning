{
 "cells": [
  {
   "cell_type": "code",
   "execution_count": 2,
   "metadata": {},
   "outputs": [
    {
     "name": "stdout",
     "output_type": "stream",
     "text": [
      "6\n"
     ]
    }
   ],
   "source": [
    "a = input()\n",
    "sum = int(a[0])+int(a[1])+int(a[2])\n",
    "print(sum)"
   ]
  },
  {
   "cell_type": "code",
   "execution_count": 3,
   "metadata": {},
   "outputs": [
    {
     "name": "stdout",
     "output_type": "stream",
     "text": [
      "6\n"
     ]
    }
   ],
   "source": [
    "number = int(input())\n",
    "\n",
    "a = number%10\n",
    "number = number//10\n",
    "b = number%10\n",
    "number = number//10\n",
    "c = number%10\n",
    "number = number//10\n",
    "\n",
    "sum = a+b+c\n",
    "print(sum)"
   ]
  },
  {
   "cell_type": "code",
   "execution_count": 5,
   "metadata": {},
   "outputs": [
    {
     "name": "stdout",
     "output_type": "stream",
     "text": [
      "10\n"
     ]
    }
   ],
   "source": [
    "#Find the minimum of the number\n",
    "a = int(input())\n",
    "b = int(input())\n",
    "c = int(input())\n",
    "\n",
    "# if(a>b):\n",
    "#     if(b>c):\n",
    "#         m = c\n",
    "#     else:\n",
    "#         m = b\n",
    "        \n",
    "# elif(b>c):\n",
    "#     if(c>a):\n",
    "#         m = a\n",
    "#     else:\n",
    "#         m = c\n",
    "        \n",
    "# else:\n",
    "#     m = a\n",
    "\n",
    "\n",
    "# print(m)\n",
    "\n",
    "if(a<b) and (a<c):\n",
    "    print(a)\n",
    "elif b<c:\n",
    "    print(b)\n",
    "else:\n",
    "    print(c)"
   ]
  },
  {
   "cell_type": "code",
   "execution_count": 8,
   "metadata": {},
   "outputs": [
    {
     "name": "stdout",
     "output_type": "stream",
     "text": [
      "-2\n"
     ]
    }
   ],
   "source": [
    "#Manu driven computer\n",
    "\n",
    "a = int(input(\"Enter the First Number\"))\n",
    "b = int(input(\"Enter the Second Number\"))\n",
    "\n",
    "op = input(\"What Operation You want to do + - / *\")\n",
    "\n",
    "if op == '+':\n",
    "    print(a+b)\n",
    "elif op == '-':\n",
    "    print(a-b)\n",
    "elif op == '*':\n",
    "    print(a*b)\n",
    "elif op == '/':\n",
    "    print(a/b)\n",
    "else:\n",
    "    print('Not a Valid Input')"
   ]
  },
  {
   "cell_type": "code",
   "execution_count": null,
   "metadata": {},
   "outputs": [
    {
     "name": "stdout",
     "output_type": "stream",
     "text": [
      "['False', 'None', 'True', 'and', 'as', 'assert', 'async', 'await', 'break', 'class', 'continue', 'def', 'del', 'elif', 'else', 'except', 'finally', 'for', 'from', 'global', 'if', 'import', 'in', 'is', 'lambda', 'nonlocal', 'not', 'or', 'pass', 'raise', 'return', 'try', 'while', 'with', 'yield']\n"
     ]
    }
   ],
   "source": [
    "#Module\n",
    "#Keyword\n",
    "import keyword as kp\n",
    "print(kp.kwlist)"
   ]
  },
  {
   "cell_type": "code",
   "execution_count": 8,
   "metadata": {},
   "outputs": [
    {
     "name": "stdout",
     "output_type": "stream",
     "text": [
      "5\n"
     ]
    }
   ],
   "source": [
    "#Random\n",
    "import random\n",
    "print(random.randint(3,6))"
   ]
  },
  {
   "cell_type": "code",
   "execution_count": 9,
   "metadata": {},
   "outputs": [
    {
     "name": "stdout",
     "output_type": "stream",
     "text": [
      "\n",
      "Please wait a moment while I gather a list of all available modules...\n",
      "\n",
      "IPython             brotli              mimetypes           string\n",
      "PIL                 bs4                 mistune             stringprep\n",
      "__future__          builtins            mmap                struct\n",
      "__hello__           bz2                 mmapfile            subprocess\n",
      "__phello__          cProfile            mmsystem            sunau\n",
      "_abc                calendar            modulefinder        symtable\n",
      "_aix_support        certifi             more_itertools      sys\n",
      "_argon2_cffi_bindings cffi                msilib              sysconfig\n",
      "_ast                cgi                 msvcrt              tabnanny\n",
      "_asyncio            cgitb               multiprocessing     tarfile\n",
      "_bisect             charset_normalizer  nbclient            telnetlib\n",
      "_blake2             chunk               nbconvert           tempfile\n",
      "_bootsubprocess     cmath               nbformat            terminado\n",
      "_brotli             cmd                 nest_asyncio        test\n",
      "_bz2                code                netbios             textwrap\n",
      "_cffi_backend       codecs              netrc               this\n",
      "_codecs             codeop              nlpcloud            threading\n",
      "_codecs_cn          collections         nntplib             threadpoolctl\n",
      "_codecs_hk          colorama            notebook            time\n",
      "_codecs_iso2022     colorsys            notebook_shim       timeit\n",
      "_codecs_jp          comm                nt                  timer\n",
      "_codecs_kr          commctrl            ntpath              tinycss2\n",
      "_codecs_tw          compileall          ntsecuritycon       tkinter\n",
      "_collections        concurrent          nturl2path          token\n",
      "_collections_abc    configparser        numbers             tokenize\n",
      "_compat_pickle      contextlib          numpy               tomli\n",
      "_compression        contextvars         odbc                tomllib\n",
      "_contextvars        contourpy           opcode              tornado\n",
      "_csv                copy                operator            trace\n",
      "_ctypes             copyreg             optparse            traceback\n",
      "_ctypes_test        crypt               os                  tracemalloc\n",
      "_datetime           csv                 overrides           traitlets\n",
      "_decimal            ctypes              packaging           tty\n",
      "_distutils_hack     curses              pandas              turtle\n",
      "_elementtree        cycler              pandocfilters       turtledemo\n",
      "_functools          dataclasses         parso               typeguard\n",
      "_hashlib            datetime            pathlib             types\n",
      "_heapq              dateutil            pdb                 typing\n",
      "_imp                dbm                 perfmon             typing_extensions\n",
      "_io                 dde                 pickle              tzdata\n",
      "_json               debugpy             pickletools         unicodedata\n",
      "_locale             decimal             pip                 unittest\n",
      "_lsprof             decorator           pipes               urllib\n",
      "_lzma               defusedxml          pkg_resources       urllib3\n",
      "_markupbase         difflib             pkgutil             uu\n",
      "_md5                dis                 platform            uuid\n",
      "_msi                distutils           platformdirs        venv\n",
      "_multibytecodec     doctest             plistlib            warnings\n",
      "_multiprocessing    email               poplib              wave\n",
      "_opcode             encodings           posixpath           wcwidth\n",
      "_operator           ensurepip           pprint              weakref\n",
      "_osx_support        enum                profile             webbrowser\n",
      "_overlapped         errno               prometheus_client   webencodings\n",
      "_pickle             executing           prompt_toolkit      websocket\n",
      "_py_abc             fastjsonschema      pstats              wheel\n",
      "_pydecimal          faulthandler        psutil              win2kras\n",
      "_pyio               filecmp             pty                 win32api\n",
      "_queue              fileinput           pure_eval           win32clipboard\n",
      "_random             fnmatch             py_compile          win32com\n",
      "_sha1               fontTools           pyclbr              win32con\n",
      "_sha256             fractions           pycparser           win32console\n",
      "_sha3               ftplib              pydoc               win32cred\n",
      "_sha512             functools           pydoc_data          win32crypt\n",
      "_signal             gc                  pyexpat             win32cryptcon\n",
      "_sitebuiltins       genericpath         pygments            win32event\n",
      "_socket             getopt              pylab               win32evtlog\n",
      "_sqlite3            getpass             pyparsing           win32evtlogutil\n",
      "_sre                gettext             pythoncom           win32file\n",
      "_ssl                glob                pythonjsonlogger    win32gui\n",
      "_stat               graphlib            pytz                win32gui_struct\n",
      "_statistics         gzip                pywin               win32help\n",
      "_string             h11                 pywin32_bootstrap   win32inet\n",
      "_strptime           hashlib             pywin32_testutil    win32inetcon\n",
      "_struct             heapq               pywintypes          win32job\n",
      "_symtable           hmac                queue               win32lz\n",
      "_testbuffer         html                quopri              win32net\n",
      "_testcapi           http                random              win32netcon\n",
      "_testconsole        httpcore            rasutil             win32pdh\n",
      "_testimportmultiple httpx               re                  win32pdhquery\n",
      "_testinternalcapi   idlelib             referencing         win32pdhutil\n",
      "_testmultiphase     idna                regcheck            win32pipe\n",
      "_thread             imaplib             regutil             win32print\n",
      "_threading_local    imghdr              reprlib             win32process\n",
      "_tkinter            imp                 requests            win32profile\n",
      "_tokenize           importlib           rfc3339_validator   win32ras\n",
      "_tracemalloc        importlib_metadata  rfc3986_validator   win32rcparser\n",
      "_typing             inflect             rlcompleter         win32security\n",
      "_uuid               inspect             rpds                win32service\n",
      "_warnings           io                  runpy               win32serviceutil\n",
      "_weakref            ipaddress           sched               win32timezone\n",
      "_weakrefset         ipykernel           scipy               win32trace\n",
      "_win32sysloader     ipykernel_launcher  seaborn             win32traceutil\n",
      "_win32verstamp_pywin32ctypes isapi               secrets             win32transaction\n",
      "_winapi             itertools           select              win32ts\n",
      "_winxptheme         jedi                selectors           win32ui\n",
      "_xxsubinterpreters  jinja2              send2trash          win32uiole\n",
      "_yaml               joblib              servicemanager      win32verstamp\n",
      "_zoneinfo           json                setuptools          win32wnet\n",
      "abc                 json5               shelve              win_inet_pton\n",
      "adodbapi            jsonschema          shlex               winerror\n",
      "afxres              jsonschema_specifications shutil              winioctlcon\n",
      "aifc                jupyter             signal              winnt\n",
      "antigravity         jupyter_client      site                winperf\n",
      "anyio               jupyter_core        six                 winpty\n",
      "argon2              jupyter_events      sklearn             winreg\n",
      "argparse            jupyter_lsp         smtpd               winsound\n",
      "array               jupyter_server      smtplib             winxpgui\n",
      "ast                 jupyter_server_terminals sndhdr              winxptheme\n",
      "asttokens           jupyterlab          sniffio             wsgiref\n",
      "async_lru           jupyterlab_pygments socket              xdrlib\n",
      "asynchat            jupyterlab_server   socketserver        xml\n",
      "asyncio             keyword             socks               xmlrpc\n",
      "asyncore            kiwisolver          sockshandler        xxlimited\n",
      "atexit              lib2to3             soupsieve           xxlimited_35\n",
      "attr                linecache           sqlite3             xxsubtype\n",
      "attrs               locale              sre_compile         yaml\n",
      "audioop             logging             sre_constants       zipapp\n",
      "autocommand         lzma                sre_parse           zipfile\n",
      "babel               mailbox             ssl                 zipimport\n",
      "backports           mailcap             sspi                zipp\n",
      "base64              markupsafe          sspicon             zlib\n",
      "bdb                 marshal             stack_data          zmq\n",
      "binascii            math                start_pythonwin     zoneinfo\n",
      "bisect              matplotlib          stat                \n",
      "bleach              matplotlib_inline   statistics          \n",
      "\n",
      "Enter any module name to get more help.  Or, type \"modules spam\" to search\n",
      "for modules whose name or summary contain the string \"spam\".\n",
      "\n"
     ]
    },
    {
     "ename": "TypeError",
     "evalue": "'NoneType' object is not iterable",
     "output_type": "error",
     "traceback": [
      "\u001b[1;31m---------------------------------------------------------------------------\u001b[0m",
      "\u001b[1;31mTypeError\u001b[0m                                 Traceback (most recent call last)",
      "Cell \u001b[1;32mIn[9], line 1\u001b[0m\n\u001b[1;32m----> 1\u001b[0m \u001b[38;5;28mlist\u001b[39m(help(\u001b[38;5;124m'\u001b[39m\u001b[38;5;124mmodules\u001b[39m\u001b[38;5;124m'\u001b[39m))\n",
      "\u001b[1;31mTypeError\u001b[0m: 'NoneType' object is not iterable"
     ]
    }
   ],
   "source": [
    "list(help('modules'))#all the list of the Modules "
   ]
  },
  {
   "cell_type": "code",
   "execution_count": 18,
   "metadata": {},
   "outputs": [
    {
     "data": {
      "text/plain": [
       "datetime.datetime(2025, 3, 29, 22, 42, 40, 330370)"
      ]
     },
     "execution_count": 18,
     "metadata": {},
     "output_type": "execute_result"
    }
   ],
   "source": [
    "import datetime\n",
    "\n",
    "datetime.datetime.now()"
   ]
  },
  {
   "cell_type": "code",
   "execution_count": 21,
   "metadata": {},
   "outputs": [
    {
     "name": "stdout",
     "output_type": "stream",
     "text": [
      "3\n",
      "6\n",
      "9\n",
      "12\n",
      "15\n",
      "18\n",
      "21\n",
      "24\n",
      "27\n",
      "30\n"
     ]
    }
   ],
   "source": [
    "#loops \n",
    "#(1) While loop\n",
    "a = int(input('Enter the number'))\n",
    "i = 1\n",
    "\n",
    "while (i!=11):\n",
    "    print(a*i)\n",
    "    i+=1"
   ]
  },
  {
   "cell_type": "code",
   "execution_count": 35,
   "metadata": {},
   "outputs": [
    {
     "name": "stdout",
     "output_type": "stream",
     "text": [
      "You lost\n"
     ]
    }
   ],
   "source": [
    "#Create a Game Guess the number\n",
    "import random\n",
    "number = int(input(\"Your Number\"))\n",
    "# jackpot = random.randint(1,100)\n",
    "jackpot = 100\n",
    "number_turn = 0\n",
    "while(number != jackpot and number_turn != 3):\n",
    "    if(number<jackpot):\n",
    "        number = int(input(f'Guess number which is More then {number}'))\n",
    "        number_turn +=1\n",
    "    elif(number>jackpot):\n",
    "        number = int(input(f'Guess number which is less then {number}'))\n",
    "        number_turn +=1\n",
    "        \n",
    "if(number_turn == 3):\n",
    "    print(\"You lost\")\n",
    "else:\n",
    "    print(\"You win\")"
   ]
  },
  {
   "cell_type": "code",
   "execution_count": 11,
   "metadata": {},
   "outputs": [
    {
     "data": {
      "text/plain": [
       "[10, 9, 8, 7, 6, 5, 4, 3, 2, 1]"
      ]
     },
     "execution_count": 11,
     "metadata": {},
     "output_type": "execute_result"
    }
   ],
   "source": [
    "list(range(10,0,-1))"
   ]
  },
  {
   "cell_type": "code",
   "execution_count": 3,
   "metadata": {},
   "outputs": [
    {
     "name": "stdout",
     "output_type": "stream",
     "text": [
      "10 10000\n",
      "9 9091\n",
      "8 8265\n",
      "7 7514\n",
      "6 6831\n",
      "5 6210\n",
      "4 5645\n",
      "3 5132\n",
      "2 4665\n",
      "1 4241\n"
     ]
    }
   ],
   "source": [
    "#(2) For Loops\n",
    "curr_pop = 10000\n",
    "for i in range(10,0,-1):\n",
    "    print(i,curr_pop)\n",
    "    curr_pop = round(curr_pop/1.1)"
   ]
  },
  {
   "cell_type": "code",
   "execution_count": 42,
   "metadata": {},
   "outputs": [
    {
     "name": "stdout",
     "output_type": "stream",
     "text": [
      "10\n",
      "9\n",
      "8\n",
      "7\n",
      "6\n",
      "5\n",
      "4\n",
      "3\n",
      "2\n",
      "1\n"
     ]
    }
   ],
   "source": [
    "for i in range(10,0,-1):\n",
    "    print(i)"
   ]
  },
  {
   "cell_type": "code",
   "execution_count": null,
   "metadata": {},
   "outputs": [],
   "source": [
    "1/1! + 2+2! + 3/3!\n"
   ]
  },
  {
   "cell_type": "code",
   "execution_count": 4,
   "metadata": {},
   "outputs": [
    {
     "name": "stdout",
     "output_type": "stream",
     "text": [
      "2.7182815255731922\n"
     ]
    }
   ],
   "source": [
    "n = int(input(\"Enter n\"))\n",
    "result = 0\n",
    "fact = 1\n",
    "for i in range(1,n+1):\n",
    "    fact = fact*i\n",
    "    result = result + (i)/fact\n",
    "    \n",
    "print(result)"
   ]
  },
  {
   "cell_type": "code",
   "execution_count": null,
   "metadata": {},
   "outputs": [],
   "source": []
  },
  {
   "cell_type": "code",
   "execution_count": null,
   "metadata": {},
   "outputs": [],
   "source": []
  },
  {
   "cell_type": "code",
   "execution_count": null,
   "metadata": {},
   "outputs": [],
   "source": []
  },
  {
   "cell_type": "code",
   "execution_count": null,
   "metadata": {},
   "outputs": [],
   "source": []
  },
  {
   "cell_type": "code",
   "execution_count": null,
   "metadata": {},
   "outputs": [],
   "source": []
  },
  {
   "cell_type": "code",
   "execution_count": null,
   "metadata": {},
   "outputs": [],
   "source": []
  },
  {
   "cell_type": "code",
   "execution_count": null,
   "metadata": {},
   "outputs": [],
   "source": []
  }
 ],
 "metadata": {
  "kernelspec": {
   "display_name": "Machinelearning_new",
   "language": "python",
   "name": "python3"
  },
  "language_info": {
   "codemirror_mode": {
    "name": "ipython",
    "version": 3
   },
   "file_extension": ".py",
   "mimetype": "text/x-python",
   "name": "python",
   "nbconvert_exporter": "python",
   "pygments_lexer": "ipython3",
   "version": "3.11.11"
  }
 },
 "nbformat": 4,
 "nbformat_minor": 2
}
