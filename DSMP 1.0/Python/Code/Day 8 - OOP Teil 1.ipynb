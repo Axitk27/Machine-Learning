{
 "cells": [
  {
   "cell_type": "code",
   "execution_count": 1,
   "id": "bdb949b2",
   "metadata": {},
   "outputs": [],
   "source": [
    "class Bank:\n",
    "    #This will execute automatic\n",
    "    def __init__(self):\n",
    "        self.pin = ''\n",
    "        self.balance = 0\n",
    "        # self.menu()    \n",
    "        \n",
    "    def menu(self):\n",
    "        user_input = input(\"\"\" Hi\n",
    "              How I can Help You?\n",
    "              1. Press 1 to create pin\n",
    "              2. Press 2 to change pin\n",
    "              3. Press 3 to check Balance\n",
    "              4. Press 4 to withdraw Money\n",
    "              5. Anything else to exists\n",
    "              \"\"\")\n",
    "\n",
    "        if user_input == '1':\n",
    "            self.create_pin()\n",
    "        elif user_input == '2':\n",
    "            self.change_pin()\n",
    "        elif user_input == '3':\n",
    "            self.check_balance()\n",
    "        elif user_input == '4':\n",
    "            self.withdraw_balance()\n",
    "        else:\n",
    "            exit()\n",
    "    \n",
    "    def create_pin(self):\n",
    "        user_pin = input(\"Enter your Pin: \")\n",
    "        self.pin = user_pin\n",
    "        user_balance = int(input(\"Enter your balance: \"))\n",
    "        self.balance = user_balance\n",
    "        print('Pin created successfully.....!!!!!!!!!')\n",
    "        self.menu()\n",
    "    \n",
    "    def change_pin(self):\n",
    "        old_pin = input(\"Enter your old Pin: \")\n",
    "        if old_pin == self.pin:\n",
    "            user_pin = input(\"Enter your new Pin: \")\n",
    "            self.pin = user_pin\n",
    "            print('Pin changed successfully.....!!!!!!!!!')\n",
    "            self.menu()\n",
    "        else: \n",
    "            print(\"Nahi krne dunga ghar pe chala ja\")\n",
    "            self.menu()\n",
    "    \n",
    "    def check_balance(self):\n",
    "        your_pin = input(\"Enter your Pin: \")\n",
    "        if your_pin == self.pin:\n",
    "            print(f'Your Balnce is {self.balance}')\n",
    "            self.menu()\n",
    "        else: \n",
    "            self.menu()\n",
    "    \n",
    "    def withdraw_balance():\n",
    "        your_pin = input(\"Enter your Pin: \")\n",
    "        if your_pin == self.pin:\n",
    "            withdraw_money = int(input('Enter the Money you want to withdraw: '))\n",
    "            if withdraw_money < self.balance:\n",
    "                self.balance -= withdraw_money\n",
    "                print(f'Your Balnce is now {self.balance}')\n",
    "            else:\n",
    "                print(\"Abey Garib\")\n",
    "            \n",
    "        else: \n",
    "            print(\"Your Pin was wrong....!!!! go to Main menue\")\n",
    "        self.menu()"
   ]
  },
  {
   "cell_type": "code",
   "execution_count": 3,
   "id": "44e8e406",
   "metadata": {},
   "outputs": [],
   "source": [
    "bajaj =  Bank()"
   ]
  },
  {
   "cell_type": "code",
   "execution_count": null,
   "id": "9d871654",
   "metadata": {},
   "outputs": [],
   "source": [
    "# CLass name should be Pascal case\n",
    "# AxitKakadiya -> every word startwith capital letter and no space in between words"
   ]
  },
  {
   "cell_type": "code",
   "execution_count": 45,
   "id": "fd9dc4e0",
   "metadata": {},
   "outputs": [],
   "source": [
    "class fraction:\n",
    "    #Parameterized Constructor\n",
    "    def __init__(self,x,y):\n",
    "        self.num = x\n",
    "        self.den = y\n",
    "    \n",
    "    def __str__(self):\n",
    "        return (f'{self.num}/{self.den}')\n",
    "        \n",
    "    def __add__(self,other):\n",
    "        new_num = self.num * other.den + self.den * other.num\n",
    "        new_den = self.den * other.den\n",
    "        return (f'{new_num}/{new_den}')\n",
    "    \n",
    "    def __sub__(self,other):\n",
    "        new_num = self.num * other.den - self.den * other.num\n",
    "        new_den = self.den * other.den\n",
    "        return (f'{new_num}/{new_den}')\n",
    "    \n",
    "    def __mul__(self,other):\n",
    "        new_num = self.num * other.num\n",
    "        new_den = self.den * other.den\n",
    "        return (f'{new_num}/{new_den}')\n",
    "    def __truediv__(self,other):\n",
    "        new_num = self.num * other.den\n",
    "        new_den = self.den * other.num\n",
    "        return (f'{new_num}/{new_den}')\n",
    "    \n",
    "    \n",
    "    def convert_to_decimal(self):\n",
    "        return (self.num/self.div)\n",
    "    "
   ]
  },
  {
   "cell_type": "code",
   "execution_count": 43,
   "id": "19a8e85e",
   "metadata": {},
   "outputs": [],
   "source": [
    "obj1 = fraction(1,2)\n",
    "obj2 = fraction(1,4)"
   ]
  },
  {
   "cell_type": "code",
   "execution_count": 46,
   "id": "7f9bb36b",
   "metadata": {},
   "outputs": [
    {
     "name": "stdout",
     "output_type": "stream",
     "text": [
      "6/8\n",
      "2/8\n",
      "1/8\n",
      "4/2\n"
     ]
    },
    {
     "ename": "AttributeError",
     "evalue": "'fraction' object has no attribute 'div'",
     "output_type": "error",
     "traceback": [
      "\u001b[1;31m---------------------------------------------------------------------------\u001b[0m",
      "\u001b[1;31mAttributeError\u001b[0m                            Traceback (most recent call last)",
      "Cell \u001b[1;32mIn[46], line 5\u001b[0m\n\u001b[0;32m      3\u001b[0m \u001b[38;5;28mprint\u001b[39m(obj1 \u001b[38;5;241m*\u001b[39m obj2)\n\u001b[0;32m      4\u001b[0m \u001b[38;5;28mprint\u001b[39m(obj1 \u001b[38;5;241m/\u001b[39m obj2)\n\u001b[1;32m----> 5\u001b[0m obj1\u001b[38;5;241m.\u001b[39mconvert_to_decimal()\n",
      "Cell \u001b[1;32mIn[42], line 31\u001b[0m, in \u001b[0;36mfraction.convert_to_decimal\u001b[1;34m(self)\u001b[0m\n\u001b[0;32m     30\u001b[0m \u001b[38;5;28;01mdef\u001b[39;00m \u001b[38;5;21mconvert_to_decimal\u001b[39m(\u001b[38;5;28mself\u001b[39m):\n\u001b[1;32m---> 31\u001b[0m     \u001b[38;5;28;01mreturn\u001b[39;00m \u001b[38;5;28mself\u001b[39m\u001b[38;5;241m.\u001b[39mnum\u001b[38;5;241m/\u001b[39m\u001b[38;5;28mself\u001b[39m\u001b[38;5;241m.\u001b[39mdiv\n",
      "\u001b[1;31mAttributeError\u001b[0m: 'fraction' object has no attribute 'div'"
     ]
    }
   ],
   "source": [
    "print(obj1 + obj2)\n",
    "print(obj1 - obj2)\n",
    "print(obj1 * obj2)\n",
    "print(obj1 / obj2)\n",
    "obj1.convert_to_decimal()"
   ]
  },
  {
   "cell_type": "code",
   "execution_count": null,
   "id": "61681f01",
   "metadata": {},
   "outputs": [],
   "source": []
  },
  {
   "cell_type": "code",
   "execution_count": null,
   "id": "34c1ecac",
   "metadata": {},
   "outputs": [],
   "source": []
  },
  {
   "cell_type": "code",
   "execution_count": null,
   "id": "0af5495a",
   "metadata": {},
   "outputs": [],
   "source": []
  },
  {
   "cell_type": "code",
   "execution_count": null,
   "id": "057f83f9",
   "metadata": {},
   "outputs": [],
   "source": []
  },
  {
   "cell_type": "code",
   "execution_count": null,
   "id": "adf1c3d9",
   "metadata": {},
   "outputs": [],
   "source": []
  },
  {
   "cell_type": "code",
   "execution_count": null,
   "id": "7e059cbc",
   "metadata": {},
   "outputs": [],
   "source": []
  },
  {
   "cell_type": "code",
   "execution_count": null,
   "id": "5cc6cc4d",
   "metadata": {},
   "outputs": [],
   "source": []
  },
  {
   "cell_type": "code",
   "execution_count": null,
   "id": "2022da40",
   "metadata": {},
   "outputs": [],
   "source": []
  },
  {
   "cell_type": "code",
   "execution_count": null,
   "id": "f27ad553",
   "metadata": {},
   "outputs": [],
   "source": []
  },
  {
   "cell_type": "code",
   "execution_count": null,
   "id": "e0d69d45",
   "metadata": {},
   "outputs": [],
   "source": []
  },
  {
   "cell_type": "code",
   "execution_count": null,
   "id": "807768d8",
   "metadata": {},
   "outputs": [],
   "source": []
  },
  {
   "cell_type": "code",
   "execution_count": null,
   "id": "693122a2",
   "metadata": {},
   "outputs": [],
   "source": []
  },
  {
   "cell_type": "code",
   "execution_count": null,
   "id": "61371703",
   "metadata": {},
   "outputs": [],
   "source": []
  },
  {
   "cell_type": "code",
   "execution_count": null,
   "id": "e3ba410e",
   "metadata": {},
   "outputs": [],
   "source": []
  },
  {
   "cell_type": "code",
   "execution_count": null,
   "id": "97a2012d",
   "metadata": {},
   "outputs": [],
   "source": []
  }
 ],
 "metadata": {
  "kernelspec": {
   "display_name": "Machinelearning_new",
   "language": "python",
   "name": "python3"
  },
  "language_info": {
   "codemirror_mode": {
    "name": "ipython",
    "version": 3
   },
   "file_extension": ".py",
   "mimetype": "text/x-python",
   "name": "python",
   "nbconvert_exporter": "python",
   "pygments_lexer": "ipython3",
   "version": "3.11.11"
  }
 },
 "nbformat": 4,
 "nbformat_minor": 5
}
