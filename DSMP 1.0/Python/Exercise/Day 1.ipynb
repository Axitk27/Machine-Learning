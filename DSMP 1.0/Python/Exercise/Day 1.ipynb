{
  "cells": [
    {
      "cell_type": "markdown",
      "metadata": {
        "id": "A05OG15VqOPF"
      },
      "source": [
        "# Task : Session 1\n",
        "Solve these questions own your own and try to test yourself what you have learned in the session.\n",
        "\n",
        "Happy Learning!"
      ]
    },
    {
      "cell_type": "markdown",
      "metadata": {
        "id": "2doIXf8bqe9_"
      },
      "source": [
        "### Q1 :- Print the given strings as per stated format.\n",
        "\n",
        "**Given strings**:\n",
        "```\n",
        "\"Data\" \"Science\" \"Mentorship\" \"Program\"\n",
        "\"By\" \"CampusX\"\n",
        "```\n",
        "**Output**:\n",
        "```\n",
        "Data-Science-Mentorship-Program-started-By-CampusX\n",
        "```\n",
        "\n",
        "Concept- [Seperator and End]"
      ]
    },
    {
      "cell_type": "code",
      "execution_count": null,
      "metadata": {
        "colab": {
          "base_uri": "https://localhost:8080/"
        },
        "id": "-em6d3KErDtp",
        "outputId": "5995c3e9-983a-4b35-d7ac-ea7ab2f7c43c"
      },
      "outputs": [
        {
          "name": "stdout",
          "output_type": "stream",
          "text": [
            "Data-Science-Mentorship-Program-By-CampusX\n"
          ]
        }
      ],
      "source": [
        "# Write your code here\n",
        "print(\"Data\",\"Science\",\"Mentorship\",\"Program\",\"By\",\"CampusX\",sep=\"-\")"
      ]
    },
    {
      "cell_type": "markdown",
      "metadata": {
        "id": "1KUpN7ZTrC3_"
      },
      "source": [
        "### Q2:- Write a program that will convert celsius value to fahrenheit."
      ]
    },
    {
      "cell_type": "code",
      "execution_count": 10,
      "metadata": {
        "colab": {
          "base_uri": "https://localhost:8080/"
        },
        "id": "yxKYhYQiqWfj",
        "outputId": "7dbe1471-84fe-4626-9296-0db1dcaaa878"
      },
      "outputs": [
        {
          "name": "stdout",
          "output_type": "stream",
          "text": [
            "Enter the temperature in Celcious12.2\n",
            "Temperature in Fahrenheit  53.96\n"
          ]
        }
      ],
      "source": [
        "# Write your code here\n",
        "c = float(input(\"Enter the temperature in Celcious\"))\n",
        "\n",
        "f = 9*(c)/5 + 32\n",
        "print(\"Temperature in Fahrenheit \",f)"
      ]
    },
    {
      "cell_type": "markdown",
      "metadata": {
        "id": "RLrOBBJurLB2"
      },
      "source": [
        "### Q3:- Take 2 numbers as input from the user.Write a program to swap the numbers without using any special python syntax."
      ]
    },
    {
      "cell_type": "code",
      "execution_count": 6,
      "metadata": {
        "colab": {
          "base_uri": "https://localhost:8080/"
        },
        "id": "yPn7if0TrJ4F",
        "outputId": "f86c7be6-2928-4b30-96f6-82cf425b0c75"
      },
      "outputs": [
        {
          "name": "stdout",
          "output_type": "stream",
          "text": [
            "Enter Number 1 = 10\n",
            "Enter Number 2 = 20\n",
            "Number before changing a =  10\n",
            "Number before changing b =  20\n",
            "Number after changing a =  20\n",
            "Number after changing b =  10\n"
          ]
        }
      ],
      "source": [
        "# Write your code here\n",
        "a = int(input(\"Enter Number 1 = \"))\n",
        "b = int(input(\"Enter Number 2 = \"))\n",
        "print(\"Number before changing a = \",a)\n",
        "print(\"Number before changing b = \",b)\n",
        "\n",
        "c = a\n",
        "a = b\n",
        "b = c\n",
        "\n",
        "print(\"Number after changing a = \",a)\n",
        "print(\"Number after changing b = \",b)"
      ]
    },
    {
      "cell_type": "markdown",
      "metadata": {
        "id": "waLCP1bjr7ML"
      },
      "source": [
        "### Q4:- Write a program to find the euclidean distance between two coordinates.Take both the coordinates from the user as input."
      ]
    },
    {
      "cell_type": "code",
      "execution_count": 9,
      "metadata": {
        "colab": {
          "base_uri": "https://localhost:8080/"
        },
        "id": "Pl1Sv-xnrxnH",
        "outputId": "431879bc-bc2e-4c38-e38f-342d927bbda1"
      },
      "outputs": [
        {
          "name": "stdout",
          "output_type": "stream",
          "text": [
            "Enter your First Cordinate x = 1\n",
            "Enter your First Cordinate y = 2\n",
            "Enter your First Cordinate p = 0\n",
            "Enter your First Cordinate q = 0\n",
            "2.23606797749979\n"
          ]
        }
      ],
      "source": [
        "# Write your code here\n",
        "x,y = int(input(\"Enter your First Cordinate x = \")), int(input(\"Enter your First Cordinate y = \"))\n",
        "p,q = int(input(\"Enter your First Cordinate p = \")), int(input(\"Enter your First Cordinate q = \"))\n",
        "\n",
        "d = ((x - p)**2+(y - q)**2)**0.5\n",
        "print(\"Distance Between two points is \",d)"
      ]
    },
    {
      "cell_type": "markdown",
      "metadata": {
        "id": "VLrhg-FRsHjR"
      },
      "source": [
        "### Q5:- Write a program to find the simple interest when the value of principle,rate of interest and time period is provided by the user.\n"
      ]
    },
    {
      "cell_type": "code",
      "execution_count": 13,
      "metadata": {
        "colab": {
          "base_uri": "https://localhost:8080/"
        },
        "id": "s40DlReZsTmY",
        "outputId": "985c5363-0268-44b3-944d-446c47711a46"
      },
      "outputs": [
        {
          "name": "stdout",
          "output_type": "stream",
          "text": [
            "Enter the amount of Sum100\n",
            "Enter the Interest Rate10\n",
            "Enter the Time Period in Years1\n",
            "Total amount person need to pay after 1 Years is 110.0\n"
          ]
        }
      ],
      "source": [
        "# Write your code here\n",
        "\n",
        "Simple_Interest = None\n",
        "P = int(input(\"Enter the amount of Sum\"))\n",
        "I = float(input(\"Enter the Interest Rate\"))\n",
        "T = int(input(\"Enter the Time Period in Years\"))\n",
        "\n",
        "Simple_Interest = (P*I*T)/100\n",
        "\n",
        "print(\"Total amount person need to pay after\",T,\"Years is\",P+Simple_Interest)"
      ]
    },
    {
      "cell_type": "markdown",
      "metadata": {
        "id": "LMy0BTUktYKa"
      },
      "source": [
        "### Q6:- Write a program that will tell the number of dogs and chicken are there when the user will provide the value of total heads and legs.\n",
        "\n",
        "For example:\n",
        "Input:\n",
        "heads -> 4\n",
        "legs -> 12\n",
        "<br>\n",
        "Output:\n",
        "dogs -> 2\n",
        "chicken -> 2\n",
        "\n",
        "\n",
        "\n"
      ]
    },
    {
      "cell_type": "code",
      "execution_count": 32,
      "metadata": {
        "colab": {
          "base_uri": "https://localhost:8080/"
        },
        "id": "XSBvJoA4tXaG",
        "outputId": "fa5396cc-219f-4f71-a64b-ef686a4c918b"
      },
      "outputs": [
        {
          "name": "stdout",
          "output_type": "stream",
          "text": [
            "Enter Number Heads = 4\n",
            "Enter Number Legs = 12\n",
            "Number of Dogs 2\n",
            "Number of Chikens 2\n"
          ]
        }
      ],
      "source": [
        "# Write your code here\n",
        "a = int(input(\"Enter Number Heads = \"))\n",
        "b = int(input(\"Enter Number Legs = \"))\n",
        "\n",
        "for d in range(a+1):\n",
        "  c = a - d;\n",
        "  total_leg = d*4 + c*2\n",
        "\n",
        "  if(total_leg == b):\n",
        "    print(\"Number of Dogs\",d)\n",
        "    print(\"Number of Chikens\",c)\n",
        "    exit\n"
      ]
    },
    {
      "cell_type": "markdown",
      "metadata": {
        "id": "gJ7C5kZYt4BP"
      },
      "source": [
        "### Q7:- Write a program to find the sum of squares of first n natural numbers where n will be provided by the user."
      ]
    },
    {
      "cell_type": "code",
      "execution_count": 19,
      "metadata": {
        "colab": {
          "base_uri": "https://localhost:8080/"
        },
        "id": "_tHsmEHzt2nX",
        "outputId": "22fe1401-a798-4e11-8d7f-62812066c164"
      },
      "outputs": [
        {
          "name": "stdout",
          "output_type": "stream",
          "text": [
            "Enter Number = 2\n",
            "Sum of square of first 2 Number are 5.0\n"
          ]
        }
      ],
      "source": [
        "# Write your code here\n",
        "n = int(input(\"Enter Number = \"))\n",
        "s = (n*(n+1)*(2*n+1))/6\n",
        "print(\"Sum of square of first\",n,\"Number are\",s)"
      ]
    },
    {
      "cell_type": "markdown",
      "metadata": {
        "id": "FHrMM7g-yG1h"
      },
      "source": [
        "### Q8:- Given the first 2 terms of an Arithmetic Series.Find the Nth term of the series. Assume all inputs are provided by the user."
      ]
    },
    {
      "cell_type": "code",
      "execution_count": 21,
      "metadata": {
        "colab": {
          "base_uri": "https://localhost:8080/"
        },
        "id": "go4_kmZmyVSx",
        "outputId": "f78d9edd-2487-4165-a3bb-de0c36363195"
      },
      "outputs": [
        {
          "name": "stdout",
          "output_type": "stream",
          "text": [
            "Enter First Term = 10\n",
            "Enter Second Term = 20\n",
            "Enter Term Which you want to find= 3\n",
            "3 th term of the series is 30\n"
          ]
        }
      ],
      "source": [
        "# Write your code here\n",
        "\n",
        "a = int(input(\"Enter First Term = \"))\n",
        "b = int(input(\"Enter Second Term = \"))\n",
        "n = int(input(\"Enter Term Which you want to find= \"))\n",
        "d = b-a\n",
        "\n",
        "T_n = a + (n-1)*d\n",
        "print(\"Number which we are looking for is\",T_n)\n"
      ]
    },
    {
      "cell_type": "markdown",
      "metadata": {
        "id": "QgyRX_es1oum"
      },
      "source": [
        "### Q9:- Given 2 fractions, find the sum of those 2 fractions.Take the numerator and denominator values of the fractions from the user."
      ]
    },
    {
      "cell_type": "code",
      "execution_count": 26,
      "metadata": {
        "colab": {
          "base_uri": "https://localhost:8080/"
        },
        "id": "X05xqFS1yW16",
        "outputId": "9f0d49f9-b679-407e-fed3-8c9ebffaf077"
      },
      "outputs": [
        {
          "name": "stdout",
          "output_type": "stream",
          "text": [
            "Enter your Upper Fraction number x/y = 0\n",
            "Enter your Lower Fration number x/y = 1\n",
            "Enter your Upper Fraction number p/q = 1\n",
            "Enter your Lower Fration number p/q = 2\n",
            "0.5\n"
          ]
        }
      ],
      "source": [
        "x,y = float(input(\"Enter your Upper Fraction number x/y = \")), float(input(\"Enter your Lower Fration number x/y = \"))\n",
        "p,q = float(input(\"Enter your Upper Fraction number p/q = \")), float(input(\"Enter your Lower Fration number p/q = \"))\n",
        "\n",
        "s = (x/y) + (p/q)\n",
        "\n",
        "print(s)"
      ]
    },
    {
      "cell_type": "markdown",
      "metadata": {
        "id": "eaql38ln13u7"
      },
      "source": [
        "### Q10:- Given the height, width and breadth of a milk tank, you have to find out how many glasses of milk can be obtained? Assume all the inputs are provided by the user.\n",
        "\n",
        "\n",
        "\n",
        "Input:<br>\n",
        "Dimensions of the milk tank<br>\n",
        "H = 20cm, L = 20cm, B = 20cm\n",
        "<br><br>\n",
        "Dimensions of the glass<br>\n",
        "h = 3cm, r = 1cm"
      ]
    },
    {
      "cell_type": "code",
      "execution_count": 24,
      "metadata": {
        "colab": {
          "base_uri": "https://localhost:8080/"
        },
        "id": "FePZqno74eWv",
        "outputId": "86a0e814-9ed0-4d43-ed70-70d4b79dbebd"
      },
      "outputs": [
        {
          "name": "stdout",
          "output_type": "stream",
          "text": [
            "Enter Highet of the Tank in cm = 20\n",
            "Enter Length of the Tank in cm  = 20\n",
            "Enter Breadth of the Tank in cm = 20\n",
            "Enter Highet of the glas in cm = 3\n",
            "Enter radius of the glas in cm  = 1\n",
            "you can fill atleast 849 glasses\n"
          ]
        }
      ],
      "source": [
        "# Volume of the milk Tank\n",
        "H = int(input(\"Enter Highet of the Tank in cm = \"))\n",
        "L = int(input(\"Enter Length of the Tank in cm  = \"))\n",
        "B = int(input(\"Enter Breadth of the Tank in cm = \"))\n",
        "h = int(input(\"Enter Highet of the glas in cm = \"))\n",
        "r = int(input(\"Enter radius of the glas in cm  = \"))\n",
        "V1 = H*L*B\n",
        "V2 = 3.14*(r*r*h)\n",
        "\n",
        "n_glass = int(V1/V2)\n",
        "\n",
        "print(\"you can fill atleast\",n_glass,\"glasses\")"
      ]
    },
    {
      "cell_type": "code",
      "execution_count": null,
      "metadata": {
        "id": "KvUq8fO9ExPE"
      },
      "outputs": [],
      "source": []
    }
  ],
  "metadata": {
    "colab": {
      "provenance": []
    },
    "kernelspec": {
      "display_name": "Python 3",
      "name": "python3"
    },
    "language_info": {
      "name": "python"
    }
  },
  "nbformat": 4,
  "nbformat_minor": 0
}
