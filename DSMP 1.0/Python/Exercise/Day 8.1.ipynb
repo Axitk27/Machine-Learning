{
  "cells": [
    {
      "cell_type": "markdown",
      "metadata": {
        "id": "FyUJ3PRAsPr4"
      },
      "source": [
        "##`Q-1:` Rectangle Class\n",
        "1. Write a Rectangle class in Python language, allowing you to build a rectangle with length and width attributes.\n",
        "\n",
        "2. Create a Perimeter() method to calculate the perimeter of the rectangle and a Area() method to calculate the area of ​​the rectangle.\n",
        "\n",
        "3. Create a method display() that display the length, width, perimeter and area of an object created using an instantiation on rectangle class."
      ]
    },
    {
      "cell_type": "markdown",
      "metadata": {
        "id": "GxUtOqJfssFK"
      },
      "source": [
        "Eg.\n",
        "After making above classes and methods, on executing below code:-\n",
        "```\n",
        "my_rectangle = Rectangle(3 , 4)\n",
        "my_rectangle.display()\n",
        "```\n",
        "\n",
        "`Output:`\n",
        "```\n",
        "The length of rectangle is:  3\n",
        "The width of rectangle is:  4\n",
        "The perimeter of rectangle is:  14\n",
        "The area of rectangle is:  12\n",
        "```\n"
      ]
    },
    {
      "cell_type": "code",
      "execution_count": 4,
      "metadata": {
        "id": "92_QT-Uj6NBg"
      },
      "outputs": [
        {
          "name": "stdout",
          "output_type": "stream",
          "text": [
            "The length of rectangle is:  3\n",
            "The width of rectangle is:  4\n",
            "The perimeter of rectangle is:  14\n",
            "The area of rectangle is:  12\n"
          ]
        }
      ],
      "source": [
        "class Rectangle:\n",
        "    def __init__(self,l,b):\n",
        "        self.length = l\n",
        "        self.width = b\n",
        "        \n",
        "    def area(self):\n",
        "        return self.length * self.width\n",
        "    \n",
        "    def perimeter(self):\n",
        "        return 2*(self.length + self.width)\n",
        "    \n",
        "    def display(self):\n",
        "        print(f\"\"\"The length of rectangle is:  {self.length}\n",
        "The width of rectangle is:  {self.width}\n",
        "The perimeter of rectangle is:  {self.perimeter()}\n",
        "The area of rectangle is:  {self.area()}\"\"\")\n",
        "\n",
        "\n",
        "rec1 = Rectangle(3,4)\n",
        "rec1.display()    "
      ]
    },
    {
      "cell_type": "markdown",
      "metadata": {
        "id": "r_GxrS0Vrdom"
      },
      "source": [
        "##`Q-2: Bank Class`\n",
        "\n",
        "1. Create a Python class called `BankAccount` which represents a bank account, having as attributes: `accountNumber` (numeric type), `name` (name of the account owner as string type), `balance`.\n",
        "2. Create a constructor with parameters: `accountNumber, name, balance`.\n",
        "3. Create a `Deposit()` method which manages the deposit actions.\n",
        "4. Create a `Withdrawal()` method  which manages withdrawals actions.\n",
        "5. Create an `bankFees()` method to apply the bank fees with a percentage of 5% of the balance account.\n",
        "6. Create a `display()` method to display account details.\n",
        "Give the complete code for the  BankAccount class."
      ]
    },
    {
      "cell_type": "markdown",
      "metadata": {
        "id": "qvVkOUJgvTV_"
      },
      "source": [
        "Eg.\n",
        "After making above classes and methods, on executing below code:-\n",
        "```\n",
        "newAccount = BankAccount(2178514584, \"Mandy\" , 2800)\n",
        "\n",
        "newAccount.Withdrawal(700)\n",
        "\n",
        "newAccount.Deposit(1000)\n",
        "\n",
        "newAccount.display()\n",
        "```\n",
        "\n",
        "`Output:`\n",
        "```\n",
        "Account Number :  2178514584\n",
        "Account Name :  Mandy\n",
        "Account Balance :  3100 ₹\n",
        "```"
      ]
    },
    {
      "cell_type": "code",
      "execution_count": 7,
      "metadata": {
        "id": "fUQOmQyA6YDR"
      },
      "outputs": [],
      "source": [
        "class Bank:\n",
        "    #This will execute automatic\n",
        "    def __init__(self,acc,name,bal):\n",
        "        self.account_number = acc\n",
        "        self.name = name\n",
        "        self.balance = bal \n",
        "    \n",
        "    def withdraw_balance(self):\n",
        "        account_num = int(input(\"Enter your Account Number: \"))\n",
        "        if account_num == self.account_number:\n",
        "            withdraw_money = int(input('Enter the Money you want to diposit: '))\n",
        "            self.balance -= withdraw_money\n",
        "            print(f'Your Balnce is now {self.balance}')\n",
        "        else:\n",
        "            print(\"Your account number is not correct. Try out next time\")\n",
        "        \n",
        "    \n",
        "    def diposit_balance(self):\n",
        "        account_num = int(input(\"Enter your Account Number: \"))\n",
        "        if account_num == self.account_number:\n",
        "            diposit_money = int(input('Enter the Money you want to diposit: '))\n",
        "            self.balance += diposit_money\n",
        "            print(f'Your Balnce is now {self.balance} $')\n",
        "        else:\n",
        "            print(\"Your account number is not correct. Try out next time\")\n",
        "           \n",
        "    def display_detail(self):\n",
        "        print(f\"\"\" Here is your detail....!!!!\n",
        "1. Your account number is {self.account_number}\n",
        "2. Your name is {self.name}\n",
        "3. Your balance is {self.balance}\n",
        "\n",
        "we are hoping that you are having a good day.....!!!!!!!!!!!\n",
        "please dont visit us\n",
        "              \"\"\"\n",
        "            )\n",
        "        "
      ]
    },
    {
      "cell_type": "code",
      "execution_count": 8,
      "metadata": {},
      "outputs": [
        {
          "name": "stdout",
          "output_type": "stream",
          "text": [
            " Here is your detail....!!!!\n",
            "1. Your account number is 123456789\n",
            "2. Your name is Axit\n",
            "3. Your balance is 12019210291029012910\n",
            "\n",
            "we are hoping that you are having a good day.....!!!!!!!!!!!\n",
            "please dont visit us\n",
            "              \n"
          ]
        }
      ],
      "source": [
        "SBI = Bank(123456789,'Axit',12019210291029012910)\n",
        "SBI.display_detail()"
      ]
    },
    {
      "cell_type": "markdown",
      "metadata": {
        "id": "QovcQAZTrgGU"
      },
      "source": [
        "##`Q-3:Computation class`\n",
        "\n",
        "1. Create a `Computation` class with a default constructor (without parameters) allowing to perform various calculations on integers numbers.\n",
        "2. Create a method called `Factorial()` which allows to calculate the factorial of an integer n. Integer n as parameter for this method\n",
        "\n",
        "3. Create a method called `naturalSum()` allowing to calculate the sum of the first n integers 1 + 2 + 3 + .. + n. Integer n as parameter for this method.\n",
        "\n",
        "4. Create a method called `testPrime()` in  the Calculation class to test the primality of a given integer n, n is Prime or Not? Integer n as parameter for this method.\n",
        "\n",
        "5. Create  a method called `testPrims()` allowing to test if two numbers are prime between them. Two integers are prime to one another if they have only `1` as their common divisor. Eg. 4 and 9 are prime to each other.\n",
        "\n",
        "5. Create a `tableMult()` method which creates and displays the multiplication table of a given integer. Then create an `allTablesMult()` method to display all the integer multiplication tables 1, 2, 3, ..., 9.\n",
        "\n",
        "6. Create a static `listDiv()` method that gets all the divisors of a given integer on new list called  Ldiv. Create another `listDivPrim()` method that gets all the prime divisors of a given integer."
      ]
    },
    {
      "cell_type": "code",
      "execution_count": 1,
      "metadata": {
        "id": "YEkPH70l6Z-o"
      },
      "outputs": [
        {
          "name": "stdout",
          "output_type": "stream",
          "text": [
            "False\n"
          ]
        }
      ],
      "source": [
        "class Computation:\n",
        "    def __init__(self):\n",
        "        self.fact = 1\n",
        "        self.nat_sum = 0\n",
        "        self.prime = False\n",
        "        self.prims = False\n",
        "        self.divisor = []\n",
        "    \n",
        "    def Factorial(self,n):\n",
        "        for i in range(1,n+1):\n",
        "            self.fact = (i)*(self.fact)\n",
        "        return self.fact\n",
        "    \n",
        "    def naturalSum(self,n):\n",
        "        self.nat_sum = n*(n+1)/2\n",
        "        return self.nat_sum\n",
        "    \n",
        "    def isPrime(self,n):\n",
        "        for i in range(1,n+1):\n",
        "            if(i == 1):\n",
        "                self.divisor.append(i)    \n",
        "            elif(i != 1 and i != n and n%i == 0):\n",
        "                self.prime = True\n",
        "                self.divisor.append(i)\n",
        "            elif(i == n):\n",
        "                self.divisor.append(n)    \n",
        "            else:\n",
        "                continue \n",
        "        return self.prime,self.divisor\n",
        "    \n",
        "    def make_reset(self):\n",
        "        self.fact = 1\n",
        "        self.nat_sum = 0\n",
        "        self.prime = False\n",
        "        self.prims = False\n",
        "        self.divisor = []\n",
        "        \n",
        "        \n",
        "    def isPrims(self,x,y):\n",
        "        \n",
        "        list1 = self.isPrime(x)\n",
        "        self.make_reset()   \n",
        "        list2 = self.isPrime(y)\n",
        "        \n",
        "        s1 = set(list1[1])\n",
        "        s2 = set(list2[1])\n",
        "        s3 = s1&s2\n",
        "        if len(s3) == 1 and 1 in s3:\n",
        "            self.isPrims = True\n",
        "        else:\n",
        "            self.isPrims = False\n",
        "        \n",
        "        return self.isPrims\n",
        "    \n",
        "    def tableMult(self,n):\n",
        "        for i in range(1,11):\n",
        "            print(f'{i}*{n}={i*n}' )\n",
        "    \n",
        "\n",
        "obj1 = Computation()\n",
        "# print(obj1.Factorial(3))\n",
        "# print(obj1.naturalSum(5))\n",
        "# print(obj1.isPrime(10))\n",
        "# # print(obj1.isPrims(4,8))\n",
        "# obj1.tableMult(10)    \n",
        "print(obj1.isPrims(9,3))"
      ]
    },
    {
      "cell_type": "markdown",
      "metadata": {
        "id": "0yn23_oEriXa"
      },
      "source": [
        "##`Q-4`: Build flashcard using class in Python.\n",
        "\n",
        "Build a flashcard using class in python. A flashcard is a card having information on both sides, which can be used as an aid in memoization. Flashcards usually have a question on one side and an answer on the other.\n",
        "\n",
        "**Example 1:**\n",
        "\n",
        "Approach:\n",
        "\n",
        "- Create a class named FlashCard.\n",
        "- Initialize dictionary fruits using __init__() method. Here you have to define fruit name as key and it's color as value. E.g., {\"Banana\": \"yellow\", \"Strawberries\": \"pink\"}\n",
        "- Now randomly choose a pair from fruits by using _random_ module and store the key in variable _fruit_ and _value_ in variable color.\n",
        "- Now prompt the user to answer the color of the randomly chosen fruit.\n",
        "- If correct print correct else print wrong.\n",
        "\n",
        "Output:\n",
        "```bash\n",
        "welcome to fruit quiz\n",
        "What is the color of Strawberries\n",
        "pink\n",
        "Correct answer\n",
        "Enter 0, if you want to play again: 0\n",
        "What is the color of watermelon\n",
        "green\n",
        "Correct answer\n",
        "Enter 0, if you want to play again: 1\n",
        "```"
      ]
    },
    {
      "cell_type": "code",
      "execution_count": 2,
      "metadata": {
        "id": "vCrUF6VU6l6w"
      },
      "outputs": [
        {
          "name": "stdout",
          "output_type": "stream",
          "text": [
            "Welocme to the Game\n",
            "What is the color of Grapes:\n",
            "Your points are:1\n",
            "True to Continue and False to Exit the game\n"
          ]
        }
      ],
      "source": [
        "import random\n",
        "\n",
        "class FlashCard:\n",
        "    def __init__(self):\n",
        "        self.dic = {\"Banana\":\"Yellow\",\"Strawberries\":\"Pink\",\"Grapes\":\"Green\"}\n",
        "        self.fruit = ''\n",
        "        self.color = ''\n",
        "        self.ans = ''\n",
        "        self.point = 0\n",
        "        self.press = True\n",
        "    \n",
        "    \n",
        "    def choose_random(self):\n",
        "        self.fruit = random.choice(list(self.dic.keys()))       \n",
        "        self.color = self.dic[self.fruit]\n",
        "        \n",
        "    def question_making(self):\n",
        "        print(f\"What is the color of {self.fruit}:\")\n",
        "        self.ans = input(\"\")\n",
        "\n",
        "    def points(self):\n",
        "        if self.ans == self.color:\n",
        "            self.point += 1\n",
        "            print(f\"Your points are:{self.point}\")\n",
        "        else:\n",
        "            print(\"You are wrong...He he He he\")\n",
        "\n",
        "    def exit(self):\n",
        "        print(\"True to Continue and False to Exit the game\") \n",
        "        self.press = input()\n",
        "\n",
        "game = FlashCard()\n",
        "\n",
        "print(\"Welocme to the Game\")\n",
        "while(game.press == True):\n",
        "    game.choose_random()\n",
        "    game.question_making()\n",
        "    game.points()\n",
        "    game.exit()"
      ]
    },
    {
      "cell_type": "markdown",
      "metadata": {
        "id": "GN2r0jbRewYr"
      },
      "source": [
        "## `Q-5:` Problem 5 based on OOP Python.\n",
        "\n",
        "TechWorld, a technology training center, wants to allocate courses for instructors. An instructor is identified by name, technology skills, experience and average feedback. An instructor is allocated a course, if he/she satisfies the below two conditions:\n",
        "- eligibility criteria:\n",
        "    - if experience is more than 3 years, average feedback should be 4.5 or more\n",
        "    - if experience is 3 years or less, average feedback should be 4 or more\n",
        "- he/she should posses the technology skill for the course\n",
        "\n",
        "Identify the class name and attributes to represent instructors. Write a Python program to implement the class chosen with its attributes and methods.\n",
        "\n",
        "**Note:**\n",
        "- Consider all instance variables to be private and methods to be public.\n",
        "- An instructor may have multiple technology skills, so consider instance variable, technology_skill to be a list.\n",
        "- *check_eligibility()*: Return true if eligibility criteria is satisfied by the instructor. Else, return false\n",
        "- *allocate_course(technology)*: Return true if the course which requires the given technology can be allocated to the instructor. Else, return false.\n",
        "\n",
        "Represent a few objects of the class, initialize instance variables using setter methods, invoke\n",
        "appropriate methods and test your program."
      ]
    },
    {
      "cell_type": "code",
      "execution_count": 10,
      "metadata": {
        "id": "pdMFuVFnlvKL"
      },
      "outputs": [
        {
          "name": "stdout",
          "output_type": "stream",
          "text": [
            "Aach nahi padhata he\n"
          ]
        }
      ],
      "source": [
        "class Instructor:\n",
        "    def __init__(self,nm,skl,exp,fd):\n",
        "        self.__name = nm\n",
        "        self.__tk_skill = skl\n",
        "        self.__experience = exp\n",
        "        self.__avg_feedback = fd\n",
        "\n",
        "\n",
        "    def check_eligibility(self):\n",
        "        if self.__experience > 3 and self.__avg_feedback>= 4.5:\n",
        "            return True\n",
        "        elif self.__experience <= 3 and self.__avg_feedback >= 4:\n",
        "            return True\n",
        "        else:\n",
        "            return False\n",
        "        \n",
        "    def allocate_course(self,tech):\n",
        "        is_eligible = self.check_eligibility()\n",
        "        \n",
        "        if is_eligible:\n",
        "            if tech in self.__tk_skill:\n",
        "                print(f\"{self.__name} is available for the course {tech}\")\n",
        "            else:\n",
        "                print(f\"{self.__name} is not available for the course {tech}\")          \n",
        "        else:\n",
        "            print(\"Aach nahi padhata he\")\n",
        "            \n",
        "            \n",
        "ins = Instructor('Nitish',['Data Science','Web Development'],2,1.9)\n",
        "ins.allocate_course('C++')"
      ]
    },
    {
      "cell_type": "code",
      "execution_count": null,
      "metadata": {},
      "outputs": [],
      "source": []
    }
  ],
  "metadata": {
    "colab": {
      "provenance": []
    },
    "kernelspec": {
      "display_name": "Machinelearning_new",
      "language": "python",
      "name": "python3"
    },
    "language_info": {
      "codemirror_mode": {
        "name": "ipython",
        "version": 3
      },
      "file_extension": ".py",
      "mimetype": "text/x-python",
      "name": "python",
      "nbconvert_exporter": "python",
      "pygments_lexer": "ipython3",
      "version": "3.11.11"
    }
  },
  "nbformat": 4,
  "nbformat_minor": 0
}
