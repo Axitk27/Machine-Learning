{
  "cells": [
    {
      "cell_type": "markdown",
      "metadata": {
        "id": "BCleRtX43caS"
      },
      "source": [
        "### `Problem-1:` Class inheritence\n",
        "\n",
        "Create a **Bus** child class that inherits from the Vehicle class. The default fare charge of any vehicle is seating capacity * 100. If Vehicle is Bus instance, we need to add an extra 10% on full fare as a maintenance charge. So total fare for bus instance will become the final amount = total fare + 10% of the total fare.\n",
        "\n",
        "Note: The bus seating capacity is 50. so the final fare amount should be 5500. You need to override the fare() method of a Vehicle class in Bus class."
      ]
    },
    {
      "cell_type": "code",
      "execution_count": 6,
      "metadata": {
        "colab": {
          "base_uri": "https://localhost:8080/"
        },
        "id": "6jVFCXKz3YZI",
        "outputId": "a8649209-08e2-4f60-a914-74a914dd697e"
      },
      "outputs": [],
      "source": [
        "class Vehicle:\n",
        "    def __init__(self):\n",
        "        self.seating_capacity = 50\n",
        "        self.__fare_charge = 0\n",
        "    \n",
        "    def fare(self):\n",
        "        self.__fare_charge = self.seating_capacity*100 \n",
        "        return self.__fare_charge\n",
        "    \n",
        "class Bus(Vehicle):\n",
        "    def fare(self):\n",
        "        self.__fare_charge = self.seating_capacity*110 \n",
        "        return self.__fare_charge"
      ]
    },
    {
      "cell_type": "code",
      "execution_count": 8,
      "metadata": {},
      "outputs": [
        {
          "name": "stdout",
          "output_type": "stream",
          "text": [
            "5500\n"
          ]
        }
      ],
      "source": [
        "bus1 = Bus()\n",
        "print(bus1.fare())"
      ]
    },
    {
      "cell_type": "markdown",
      "metadata": {
        "id": "KBbGNTtQ47mJ"
      },
      "source": [
        "### `Problem-2:` Class Inheritence\n",
        "\n",
        "Create a Bus class that inherits from the Vehicle class. Give the capacity argument of *Bus.seating_capacity()* a default value of 50.\n",
        "\n",
        "Use the following code for your parent Vehicle class."
      ]
    },
    {
      "cell_type": "code",
      "execution_count": 10,
      "metadata": {
        "id": "MwOnYE_14M-r"
      },
      "outputs": [],
      "source": [
        "class Vehicle:\n",
        "    def __init__(self):\n",
        "        self.__seating_capacity = 50\n",
        "        self.__fare_charge = 0\n",
        "    \n",
        "    def fare(self):\n",
        "        self.__fare_charge = self.__seating_capacity*100 \n",
        "        return self.__fare_charge\n",
        "    \n",
        "    def get_seating_capacity(self):\n",
        "        return self.__seating_capacity\n",
        "    \n",
        "    def set_seating_capacity(self,x=50):\n",
        "        self.__seating_capacity = x\n",
        "\n",
        "\n",
        "class Bus(Vehicle):\n",
        "    def fare(self):\n",
        "        self.__fare_charge = self.get_seating_capacity()*110 \n",
        "        return self.__fare_charge"
      ]
    },
    {
      "cell_type": "code",
      "execution_count": 11,
      "metadata": {
        "id": "Py5Gr0ip5OBB"
      },
      "outputs": [
        {
          "name": "stdout",
          "output_type": "stream",
          "text": [
            "11000\n"
          ]
        }
      ],
      "source": [
        "bus = Bus()\n",
        "bus.set_seating_capacity(100)\n",
        "print(bus.fare())"
      ]
    },
    {
      "cell_type": "markdown",
      "metadata": {
        "id": "ExIxsv4y-oEd"
      },
      "source": [
        "### `Problem-3:` Write a program that has a class Point. Define another class Location which has two objects (Location & Destination) of class Point. Also define a function in Location that prints the reflection of Destination on the x axis."
      ]
    },
    {
      "cell_type": "code",
      "execution_count": 19,
      "metadata": {
        "id": "yT2QtzQp5VAB"
      },
      "outputs": [],
      "source": [
        "class Point:\n",
        "    def __init__(self,x,y):\n",
        "        self.x = x\n",
        "        self.y = y\n",
        "        \n",
        "    def __str__(self):\n",
        "        return '<{} {}>'.format(self.x,self.y)\n",
        "    \n",
        "class Location:\n",
        "    def __init__(self,x,y):\n",
        "        self.loc = x\n",
        "        self.dest = y\n",
        "        \n",
        "    def ref_of_point(self,x):\n",
        "        ref = Point(x.x,-x.y)\n",
        "        return print(ref)"
      ]
    },
    {
      "cell_type": "code",
      "execution_count": 21,
      "metadata": {},
      "outputs": [
        {
          "name": "stdout",
          "output_type": "stream",
          "text": [
            "<1 -3>\n"
          ]
        }
      ],
      "source": [
        "p = Point(1,2)\n",
        "d = Point(1,3)\n",
        "\n",
        "x = Location(p,d)\n",
        "x.ref_of_point(d)\n"
      ]
    },
    {
      "cell_type": "markdown",
      "metadata": {
        "id": "OcQhJvXVALgp"
      },
      "source": [
        "### `Problem-4:` Write a program that has an abstract class Polygon. Derive two classes Rectangle and Triamgle from Polygon and write methods to get the details of their dimensions and hence calculate the area."
      ]
    },
    {
      "cell_type": "code",
      "execution_count": 31,
      "metadata": {
        "id": "9IMrtdUH__eA"
      },
      "outputs": [],
      "source": [
        "from abc import ABC,abstractmethod\n",
        "\n",
        "class Polygon(ABC):\n",
        "    # @abstractmethod\n",
        "    # def __init__(self):\n",
        "    #     pass\n",
        "    \n",
        "    @abstractmethod\n",
        "    def Dimension(self):\n",
        "        pass\n",
        "    \n",
        "    @abstractmethod\n",
        "    def Area(self):\n",
        "        pass\n",
        "    \n",
        "class Tringle(Polygon):\n",
        "    def __init__(self):\n",
        "        self.base = 0\n",
        "        self.height = 0\n",
        "        \n",
        "    def Dimension(self,base,height):\n",
        "        self.base = base\n",
        "        self.height = height\n",
        "    \n",
        "    def Area(self):\n",
        "        return 0.5*self.base*self.height\n",
        "\n",
        "class Rectangle(Polygon):\n",
        "    def __init__(self):\n",
        "        self.length = 0\n",
        "        self.width = 0\n",
        "        \n",
        "    def Dimension(self,base,height):\n",
        "        self.length = base\n",
        "        self.width = height\n",
        "    \n",
        "    def Area(self):\n",
        "        return self.base*self.height"
      ]
    },
    {
      "cell_type": "code",
      "execution_count": 32,
      "metadata": {},
      "outputs": [
        {
          "name": "stdout",
          "output_type": "stream",
          "text": [
            "100.0\n"
          ]
        }
      ],
      "source": [
        "t1 = Tringle()\n",
        "t1.Dimension(10,20)\n",
        "print(t1.Area())"
      ]
    },
    {
      "cell_type": "markdown",
      "metadata": {
        "id": "sEsGEqOHCSWG"
      },
      "source": [
        "### `Problem-5:` Write a program with class Bill. The users have the option to pay the bill either by cheque or by cash. Use the inheritance to model this situation."
      ]
    },
    {
      "cell_type": "code",
      "execution_count": 111,
      "metadata": {
        "id": "l0WFyP2PB3nf"
      },
      "outputs": [],
      "source": [
        "class Bill():\n",
        "    def __init__(self,item,price):\n",
        "        self.total = 0\n",
        "        self.item = item\n",
        "        self.price = price\n",
        "        \n",
        "        for item in self.price:\n",
        "            self.total += item\n",
        "        \n",
        "    def display(self):\n",
        "        print('Item \\t\\t Price')\n",
        "        \n",
        "        for i in range(0,len(self.item)):\n",
        "            print(self.item[i],'\\t',self.price[i])\n",
        "        \n",
        "        print(\"*\"*20)\n",
        "        print(\"Total\",self.total)\n",
        "        \n",
        "class cheque(Bill):\n",
        "    def __init__(self,items,price,cheq_no,name):\n",
        "        super().__init__(items,price)\n",
        "        self.cheq_no = cheq_no\n",
        "        self.bank_name = name\n",
        "        \n",
        "    def show_cheque_payment(self):\n",
        "        super().display()\n",
        "        print('Bank Name',self.bank_name)\n",
        "        print('Cheque No',self.cheq_no)\n",
        "\n",
        "\n",
        "class cash(Bill):\n",
        "    def __init__(self,items,price,deno,value):\n",
        "        super().__init__(items,price)\n",
        "        self.deno = deno\n",
        "        self.value = value\n",
        "        \n",
        "    def show_cash_payment(self):\n",
        "        super().display()\n",
        "        for i in range(len(self.deno)):\n",
        "            print(self.deno[i],'*',self.value[i],\"=\",self.deno[i]*self.value[i])\n",
        "        \n",
        "    def __str__(self):\n",
        "        return '{} Amount has been paid by cash'.format(self.cash_amount)\n",
        "        \n"
      ]
    },
    {
      "cell_type": "code",
      "execution_count": 112,
      "metadata": {},
      "outputs": [
        {
          "name": "stdout",
          "output_type": "stream",
          "text": [
            "Item \t\t Price\n",
            "Hard disk \t 100\n",
            "RAM \t 200\n",
            "Printer \t 300\n",
            "Drive \t 400\n",
            "********************\n",
            "Total 1000\n",
            "Bank Name SBI\n",
            "Cheque No 1234\n"
          ]
        }
      ],
      "source": [
        "items = ['Hard disk','RAM','Printer','Drive']\n",
        "price = [100,200,300,400]\n",
        "deno = [10,20,50,100,500,1000]\n",
        "value = [1,1,1,20,4,5]\n",
        "Bank = 'SBI'\n",
        "che_no = 1234\n",
        "# cash = cash(items,price,deno,value)\n",
        "# cash.show_cash_payment()\n",
        "che = cheque(items,price,che_no,Bank)\n",
        "che.show_cheque_payment()"
      ]
    },
    {
      "cell_type": "markdown",
      "metadata": {
        "id": "v1M5Yh9ZZO0z"
      },
      "source": [
        "###`Q-6:` FlexibleDict\n",
        "As of now we are accessing values from dictionary with exact keys. Now we want to amend accessing values functionality. if a dict have key `1` (int) the even if we try to access values by giving `'1'` (1 as str) as key, we should get the same result and vice versa.\n",
        "\n",
        "Write a class `FlexibleDict` upon builtin `dict` class with above required functionality.\n",
        "\n",
        "Hint- `dict[key] => dict.__getitem__(key)`"
      ]
    },
    {
      "cell_type": "markdown",
      "metadata": {
        "id": "uajGeWegbfda"
      },
      "source": [
        "Ex.\n",
        "```\n",
        "fd = FlexibleDict()\n",
        "fd['a'] = 100\n",
        "print(fd['a']) # Like regular dict\n",
        "\n",
        "fd[5] = 500\n",
        "print(fd[5]) # Like regular dict\n",
        "\n",
        "fd[1] = 100\n",
        "print(fd['1']) # actual Key is int but still trying to access through str key.\n",
        "fd['1'] = 100\n",
        "print(fd[1])\n",
        "\n",
        "```\n",
        "`Output:`\n",
        "```\n",
        "100\n",
        "500\n",
        "100\n",
        "100\n",
        "\n",
        "```"
      ]
    },
    {
      "cell_type": "code",
      "execution_count": 113,
      "metadata": {
        "id": "OHLbOtCxZ2nw"
      },
      "outputs": [],
      "source": [
        "class FlexibalDict:\n",
        "    def __init__(self,d):\n",
        "        self.dict = d\n",
        "        \n",
        "    def __getitem__(self,x):\n",
        "        for item in self.dict:\n",
        "            if item == x:\n",
        "                return self.dict[item]\n",
        "            else:\n",
        "                return False\n",
        "    \n",
        "    def __setitem__(self,x,y):\n",
        "        self.dict[x] = y\n",
        "        \n",
        "                        "
      ]
    },
    {
      "cell_type": "code",
      "execution_count": 114,
      "metadata": {
        "id": "7NM8r__dmeMf"
      },
      "outputs": [
        {
          "name": "stdout",
          "output_type": "stream",
          "text": [
            "False\n",
            "<__main__.FlexibalDict object at 0x00000126530DE550>\n"
          ]
        }
      ],
      "source": [
        "fd = FlexibalDict({'Axit':1,'Kakadiya':2})\n",
        "fd['Pk'] = 100\n",
        "print(fd['Pk'])\n",
        "print(fd)"
      ]
    },
    {
      "cell_type": "code",
      "execution_count": null,
      "metadata": {
        "id": "waHSud8Ymkz-"
      },
      "outputs": [],
      "source": []
    }
  ],
  "metadata": {
    "colab": {
      "collapsed_sections": [
        "BCleRtX43caS",
        "KBbGNTtQ47mJ",
        "ExIxsv4y-oEd",
        "OcQhJvXVALgp",
        "sEsGEqOHCSWG",
        "v1M5Yh9ZZO0z"
      ],
      "provenance": []
    },
    "kernelspec": {
      "display_name": "Machinelearning_new",
      "language": "python",
      "name": "python3"
    },
    "language_info": {
      "codemirror_mode": {
        "name": "ipython",
        "version": 3
      },
      "file_extension": ".py",
      "mimetype": "text/x-python",
      "name": "python",
      "nbconvert_exporter": "python",
      "pygments_lexer": "ipython3",
      "version": "3.11.11"
    }
  },
  "nbformat": 4,
  "nbformat_minor": 0
}
