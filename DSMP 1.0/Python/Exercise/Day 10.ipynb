{
  "cells": [
    {
      "cell_type": "markdown",
      "metadata": {
        "id": "MbeMdx5d5qRj"
      },
      "source": [
        "### `Q-1:` Write a function `get_final_line(filename)`, which takes filename as input and return final line of the file.\n",
        "\n",
        "Note: You can choose any file of your choice."
      ]
    },
    {
      "cell_type": "code",
      "execution_count": 29,
      "metadata": {
        "id": "rjx9XRTq5uzD"
      },
      "outputs": [],
      "source": [
        "f = open('sample1.txt','w')\n",
        "f.writelines('Axit Kakadiya\\n')\n",
        "f.writelines('axit.kakadiya@outlook.com\\n')\n",
        "f.writelines('+91 8155846113\\n')\n",
        "f.writelines('017685941161\\n')\n",
        "f.close()  \n"
      ]
    },
    {
      "cell_type": "code",
      "execution_count": null,
      "metadata": {},
      "outputs": [
        {
          "name": "stdout",
          "output_type": "stream",
          "text": [
            "017685941161\n",
            "\n"
          ]
        }
      ],
      "source": [
        "def get_final_line(file_name):\n",
        "    with open(file_name,'r') as f:\n",
        "        l = f.readlines()\n",
        "    return l[-1]\n",
        "\n",
        "print(get_final_line('sample1.txt'))\n"
      ]
    },
    {
      "cell_type": "code",
      "execution_count": 60,
      "metadata": {},
      "outputs": [
        {
          "name": "stdout",
          "output_type": "stream",
          "text": [
            "017685941161\n",
            "\n"
          ]
        }
      ],
      "source": [
        "#real things\n",
        "\n",
        "def get_final_line(filename):\n",
        "    f_line = ''\n",
        "    for current_line in open(filename,'r'):\n",
        "        f_line = current_line\n",
        "    return f_line\n",
        "\n",
        "print(get_final_line('sample1.txt'))\n"
      ]
    },
    {
      "cell_type": "code",
      "execution_count": 80,
      "metadata": {},
      "outputs": [],
      "source": [
        "import os\n",
        "os.chdir('d:\\\\Education\\\\Extra\\\\Machine Learning\\\\DSMP 1.0\\\\Python\\\\Exercise\\\\File Handling')"
      ]
    },
    {
      "cell_type": "markdown",
      "metadata": {},
      "source": []
    },
    {
      "cell_type": "markdown",
      "metadata": {
        "id": "B87Z6-yQ5wVO"
      },
      "source": [
        "###`Q-2:` Read through a text file, line by line. Use a dict to keep track of how many times each vowel (a, e, i, o, and u) appears in the file. Print the resulting tabulation -- dictionary."
      ]
    },
    {
      "cell_type": "code",
      "execution_count": 61,
      "metadata": {
        "id": "XeXnOL7X50Sa"
      },
      "outputs": [
        {
          "name": "stdout",
          "output_type": "stream",
          "text": [
            "{'a': 7, 'e': 0, 'i': 4, 'o': 4, 'u': 1}\n"
          ]
        }
      ],
      "source": [
        "# Write code here\n",
        "d = {'a':0,'e':0, 'i':0,'o':0,'u':0}\n",
        "\n",
        "with open('sample1.txt','r') as f:\n",
        "    for item in f:\n",
        "        for char in item:\n",
        "            if char in d:\n",
        "                d[char] += 1\n",
        "\n",
        "print(d)"
      ]
    },
    {
      "cell_type": "markdown",
      "metadata": {
        "id": "lRqQ2Y295-Gg"
      },
      "source": [
        "###`Q-3:` Create a text file (using an editor, not necessarily Python) containing two tab separated columns, with each column containing a number. Then use Python to read through the file you’ve created. For each line, multiply each first number by the second and include it in the file in third column. In last add a line Total, by summing the value of third column\n",
        "\n"
      ]
    },
    {
      "cell_type": "markdown",
      "metadata": {
        "id": "GtFfahZc6Bvg"
      },
      "source": [
        "Input File example: That you need to create\n",
        "```\n",
        "1   2\n",
        "3   4\n",
        "5   6\n",
        "7   8\n",
        "9   10\n",
        "\n",
        "```\n",
        "\n",
        "Output File Example:\n",
        "```\n",
        "1   2   2\n",
        "3   4   12\n",
        "5   6   30\n",
        "7   8   56\n",
        "9   10  90\n",
        "Total   190\n",
        "```\n"
      ]
    },
    {
      "cell_type": "code",
      "execution_count": 71,
      "metadata": {
        "id": "GiKvqHnr5-j2"
      },
      "outputs": [
        {
          "name": "stdout",
          "output_type": "stream",
          "text": [
            "['1\\t2', '3\\t4', '5\\t6', '7\\t8', '9\\t10']\n"
          ]
        }
      ],
      "source": [
        "with open('Table.txt','w') as f:\n",
        "    for i in range(1,11,2):\n",
        "        line = '{}\\t{}\\n'.format(i,i+1)\n",
        "        f.writelines(line)\n",
        "        \n",
        "with open('Table.txt','r') as f:\n",
        "    lines = f.read().splitlines()\n",
        "print(lines)\n",
        "total = 0\n",
        "\n",
        "with open('Table.txt','w') as f:\n",
        "    for line in lines:\n",
        "        a,b = line.split('\\t')\n",
        "        res = int(a)*int(b)\n",
        "        total += res\n",
        "        f.write(\"{}\\t{}\\t{}\\n\".format(a,b,res))\n",
        "    f.write('Total sum {}'.format(total))"
      ]
    },
    {
      "cell_type": "markdown",
      "metadata": {
        "id": "DunQepHC6J9r"
      },
      "source": [
        "###`Q-4:` Create line wise reverse of a file\n",
        "Write a function which takes two arguments: the names of the input file (to be read from) and the output file (which will be created)."
      ]
    },
    {
      "cell_type": "markdown",
      "metadata": {
        "id": "QxWEtFle6Nmu"
      },
      "source": [
        "For example, if a file looks like\n",
        " ```\n",
        "abc def\n",
        "ghi jkl\n",
        "```\n",
        "then the output file will be\n",
        "```\n",
        "fed cba\n",
        "lkj ihg\n",
        "```\n",
        "**Notice**: The newline remains at the end of the string, while the rest of the characters are all reversed."
      ]
    },
    {
      "cell_type": "code",
      "execution_count": 85,
      "metadata": {
        "id": "aIJTJNAq6LD7"
      },
      "outputs": [],
      "source": [
        "input_file = \"sample.txt\"\n",
        "output_file = \"sample_reversed.txt\"\n",
        "\n",
        "def reverse_string(inp,out):\n",
        "    with open(inp,'r') as read,open(out,'w') as write:\n",
        "        for one_line in read:\n",
        "            write.write(one_line.rstrip()[::-1]+'\\n')\n",
        "\n",
        "reverse_string(input_file,output_file)"
      ]
    },
    {
      "cell_type": "markdown",
      "metadata": {
        "id": "wqvx3sMY6bou"
      },
      "source": [
        "###`Q-5:` Create a Serialized dict of frequency of words in the file. And from given list of words, using serialized dict show word count.\n",
        "\n",
        "* List of word will be given\n",
        "\n"
      ]
    },
    {
      "cell_type": "markdown",
      "metadata": {
        "id": "uc5MSUWg6cZG"
      },
      "source": [
        "Given String\n",
        "\n",
        "```\n",
        "strings = \"\"\"Alice was beginning to get very tired of sitting by her sister\n",
        "            on the bank, and of having nothing to do:  once or twice she had\n",
        "            peeped into the book her sister was reading, but it had no\n",
        "            pictures or conversations in it, `and what is the use of a book,'\n",
        "            thought Alice `without pictures or conversation?'\n",
        "\n",
        "            So she was considering in her own mind (as well as she could,\n",
        "            for the hot day made her feel very sleepy and stupid), whether\n",
        "            the pleasure of making a daisy-chain would be worth the trouble\n",
        "            of getting up and picking the daisies, when suddenly a White\n",
        "            Rabbit with pink eyes ran close by her.\n",
        "\n",
        "            There was nothing so VERY remarkable in that; nor did Alice\n",
        "            think it so VERY much out of the way to hear the Rabbit say to\n",
        "            itself, `Oh dear!  Oh dear!  I shall be late!'  (when she thought\n",
        "            it over afterwards, it occurred to her that she ought to have\n",
        "            wondered at this, but at the time it all seemed quite natural);\n",
        "            but when the Rabbit actually TOOK A WATCH OUT OF ITS WAISTCOAT-\n",
        "            POCKET, and looked at it, and then hurried on, Alice started to\n",
        "            her feet, for it flashed across her mind that she had never\n",
        "            before seen a rabbit with either a waistcoat-pocket, or a watch to\n",
        "            take out of it, and burning with curiosity, she ran across the\n",
        "            field after it, and fortunately was just in time to see it pop\n",
        "            down a large rabbit-hole under the hedge.\"\"\"\n",
        "\n",
        "word_list = ['alice', 'wonder', 'natural']\n",
        "```"
      ]
    },
    {
      "cell_type": "code",
      "execution_count": 94,
      "metadata": {
        "id": "-SmtFFUq6a70"
      },
      "outputs": [
        {
          "name": "stdout",
          "output_type": "stream",
          "text": [
            "alice 3\n",
            "sister 1\n",
            "rabbit-hole 1\n"
          ]
        }
      ],
      "source": [
        "strings = \"\"\"Alice was beginning to get very tired of sitting by her sister\n",
        "            on the bank, and of having nothing to do:  once or twice she had\n",
        "            peeped into the book her sister was reading, but it had no\n",
        "            pictures or conversations in it, `and what is the use of a book,'\n",
        "            thought Alice `without pictures or conversation?'\n",
        "\n",
        "            So she was considering in her own mind (as well as she could,\n",
        "            for the hot day made her feel very sleepy and stupid), whether\n",
        "            the pleasure of making a daisy-chain would be worth the trouble\n",
        "            of getting up and picking the daisies, when suddenly a White\n",
        "            Rabbit with pink eyes ran close by her.\n",
        "\n",
        "            There was nothing so VERY remarkable in that; nor did Alice\n",
        "            think it so VERY much out of the way to hear the Rabbit say to\n",
        "            itself, `Oh dear!  Oh dear!  I shall be late!'  (when she thought\n",
        "            it over afterwards, it occurred to her that she ought to have\n",
        "            wondered at this, but at the time it all seemed quite natural);\n",
        "            but when the Rabbit actually TOOK A WATCH OUT OF ITS WAISTCOAT-\n",
        "            POCKET, and looked at it, and then hurried on, Alice started to\n",
        "            her feet, for it flashed across her mind that she had never\n",
        "            before seen a rabbit with either a waistcoat-pocket, or a watch to\n",
        "            take out of it, and burning with curiosity, she ran across the\n",
        "            field after it, and fortunately was just in time to see it pop\n",
        "            down a large rabbit-hole under the hedge.\"\"\"\n",
        "\n",
        "word_list = ['alice', 'sister', 'rabbit-hole']\n",
        "word_count_dict = dict()\n",
        "\n",
        "for word in strings.lower().split(\" \"):\n",
        "    try:\n",
        "        word_count_dict[word] += 1\n",
        "    except:\n",
        "        word_count_dict[word] = 1\n",
        "\n",
        "import pickle as pkl\n",
        "pkl.dump(word_count_dict,open('Word_count_dict.pkl','wb'))\n",
        "\n",
        "word_count = pkl.load(open('Word_count_dict.pkl','rb'))\n",
        "\n",
        "for s in word_list:\n",
        "    try:\n",
        "        print(s,word_count[s])\n",
        "    except:\n",
        "        print(s,0)\n"
      ]
    },
    {
      "cell_type": "markdown",
      "metadata": {
        "id": "Und2HuFW6kAw"
      },
      "source": [
        "### **`Q-6:`** Given a string calculate length of the string using recursion.\n",
        "\n",
        "**Example 1:**\n",
        "\n",
        "Input:\n",
        "```bash\n",
        "\"abcd\"\n",
        "```\n",
        "\n",
        "Output:\n",
        "\n",
        "```bash\n",
        "4\n",
        "```\n",
        "\n",
        "**Example 2:**\n",
        "\n",
        "Input:\n",
        "```bash\n",
        "DataScience\n",
        "```\n",
        "\n",
        "Output:\n",
        "\n",
        "```bash\n",
        "11\n",
        "```\n"
      ]
    },
    {
      "cell_type": "code",
      "execution_count": 29,
      "metadata": {
        "id": "9HE7lB5W61gT"
      },
      "outputs": [
        {
          "name": "stdout",
          "output_type": "stream",
          "text": [
            "11\n"
          ]
        }
      ],
      "source": [
        "def len_string(str):\n",
        "    if len(str) == 0:\n",
        "        return 0\n",
        "    else:\n",
        "        return 1 + len_string(str[1:]) \n",
        "\n",
        "print(len_string('Datascience'))"
      ]
    },
    {
      "cell_type": "markdown",
      "metadata": {
        "id": "iUDvc-jl6759"
      },
      "source": [
        "### **`Q-7:`** Write a function that accepts two numbers and returns their greatest common divisior. Without using any loop\n",
        "\n",
        "def gcd(int, int) => int\n",
        "\n",
        "```\n",
        "gcd(16,24) will give 8\n",
        "```"
      ]
    },
    {
      "cell_type": "code",
      "execution_count": 95,
      "metadata": {
        "id": "uMQnojHR7O2S"
      },
      "outputs": [
        {
          "name": "stdout",
          "output_type": "stream",
          "text": [
            "8\n"
          ]
        }
      ],
      "source": [
        "def gcd(a,b):\n",
        "    if a == b:\n",
        "        return a\n",
        "    elif a>b:\n",
        "        return gcd(a-b,b)\n",
        "    else:\n",
        "        return gcd(b-a,a)\n",
        "    \n",
        "print(gcd(16,24))\n",
        "        "
      ]
    },
    {
      "cell_type": "markdown",
      "metadata": {
        "id": "wFD35fva7Q_B"
      },
      "source": [
        " ### `Q-8:` String Edit Distance\n",
        "\n",
        " Use your recursive function to write a program that reads two strings from the\n",
        "user and displays the edit distance between them.\n",
        "\n",
        "*The edit distance between two strings is a measure of their similarity—the smaller the edit distance, the more similar the strings are with regard to the minimum number of insert, delete and substitute operations needed to transform one string into the other.*\n",
        "\n",
        "Consider the strings `kitten` and `sitting`. The first string can be transformed\n",
        "into the second string with the following operations:\n",
        "* Substitute the `k` with an `s`,\n",
        "* substitute the `e` with an `i`,\n",
        "* and insert a `g` at the end of the string.\n",
        "\n",
        "This is the smallest number of operations that can be performed to transform kitten into sitting. As a result, the edit distance is `3`.\n",
        "\n",
        "\n",
        "Write a recursive function that computes the edit distance between two strings.\n",
        "\n",
        "Use the following algorithm:\n",
        "\n",
        "```\n",
        "Let s and t be the strings\n",
        "    If the length of s is 0 then\n",
        "        Return the length of t\n",
        "    Else if the length of t is 0 then\n",
        "        Return the length of s\n",
        "    Else\n",
        "        Set cost to 0\n",
        "        If the last character in s does not equal the last character in t then\n",
        "            Set cost to 1\n",
        "        Set d1 equal to the edit distance between all characters except the last one in s, and all characters in t, plus 1\n",
        "        Set d2 equal to the edit distance between all characters in s, and all characters except the last one in t, plus 1\n",
        "\n",
        "        Set d3 equal to the edit distance between all characters except the last one in s, and all characters except the last one in t, plus cost\n",
        "        Return the minimum of d1, d2 and d3\n",
        "```\n",
        "\n",
        "\n",
        "\n"
      ]
    },
    {
      "cell_type": "code",
      "execution_count": 97,
      "metadata": {
        "id": "zlNy_Q987QOX"
      },
      "outputs": [
        {
          "data": {
            "text/plain": [
              "3"
            ]
          },
          "execution_count": 97,
          "metadata": {},
          "output_type": "execute_result"
        }
      ],
      "source": [
        "def stringDistance(s,t):\n",
        "    if len(s) == 0:\n",
        "        return len(t)\n",
        "    elif len(t) == 0:\n",
        "        return len(s)\n",
        "    else:\n",
        "        cost = 0\n",
        "        if s[-1] == t[-1]:\n",
        "            cost = 1\n",
        "        d1 = stringDistance(s[:-1],t) + 1\n",
        "        d2 = stringDistance(s,t[:-1]) + 1\n",
        "        d3 = stringDistance(s[:-1],t[:-1]) + cost\n",
        "        return min(d1,d2,d3)\n",
        "    \n",
        "stringDistance('kitten','sitten')"
      ]
    },
    {
      "cell_type": "markdown",
      "metadata": {
        "id": "Hc9e-qES7iAK"
      },
      "source": [
        "###`Q-9:` Run-Length Encoding\n",
        "\n",
        "Run-length encoding is a simple data compression technique that can be effective when repeated values occur at adjacent positions within a list. Compression is achieved by replacing groups of repeated values with one copy of the value, followed by the number of times that the value should be repeated. For example, the list\n",
        "```\n",
        "[\"A\", \"A\", \"A\", \"A\", \"A\", \"A\", \"A\", \"A\", \"A\", \"A\", \"A\", \"A\", \"B\", \"B\", \"B\", \"B\", \"A\", \"A\", \"A\", \"A\", \"A\", \"A\", \"B\"]\n",
        "```\n",
        "would be compressed as `[\"A\", 12, \"B\", 4, \"A\", 6, \"B\", 1]`.\n",
        "\n",
        "Write a recursive function that implements the run-length compression technique\n",
        "described above. Your function will take a list or a string as its only parameter. It should return the run-length compressed list as its only result. Include a main program that reads a string from the user, compresses it, and displays the run-length encoded result."
      ]
    },
    {
      "cell_type": "code",
      "execution_count": 49,
      "metadata": {
        "id": "W2Wb_WzP7qM1"
      },
      "outputs": [
        {
          "name": "stdout",
          "output_type": "stream",
          "text": [
            "['A', 12, 'B', 4, 'A', 6]\n"
          ]
        }
      ],
      "source": [
        "x = [\"A\", \"A\", \"A\", \"A\", \"A\", \"A\", \"A\", \"A\", \"A\", \"A\", \"A\", \"A\", \"B\", \"B\", \"B\", \"B\", \"A\", \"A\", \"A\", \"A\", \"A\", \"A\", \"B\"]\n",
        "count = 0\n",
        "y = []\n",
        "\n",
        "for item in range(0,len(x)-1):\n",
        "    if x[item] == x[item+1]:\n",
        "        count += 1\n",
        "    else:\n",
        "        y.insert(item,x[item])\n",
        "        y.insert(item+1,count + 1)        \n",
        "        count = 0\n",
        "        \n",
        "print(y)"
      ]
    },
    {
      "cell_type": "code",
      "execution_count": 101,
      "metadata": {},
      "outputs": [
        {
          "name": "stdout",
          "output_type": "stream",
          "text": [
            "['a', 5, 'b', 4, 'c', 4, 'd', 4, 'e', 4, 'f', 2, 'a', 3]\n"
          ]
        }
      ],
      "source": [
        "string = 'aaaaabbbbccccddddeeeeffaaa'\n",
        "\n",
        "def runEncode(s):\n",
        "    if len(s) == 0:\n",
        "        return []\n",
        "    else:\n",
        "        index = 1\n",
        "        while (index < len(s) and s[index] == s[index-1]):\n",
        "            index += 1\n",
        "        compressed = [s[0],index]\n",
        "            \n",
        "        return compressed + runEncode(s[index:])\n",
        "        \n",
        "        \n",
        "print(runEncode(string))"
      ]
    },
    {
      "cell_type": "markdown",
      "metadata": {
        "id": "x6A-4vGC8SLs"
      },
      "source": [
        "###`Q-10:` Write a recursive function to convert a decimal to binary"
      ]
    },
    {
      "cell_type": "code",
      "execution_count": 104,
      "metadata": {
        "id": "izOr6D9V8aME"
      },
      "outputs": [
        {
          "name": "stdout",
          "output_type": "stream",
          "text": [
            "01000\n"
          ]
        }
      ],
      "source": [
        "def decToBin(decimal):\n",
        "    if decimal == 0 :\n",
        "        return '0' \n",
        "    else:\n",
        "        return decToBin(decimal >> 1) + str(decimal & 1)\n",
        "\n",
        "x = decToBin(8)  \n",
        "print(x)    "
      ]
    },
    {
      "cell_type": "code",
      "execution_count": null,
      "metadata": {},
      "outputs": [],
      "source": []
    }
  ],
  "metadata": {
    "colab": {
      "provenance": []
    },
    "kernelspec": {
      "display_name": "Machinelearning_new",
      "language": "python",
      "name": "python3"
    },
    "language_info": {
      "codemirror_mode": {
        "name": "ipython",
        "version": 3
      },
      "file_extension": ".py",
      "mimetype": "text/x-python",
      "name": "python",
      "nbconvert_exporter": "python",
      "pygments_lexer": "ipython3",
      "version": "3.11.11"
    }
  },
  "nbformat": 4,
  "nbformat_minor": 0
}
