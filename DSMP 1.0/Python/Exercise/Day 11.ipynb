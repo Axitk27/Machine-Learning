{
  "cells": [
    {
      "cell_type": "markdown",
      "metadata": {
        "id": "ajVfqio_GinI"
      },
      "source": [
        "## Exception Handling\n"
      ]
    },
    {
      "cell_type": "markdown",
      "metadata": {
        "id": "0qnQkJtnGozz"
      },
      "source": [
        "###`Q-1`: You are given a function definition. There might be several issues on execution of this function. You are asked to do exception handling for diffrent errors that this function goes in to `without altering this function`. And print error text.\n",
        "\n"
      ]
    },
    {
      "cell_type": "markdown",
      "metadata": {
        "id": "2no_EB2fGyGq"
      },
      "source": [
        "Function parameters `l -> list, s -> could be anything`\n",
        "\n",
        "```\n",
        "def function(l: list, s, **args):\n",
        "    last_element = l[-1]\n",
        "    \n",
        "    l[int(s)]=10\n",
        "    any_element = l[int(s)+10]\n",
        "    l[s]=10\n",
        "    \n",
        "    res = sum(l)\n",
        "    \n",
        "    p = args['p']\n",
        "    # print(p)\n",
        "    return res/last_element * p + any_element\n",
        "\n",
        "```\n",
        "Check for different function calls:-\n",
        "\n",
        "```\n",
        "function([1,2,1], 12)\n",
        "function([1,2,1]*9, '1-2')\n",
        "function([1,'2',1]*9, 12)\n",
        "function([1,'2',1]*9, 12)\n",
        "function([1,2,0]*9, 12  )\n",
        "function([1,2,1]*9, 12, p=None)\n",
        "function([1,2,0]*9, 12, p=10)\n",
        "```"
      ]
    },
    {
      "cell_type": "code",
      "execution_count": null,
      "metadata": {
        "id": "VoaL4_9eGjFU"
      },
      "outputs": [
        {
          "name": "stdout",
          "output_type": "stream",
          "text": [
            "division by zero\n"
          ]
        }
      ],
      "source": [
        "def function(l: list, s, **args):\n",
        "    last_element = l[-1]\n",
        "    \n",
        "    l[int(s)]=10\n",
        "    any_element = l[int(s)+10]\n",
        "    l[s]=10\n",
        "    \n",
        "    res = sum(l)\n",
        "    \n",
        "    p = args['p']\n",
        "    # print(p)\n",
        "    return res/last_element * p + any_element\n",
        "\n",
        "\n",
        "try:\n",
        "    \n",
        "    # function([1,2,1], 12)\n",
        "    # function([1,2,1]*9, '1-2')\n",
        "    # function([1,'2',1]*9, 12)\n",
        "    # function([1,'2',1]*9, 12)\n",
        "    # function([1,2,0]*9, 12  )\n",
        "    # function([1,2,1]*9, 12, p=None)\n",
        "    # function([1,2,0]*9, 12, p=10)\n",
        "    \n",
        "except Exception as e:\n",
        "    print(e)"
      ]
    },
    {
      "cell_type": "markdown",
      "metadata": {
        "id": "HuLMy2fVG9sL"
      },
      "source": [
        "###`Q-2:` You are given a code snippet. There might be several issues on execution of this code. You are asked to do exception handling for diffrent errors, condition is what ever happens we need to execute last line printing correct result of `sum of elements`.\n",
        "\n",
        "List have elemnts as any no of  `key-pair dict with key as list index and value as any integer`, `integers` and `numeric-strings`. There is always only one element in the dict.\n",
        "\n",
        "\n",
        "```\n",
        "l = [{0:2},2,3,4,'5', {5:10}]\n",
        "# For calculating sum of above list\n",
        "s=0\n",
        "for i in range(len(l)):\n",
        "    #You can Edit code from here\n",
        "    s += l[i].get(i)\n",
        "    s += l[i]\n",
        "    s += int(l[i])\n",
        "\n",
        "\n",
        "print(s)\n",
        "```"
      ]
    },
    {
      "cell_type": "code",
      "execution_count": 9,
      "metadata": {
        "id": "pEP8JU0qHAf8"
      },
      "outputs": [
        {
          "name": "stdout",
          "output_type": "stream",
          "text": [
            "unsupported operand type(s) for +=: 'int' and 'dict'\n",
            "2\n"
          ]
        }
      ],
      "source": [
        "l = [{0:2},2,3,4,'5', {5:10}]\n",
        "# For calculating sum of above list\n",
        "try:\n",
        "    s=0\n",
        "    for i in range(len(l)):\n",
        "        #You can Edit code from here\n",
        "        s += l[i].get(i)\n",
        "        s += l[i]\n",
        "        s += int(l[i])\n",
        "except Exception as e:\n",
        "    print(e)\n",
        "finally:\n",
        "    print(s)"
      ]
    },
    {
      "cell_type": "markdown",
      "metadata": {
        "id": "ohE2fDTXHIan"
      },
      "source": [
        "### `Q-3:`: File Handling with Exception handling\n",
        "\n",
        "Write a program that opens a text file and write data to it as \"Hello, Good Morning!!!\". Handle exceptions that can be generated during the I/O operations. Do not show the success message on the main exception handling block (write inside the else block)."
      ]
    },
    {
      "cell_type": "code",
      "execution_count": 13,
      "metadata": {
        "id": "iOeiWrcIHPlY"
      },
      "outputs": [
        {
          "name": "stdout",
          "output_type": "stream",
          "text": [
            "File Writtin Successfull\n"
          ]
        }
      ],
      "source": [
        "try:\n",
        "    with open('File Handling/sample.txt','a') as f:\n",
        "        f.write(\"Hello, Good Morning\")\n",
        "except Exception as e:\n",
        "    print(e)\n",
        "else:\n",
        "    print(\"File Writtin Successfull\")\n",
        "    "
      ]
    },
    {
      "cell_type": "markdown",
      "metadata": {
        "id": "ru8g8-_bHTUf"
      },
      "source": [
        "### `Q-4`: Number game program.\n",
        "\n",
        "Write a number game program. Ask the user to enter a number. If the number is greater than number to be guessed, raise a **ValueTooLarge** exception. If the value is smaller the number to be guessed the, raise a **ValueTooSmall** exception and prompt the user to enter again. Quit the program only when the user enters the correct number. Also raise **GuessError** if user guess a number less than 1."
      ]
    },
    {
      "cell_type": "code",
      "execution_count": 19,
      "metadata": {
        "id": "QftlN5LJHZSX"
      },
      "outputs": [
        {
          "name": "stdout",
          "output_type": "stream",
          "text": [
            "GuessError\n"
          ]
        }
      ],
      "source": [
        "class Game:\n",
        "\n",
        "  def __init__(self,x):\n",
        "    self.number = x\n",
        "    self.guess_number = 0\n",
        "    \n",
        "  def guessNumber(self):\n",
        "    self.guess_number = int(input(\"Enter the number:\"))\n",
        "    \n",
        "    if self.guess_number < 0:\n",
        "      raise Exception('GuessError')\n",
        "    \n",
        "    elif self.number < self.guess_number:\n",
        "      raise Exception('ValueTooLarge')\n",
        "    \n",
        "    elif self.number > self.guess_number:\n",
        "      raise Exception('ValueTooSmall')\n",
        "    \n",
        "    \n",
        "    \n",
        "    elif self.number == self.guess_number:\n",
        "        return 0\n",
        "\n",
        "\n",
        "obj1 = Game(10)\n",
        "number = -1\n",
        "while  number != 0 :\n",
        "  try:\n",
        "    number = obj1.guessNumber()\n",
        "  except Exception as e: \n",
        "    print(e)"
      ]
    },
    {
      "cell_type": "markdown",
      "metadata": {
        "id": "ZsGI_40fHcsd"
      },
      "source": [
        "### `Q-5:` Cast vote\n",
        "\n",
        "Write a program that validate name and age as entered by the user to determine whether the person can cast vote or not. To handle the age, create **InvalidAge** exception and for name, create **InvalidName** exception. The name will be invalid when the string will be empty or name has only one word.\n",
        "\n",
        "Example 1:\n",
        "\n",
        "Input:\n",
        "\n",
        "```bash\n",
        "Enter the name:               goransh singh\n",
        "Enter the age: 25\n",
        "```\n",
        "\n",
        "Output:\n",
        "\n",
        "```bash\n",
        "Goransh Singh  Congratulation !!! You can vote.\n",
        "```"
      ]
    },
    {
      "cell_type": "code",
      "execution_count": 25,
      "metadata": {
        "id": "OHL3UiS4Hi3U"
      },
      "outputs": [
        {
          "name": "stdout",
          "output_type": "stream",
          "text": [
            "Drink Bornwitta, You are not allowed to Vote\n"
          ]
        }
      ],
      "source": [
        "class VotingRights:\n",
        "    def __init__(self):\n",
        "        \n",
        "        self.name = input(\"Enter your name:\")\n",
        "        self.age = int(input(\"Enter your Age:\"))\n",
        "        \n",
        "        if self.name == '' or len(self.name.split(\" \")) != 2:\n",
        "            raise Exception(\"InvalidName\")\n",
        "        elif self.age <= 0 :\n",
        "            raise Exception(\"InvalidAge\")\n",
        "    \n",
        "    def VotingRights(self):\n",
        "        if self.age >= 18:\n",
        "            print(\"Congratulation !!! You can vote\")        \n",
        "        else:\n",
        "            print(\"Drink Bornwitta, You are not allowed to Vote\")        \n",
        "        \n",
        "        \n",
        "        \n",
        "        \n",
        "try:\n",
        "    p1 = VotingRights()\n",
        "    p1.VotingRights()\n",
        "except Exception as e:\n",
        "    print(e)"
      ]
    },
    {
      "cell_type": "markdown",
      "metadata": {
        "id": "SCvs0QjgHlOG"
      },
      "source": [
        "### `Q-6`: Write a python function which infinitely prints natural numbers in a single line. Raise the **StopIteration** exception after displaying first 20 numnbers to exit from the program."
      ]
    },
    {
      "cell_type": "code",
      "execution_count": 28,
      "metadata": {
        "id": "Lc5ilNgNHoSx"
      },
      "outputs": [
        {
          "name": "stdout",
          "output_type": "stream",
          "text": [
            "1\n",
            "2\n",
            "3\n",
            "4\n",
            "5\n",
            "6\n",
            "7\n",
            "8\n",
            "9\n",
            "10\n",
            "11\n",
            "12\n",
            "13\n",
            "14\n",
            "15\n",
            "16\n",
            "17\n",
            "18\n",
            "19\n",
            "20\n",
            "StopIteration\n"
          ]
        }
      ],
      "source": [
        "class PrintNumber:\n",
        "    \n",
        "    def PrintNaturalNumber(self):\n",
        "        x = 1\n",
        "        \n",
        "        while x != 21:\n",
        "            print(x)\n",
        "            x += 1\n",
        "            \n",
        "            if x == 21:\n",
        "                raise Exception(\"StopIteration\")\n",
        "\n",
        "ob1 = PrintNumber()            \n",
        "try:\n",
        "    ob1.PrintNaturalNumber()\n",
        "except Exception as e:\n",
        "    print(e)\n",
        "    "
      ]
    },
    {
      "cell_type": "code",
      "execution_count": null,
      "metadata": {},
      "outputs": [],
      "source": []
    }
  ],
  "metadata": {
    "colab": {
      "provenance": []
    },
    "kernelspec": {
      "display_name": "Machinelearning_new",
      "language": "python",
      "name": "python3"
    },
    "language_info": {
      "codemirror_mode": {
        "name": "ipython",
        "version": 3
      },
      "file_extension": ".py",
      "mimetype": "text/x-python",
      "name": "python",
      "nbconvert_exporter": "python",
      "pygments_lexer": "ipython3",
      "version": "3.11.11"
    }
  },
  "nbformat": 4,
  "nbformat_minor": 0
}
