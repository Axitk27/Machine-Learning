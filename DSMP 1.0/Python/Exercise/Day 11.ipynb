{
  "cells": [
    {
      "cell_type": "markdown",
      "metadata": {
        "id": "ajVfqio_GinI"
      },
      "source": [
        "## Exception Handling\n"
      ]
    },
    {
      "cell_type": "markdown",
      "metadata": {
        "id": "0qnQkJtnGozz"
      },
      "source": [
        "###`Q-1`: You are given a function definition. There might be several issues on execution of this function. You are asked to do exception handling for diffrent errors that this function goes in to `without altering this function`. And print error text.\n",
        "\n"
      ]
    },
    {
      "cell_type": "markdown",
      "metadata": {
        "id": "2no_EB2fGyGq"
      },
      "source": [
        "Function parameters `l -> list, s -> could be anything`\n",
        "\n",
        "```\n",
        "def function(l: list, s, **args):\n",
        "    last_element = l[-1]\n",
        "    \n",
        "    l[int(s)]=10\n",
        "    any_element = l[int(s)+10]\n",
        "    l[s]=10\n",
        "    \n",
        "    res = sum(l)\n",
        "    \n",
        "    p = args['p']\n",
        "    # print(p)\n",
        "    return res/last_element * p + any_element\n",
        "\n",
        "```\n",
        "Check for different function calls:-\n",
        "\n",
        "```\n",
        "function([1,2,1], 12)\n",
        "function([1,2,1]*9, '1-2')\n",
        "function([1,'2',1]*9, 12)\n",
        "function([1,'2',1]*9, 12)\n",
        "function([1,2,0]*9, 12  )\n",
        "function([1,2,1]*9, 12, p=None)\n",
        "function([1,2,0]*9, 12, p=10)\n",
        "```"
      ]
    },
    {
      "cell_type": "code",
      "execution_count": 3,
      "metadata": {
        "id": "VoaL4_9eGjFU"
      },
      "outputs": [
        {
          "name": "stdout",
          "output_type": "stream",
          "text": [
            "<class 'KeyError'>\n",
            "'p'\n",
            "Thank You\n"
          ]
        }
      ],
      "source": [
        "def function(l: list, s, **args):\n",
        "    last_element = l[-1]\n",
        "    \n",
        "    l[int(s)]=10\n",
        "    any_element = l[int(s)]\n",
        "    l[s]=10\n",
        "    \n",
        "    res = sum(l)\n",
        "    \n",
        "    p = args['p']\n",
        "    # print(p)\n",
        "    return res/last_element * p + any_element\n",
        "\n",
        "\n",
        "try:\n",
        "    \n",
        "    result = function([1,2,1], 1)\n",
        "    # function([1,2,1]*9, '1-2')\n",
        "    # function([1,'2',1]*9, 12)\n",
        "    # function([1,'2',1]*9, 12)\n",
        "    # function([1,2,0]*9, 12  )\n",
        "    # function([1,2,1]*9, 12, p=None)\n",
        "    # function([1,2,0]*9, 12, p=10)\n",
        "    \n",
        "except IndexError as i:\n",
        "    print(type(i))\n",
        "    print(i)\n",
        "except ValueError as v:\n",
        "    print(type(v))\n",
        "    print(v)\n",
        "except TypeError as t:\n",
        "    print(type(t))\n",
        "    print(t)\n",
        "except KeyError as k:\n",
        "    print(type(k))\n",
        "    print(k)\n",
        "except ZeroDivisionError as z:\n",
        "    print(type(z))\n",
        "    print(z)\n",
        "else:\n",
        "    print(result)\n",
        "finally:\n",
        "    print('Thank You') \n",
        "\n",
        "    "
      ]
    },
    {
      "cell_type": "markdown",
      "metadata": {
        "id": "HuLMy2fVG9sL"
      },
      "source": [
        "###`Q-2:` You are given a code snippet. There might be several issues on execution of this code. You are asked to do exception handling for diffrent errors, condition is what ever happens we need to execute last line printing correct result of `sum of elements`.\n",
        "\n",
        "List have elemnts as any no of  `key-pair dict with key as list index and value as any integer`, `integers` and `numeric-strings`. There is always only one element in the dict.\n",
        "\n",
        "\n",
        "```\n",
        "l = [{0:2},2,3,4,'5', {5:10}]\n",
        "# For calculating sum of above list\n",
        "s=0\n",
        "for i in range(len(l)):\n",
        "    #You can Edit code from here\n",
        "    s += l[i].get(i)\n",
        "    s += l[i]\n",
        "    s += int(l[i])\n",
        "\n",
        "\n",
        "print(s)\n",
        "```"
      ]
    },
    {
      "cell_type": "code",
      "execution_count": null,
      "metadata": {
        "id": "pEP8JU0qHAf8"
      },
      "outputs": [
        {
          "ename": "TypeError",
          "evalue": "int() argument must be a string, a bytes-like object or a real number, not 'dict'",
          "output_type": "error",
          "traceback": [
            "\u001b[1;31m---------------------------------------------------------------------------\u001b[0m",
            "\u001b[1;31mTypeError\u001b[0m                                 Traceback (most recent call last)",
            "Cell \u001b[1;32mIn[8], line 7\u001b[0m\n\u001b[0;32m      6\u001b[0m \u001b[38;5;28;01mtry\u001b[39;00m :\n\u001b[1;32m----> 7\u001b[0m     s \u001b[38;5;241m+\u001b[39m\u001b[38;5;241m=\u001b[39m l[i]\n\u001b[0;32m      8\u001b[0m \u001b[38;5;28;01mexcept\u001b[39;00m \u001b[38;5;167;01mTypeError\u001b[39;00m:\n",
            "\u001b[1;31mTypeError\u001b[0m: unsupported operand type(s) for +=: 'int' and 'dict'",
            "\nDuring handling of the above exception, another exception occurred:\n",
            "\u001b[1;31mTypeError\u001b[0m                                 Traceback (most recent call last)",
            "Cell \u001b[1;32mIn[8], line 10\u001b[0m\n\u001b[0;32m      8\u001b[0m \u001b[38;5;28;01mexcept\u001b[39;00m \u001b[38;5;167;01mTypeError\u001b[39;00m:\n\u001b[0;32m      9\u001b[0m     \u001b[38;5;28;01mtry\u001b[39;00m:\n\u001b[1;32m---> 10\u001b[0m         s \u001b[38;5;241m+\u001b[39m\u001b[38;5;241m=\u001b[39m \u001b[38;5;28mint\u001b[39m(l[i])\n\u001b[0;32m     11\u001b[0m     \u001b[38;5;28;01mexcept\u001b[39;00m \u001b[38;5;167;01mKeyError\u001b[39;00m:\n\u001b[0;32m     12\u001b[0m         s \u001b[38;5;241m+\u001b[39m\u001b[38;5;241m=\u001b[39m l[i]\u001b[38;5;241m.\u001b[39mget(i)\n",
            "\u001b[1;31mTypeError\u001b[0m: int() argument must be a string, a bytes-like object or a real number, not 'dict'"
          ]
        }
      ],
      "source": [
        "l = [{0:2},2,3,4,'5', {5:10}]\n",
        "s=0\n",
        "\n",
        "s += l[0]\n",
        "for i in range(len(l)):\n",
        "    try :\n",
        "        s += l[i]\n",
        "    except TypeError:\n",
        "        try:\n",
        "            s += l[i].get(i)\n",
        "        except AttributeError:\n",
        "            s += int(l[i])\n",
        "\n",
        "print(s)"
      ]
    },
    {
      "cell_type": "markdown",
      "metadata": {
        "id": "ohE2fDTXHIan"
      },
      "source": [
        "### `Q-3:`: File Handling with Exception handling\n",
        "\n",
        "Write a program that opens a text file and write data to it as \"Hello, Good Morning!!!\". Handle exceptions that can be generated during the I/O operations. Do not show the success message on the main exception handling block (write inside the else block)."
      ]
    },
    {
      "cell_type": "code",
      "execution_count": 13,
      "metadata": {
        "id": "iOeiWrcIHPlY"
      },
      "outputs": [
        {
          "name": "stdout",
          "output_type": "stream",
          "text": [
            "File Writtin Successfull\n"
          ]
        }
      ],
      "source": [
        "try:\n",
        "    with open('File Handling/sample.txt','a') as f:\n",
        "        f.write(\"Hello, Good Morning\")\n",
        "except Exception as e:\n",
        "    print(e)\n",
        "else:\n",
        "    print(\"File Writtin Successfull\")\n",
        "    "
      ]
    },
    {
      "cell_type": "markdown",
      "metadata": {
        "id": "ru8g8-_bHTUf"
      },
      "source": [
        "### `Q-4`: Number game program.\n",
        "\n",
        "Write a number game program. Ask the user to enter a number. If the number is greater than number to be guessed, raise a **ValueTooLarge** exception. If the value is smaller the number to be guessed the, raise a **ValueTooSmall** exception and prompt the user to enter again. Quit the program only when the user enters the correct number. Also raise **GuessError** if user guess a number less than 1."
      ]
    },
    {
      "cell_type": "code",
      "execution_count": null,
      "metadata": {
        "id": "QftlN5LJHZSX"
      },
      "outputs": [
        {
          "name": "stdout",
          "output_type": "stream",
          "text": [
            "ValueTooLarge\n",
            "ValueTooLarge\n",
            "ValueTooLarge\n"
          ]
        }
      ],
      "source": [
        "class Game:\n",
        "\n",
        "  def __init__(self,x):\n",
        "    self.number = x\n",
        "    self.guess_number = 0\n",
        "    \n",
        "  def guessNumber(self):\n",
        "    self.guess_number = int(input(\"Enter the number:\"))\n",
        "    \n",
        "    if self.guess_number < 0:\n",
        "      raise Exception('GuessError')\n",
        "    \n",
        "    elif self.number < self.guess_number:\n",
        "      raise Exception('ValueTooLarge')\n",
        "    \n",
        "    elif self.number > self.guess_number:\n",
        "      raise Exception('ValueTooSmall')\n",
        "    \n",
        "    \n",
        "    \n",
        "    elif self.number == self.guess_number:\n",
        "        return 0\n",
        "\n",
        "\n",
        "obj1 = Game(10)\n",
        "number = -1\n",
        "while  number != 0 :\n",
        "  try:\n",
        "    number = obj1.guessNumber()\n",
        "  except Exception as e: \n",
        "    print(e)"
      ]
    },
    {
      "cell_type": "code",
      "execution_count": 9,
      "metadata": {},
      "outputs": [
        {
          "name": "stdout",
          "output_type": "stream",
          "text": [
            "Input value is too small\n",
            "Input value is too large\n",
            "Input value is too small\n",
            "Input value is too large\n",
            "Input value is too large\n",
            "Great You succeeded...\n"
          ]
        }
      ],
      "source": [
        "# Write code here\n",
        "import random\n",
        "\n",
        "class ValueTooLarge(Exception):\n",
        "    def display(self):\n",
        "        print(\"Input value is too large\")\n",
        "\n",
        "class ValueTooSmall(Exception):\n",
        "    def display(self):\n",
        "        print(\"Input value is too small\")\n",
        "    \n",
        "class GuessError(Exception):\n",
        "    def display(self):\n",
        "        print(\"Guess the number between 1 and 100\")\n",
        "\n",
        "num = random.randint(1, 100)\n",
        "while 1:\n",
        "    try:\n",
        "        guess = int(input(\"Enter a number:\"))\n",
        "\n",
        "        if guess < 1:\n",
        "            raise GuessError\n",
        "\n",
        "        if guess == num:\n",
        "            print(\"Great You succeeded...\")\n",
        "            break\n",
        "        if guess < num:\n",
        "            raise ValueTooSmall\n",
        "        if guess > num:\n",
        "            raise ValueTooLarge\n",
        "    except ValueTooSmall as s:\n",
        "        s.display()\n",
        "    except ValueTooLarge as l:\n",
        "        l.display()\n",
        "    except GuessError as g:\n",
        "        g.display()"
      ]
    },
    {
      "cell_type": "markdown",
      "metadata": {
        "id": "ZsGI_40fHcsd"
      },
      "source": [
        "### `Q-5:` Cast vote\n",
        "\n",
        "Write a program that validate name and age as entered by the user to determine whether the person can cast vote or not. To handle the age, create **InvalidAge** exception and for name, create **InvalidName** exception. The name will be invalid when the string will be empty or name has only one word.\n",
        "\n",
        "Example 1:\n",
        "\n",
        "Input:\n",
        "\n",
        "```bash\n",
        "Enter the name:               goransh singh\n",
        "Enter the age: 25\n",
        "```\n",
        "\n",
        "Output:\n",
        "\n",
        "```bash\n",
        "Goransh Singh  Congratulation !!! You can vote.\n",
        "```"
      ]
    },
    {
      "cell_type": "code",
      "execution_count": 25,
      "metadata": {
        "id": "OHL3UiS4Hi3U"
      },
      "outputs": [
        {
          "name": "stdout",
          "output_type": "stream",
          "text": [
            "Drink Bornwitta, You are not allowed to Vote\n"
          ]
        }
      ],
      "source": [
        "class VotingRights:\n",
        "    def __init__(self):\n",
        "        \n",
        "        self.name = input(\"Enter your name:\")\n",
        "        self.age = int(input(\"Enter your Age:\"))\n",
        "        \n",
        "        if self.name == '' or len(self.name.split(\" \")) != 2:\n",
        "            raise Exception(\"InvalidName\")\n",
        "        elif self.age <= 0 :\n",
        "            raise Exception(\"InvalidAge\")\n",
        "    \n",
        "    def VotingRights(self):\n",
        "        if self.age >= 18:\n",
        "            print(\"Congratulation !!! You can vote\")        \n",
        "        else:\n",
        "            print(\"Drink Bornwitta, You are not allowed to Vote\")        \n",
        "        \n",
        "        \n",
        "        \n",
        "        \n",
        "try:\n",
        "    p1 = VotingRights()\n",
        "    p1.VotingRights()\n",
        "except Exception as e:\n",
        "    print(e)"
      ]
    },
    {
      "cell_type": "code",
      "execution_count": 13,
      "metadata": {},
      "outputs": [
        {
          "name": "stdout",
          "output_type": "stream",
          "text": [
            "Sorry!! Age cannot be below 18. Please come after that\n",
            "Thank You\n"
          ]
        }
      ],
      "source": [
        "\n",
        "class InvalidAge(Exception):\n",
        "    def display(self):\n",
        "        print(\"Sorry!! Age cannot be below 18. Please come after that\")\n",
        "class InvalidName(Exception):\n",
        "    def display(self):\n",
        "        print(\"Please enter a valid name...\")\n",
        "try:\n",
        "    name = input(\"Enter your name: \")\n",
        "    if len(name) == 0 or len(name.split()) < 2:\n",
        "        raise InvalidName\n",
        "\n",
        "    age = int(input(\"Enter your age: \"))\n",
        "    if age < 18:\n",
        "        raise InvalidAge\n",
        "except InvalidName as i:\n",
        "    i.display()\n",
        "except InvalidAge as a:\n",
        "    a.display()\n",
        "else:\n",
        "    print(\"Your vote is accepted successfully\")\n",
        "finally:\n",
        "    print(\"Thank You\")"
      ]
    },
    {
      "cell_type": "markdown",
      "metadata": {
        "id": "SCvs0QjgHlOG"
      },
      "source": [
        "### `Q-6`: Write a python function which infinitely prints natural numbers in a single line. Raise the **StopIteration** exception after displaying first 20 numnbers to exit from the program."
      ]
    },
    {
      "cell_type": "code",
      "execution_count": null,
      "metadata": {
        "id": "Lc5ilNgNHoSx"
      },
      "outputs": [
        {
          "name": "stdout",
          "output_type": "stream",
          "text": [
            "101 102 103 104 105 106 107 108 109 110 111 112 113 114 115 116 117 118 119 120 "
          ]
        }
      ],
      "source": [
        "\n",
        "    \n",
        "def PrintNaturalNumber(n):\n",
        "    i=0\n",
        "    while True:\n",
        "        try:\n",
        "            n+=1\n",
        "            i+=1\n",
        "            if i==21:\n",
        "                raise StopIteration\n",
        "        except StopIteration:\n",
        "            break\n",
        "        else:\n",
        "            print(n, end =' ')\n",
        "\n",
        "PrintNaturalNumber(100)\n",
        "    \n",
        "    "
      ]
    },
    {
      "cell_type": "code",
      "execution_count": null,
      "metadata": {},
      "outputs": [],
      "source": []
    }
  ],
  "metadata": {
    "colab": {
      "provenance": []
    },
    "kernelspec": {
      "display_name": "Machinelearning_new",
      "language": "python",
      "name": "python3"
    },
    "language_info": {
      "codemirror_mode": {
        "name": "ipython",
        "version": 3
      },
      "file_extension": ".py",
      "mimetype": "text/x-python",
      "name": "python",
      "nbconvert_exporter": "python",
      "pygments_lexer": "ipython3",
      "version": "3.11.11"
    }
  },
  "nbformat": 4,
  "nbformat_minor": 0
}
