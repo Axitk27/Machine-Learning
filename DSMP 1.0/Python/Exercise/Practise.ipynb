{
 "cells": [
  {
   "cell_type": "code",
   "execution_count": null,
   "id": "0abb1879",
   "metadata": {},
   "outputs": [
    {
     "name": "stdout",
     "output_type": "stream",
     "text": [
      "2 4\n"
     ]
    }
   ],
   "source": [
    "# Problem 1 \n",
    "\n",
    "def calculate_record(score):\n",
    "    high = score[0]\n",
    "    high_count = 0\n",
    "    low_count = 0\n",
    "    low = score[0]\n",
    "    for i in range(0,len(score)):\n",
    "        if score[i] > high:\n",
    "            high = score[i]\n",
    "            high_count += 1\n",
    "        elif score[i]<low:\n",
    "            low = score[i]\n",
    "            low_count += 1\n",
    "    return high_count,low_count\n",
    "\n",
    "\n",
    "score = input(\"Enter your Score: \").split(\" \")\n",
    "score_int = [int(item) for item in score]\n",
    "\n",
    "\n",
    "x,y = calculate_record(score_int)\n",
    "print(x,y)"
   ]
  },
  {
   "cell_type": "code",
   "execution_count": 98,
   "id": "1a4b00d2",
   "metadata": {},
   "outputs": [],
   "source": [
    "#Problem 2\n",
    "class Student:\n",
    "    def __init__(self):\n",
    "        self.__name = None\n",
    "        self.__roll_no= None\n",
    "        self.__marks = {}\n",
    "        \n",
    "    def set_name(self,name):\n",
    "        self.__name = name  \n",
    "    def get_name(self):\n",
    "        return self.__name\n",
    "    \n",
    "    def set_roll_no(self,roll_no):\n",
    "        self.__roll_no = roll_no \n",
    "    def get_roll_no(self):\n",
    "        return self.__roll_no\n",
    "    \n",
    "    def set_marks(self,marks):\n",
    "        self.__marks = marks\n",
    "          \n",
    "    def get_marks(self):\n",
    "        return self.__marks\n",
    "    \n",
    "    def set_info(self,name,roll_no,marks):\n",
    "        self.__name = name  \n",
    "        self.__roll_no = roll_no \n",
    "        self.__marks = marks\n",
    "    \n",
    "    def get_info(self):\n",
    "        return {'Name':self.__name ,'roll_no':self.__roll_no ,'marks':self.__marks}\n",
    "    \n",
    "        \n",
    "     \n",
    "class System:\n",
    "    def __init__(self):\n",
    "        self.__database = []\n",
    "    \n",
    "    \n",
    "    def Accepts(self,*args):\n",
    "        for item in args:\n",
    "            # print(item.get_info())\n",
    "            self.__database.append(item.get_info())\n",
    "    \n",
    "    \n",
    "    def display(self):\n",
    "        for item in self.__database:\n",
    "            print('Name: {}'.format(item['Name']))\n",
    "            print('RollNo: {}'.format(item['roll_no']))\n",
    "            print('Marks')\n",
    "            print('English: {}'.format(item['marks']['English']))\n",
    "            print('German: {}'.format(item['marks']['German']))\n",
    "            print(\"\")\n",
    "            \n",
    "    \n",
    "    def search(self,Roll_no):\n",
    "        for item in self.__database:\n",
    "            if Roll_no == item['roll_no']:\n",
    "                print('Name: {}'.format(item['Name']))\n",
    "                print('RollNo: {}'.format(item['roll_no']))\n",
    "                print('Marks')\n",
    "                print('English: {}'.format(item['marks']['English']))\n",
    "                print('German: {}'.format(item['marks']['German']))\n",
    "                print(\"\")\n",
    "                \n",
    "    def delete(self,Roll_no):\n",
    "        for item in self.__database:\n",
    "            if Roll_no == item['roll_no']:\n",
    "                self.__database.remove(item)\n",
    "\n",
    "        \n",
    "    def update(self,old_roll_no,new_roll_no):\n",
    "        for item in self.__database:\n",
    "            if old_roll_no == item['roll_no']:\n",
    "                item['roll_no'] = new_roll_no\n",
    "                "
   ]
  },
  {
   "cell_type": "code",
   "execution_count": 99,
   "id": "0f903e6b",
   "metadata": {},
   "outputs": [],
   "source": [
    "axit = Student()\n",
    "jk = Student()\n",
    "axit.set_info('Axit',21,{'English':20,'German':25})\n",
    "jk.set_info('Jack',22,{'English':22,'German':30})\n"
   ]
  },
  {
   "cell_type": "code",
   "execution_count": 100,
   "id": "1316e253",
   "metadata": {},
   "outputs": [],
   "source": [
    "kss = System()\n",
    "kss.Accepts(axit,jk)"
   ]
  },
  {
   "cell_type": "code",
   "execution_count": 101,
   "id": "cb809da1",
   "metadata": {},
   "outputs": [],
   "source": [
    "kss.update(21,100)"
   ]
  },
  {
   "cell_type": "code",
   "execution_count": 102,
   "id": "27ce38d5",
   "metadata": {},
   "outputs": [
    {
     "name": "stdout",
     "output_type": "stream",
     "text": [
      "Name: Axit\n",
      "RollNo: 100\n",
      "Marks\n",
      "English: 20\n",
      "German: 25\n",
      "\n",
      "Name: Jack\n",
      "RollNo: 22\n",
      "Marks\n",
      "English: 22\n",
      "German: 30\n",
      "\n"
     ]
    }
   ],
   "source": [
    "kss.display()"
   ]
  },
  {
   "cell_type": "code",
   "execution_count": null,
   "id": "747ba515",
   "metadata": {},
   "outputs": [
    {
     "name": "stdout",
     "output_type": "stream",
     "text": [
      "UTC Format \t\t\t  IST Format\n",
      "2025-05-07 11:23:37 UTC +0000 \t  2025-05-07 16:53:37 IST +0530\n",
      "2025-05-07 11:23:37 UTC +0000 \t  2025-05-07 16:53:37 IST +0530\n",
      "2025-05-07 11:23:37 UTC +0000 \t  2025-05-07 16:53:37 IST +0530\n",
      "2025-05-07 11:23:37 UTC +0000 \t  2025-05-07 16:53:37 IST +0530\n",
      "2025-05-07 11:23:37 UTC +0000 \t  2025-05-07 16:53:37 IST +0530\n"
     ]
    }
   ],
   "source": [
    "#Problem 3 \n",
    "\n",
    "from datetime import datetime \n",
    "import pytz \n",
    "  \n",
    "# get the standard UTC time  \n",
    "UTC = pytz.utc \n",
    "\n",
    "timeZ_Kl = pytz.timezone('Asia/Kolkata')  \n",
    "timeZ_Ny = pytz.timezone('America/New_York') \n",
    "timeZ_Ma = pytz.timezone('Africa/Maseru') \n",
    "timeZ_Ce = pytz.timezone('US/Central') \n",
    "timeZ_At = pytz.timezone('Europe/Athens') \n",
    "\n",
    "dt_Kl = datetime.now(timeZ_Kl) \n",
    "dt_Ny = datetime.now(timeZ_Ny) \n",
    "dt_Ma = datetime.now(timeZ_Ma) \n",
    "dt_Ce = datetime.now(timeZ_Ce) \n",
    "dt_At = datetime.now(timeZ_At) \n",
    "  \n",
    "utc_Kl = dt_Kl.astimezone(UTC) \n",
    "utc_Ny = dt_Ny.astimezone(UTC) \n",
    "utc_Ma = dt_Ma.astimezone(UTC) \n",
    "utc_Ce = dt_Ce.astimezone(UTC) \n",
    "utc_At = dt_At.astimezone(UTC)\n",
    "\n",
    "print(\"UTC Format \\t\\t\\t  IST Format\") \n",
    "  \n",
    "print(utc_Kl.strftime('%Y-%m-%d %H:%M:%S %Z %z'), \n",
    "      \"\\t \", \n",
    "      dt_Kl.strftime('%Y-%m-%d %H:%M:%S %Z %z')) \n",
    "  \n",
    "print(utc_Ny.strftime('%Y-%m-%d %H:%M:%S %Z %z'), \n",
    "      \"\\t \", \n",
    "      dt_Kl.strftime('%Y-%m-%d %H:%M:%S %Z %z')) \n",
    "  \n",
    "print(utc_Ma.strftime('%Y-%m-%d %H:%M:%S %Z %z'), \n",
    "      \"\\t \", \n",
    "      dt_Kl.strftime('%Y-%m-%d %H:%M:%S %Z %z')) \n",
    "  \n",
    "print(utc_Ce.strftime('%Y-%m-%d %H:%M:%S %Z %z'), \n",
    "      \"\\t \", \n",
    "      dt_Kl.strftime('%Y-%m-%d %H:%M:%S %Z %z')) \n",
    "  \n",
    "print(utc_At.strftime('%Y-%m-%d %H:%M:%S %Z %z'), \n",
    "      \"\\t \", \n",
    "      dt_Kl.strftime('%Y-%m-%d %H:%M:%S %Z %z')) \n"
   ]
  },
  {
   "cell_type": "code",
   "execution_count": null,
   "id": "0fc4e6e4",
   "metadata": {},
   "outputs": [
    {
     "name": "stdout",
     "output_type": "stream",
     "text": [
      "3 2\n"
     ]
    }
   ],
   "source": [
    "#Problem 4\n",
    "\n",
    "# l1 = [2, 7, 5, 64, 14]\n",
    "# i,j = 0,0\n",
    "\n",
    "# x = [item for item in l1 if item % 2 == 0]\n",
    "# y = []\n",
    "\n",
    "# for item in l1:\n",
    "#     if item in x:\n",
    "#         continue\n",
    "#     else:\n",
    "#         y.append(item)\n",
    "    \n",
    "# print('Even {} , Odd {}'.format(len(x),len(y)))\n",
    "\n",
    "\n",
    "\n",
    "x,y = [sum(1 for item in l1 if item % 2 == k) for k in [0, 1]\n",
    "print(x,y)"
   ]
  },
  {
   "cell_type": "code",
   "execution_count": 6,
   "id": "bfe93b26",
   "metadata": {},
   "outputs": [
    {
     "name": "stdout",
     "output_type": "stream",
     "text": [
      "3 2\n"
     ]
    }
   ],
   "source": [
    "l1 = [2, 7, 5, 64, 14]\n",
    "i,j = 0,0\n",
    "for item in l1:\n",
    "    if item%2 == 0:\n",
    "        i+= 1\n",
    "        \n",
    "    else:\n",
    "        j+=1 \n",
    "\n",
    "print(i,j)"
   ]
  },
  {
   "cell_type": "code",
   "execution_count": null,
   "id": "397c0490",
   "metadata": {},
   "outputs": [
    {
     "name": "stdout",
     "output_type": "stream",
     "text": [
      "abc"
     ]
    },
    {
     "ename": "IndexError",
     "evalue": "string index out of range",
     "output_type": "error",
     "traceback": [
      "\u001b[1;31m---------------------------------------------------------------------------\u001b[0m",
      "\u001b[1;31mIndexError\u001b[0m                                Traceback (most recent call last)",
      "Cell \u001b[1;32mIn[69], line 28\u001b[0m\n\u001b[0;32m     26\u001b[0m \u001b[38;5;28;01mfor\u001b[39;00m i \u001b[38;5;129;01min\u001b[39;00m \u001b[38;5;28mrange\u001b[39m(\u001b[38;5;241m0\u001b[39m,size):\n\u001b[0;32m     27\u001b[0m     \u001b[38;5;28;01mfor\u001b[39;00m item \u001b[38;5;129;01min\u001b[39;00m \u001b[38;5;28mrange\u001b[39m(\u001b[38;5;241m0\u001b[39m,size_of_rangoli):\n\u001b[1;32m---> 28\u001b[0m         \u001b[38;5;28mprint\u001b[39m(x[item],end\u001b[38;5;241m=\u001b[39m\u001b[38;5;124m'\u001b[39m\u001b[38;5;124m'\u001b[39m)\n\u001b[0;32m     29\u001b[0m     \u001b[38;5;28mprint\u001b[39m(\u001b[38;5;124m'\u001b[39m\u001b[38;5;124m'\u001b[39m)\n",
      "\u001b[1;31mIndexError\u001b[0m: string index out of range"
     ]
    }
   ],
   "source": [
    "#Problem 5 \n",
    "\n",
    "alpha = 'abcdefghijklmnopqrstuvwxyz'\n",
    "size = int(input('Please enter the size of the Rangoli : '))\n",
    "\n",
    "x = alpha[0:size]\n",
    "y = ''\n",
    "j = size-1\n",
    "for i in range(0,size):\n",
    "    if size == 1:\n",
    "        y = y + x[j]\n",
    "    else:\n",
    "        y = y + x[j] + '-'\n",
    "    j -= 1\n",
    "\n",
    "for i in range(1,size):\n",
    "    if i != size-1:\n",
    "        y = y + x[i] + '-'\n",
    "    else:\n",
    "        y = y + x[i]\n",
    "\n",
    "\n",
    "size_of_rangoli = len(y)\n",
    "j = size-1\n",
    "k = '' \n",
    "for item in range(len(x)):\n",
    "    for value in range(size_of_rangoli):\n",
    "        \n",
    "        k = k +  x[k] + '='\n"
   ]
  },
  {
   "cell_type": "code",
   "execution_count": null,
   "id": "e21ae9d6",
   "metadata": {},
   "outputs": [],
   "source": []
  },
  {
   "cell_type": "code",
   "execution_count": null,
   "id": "19c30661",
   "metadata": {},
   "outputs": [],
   "source": []
  }
 ],
 "metadata": {
  "kernelspec": {
   "display_name": "Machinelearning_new",
   "language": "python",
   "name": "python3"
  },
  "language_info": {
   "codemirror_mode": {
    "name": "ipython",
    "version": 3
   },
   "file_extension": ".py",
   "mimetype": "text/x-python",
   "name": "python",
   "nbconvert_exporter": "python",
   "pygments_lexer": "ipython3",
   "version": "3.11.11"
  }
 },
 "nbformat": 4,
 "nbformat_minor": 5
}
