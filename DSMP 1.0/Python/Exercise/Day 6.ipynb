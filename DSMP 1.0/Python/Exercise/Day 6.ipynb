{
  "cells": [
    {
      "cell_type": "markdown",
      "metadata": {
        "id": "h6dDSW5XGZFi"
      },
      "source": [
        "### **`Problem-1:`** Write a Python function that takes a list and returns a new list with unique elements of the first list.\n",
        "\n",
        "**Exercise 1:**\n",
        "\n",
        "Input:\n",
        "\n",
        "```bash\n",
        "[1,2,3,3,3,3,4,5]\n",
        "```\n",
        "\n",
        "Output:\n",
        "\n",
        "```bash\n",
        "[1, 2, 3, 4, 5]\n",
        "```"
      ]
    },
    {
      "cell_type": "code",
      "execution_count": 2,
      "metadata": {
        "id": "R5pq1C9LGe1y"
      },
      "outputs": [
        {
          "data": {
            "text/plain": [
              "[1, 2, 3, 4, 5]"
            ]
          },
          "execution_count": 2,
          "metadata": {},
          "output_type": "execute_result"
        }
      ],
      "source": [
        "L = [1,2,3,3,3,3,4,5]\n",
        "\n",
        "def list_con(L):\n",
        "    s = set(L)\n",
        "    s = list(s)\n",
        "    return s\n",
        "\n",
        "list_con(L)"
      ]
    },
    {
      "cell_type": "markdown",
      "metadata": {
        "id": "UxQ_VoyJGwHj"
      },
      "source": [
        "### **`Problem-2:`** Write a Python function that accepts a hyphen-separated sequence of words as parameter and returns the words in a hyphen-separated sequence after sorting them alphabetically.\n",
        "\n",
        "**Example 1:**\n",
        "\n",
        "Input:\n",
        "```bash\n",
        "green-red-yellow-black-white\n",
        "```\n",
        "\n",
        "Output:\n",
        "```bash\n",
        "black-green-red-white-yellow\n",
        "```"
      ]
    },
    {
      "cell_type": "code",
      "execution_count": 11,
      "metadata": {
        "id": "AAts2m5zGwiQ"
      },
      "outputs": [
        {
          "name": "stdout",
          "output_type": "stream",
          "text": [
            "black-green-red-white-yellow\n"
          ]
        }
      ],
      "source": [
        "s = 'green-red-yellow-black-white'\n",
        "\n",
        "def sort_string(a):\n",
        "    l = a.split(sep='-')\n",
        "    return l\n",
        "\n",
        "a = sort_string(s)\n",
        "a.sort()\n",
        "print('-'.join(a))"
      ]
    },
    {
      "cell_type": "markdown",
      "metadata": {
        "id": "IRGH62S7Gx_n"
      },
      "source": [
        "### **`Problem 3:`** Write a Python function that accepts a string and calculate the number of upper case letters and lower case letters.\n",
        "\n",
        "```\n",
        "Sample String : 'CampusX is an Online Mentorship Program fOr EnginEering studentS.'\n",
        "Expected Output :\n",
        "No. of Upper case characters :  9\n",
        "No. of Lower case Characters :  47\n",
        "```"
      ]
    },
    {
      "cell_type": "code",
      "execution_count": 18,
      "metadata": {
        "id": "OaUrD8vVG5o8"
      },
      "outputs": [
        {
          "name": "stdout",
          "output_type": "stream",
          "text": [
            "No. of Upper case Character: 9\n",
            "No. of Lower case Character: 47\n"
          ]
        }
      ],
      "source": [
        "sample_string = 'CampusX is an Online Mentorship Program fOr EnginEering studentS.'\n",
        "\n",
        "def count_number(s):\n",
        "    l = [0,0]\n",
        "    for char in s:\n",
        "        if char.isupper():\n",
        "            l[0] += 1\n",
        "        elif char.islower():\n",
        "            l[1] += 1\n",
        "        else:\n",
        "            continue\n",
        "    \n",
        "    return l\n",
        "\n",
        "s = count_number(sample_string)\n",
        "print(f'No. of Upper case Character: {s[0]}')   \n",
        "print(f'No. of Lower case Character: {s[1]}')   "
      ]
    },
    {
      "cell_type": "markdown",
      "metadata": {
        "id": "V1BFFdYQG7Sn"
      },
      "source": [
        "### **`Problem 4:`** Write a Python program to print the even numbers from a given list.\n",
        "```\n",
        "Sample List : [1, 2, 3, 4, 5, 6, 7, 8, 9]\n",
        "Expected Result : [2, 4, 6, 8]\n",
        "```"
      ]
    },
    {
      "cell_type": "code",
      "execution_count": 20,
      "metadata": {
        "id": "VvAReLoDG_Z3"
      },
      "outputs": [
        {
          "data": {
            "text/plain": [
              "[2, 4, 6, 8]"
            ]
          },
          "execution_count": 20,
          "metadata": {},
          "output_type": "execute_result"
        }
      ],
      "source": [
        "l = [1, 2, 3, 4, 5, 6, 7, 8, 9]\n",
        "\n",
        "list(filter(lambda x:x%2 == 0,l))"
      ]
    },
    {
      "cell_type": "markdown",
      "metadata": {
        "id": "qrK39Gn-HHb4"
      },
      "source": [
        "### **`Problem 5:`** Write a Python function to check whether a number is perfect or not.\n",
        "\n",
        "A Perfect number is a number that is half the sum of all of its positive divisors (including itself).\n",
        "\n",
        "Example :\n",
        "\n",
        "```\n",
        "The first perfect number is 6, because 1, 2, and 3 are its proper positive divisors, and 1 + 2 + 3 = 6.\n",
        "Equivalently, the number 6 is equal to half the sum of all its positive divisors: ( 1 + 2 + 3 + 6 ) / 2 = 6.\n",
        "\n",
        "The next perfect number is 28 = 1 + 2 + 4 + 7 + 14. This is followed by the perfect numbers 496 and 8128.\n",
        "```\n"
      ]
    },
    {
      "cell_type": "code",
      "execution_count": null,
      "metadata": {
        "id": "P-OI7H78HICs"
      },
      "outputs": [
        {
          "name": "stdout",
          "output_type": "stream",
          "text": [
            "[6, 28, 496, 8128]\n"
          ]
        }
      ],
      "source": [
        "import functools\n",
        "def divisable(args):\n",
        "    z = []\n",
        "    for item in range(1,args+1):\n",
        "        x = []\n",
        "        for i in range(1,item):\n",
        "            if item%i == 0:\n",
        "                x.append(i)\n",
        "        x.append(item)  \n",
        "        \n",
        "        y = functools.reduce(lambda x,y: x+y,x)\n",
        "        \n",
        "        if y/2 == item :\n",
        "            z.append(item)\n",
        "        else: \n",
        "            continue\n",
        "    return z\n",
        "z = divisable(10000)\n",
        "print(z)"
      ]
    },
    {
      "cell_type": "markdown",
      "metadata": {
        "id": "oZdpcG77HO-6"
      },
      "source": [
        "### **`Problem-6:`** Write a Python function to concatenate any no of dictionaries to create a new one.\n",
        "\n",
        "```\n",
        "Sample Dictionary :\n",
        "dic1={1:10, 2:20}\n",
        "dic2={3:30, 4:40}\n",
        "dic3={5:50,6:60}\n",
        "Expected Result : {1: 10, 2: 20, 3: 30, 4: 40, 5: 50, 6: 60}\n",
        "```"
      ]
    },
    {
      "cell_type": "code",
      "execution_count": 94,
      "metadata": {
        "id": "LQgfAY4ZHPhj"
      },
      "outputs": [
        {
          "name": "stdout",
          "output_type": "stream",
          "text": [
            "{1: 10, 2: 20, 3: 30, 4: 40, 5: 50, 6: 60, 7: 50, 8: 60}\n"
          ]
        }
      ],
      "source": [
        "dic1={1:10, 2:20}\n",
        "dic2={3:30, 4:40}\n",
        "dic3={5:50,6:60}\n",
        "dic4={7:50,8:60}\n",
        "\n",
        "def concate_dict(*args):\n",
        "    out_put = {}\n",
        "    for item in args:\n",
        "        out_put.update(item)\n",
        "        \n",
        "    return out_put\n",
        "\n",
        "z = concate_dict(dic1,dic2,dic3,dic4)\n",
        "print(z)"
      ]
    },
    {
      "cell_type": "markdown",
      "metadata": {
        "id": "jQ6SzbCkHRd0"
      },
      "source": [
        "`Problem-7` Write a python function that accepts a string as input and returns the word with most occurence.\n",
        "\n",
        "```\n",
        "Input:\n",
        "hello how are you i am fine thank you\n",
        "```\n",
        "\n",
        "```\n",
        "Output\n",
        "you -> 2\n",
        "```"
      ]
    },
    {
      "cell_type": "code",
      "execution_count": 106,
      "metadata": {
        "id": "Lh04JHLzIW7Z"
      },
      "outputs": [
        {
          "name": "stdout",
          "output_type": "stream",
          "text": [
            "4 hello\n"
          ]
        }
      ],
      "source": [
        "string = 'hello hello hello hello are you i am fine thank you I am fine what are you doing here I'\n",
        "string_list = string.split(\" \")\n",
        "unique = list(set(string_list))\n",
        "\n",
        "\n",
        "def count_word(string_list,unique):\n",
        "    dic = {}\n",
        "    for item in unique:\n",
        "        dic[item] = 0\n",
        "        for word in string_list:\n",
        "            if word == item:\n",
        "                dic[item] += 1\n",
        "            else:\n",
        "                continue\n",
        "    return dic\n",
        "\n",
        "def maximum(dictionary):\n",
        "    max_val = 0\n",
        "    max_key = ''\n",
        "    for item in dictionary:\n",
        "        if dictionary[item] > max_val:\n",
        "            max_val = dictionary[item]\n",
        "            max_key = item\n",
        "    \n",
        "    return max_val,max_key\n",
        "x,y = maximum(count_word(string_list,unique))\n",
        "\n",
        "print(x,y)\n",
        "\n",
        "                "
      ]
    },
    {
      "cell_type": "code",
      "execution_count": 100,
      "metadata": {},
      "outputs": [
        {
          "name": "stdout",
          "output_type": "stream",
          "text": [
            "you -> 3\n"
          ]
        }
      ],
      "source": [
        "string = 'hello how are you i am fine thank you I am fine what are you doing here I'\n",
        "\n",
        "def most_unique(s):\n",
        "    d = {}\n",
        "    for i in s.split():\n",
        "        if i in d:\n",
        "            d[i] +=1\n",
        "        else:\n",
        "            d[i] = 1\n",
        "            \n",
        "    return d\n",
        "\n",
        "x = most_unique(string)\n",
        "str_max = max(x.values())\n",
        "\n",
        "for item in x:\n",
        "    if x[item] == str_max:\n",
        "        print(item, \"->\",x[item])\n",
        "        break\n",
        "    \n"
      ]
    },
    {
      "cell_type": "markdown",
      "metadata": {
        "id": "1r8SpVntI-IW"
      },
      "source": [
        "`Problem-8` Write a python function that receives a list of integers and prints out a histogram of bin size 10\n",
        "\n",
        "```\n",
        "Input:\n",
        "[13,42,15,37,22,39,41,50]\n",
        "```\n",
        "\n",
        "```\n",
        "Output:\n",
        "{11-20:2,21-30:1,31-40:2,41-50:3}\n",
        "```"
      ]
    },
    {
      "cell_type": "code",
      "execution_count": null,
      "metadata": {
        "id": "7W0J8rUjJovg"
      },
      "outputs": [
        {
          "ename": "TypeError",
          "evalue": "'str' object cannot be interpreted as an integer",
          "output_type": "error",
          "traceback": [
            "\u001b[1;31m---------------------------------------------------------------------------\u001b[0m",
            "\u001b[1;31mTypeError\u001b[0m                                 Traceback (most recent call last)",
            "Cell \u001b[1;32mIn[33], line 24\u001b[0m\n\u001b[0;32m     20\u001b[0m     \u001b[38;5;28;01mreturn\u001b[39;00m \u001b[38;5;28mdict\u001b[39m\n\u001b[0;32m     23\u001b[0m L \u001b[38;5;241m=\u001b[39m [\u001b[38;5;241m1\u001b[39m,\u001b[38;5;241m42\u001b[39m,\u001b[38;5;241m15\u001b[39m,\u001b[38;5;241m37\u001b[39m,\u001b[38;5;241m22\u001b[39m,\u001b[38;5;241m39\u001b[39m,\u001b[38;5;241m41\u001b[39m,\u001b[38;5;241m50\u001b[39m]\n\u001b[1;32m---> 24\u001b[0m x \u001b[38;5;241m=\u001b[39m Histogram(L)   \n\u001b[0;32m     25\u001b[0m \u001b[38;5;28mprint\u001b[39m(x)\n",
            "Cell \u001b[1;32mIn[33], line 17\u001b[0m, in \u001b[0;36mHistogram\u001b[1;34m(l)\u001b[0m\n\u001b[0;32m     15\u001b[0m \u001b[38;5;28;01mfor\u001b[39;00m item \u001b[38;5;129;01min\u001b[39;00m l:\n\u001b[0;32m     16\u001b[0m     \u001b[38;5;28;01mfor\u001b[39;00m keys \u001b[38;5;129;01min\u001b[39;00m \u001b[38;5;28mdict\u001b[39m:\n\u001b[1;32m---> 17\u001b[0m         \u001b[38;5;28;01mif\u001b[39;00m item \u001b[38;5;129;01min\u001b[39;00m \u001b[38;5;28mrange\u001b[39m(keys):\n\u001b[0;32m     18\u001b[0m             \u001b[38;5;28mdict\u001b[39m[keys] \u001b[38;5;241m+\u001b[39m\u001b[38;5;241m=\u001b[39m \u001b[38;5;241m1\u001b[39m\n\u001b[0;32m     20\u001b[0m \u001b[38;5;28;01mreturn\u001b[39;00m \u001b[38;5;28mdict\u001b[39m\n",
            "\u001b[1;31mTypeError\u001b[0m: 'str' object cannot be interpreted as an integer"
          ]
        }
      ],
      "source": [
        "# def Histogram(l):\n",
        "#     l.sort()\n",
        "#     min_number = min(L)\n",
        "#     lower_bin = (min_number//10)\n",
        "#     max_number = max(L)\n",
        "#     higher_bin = (max_number//10)\n",
        "#     dict = {}\n",
        "    \n",
        "#     for item in range(0,higher_bin):\n",
        "#         if item == 0:\n",
        "#             dict[f'{item} - {10*(item+1)}'] = 0\n",
        "#         else:\n",
        "#             dict[f'{item*10 + 1} - {10*(item+1)}'] = 0\n",
        "        \n",
        "#     for item in l:\n",
        "#         for keys in dict:\n",
        "#             if item in range(int(keys[0])):\n",
        "#                 dict[keys] += 1\n",
        "                \n",
        "#     return dict\n",
        "        \n",
        "    \n",
        "# L = [1,42,15,37,22,39,41,50]\n",
        "# x = Histogram(L)   \n",
        "# print(x)"
      ]
    },
    {
      "cell_type": "code",
      "execution_count": null,
      "metadata": {},
      "outputs": [
        {
          "name": "stdout",
          "output_type": "stream",
          "text": [
            "{'11 20': 1, '21 30': 1, '31 40': 2, '41 50': 3}\n"
          ]
        }
      ],
      "source": [
        "import math\n",
        "\n",
        "def Histogram(L):\n",
        "    min_bin = math.floor(min(L)/10)*10\n",
        "    max_bin = math.ceil(max(L)/10)*10\n",
        "\n",
        "    d = {}\n",
        "\n",
        "    for i in range(min_bin,max_bin,10):\n",
        "        count = 0\n",
        "        \n",
        "        for j in L:\n",
        "            if i+1 <= j<= i+10:\n",
        "                count += 1\n",
        "        \n",
        "        d[str(i+1) + ' ' + str(i+10)] = count\n",
        "        \n",
        "    return d\n",
        "\n",
        "L = [42,15,37,22,39,41,50]\n",
        "x = Histogram(L)\n",
        "print(x)\n"
      ]
    },
    {
      "cell_type": "markdown",
      "metadata": {
        "id": "1P2-rbgXKE53"
      },
      "source": [
        "`Problem-9` Write a python function that accepts a list of 2D co-ordinates and a query point, and then finds the the co-ordinate which is closest in terms of distance from the query point.\n",
        "\n",
        "```\n",
        "List of Coordinates\n",
        "[(1,1),(2,2),(3,3),(4,4)]\n",
        "Query Point\n",
        "(0,0)\n",
        "```\n",
        "\n",
        "```\n",
        "Output\n",
        "Nearest to (0,0) is (1,1)\n",
        "```"
      ]
    },
    {
      "cell_type": "code",
      "execution_count": 104,
      "metadata": {
        "id": "zjn7vSTIJ81G"
      },
      "outputs": [
        {
          "name": "stdout",
          "output_type": "stream",
          "text": [
            "Enter your Cordinate Point\n",
            "[(1, 0), (2, 3)]\n",
            "Enter your Query Point\n",
            "(0, 0)\n",
            "Nearest to (0, 0) is (1, 0)\n"
          ]
        }
      ],
      "source": [
        "print(\"Enter your Cordinate Point\")   \n",
        "i = int(input(\"Enter number of Cordinates Points: \"))\n",
        "L = []\n",
        "for item in range(0,i):\n",
        "    L.append(((int(input(\"X: \"))), (int(input(\"Y: \")))))\n",
        "\n",
        "print(L)\n",
        "    \n",
        "print(\"Enter your Query Point\")    \n",
        "Q = (((int(input(\"X: \"))), (int(input(\"Y: \")))))\n",
        "print(Q)\n",
        "\n",
        "def distance(l,q):\n",
        "    min_key = 0\n",
        "    d = {}\n",
        "    distance = 0\n",
        "    for item in l:\n",
        "        distance = ((item[0]-q[0])**2 + (item[1]-q[1])**2)**0.5\n",
        "        d[item] = distance\n",
        "    \n",
        "    return d\n",
        "\n",
        "d = distance(L,Q)\n",
        "dis_min = min(d.values())\n",
        "\n",
        "for item in d:\n",
        "    if d[item] == dis_min:\n",
        "        print(f'Nearest to {Q} is {item}')\n",
        "        break\n",
        " "
      ]
    },
    {
      "cell_type": "code",
      "execution_count": 118,
      "metadata": {},
      "outputs": [
        {
          "name": "stdout",
          "output_type": "stream",
          "text": [
            "(1, 0)\n"
          ]
        }
      ],
      "source": [
        "p = [(1,0),(2,0),(3,9)]\n",
        "q = (0,0)\n",
        "def min_point(p,q):\n",
        "    d = []\n",
        "    for item in p:\n",
        "        distance = ((item[0]-q[0])**2 + (item[1]-q[1])**2)**0.5\n",
        "        d.append(distance)\n",
        "        \n",
        "    return p[sorted(list(enumerate(d)),key = lambda x: x[1])[0][0]] \n",
        " \n",
        "print(min_point(p,q))"
      ]
    },
    {
      "cell_type": "markdown",
      "metadata": {
        "id": "i-B6igmyK9hB"
      },
      "source": [
        "`Problem-10`:Write a python program that receives a list of strings and performs bag of word operation on those strings\n",
        "\n",
        "https://en.wikipedia.org/wiki/Bag-of-words_model"
      ]
    },
    {
      "cell_type": "code",
      "execution_count": 121,
      "metadata": {
        "id": "N2l1_AWULT-z"
      },
      "outputs": [
        {
          "name": "stdout",
          "output_type": "stream",
          "text": [
            "{'mat', 'cat', 'sat', 'fat', 'pat', 'rat', 'bat'}\n"
          ]
        },
        {
          "data": {
            "text/plain": [
              "[[1, 2, 0, 0, 0, 1, 0], [0, 1, 1, 1, 0, 1, 1], [1, 1, 0, 0, 1, 1, 0]]"
            ]
          },
          "execution_count": 121,
          "metadata": {},
          "output_type": "execute_result"
        }
      ],
      "source": [
        "# Write code here\n",
        "\n",
        "def bow(L):\n",
        "\n",
        "  vocab = set()\n",
        "\n",
        "  for i in L:\n",
        "    vocab.update(i.split())\n",
        "\n",
        "  result = []\n",
        "\n",
        "  for i in L:\n",
        "    result.append([])\n",
        "    for j in vocab:\n",
        "      result[-1].append(i.count(j))\n",
        "\n",
        "  print(vocab)\n",
        "  return result\n",
        "\n",
        "\n",
        "L = [\n",
        "    'cat mat rat cat',\n",
        "     'sat bat fat cat rat',\n",
        "     'pat cat mat rat'\n",
        "]\n",
        "\n",
        "bow(L)\n",
        "\n",
        "\n"
      ]
    },
    {
      "cell_type": "markdown",
      "metadata": {
        "id": "dHTRKb-DqMLw"
      },
      "source": [
        "###`Problem 11:` Write a Python program to add three given lists using Python map and lambda."
      ]
    },
    {
      "cell_type": "code",
      "execution_count": 122,
      "metadata": {
        "id": "NfJdzyNZqNW-"
      },
      "outputs": [
        {
          "data": {
            "text/plain": [
              "[3, 6, 9, 13]"
            ]
          },
          "execution_count": 122,
          "metadata": {},
          "output_type": "execute_result"
        }
      ],
      "source": [
        "l1 = [1,2,3,4]\n",
        "l2 = [1,2,3,4]\n",
        "l3 = [1,2,3,5]\n",
        "\n",
        "# l4 = l1 + l2 + \n",
        "\n",
        "list(map(lambda x,y,z:x+y+z, l1,l2,l3))"
      ]
    },
    {
      "cell_type": "markdown",
      "metadata": {
        "id": "MgHP7mbUqO8l"
      },
      "source": [
        "###`Problem-12:`Write a Python program to create a list containing the power of said number in bases raised to the corresponding number in the index using Python map.\n",
        "`Input:`\n",
        "```\n",
        "list1 = [1,2,3,4,5,6]\n",
        "```\n",
        "`Output:`\n",
        "```\n",
        "[1,2,9,64,625,-]\n",
        "```\n"
      ]
    },
    {
      "cell_type": "code",
      "execution_count": 125,
      "metadata": {
        "id": "gG3Dc6N3qbvN"
      },
      "outputs": [
        {
          "name": "stdout",
          "output_type": "stream",
          "text": [
            "[1, 2, 9, 64, 625, 7776]\n"
          ]
        }
      ],
      "source": [
        "l = [1,2,3,4,5,6]\n",
        "p = 3\n",
        "l4 = []\n",
        "\n",
        "l4 = map(lambda x,y : x**y,l,range(len(l)))\n",
        "print(list(l4))"
      ]
    },
    {
      "cell_type": "markdown",
      "metadata": {
        "id": "G26SYq6vqdLN"
      },
      "source": [
        "###`Problem-13` Using filter() and list() functions and .lower() method filter all the vowels in a given string.\n",
        "\n"
      ]
    },
    {
      "cell_type": "code",
      "execution_count": 128,
      "metadata": {
        "id": "zurga3DIqmEx"
      },
      "outputs": [
        {
          "name": "stdout",
          "output_type": "stream",
          "text": [
            "['a', 'I']\n"
          ]
        }
      ],
      "source": [
        "v = 'aeiou'\n",
        "s = input(\"Enter your String\")\n",
        "\n",
        "x = list(filter(lambda x : True if x.lower() in v and x != \" \" else False,s))\n",
        "# y = []\n",
        "# for item in x:\n",
        "#     if item == \" \":\n",
        "#         pass\n",
        "#     else:\n",
        "#         y.append(item)\n",
        "        \n",
        "print(x)"
      ]
    },
    {
      "cell_type": "markdown",
      "metadata": {
        "id": "uQrsunZSqoYu"
      },
      "source": [
        "`Problem-14`: Use reduce to convert a 2D list to 1D"
      ]
    },
    {
      "cell_type": "code",
      "execution_count": 86,
      "metadata": {
        "id": "E1YUwnfgqnka"
      },
      "outputs": [
        {
          "name": "stdout",
          "output_type": "stream",
          "text": [
            "[1, 2, 3, 4]\n"
          ]
        }
      ],
      "source": [
        "x = [[1,2],[3,4]]\n",
        "y = []\n",
        "for item in x:\n",
        "    for value in item:\n",
        "        y.append(value)\n",
        "        \n",
        "print(y)"
      ]
    },
    {
      "cell_type": "markdown",
      "metadata": {
        "id": "8-DLQEawt-_t"
      },
      "source": [
        "`Problem 15`- A dictionary contains following information about 5 employees:\n",
        "- First name\n",
        "- Last name\n",
        "- Age\n",
        "- Grade(Skilled,Semi-skilled,Highly skilled)<br>\n",
        "Write a program using map/filter/reduce to a list of employees(first name + last name) who are highly skilled"
      ]
    },
    {
      "cell_type": "code",
      "execution_count": 88,
      "metadata": {
        "id": "OLvptttLs6OU"
      },
      "outputs": [],
      "source": [
        "# Write code here\n",
        "employees = [\n",
        "    {\n",
        "        'fname':'Nitish',\n",
        "        'lname':'Singh',\n",
        "        'age' : 33,\n",
        "        'grade':'skilled'\n",
        "    },\n",
        "    {\n",
        "        'fname':'Ankit',\n",
        "        'lname':'Verma',\n",
        "        'age' : 34,\n",
        "        'grade':'semi-skilled'\n",
        "    },\n",
        "    {\n",
        "        'fname':'Neha',\n",
        "        'lname':'Singh',\n",
        "        'age' : 35,\n",
        "        'grade':'highly-skilled'\n",
        "    },\n",
        "    {\n",
        "        'fname':'Anurag',\n",
        "        'lname':'Kumar',\n",
        "        'age' : 30,\n",
        "        'grade':'skilled'\n",
        "    },\n",
        "    {\n",
        "        'fname':'Abhinav',\n",
        "        'lname':'Sharma',\n",
        "        'age' : 37,\n",
        "        'grade':'highly-skilled'\n",
        "    }\n",
        "\n",
        "]"
      ]
    },
    {
      "cell_type": "code",
      "execution_count": null,
      "metadata": {},
      "outputs": [
        {
          "data": {
            "text/plain": [
              "[{'fname': 'Neha', 'lname': 'Singh', 'age': 35, 'grade': 'highly-skilled'},\n",
              " {'fname': 'Abhinav', 'lname': 'Sharma', 'age': 37, 'grade': 'highly-skilled'}]"
            ]
          },
          "execution_count": 90,
          "metadata": {},
          "output_type": "execute_result"
        }
      ],
      "source": [
        "list(filter(lambda x:True if x['grade'] == 'highly-skilled' else False,employees))"
      ]
    },
    {
      "cell_type": "code",
      "execution_count": null,
      "metadata": {
        "colab": {
          "base_uri": "https://localhost:8080/"
        },
        "id": "vLX0FAQkui3y",
        "outputId": "e7d50543-c30e-4a20-c793-756f5a435df7"
      },
      "outputs": [
        {
          "data": {
            "text/plain": [
              "['Neha Singh', 'Abhinav Sharma']"
            ]
          },
          "execution_count": 89,
          "metadata": {},
          "output_type": "execute_result"
        }
      ],
      "source": [
        "list(map(lambda x:x['fname'] + ' ' + x['lname'],list(filter(lambda x:True if x['grade'] == 'highly-skilled' else False,employees))))"
      ]
    },
    {
      "cell_type": "code",
      "execution_count": null,
      "metadata": {
        "id": "ldMjGfkgAMr9"
      },
      "outputs": [],
      "source": []
    }
  ],
  "metadata": {
    "colab": {
      "provenance": []
    },
    "kernelspec": {
      "display_name": "Machinelearning_new",
      "language": "python",
      "name": "python3"
    },
    "language_info": {
      "codemirror_mode": {
        "name": "ipython",
        "version": 3
      },
      "file_extension": ".py",
      "mimetype": "text/x-python",
      "name": "python",
      "nbconvert_exporter": "python",
      "pygments_lexer": "ipython3",
      "version": "3.11.11"
    }
  },
  "nbformat": 4,
  "nbformat_minor": 0
}
