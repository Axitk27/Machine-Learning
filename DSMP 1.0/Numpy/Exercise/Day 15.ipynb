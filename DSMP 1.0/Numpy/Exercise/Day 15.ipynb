{
  "cells": [
    {
      "cell_type": "markdown",
      "metadata": {
        "id": "J88qfqQEk_sT"
      },
      "source": [
        "###`Q-1:` Create a random 3x4 matrix with value between 0-100. And perform below tasks\n",
        "\n",
        "    i. Sort this matrix. np.sort()\n",
        "    ii. Sort this matrix based on values in 2nd column.\n",
        "    iii. Sort this matrix based on max value in each row.\n",
        "    iv. Sort based on elements value.\n"
      ]
    },
    {
      "cell_type": "code",
      "execution_count": 2,
      "metadata": {},
      "outputs": [],
      "source": [
        "import numpy as np"
      ]
    },
    {
      "cell_type": "markdown",
      "metadata": {
        "id": "xpOwOdhqlE9R"
      },
      "source": [
        "See examples:\n",
        "```\n",
        "arr =\n",
        "    [[92 90 74]\n",
        "    [ 6 63 93]\n",
        "    [15 93 96]\n",
        "    [70 60 48]]\n",
        "```\n",
        "```\n",
        "i. np.sort\n",
        "[[74 90 92]\n",
        " [ 6 63 93]\n",
        " [15 93 96]\n",
        " [48 60 70]]\n",
        "\n",
        "ii. based on 2nd column\n",
        "[[70 60 48]\n",
        " [ 6 63 93]\n",
        " [92 90 74]\n",
        " [15 93 96]]\n",
        "\n",
        "iii. based on row max- ascending\n",
        "[[15 93 96]\n",
        " [ 6 63 93]\n",
        " [92 90 74]\n",
        " [70 60 48]]\n",
        "\n",
        "iv. based on elements value\n",
        "[[ 6 15 48]\n",
        " [60 63 70]\n",
        " [74 90 92]\n",
        " [93 93 96]]\n",
        "\n",
        "```"
      ]
    },
    {
      "cell_type": "code",
      "execution_count": 75,
      "metadata": {
        "id": "Auy-guUwlALv"
      },
      "outputs": [
        {
          "data": {
            "text/plain": [
              "array([[21, 90, 57],\n",
              "       [55, 33, 46],\n",
              "       [51, 77, 37],\n",
              "       [76, 20, 14]], dtype=int32)"
            ]
          },
          "execution_count": 75,
          "metadata": {},
          "output_type": "execute_result"
        }
      ],
      "source": [
        "x = np.random.randint(0,100,12).reshape(4,3)\n",
        "x"
      ]
    },
    {
      "cell_type": "code",
      "execution_count": 69,
      "metadata": {},
      "outputs": [
        {
          "data": {
            "text/plain": [
              "array([[21, 32, 36],\n",
              "       [ 6, 40, 98],\n",
              "       [20, 20, 54],\n",
              "       [34, 57, 72]], dtype=int32)"
            ]
          },
          "execution_count": 69,
          "metadata": {},
          "output_type": "execute_result"
        }
      ],
      "source": [
        "np.sort(x,axis = 1) #row vise"
      ]
    },
    {
      "cell_type": "code",
      "execution_count": 70,
      "metadata": {},
      "outputs": [
        {
          "data": {
            "text/plain": [
              "array([[54, 20, 20],\n",
              "       [32, 21, 36],\n",
              "       [72, 34, 57],\n",
              "       [ 6, 98, 40]], dtype=int32)"
            ]
          },
          "execution_count": 70,
          "metadata": {},
          "output_type": "execute_result"
        }
      ],
      "source": [
        "x[x[:, 1].argsort()]"
      ]
    },
    {
      "cell_type": "code",
      "execution_count": 76,
      "metadata": {},
      "outputs": [
        {
          "data": {
            "text/plain": [
              "array([[55, 33, 46],\n",
              "       [76, 20, 14],\n",
              "       [51, 77, 37],\n",
              "       [21, 90, 57]], dtype=int32)"
            ]
          },
          "execution_count": 76,
          "metadata": {},
          "output_type": "execute_result"
        }
      ],
      "source": [
        "np.array(sorted(x,key =lambda x : np.max(x)))"
      ]
    },
    {
      "cell_type": "code",
      "execution_count": 78,
      "metadata": {},
      "outputs": [
        {
          "data": {
            "text/plain": [
              "array([[14, 20, 21],\n",
              "       [33, 37, 46],\n",
              "       [51, 55, 57],\n",
              "       [76, 77, 90]], dtype=int32)"
            ]
          },
          "execution_count": 78,
          "metadata": {},
          "output_type": "execute_result"
        }
      ],
      "source": [
        "np.sort(x,axis = None).reshape(4,3)"
      ]
    },
    {
      "cell_type": "markdown",
      "metadata": {
        "id": "Jx_I3gx9lBay"
      },
      "source": [
        "###`Q-2:` There is an array of marks of 5 students in 4 subjects. Further you are asked to perform below task.\n",
        "    i. Add marks every student of an extra subject in the same array.\n",
        "    ii. Add two new students marks in respective 5 subjects.(one subject added in above task)\n",
        "    iii. Add extra column with sum of all subjects(5-subjects) marks\n",
        "    iv. Sort the array(non-ascending order) on total marks column--one added in above task. Show top 2 rows.\n",
        "\n",
        "Note: Change dimension of arrays during concatenation or appending if required."
      ]
    },
    {
      "cell_type": "markdown",
      "metadata": {
        "id": "lXF-CE6ylNIw"
      },
      "source": [
        "Given Array-\n",
        "```\n",
        "marks = [[13, 10,  9, 33],\n",
        "       [63, 46, 90, 42],\n",
        "       [39, 76, 13, 29],\n",
        "       [82,  9, 29, 78],\n",
        "       [67, 61, 59, 36]]\n",
        "\n",
        "extra_subject = [41, 87, 72, 36, 92]\n",
        "#Two extra students record-\n",
        "rec1 = [77, 83, 98, 95, 89]\n",
        "rec2 = [92, 71, 52, 61, 53]\n",
        "```"
      ]
    },
    {
      "cell_type": "code",
      "execution_count": 94,
      "metadata": {
        "id": "7YKsWO2olMkq"
      },
      "outputs": [
        {
          "data": {
            "text/plain": [
              "array([[ 13,  10,   9,  33,  41, 106],\n",
              "       [ 39,  76,  13,  29,  72, 229],\n",
              "       [ 82,   9,  29,  78,  36, 234],\n",
              "       [ 67,  61,  59,  36,  92, 315],\n",
              "       [ 63,  46,  90,  42,  87, 328],\n",
              "       [ 92,  71,  52,  61,  53, 329],\n",
              "       [ 77,  83,  98,  95,  89, 442]])"
            ]
          },
          "execution_count": 94,
          "metadata": {},
          "output_type": "execute_result"
        }
      ],
      "source": [
        "marks = np.array([[13, 10,  9, 33],\n",
        "       [63, 46, 90, 42],\n",
        "       [39, 76, 13, 29],\n",
        "       [82,  9, 29, 78],\n",
        "       [67, 61, 59, 36]])\n",
        "\n",
        "extra_subject = np.expand_dims(np.array([41, 87, 72, 36, 92]), axis = 1)\n",
        "x = np.concatenate((marks,extra_subject),axis = 1)\n",
        "\n",
        "rec1 = np.array([77, 83, 98, 95, 89]).reshape(1,5)\n",
        "rec2 = np.array([92, 71, 52, 61, 53]).reshape(1,5)\n",
        "marks = np.concatenate((x,rec1,rec2),axis = 0)\n",
        "\n",
        "\n",
        "sum_of_stud = marks.sum(axis = 1,keepdims = True)\n",
        "marks = np.concatenate([marks,sum_of_stud],axis = 1)\n",
        "marks\n",
        "\n",
        "marks[:, -1].argsort()\n",
        "marks[marks[:, -1].argsort()]"
      ]
    },
    {
      "cell_type": "markdown",
      "metadata": {
        "id": "VmOyK_8klRqR"
      },
      "source": [
        "###`Q-3:` Find unique arrays from a 2D array column wise and row wise.\n",
        "```\n",
        "arr = np.array([[1,2,3,3,1,1],\n",
        "                [0,9,1,2,8,8],\n",
        "                [1,2,3,8,8,8],\n",
        "                [1,2,3,3,1,1]])\n",
        "```\n",
        "Expected Result-\n",
        "```\n",
        "Row Wise\n",
        "[[0 9 1 2 8 8]\n",
        " [1 2 3 3 1 1]\n",
        " [1 2 3 8 8 8]]\n",
        "\n",
        "Col Wise\n",
        "[[1 1 2 3 3]\n",
        " [0 8 9 1 2]\n",
        " [1 8 2 3 8]\n",
        " [1 1 2 3 3]]\n",
        "```"
      ]
    },
    {
      "cell_type": "code",
      "execution_count": null,
      "metadata": {
        "id": "LJl10VQrlU5q"
      },
      "outputs": [
        {
          "data": {
            "text/plain": [
              "array([[1, 2, 3, 4, 5, 6],\n",
              "       [0, 9, 1, 2, 8, 8],\n",
              "       [1, 2, 3, 8, 8, 8],\n",
              "       [1, 2, 3, 3, 1, 1]])"
            ]
          },
          "execution_count": 3,
          "metadata": {},
          "output_type": "execute_result"
        }
      ],
      "source": [
        "arr = np.array([[1,2,3,4,5,6],\n",
        "                [0,9,1,2,8,8],\n",
        "                [1,2,3,8,8,8],\n",
        "                [1,2,3,3,1,1]])\n",
        "\n",
        "np.unique(arr,axis = 0) #Unique Rows\n",
        "np.unique(arr,axis = 1) #Unique Column"
      ]
    },
    {
      "cell_type": "markdown",
      "metadata": {
        "id": "RaXwVkywlWY2"
      },
      "source": [
        "###`Q-4:` Flip given 2-D array along both axes at the same time."
      ]
    },
    {
      "cell_type": "code",
      "execution_count": null,
      "metadata": {
        "id": "mN7-4G8Kleeq"
      },
      "outputs": [
        {
          "name": "stdout",
          "output_type": "stream",
          "text": [
            "[[ 0  1  2  3  4]\n",
            " [ 5  6  7  8  9]\n",
            " [10 11 12 13 14]\n",
            " [15 16 17 18 19]\n",
            " [20 21 22 23 24]]\n",
            "[[24 23 22 21 20]\n",
            " [19 18 17 16 15]\n",
            " [14 13 12 11 10]\n",
            " [ 9  8  7  6  5]\n",
            " [ 4  3  2  1  0]]\n"
          ]
        },
        {
          "data": {
            "text/plain": [
              "array([[24, 23, 22, 21, 20],\n",
              "       [19, 18, 17, 16, 15],\n",
              "       [14, 13, 12, 11, 10],\n",
              "       [ 9,  8,  7,  6,  5],\n",
              "       [ 4,  3,  2,  1,  0]])"
            ]
          },
          "execution_count": 106,
          "metadata": {},
          "output_type": "execute_result"
        }
      ],
      "source": [
        "arr = np.reshape(np.arange(25),(5,5))\n",
        "print(arr)\n",
        "\n",
        "print(np.flip(arr,axis= None))\n",
        "\n",
        "# np.flip(np.flip(arr,axis = 0),axis = 1)"
      ]
    },
    {
      "cell_type": "markdown",
      "metadata": {
        "id": "X0S7BUNTlfoq"
      },
      "source": [
        "### `Q-5:` Get row numbers of NumPy array having element larger than X.\n",
        "```\n",
        "arr = [[1,2,3,4,5],\n",
        "      [10,-3,30,4,5],\n",
        "      [3,2,5,-4,5],\n",
        "      [9,7,3,6,5]]\n",
        "\n",
        "X = 6\n",
        "```"
      ]
    },
    {
      "cell_type": "code",
      "execution_count": 95,
      "metadata": {
        "id": "bi8jRmWhlkBU"
      },
      "outputs": [
        {
          "data": {
            "text/plain": [
              "(array([1, 3]),)"
            ]
          },
          "execution_count": 95,
          "metadata": {},
          "output_type": "execute_result"
        }
      ],
      "source": [
        "arr = np.array([[1,6,3,4,5],\n",
        "      [10,-3,30,4,5],\n",
        "      [3,2,5,-4,5],\n",
        "      [9,7,3,6,5]])\n",
        "\n",
        "x = 6\n",
        "\n",
        "# for item in range(len(arr)):\n",
        "#     if x in arr[item]:\n",
        "#         print(item)\n",
        "        \n",
        "np.where(np.any(arr>x,axis = 1) )       "
      ]
    },
    {
      "cell_type": "markdown",
      "metadata": {
        "id": "DSCQMo4mlnDG"
      },
      "source": [
        "### `Q-6:` How to convert an array of arrays into a flat 1d array?\n"
      ]
    },
    {
      "cell_type": "code",
      "execution_count": 51,
      "metadata": {
        "id": "QZhSkUT2lsJW"
      },
      "outputs": [],
      "source": [
        "# These arrays are given.\n",
        "arr1 = np.arange(3)\n",
        "arr2 = np.arange(3,7)\n",
        "arr3 = np.arange(7,10)"
      ]
    },
    {
      "cell_type": "code",
      "execution_count": 96,
      "metadata": {
        "id": "f42OXNrFls0I"
      },
      "outputs": [
        {
          "data": {
            "text/plain": [
              "array([0, 1, 2, 3, 4, 5, 6, 7, 8, 9])"
            ]
          },
          "execution_count": 96,
          "metadata": {},
          "output_type": "execute_result"
        }
      ],
      "source": [
        "np.concatenate([arr1,arr2,arr3])"
      ]
    },
    {
      "cell_type": "markdown",
      "metadata": {
        "id": "A1J4oOVCluqO"
      },
      "source": [
        "### `Q-7:` You are given a array. You have to find the minimum and maximum array element and remove that from the array.\n",
        "\n",
        "```python\n",
        "import numpy as np\n",
        "\n",
        "np.random.seed(400)\n",
        "arr = np.random.randint(100, 1000, 200).reshape((1, 200))\n",
        "```"
      ]
    },
    {
      "cell_type": "code",
      "execution_count": null,
      "metadata": {
        "id": "c6kmgtUJlybZ"
      },
      "outputs": [
        {
          "name": "stdout",
          "output_type": "stream",
          "text": [
            "(1, 200)\n",
            "998 103\n",
            "(array([0]), array([102])) (array([0]), array([66]))\n"
          ]
        },
        {
          "data": {
            "text/plain": [
              "True"
            ]
          },
          "execution_count": 49,
          "metadata": {},
          "output_type": "execute_result"
        }
      ],
      "source": [
        "np.random.seed(400)\n",
        "arr = np.random.randint(100, 1000, 200).reshape((1, 200))\n",
        "print(arr.shape)\n",
        "print(np.max(arr),np.min(arr))\n",
        "x = np.where(arr == np.max(arr))\n",
        "y = np.where(arr == np.min(arr))\n",
        "print(x,y)\n",
        "z = np.delete(arr,[x,y],axis = 1)\n",
        "\n"
      ]
    },
    {
      "cell_type": "code",
      "execution_count": 100,
      "metadata": {},
      "outputs": [
        {
          "name": "stdout",
          "output_type": "stream",
          "text": [
            "998 103\n",
            "997 117\n"
          ]
        }
      ],
      "source": [
        "np.random.seed(400)\n",
        "arr = np.random.randint(100, 1000, 200).reshape((1, 200))\n",
        "\n",
        "max = arr.argmax()\n",
        "min = arr.argmin()\n",
        "\n",
        "print(arr.max(),arr.min())\n",
        "arr = np.delete(arr,max,axis = 1)\n",
        "arr = np.delete(arr,min,axis = 1)\n",
        "print(arr.max(),arr.min())"
      ]
    },
    {
      "cell_type": "code",
      "execution_count": 25,
      "metadata": {},
      "outputs": [
        {
          "name": "stdout",
          "output_type": "stream",
          "text": [
            "[[ 1  2  3  4]\n",
            " [ 5  6  7  8]\n",
            " [ 9 10 11 12]]\n"
          ]
        },
        {
          "data": {
            "text/plain": [
              "array([[ 9, 10, 11, 12]])"
            ]
          },
          "execution_count": 25,
          "metadata": {},
          "output_type": "execute_result"
        }
      ],
      "source": [
        "arr = np.array([[1,2,3,4], [5,6,7,8], [9,10,11,12]])\n",
        "print(arr)\n",
        "np.delete(arr, [(0,1)],axis = 0)"
      ]
    },
    {
      "cell_type": "markdown",
      "metadata": {
        "id": "0dHN1sdnl0Jy"
      },
      "source": [
        "### `Q-8:` You are given an arrays. You have to limit this array's elements between 100 to 200. $arr ∈ [100, 700]$. So replace those values accordingly with the minimum and maximum value. Then sort the array and perform the cumulative sum of that array."
      ]
    },
    {
      "cell_type": "code",
      "execution_count": 102,
      "metadata": {
        "id": "a3YF_E-Hlza7"
      },
      "outputs": [
        {
          "data": {
            "text/plain": [
              "array([[ 100,  100,  100,  100],\n",
              "       [ 200,  200,  200,  200],\n",
              "       [ 300,  303,  300,  300],\n",
              "       [ 400,  429,  400,  400],\n",
              "       [ 500,  556,  500,  558],\n",
              "       [ 600,  692,  600,  734],\n",
              "       [ 713,  837,  707,  910],\n",
              "       [ 872,  987,  835, 1088],\n",
              "       [1072, 1145,  978, 1267],\n",
              "       [1272, 1331, 1162, 1451],\n",
              "       [1472, 1523, 1350, 1651],\n",
              "       [1672, 1723, 1550, 1851],\n",
              "       [1872, 1923, 1750, 2051],\n",
              "       [2072, 2123, 1950, 2251],\n",
              "       [2272, 2323, 2150, 2451],\n",
              "       [2472, 2523, 2350, 2651],\n",
              "       [2672, 2723, 2550, 2851],\n",
              "       [2872, 2923, 2750, 3051],\n",
              "       [3072, 3123, 2950, 3251],\n",
              "       [3272, 3323, 3150, 3451],\n",
              "       [3472, 3523, 3350, 3651],\n",
              "       [3672, 3723, 3550, 3851],\n",
              "       [3872, 3923, 3750, 4051],\n",
              "       [4072, 4123, 3950, 4251],\n",
              "       [4272, 4323, 4150, 4451],\n",
              "       [4472, 4523, 4350, 4651],\n",
              "       [4672, 4723, 4550, 4851],\n",
              "       [4872, 4923, 4750, 5051],\n",
              "       [5072, 5123, 4950, 5251],\n",
              "       [5272, 5323, 5150, 5451],\n",
              "       [5472, 5523, 5350, 5651],\n",
              "       [5672, 5723, 5550, 5851],\n",
              "       [5872, 5923, 5750, 6051],\n",
              "       [6072, 6123, 5950, 6251],\n",
              "       [6272, 6323, 6150, 6451],\n",
              "       [6472, 6523, 6350, 6651],\n",
              "       [6672, 6723, 6550, 6851],\n",
              "       [6872, 6923, 6750, 7051],\n",
              "       [7072, 7123, 6950, 7251],\n",
              "       [7272, 7323, 7150, 7451],\n",
              "       [7472, 7523, 7350, 7651],\n",
              "       [7672, 7723, 7550, 7851],\n",
              "       [7872, 7923, 7750, 8051],\n",
              "       [8072, 8123, 7950, 8251],\n",
              "       [8272, 8323, 8150, 8451],\n",
              "       [8472, 8523, 8350, 8651],\n",
              "       [8672, 8723, 8550, 8851],\n",
              "       [8872, 8923, 8750, 9051],\n",
              "       [9072, 9123, 8950, 9251],\n",
              "       [9272, 9323, 9150, 9451]])"
            ]
          },
          "execution_count": 102,
          "metadata": {},
          "output_type": "execute_result"
        }
      ],
      "source": [
        "arr = np.random.randint(0, 1000, 200).reshape((50, 4))\n",
        "x = np.clip(arr,a_min = 100,a_max = 200)\n",
        "\n",
        "y = np.sort(x,axis = 0)\n",
        "\n",
        "np.cumsum(y,axis = 0)"
      ]
    },
    {
      "cell_type": "markdown",
      "metadata": {
        "id": "cXj90Susl4-I"
      },
      "source": [
        "### `Q-9:` You are given a array ($arr ∈ [0, 1]$). First you have round off the elements upto 3 decimal places and compare that\n",
        "- 0th percentile == minimum value of the array\n",
        "- 100th percentile == maximum value of the array\n",
        "- also find the difference betwen 51th percenile and 50th percentile values"
      ]
    },
    {
      "cell_type": "code",
      "execution_count": 44,
      "metadata": {
        "id": "SgBEHodgl7Lo"
      },
      "outputs": [
        {
          "name": "stdout",
          "output_type": "stream",
          "text": [
            "0.0 1.0\n",
            "0.00988\n"
          ]
        }
      ],
      "source": [
        "arr = np.linspace(0, 1, 20).reshape((5, 4))\n",
        "x = np.round(arr,decimals = 3)\n",
        "\n",
        "min = np.min(x)\n",
        "max = np.max(x)\n",
        "\n",
        "print(min,max)\n",
        "\n",
        "np.percentile(x,0) == min\n",
        "np.percentile(x,100) == max\n",
        "\n",
        "print(np.percentile(x,51)-np.percentile(x,50))"
      ]
    },
    {
      "cell_type": "code",
      "execution_count": null,
      "metadata": {},
      "outputs": [],
      "source": []
    }
  ],
  "metadata": {
    "colab": {
      "provenance": []
    },
    "kernelspec": {
      "display_name": "Machinelearning_new",
      "language": "python",
      "name": "python3"
    },
    "language_info": {
      "codemirror_mode": {
        "name": "ipython",
        "version": 3
      },
      "file_extension": ".py",
      "mimetype": "text/x-python",
      "name": "python",
      "nbconvert_exporter": "python",
      "pygments_lexer": "ipython3",
      "version": "3.11.11"
    }
  },
  "nbformat": 4,
  "nbformat_minor": 0
}
