{
  "cells": [
    {
      "cell_type": "code",
      "execution_count": null,
      "metadata": {
        "id": "PlcdriLvtyhC"
      },
      "outputs": [],
      "source": [
        "import numpy as np\n",
        "import pandas as pd\n",
        "\n",
        "# to visualize all the column, run the below code\n",
        "pd.options.display.max_columns = None\n",
        "# to show all the records, use the below code\n",
        "# pd.options.display.max_rows = None"
      ]
    },
    {
      "cell_type": "markdown",
      "metadata": {
        "id": "YZvQ-2fzt318"
      },
      "source": [
        "## Fifa Worldcup - 2022 dataset.\n",
        "\n",
        "You can find the dataset from [here](https://www.kaggle.com/datasets/sayanroy729/fifa-worldcup-2022-results).\n",
        "\n",
        "Also you can directly use an url to read the dataset by using `pd.read_csv()` method. Check the below code cell."
      ]
    },
    {
      "cell_type": "code",
      "execution_count": null,
      "metadata": {
        "id": "tGy1_cUruB4I"
      },
      "outputs": [],
      "source": [
        "# To get the details about the dataset, please visit\n",
        "# https://www.kaggle.com/datasets/sayanroy729/fifa-worldcup-2022-results\n",
        "\n",
        "url = \"https://docs.google.com/spreadsheets/d/e/2PACX-1vT3D_x_4DS6d51LKJ7ze1sxT5WpV5uiSVOFYHLwBiGru6vFyVv5h5-83AwFjxWYiWfCDjDAaarHAV-k/pub?gid=0&single=true&output=csv\"\n",
        "df = pd.read_csv(url)\n",
        "df.head()"
      ]
    },
    {
      "cell_type": "markdown",
      "metadata": {
        "id": "gTisVyJHuLB9"
      },
      "source": [
        "### `Q-1:` Use the football dataset. Find out the total percentages that each team made on target. Display the result as a python dictionary where the keys are the team list and the values are the percentage values. Round off the percentage values up to 2 decimal places.\n",
        "\n",
        "*Help:*\n",
        "- First, find out how many total teams are participated in this worldcup. For that, you can use `unique()` method on the column \"Team\" or \"Against\".\n",
        "- Loop through the teams list that you have found in previous section, and then filter the dataset according to that. After filtering the dataset, find out total attempts sum and total on target sum.\n",
        "- After getting these values, find out the percentage by total on target divided by total attempts and multiply by 100. And store to a python dictionary where the key will be the team name and the values will be the percentages.\n",
        "- At the end,sort the dictionary by the values (not by the keys) and print the result.\n"
      ]
    },
    {
      "cell_type": "markdown",
      "metadata": {
        "id": "8myJwFm_uOy6"
      },
      "source": [
        "\n",
        "**Sample Output:**\n",
        "```bash\n",
        "{'Costa Rica': 54.55,\n",
        " 'Cameroon': 51.85,\n",
        " 'Ecuador': 48.15,\n",
        " 'Argentina': 46.99,\n",
        " 'Brazil': 45.56,\n",
        " 'England': 45.0,\n",
        " 'Portugal': 40.32,\n",
        " 'Ghana': 40.0,\n",
        " 'Netherlands': 39.02,\n",
        " 'Korea Republic': 36.73,\n",
        " 'Australia': 36.0,\n",
        " 'Mexico': 34.88,\n",
        " 'Croatia': 34.78,\n",
        " 'Germany': 34.33,\n",
        " 'France': 32.97,\n",
        " 'Spain': 32.69,\n",
        " 'Belgium': 32.35,\n",
        " 'Serbia': 32.26,\n",
        " 'Iran': 31.43,\n",
        " 'Uruguay': 31.25,\n",
        " 'United States': 31.11,\n",
        " 'Saudi Arabia': 31.03,\n",
        " 'Senegal': 30.77,\n",
        " 'Denmark': 30.56,\n",
        " 'Switzerland': 30.56,\n",
        " 'Japan': 30.23,\n",
        " 'Wales': 29.17,\n",
        " 'Qatar': 28.57,\n",
        " 'Morocco': 28.3,\n",
        " 'Tunisia': 26.67,\n",
        " 'Poland': 25.0,\n",
        " 'Canada': 17.65}\n",
        "```"
      ]
    },
    {
      "cell_type": "code",
      "execution_count": null,
      "metadata": {
        "id": "qwN5G6s-uH16"
      },
      "outputs": [],
      "source": [
        "total_team = df['Team'].unique()\n",
        "output = {}\n",
        "for item in total_team:\n",
        "    total_attempts = df[df['Team'] == item]['Total Attempts'].sum()\n",
        "    succeed_attempts = df[df['Team'] == item]['On Target'].sum()\n",
        "    output[item] = float(np.round(100*succeed_attempts/total_attempts,2))\n",
        "\n",
        "output = sorted(output.items(),key = lambda x : x[1],reverse = True)\n",
        "dict(output)"
      ]
    },
    {
      "cell_type": "markdown",
      "metadata": {
        "id": "AzbkiZMduTok"
      },
      "source": [
        "### `Q-2:` Find out how many times the teams are played in this Fifa Worldcup-2022. On top of this, find out the ranks of the teams.\n",
        "\n",
        "Note: The `DataFrame.rank()` method takes an optiinal parameter named `method`. This parameter takes different values, but one of them is `average` which is by-default. So, when you do the rank, you will get some 2.5 like floating values. But if you change the value as `first`, then you will get in integers but the datatype will be float. So, try with `method=\"first\"` parameter."
      ]
    },
    {
      "cell_type": "code",
      "execution_count": null,
      "metadata": {
        "id": "YJRkSElguWlL"
      },
      "outputs": [],
      "source": [
        "total_team = df['Team'].unique()\n",
        "out_played = {}\n",
        "for item in total_team:\n",
        "    match_played = df[df['Team'] == item].shape[0]\n",
        "    # print(match_played)\n",
        "    out_played[item] = match_played\n",
        "\n",
        "out_played = sorted(out_played.items(),key = lambda x : x[1],reverse = True)\n",
        "# dict(out_played)\n",
        "\n",
        "match_number = pd.DataFrame(out_played)\n",
        "match_number.rename(columns = {0:'Team name',1:'Match Played'},inplace = True)\n",
        "match_number['Rank'] = match_number['Match Played'].rank(method = 'first',ascending = False)\n",
        "match_number"
      ]
    },
    {
      "cell_type": "markdown",
      "metadata": {
        "id": "056FDiXOuYQB"
      },
      "source": [
        "### `Q-3:` Find out these below topics:\n",
        "- The information about the Fifa worldcup dataset.\n",
        "- The description about the Fifa worldcup dataset\n",
        "- Check is there any missing values, if there is any missing values, fill that value with the average value for that particular column.\n",
        "- Drop all the duplicate rows permanently.\n",
        "- Drop the columns: \"Sl No\", \"Match No.\", \"Red Cards\" and \"Pts\" permanently."
      ]
    },
    {
      "cell_type": "code",
      "execution_count": null,
      "metadata": {
        "id": "0_TE4B26uaVS"
      },
      "outputs": [],
      "source": [
        "df.isnull().sum()"
      ]
    },
    {
      "cell_type": "code",
      "execution_count": null,
      "metadata": {},
      "outputs": [],
      "source": [
        "df.drop_duplicates(inplace = True)\n",
        "df"
      ]
    },
    {
      "cell_type": "code",
      "execution_count": null,
      "metadata": {},
      "outputs": [],
      "source": [
        "df.drop(columns = ['Sl. No','Match No.','Red Cards','Pts'],inplace = True)"
      ]
    },
    {
      "cell_type": "code",
      "execution_count": null,
      "metadata": {},
      "outputs": [],
      "source": [
        "df"
      ]
    },
    {
      "cell_type": "markdown",
      "metadata": {
        "id": "8R3X--kyubf4"
      },
      "source": [
        "###`Q-4:` Do these below operations:\n",
        "- Find out the rank based on the \"Team\" column and save the result by adding a new column named \"Rank\".\n",
        "- Change the datatype of this column to integer by using `np.int16`\n",
        "- Set the index of the DataFrame by using this \"Rank\" column permanently.\n",
        "- After that, sort the dataframe based on the \"Rank\" index."
      ]
    },
    {
      "cell_type": "code",
      "execution_count": null,
      "metadata": {
        "id": "l2-4scffuebD"
      },
      "outputs": [],
      "source": [
        "# print(df['Team'])\n",
        "df['Team_rank'] = df['Team'].rank(method = 'first')\n",
        "df['Team_rank']  = df['Team_rank'].astype(np.int16)\n",
        "\n",
        "df.set_index('Team_rank',inplace = True)\n",
        "df.sort_index(inplace = True)"
      ]
    },
    {
      "cell_type": "code",
      "execution_count": null,
      "metadata": {},
      "outputs": [],
      "source": [
        "df"
      ]
    },
    {
      "cell_type": "markdown",
      "metadata": {
        "id": "J7827-Onufne"
      },
      "source": [
        "## Questions on Titanic dataset.\n",
        "\n",
        "You can get the dataset from [here](https://www.kaggle.com/competitions/titanic). This is the competition page on Kaggle. To download the dataset from here, I guess you have to register for the compition. So, do so and then download the dataset.\n",
        "\n",
        "Also, for now you can use this url to read the dataset like before:\n",
        "- dataset 1: https://docs.google.com/spreadsheets/d/e/2PACX-1vQjh5HzZ1N0SU7ME9ZQRzeVTaXaGsV97rU8R7eAcg53k27GTstJp9cRUOfr55go1GRRvTz1NwvyOnuh/pub?gid=1562145139&single=true&output=csv\n",
        "- dataset 2: https://docs.google.com/spreadsheets/d/e/2PACX-1vQcPvQsSC9aNFogvbUG08nu0bGHlOclGYaOlhND_LE5Ff7ZnHQ5VYzAgpyT5XNklgiT54SsNgHePsUa/pub?gid=1656109608&single=true&output=csv"
      ]
    },
    {
      "cell_type": "markdown",
      "metadata": {
        "id": "bK8hhjGtuoPg"
      },
      "source": [
        "### `Q-5:` Do the below tasks:\n",
        "1. With dataset 1, drop those records which only have missing values of the \"Age\" column permanently.\n",
        "\n",
        "2. With the dataset 2, fill the missing values with 20 to the only \"Age\" column permanently."
      ]
    },
    {
      "cell_type": "code",
      "execution_count": null,
      "metadata": {
        "id": "OzU2N1WaujEV"
      },
      "outputs": [],
      "source": [
        "df1 = pd.read_csv('https://docs.google.com/spreadsheets/d/e/2PACX-1vQjh5HzZ1N0SU7ME9ZQRzeVTaXaGsV97rU8R7eAcg53k27GTstJp9cRUOfr55go1GRRvTz1NwvyOnuh/pub?gid=1562145139&single=true&output=csv')\n",
        "df2 = pd.read_csv('https://docs.google.com/spreadsheets/d/e/2PACX-1vQcPvQsSC9aNFogvbUG08nu0bGHlOclGYaOlhND_LE5Ff7ZnHQ5VYzAgpyT5XNklgiT54SsNgHePsUa/pub?gid=1656109608&single=true&output=csv')"
      ]
    },
    {
      "cell_type": "code",
      "execution_count": null,
      "metadata": {},
      "outputs": [],
      "source": [
        "df1.shape"
      ]
    },
    {
      "cell_type": "code",
      "execution_count": null,
      "metadata": {},
      "outputs": [],
      "source": [
        "#1  \n",
        "df1.dropna(subset=['Age'],inplace = True)"
      ]
    },
    {
      "cell_type": "code",
      "execution_count": null,
      "metadata": {},
      "outputs": [],
      "source": [
        "#2\n",
        "df1['Age'] = df1['Age'].fillna(20)"
      ]
    },
    {
      "cell_type": "code",
      "execution_count": null,
      "metadata": {},
      "outputs": [],
      "source": [
        "df1.isnull().sum()"
      ]
    },
    {
      "cell_type": "markdown",
      "metadata": {
        "id": "u_za5X6Xuy9O"
      },
      "source": [
        "## Questions on IPL wala dataset\n",
        "\n",
        "matches dataset = https://drive.google.com/file/d/1yKVUuexl6lIKuFQy7uIPgDgXhJ0L4SIg/view?usp=share_link\n",
        "\n",
        "Code to directly use in colab\n",
        "```\n",
        "ipl_matches = \"https://docs.google.com/spreadsheets/d/e/2PACX-1vRy2DUdUbaKx_Co9F0FSnIlyS-8kp4aKv_I0-qzNeghiZHAI_hw94gKG22XTxNJHMFnFVKsO4xWOdIs/pub?gid=1655759976&single=true&output=csv\"\n",
        "\n",
        "```\n",
        "\n",
        "\n"
      ]
    },
    {
      "cell_type": "markdown",
      "metadata": {
        "id": "dUT2nct2u2ET"
      },
      "source": [
        "###`Q-6:` Make a dataframe of each team in IPL with details like - Team Name, Matches Played, Win%, Home Win%, Away Win%.\n",
        "Show sorted dataframe on Win%\n",
        "\n",
        "Replace old team name as new name before performing any tasks.\n",
        "```\n",
        "Delhi Daredevils ->Delhi Capitals\n",
        "Kings XI Punjab -> Punjab Kings\n",
        "Rising Pune Supergiants -> Rising Pune Supergiant\n",
        "```\n",
        "\n",
        "Note: Team1 represents Home team. Exclude not result matches.\n"
      ]
    },
    {
      "cell_type": "code",
      "execution_count": null,
      "metadata": {
        "id": "Y_yr2BgquzeO"
      },
      "outputs": [],
      "source": [
        "import os\n",
        "os.chdir('D:\\Education\\Extra\\Machine Learning\\DSMP 1.0\\Pandas\\Exercise\\Dataset')"
      ]
    },
    {
      "cell_type": "code",
      "execution_count": null,
      "metadata": {},
      "outputs": [],
      "source": [
        "ipl = pd.read_csv('ipl-matches.csv')\n",
        "ipl.head(2)"
      ]
    },
    {
      "cell_type": "code",
      "execution_count": null,
      "metadata": {},
      "outputs": [],
      "source": [
        "changed_name = {'Delhi Daredevils':'Delhi Capitals','Kings XI Punjab':'Punjab Kings','Rising Pune Supergiants':'Rising Pune Supergiant'}\n",
        "\n",
        "for item in changed_name:\n",
        "    ipl['Team1'] = ipl['Team1'].apply(lambda x : changed_name[item] if item == x else x)\n",
        "    ipl['Team2'] = ipl['Team2'].apply(lambda x : changed_name[item] if item == x else x)\n",
        "    ipl['WinningTeam'] = ipl['WinningTeam'].apply(lambda x : changed_name[item] if item == x else x)\n",
        "\n",
        "\n",
        "team_played = ipl['Team1'].unique()\n"
      ]
    },
    {
      "cell_type": "code",
      "execution_count": null,
      "metadata": {},
      "outputs": [],
      "source": [
        "df = pd.DataFrame()\n",
        "\n",
        "df['team'] = team_played\n",
        "df.set_index('team',inplace = True)\n",
        "df['Win(%)'] = 0\n",
        "df['Home Played'] = 0\n",
        "df['Home Win'] = 0\n",
        "df['Away Played'] = 0\n",
        "df['Away Win'] = 0\n",
        "\n",
        "# #no of match played\n",
        "for item in team_played:\n",
        "    df.loc[item,'Match Played'] = ipl[(ipl['Team1'] == item) | (ipl['Team2'] == item)].shape[0]\n",
        "    df.loc[item,'Win(%)'] = ipl[ipl['WinningTeam'] == item].shape[0] \n",
        "    df.loc[item,'Home Played'] = ipl[(ipl['Team1'] == item)].shape[0]\n",
        "    df.loc[item,'Home Win'] = ipl[(ipl['Team1'] == item) & (ipl['WinningTeam'] == item)].shape[0]\n",
        "    df.loc[item,'Away Played'] = ipl[(ipl['Team2'] == item)].shape[0]\n",
        "    df.loc[item,'Away Win'] = ipl[(ipl['Team2'] == item) & (ipl['WinningTeam'] == item)].shape[0]\n",
        "\n",
        "    \n",
        "    \n",
        "df['Away Played'] = df['Away Played'].astype(np.int16)\n",
        "df['Away Win'] = df['Away Win'].astype(np.int16)\n",
        "df['Away Win(%)'] = 100*df['Away Win']/df['Away Played']\n",
        "df['Away Win(%)'] = df['Away Win(%)'].astype(np.int16)\n",
        "df['Home Win'] = df['Home Win'].astype(np.int16)\n",
        "df['Home Win(%)'] = 100*df['Home Win']/df['Home Played']\n",
        "df['Home Win(%)'] = df['Home Win(%)'].astype(np.int16)\n",
        "df['Home Played'] = df['Home Played'].astype(np.int16)\n",
        "df['Match Played'] = df['Match Played'].astype(np.int16)\n",
        "df = df.rename(columns = {'Win(%)':'Win'})\n",
        "df['Win(%)'] = 100*df['Win']/df['Match Played']\n",
        "df['Win(%)'] = df['Win(%)'].astype(np.int16)\n",
        "\n",
        "df.sort_values('Win(%)',ascending = False,inplace = True)\n"
      ]
    },
    {
      "cell_type": "code",
      "execution_count": 99,
      "metadata": {},
      "outputs": [
        {
          "data": {
            "application/vnd.microsoft.datawrangler.viewer.v0+json": {
              "columns": [
                {
                  "name": "team",
                  "rawType": "object",
                  "type": "string"
                },
                {
                  "name": "Win",
                  "rawType": "int64",
                  "type": "integer"
                },
                {
                  "name": "Home Played",
                  "rawType": "int16",
                  "type": "integer"
                },
                {
                  "name": "Home Win",
                  "rawType": "int16",
                  "type": "integer"
                },
                {
                  "name": "Away Played",
                  "rawType": "int16",
                  "type": "integer"
                },
                {
                  "name": "Away Win",
                  "rawType": "int16",
                  "type": "integer"
                },
                {
                  "name": "Match Played",
                  "rawType": "int16",
                  "type": "integer"
                },
                {
                  "name": "Away Win(%)",
                  "rawType": "int16",
                  "type": "integer"
                },
                {
                  "name": "Home Win(%)",
                  "rawType": "int16",
                  "type": "integer"
                },
                {
                  "name": "Win(%)",
                  "rawType": "int16",
                  "type": "integer"
                }
              ],
              "ref": "b469dd22-e2ff-4ba4-b784-4bd1ec1ff845",
              "rows": [
                [
                  "Gujarat Titans",
                  "12",
                  "7",
                  "4",
                  "9",
                  "8",
                  "16",
                  "88",
                  "57",
                  "75"
                ],
                [
                  "Lucknow Super Giants",
                  "9",
                  "8",
                  "7",
                  "7",
                  "2",
                  "15",
                  "28",
                  "87",
                  "60"
                ],
                [
                  "Chennai Super Kings",
                  "121",
                  "111",
                  "65",
                  "97",
                  "56",
                  "208",
                  "57",
                  "58",
                  "58"
                ],
                [
                  "Mumbai Indians",
                  "131",
                  "112",
                  "65",
                  "119",
                  "66",
                  "231",
                  "55",
                  "58",
                  "56"
                ],
                [
                  "Kolkata Knight Riders",
                  "114",
                  "105",
                  "56",
                  "118",
                  "58",
                  "223",
                  "49",
                  "53",
                  "51"
                ],
                [
                  "Rajasthan Royals",
                  "96",
                  "89",
                  "49",
                  "103",
                  "47",
                  "192",
                  "45",
                  "55",
                  "50"
                ],
                [
                  "Rising Pune Supergiant",
                  "15",
                  "14",
                  "7",
                  "16",
                  "8",
                  "30",
                  "50",
                  "50",
                  "50"
                ],
                [
                  "Sunrisers Hyderabad",
                  "75",
                  "69",
                  "36",
                  "83",
                  "39",
                  "152",
                  "46",
                  "52",
                  "49"
                ],
                [
                  "Royal Challengers Bangalore",
                  "109",
                  "126",
                  "61",
                  "100",
                  "48",
                  "226",
                  "48",
                  "48",
                  "48"
                ],
                [
                  "Punjab Kings",
                  "101",
                  "110",
                  "50",
                  "108",
                  "51",
                  "218",
                  "47",
                  "45",
                  "46"
                ],
                [
                  "Delhi Capitals",
                  "103",
                  "114",
                  "53",
                  "110",
                  "50",
                  "224",
                  "45",
                  "46",
                  "45"
                ],
                [
                  "Gujarat Lions",
                  "13",
                  "16",
                  "5",
                  "14",
                  "8",
                  "30",
                  "57",
                  "31",
                  "43"
                ],
                [
                  "Kochi Tuskers Kerala",
                  "6",
                  "7",
                  "3",
                  "7",
                  "3",
                  "14",
                  "42",
                  "42",
                  "42"
                ],
                [
                  "Deccan Chargers",
                  "29",
                  "39",
                  "13",
                  "36",
                  "16",
                  "75",
                  "44",
                  "33",
                  "38"
                ],
                [
                  "Pune Warriors",
                  "12",
                  "23",
                  "6",
                  "23",
                  "6",
                  "46",
                  "26",
                  "26",
                  "26"
                ]
              ],
              "shape": {
                "columns": 9,
                "rows": 15
              }
            },
            "text/html": [
              "<div>\n",
              "<style scoped>\n",
              "    .dataframe tbody tr th:only-of-type {\n",
              "        vertical-align: middle;\n",
              "    }\n",
              "\n",
              "    .dataframe tbody tr th {\n",
              "        vertical-align: top;\n",
              "    }\n",
              "\n",
              "    .dataframe thead th {\n",
              "        text-align: right;\n",
              "    }\n",
              "</style>\n",
              "<table border=\"1\" class=\"dataframe\">\n",
              "  <thead>\n",
              "    <tr style=\"text-align: right;\">\n",
              "      <th></th>\n",
              "      <th>Win</th>\n",
              "      <th>Home Played</th>\n",
              "      <th>Home Win</th>\n",
              "      <th>Away Played</th>\n",
              "      <th>Away Win</th>\n",
              "      <th>Match Played</th>\n",
              "      <th>Away Win(%)</th>\n",
              "      <th>Home Win(%)</th>\n",
              "      <th>Win(%)</th>\n",
              "    </tr>\n",
              "    <tr>\n",
              "      <th>team</th>\n",
              "      <th></th>\n",
              "      <th></th>\n",
              "      <th></th>\n",
              "      <th></th>\n",
              "      <th></th>\n",
              "      <th></th>\n",
              "      <th></th>\n",
              "      <th></th>\n",
              "      <th></th>\n",
              "    </tr>\n",
              "  </thead>\n",
              "  <tbody>\n",
              "    <tr>\n",
              "      <th>Gujarat Titans</th>\n",
              "      <td>12</td>\n",
              "      <td>7</td>\n",
              "      <td>4</td>\n",
              "      <td>9</td>\n",
              "      <td>8</td>\n",
              "      <td>16</td>\n",
              "      <td>88</td>\n",
              "      <td>57</td>\n",
              "      <td>75</td>\n",
              "    </tr>\n",
              "    <tr>\n",
              "      <th>Lucknow Super Giants</th>\n",
              "      <td>9</td>\n",
              "      <td>8</td>\n",
              "      <td>7</td>\n",
              "      <td>7</td>\n",
              "      <td>2</td>\n",
              "      <td>15</td>\n",
              "      <td>28</td>\n",
              "      <td>87</td>\n",
              "      <td>60</td>\n",
              "    </tr>\n",
              "    <tr>\n",
              "      <th>Chennai Super Kings</th>\n",
              "      <td>121</td>\n",
              "      <td>111</td>\n",
              "      <td>65</td>\n",
              "      <td>97</td>\n",
              "      <td>56</td>\n",
              "      <td>208</td>\n",
              "      <td>57</td>\n",
              "      <td>58</td>\n",
              "      <td>58</td>\n",
              "    </tr>\n",
              "    <tr>\n",
              "      <th>Mumbai Indians</th>\n",
              "      <td>131</td>\n",
              "      <td>112</td>\n",
              "      <td>65</td>\n",
              "      <td>119</td>\n",
              "      <td>66</td>\n",
              "      <td>231</td>\n",
              "      <td>55</td>\n",
              "      <td>58</td>\n",
              "      <td>56</td>\n",
              "    </tr>\n",
              "    <tr>\n",
              "      <th>Kolkata Knight Riders</th>\n",
              "      <td>114</td>\n",
              "      <td>105</td>\n",
              "      <td>56</td>\n",
              "      <td>118</td>\n",
              "      <td>58</td>\n",
              "      <td>223</td>\n",
              "      <td>49</td>\n",
              "      <td>53</td>\n",
              "      <td>51</td>\n",
              "    </tr>\n",
              "    <tr>\n",
              "      <th>Rajasthan Royals</th>\n",
              "      <td>96</td>\n",
              "      <td>89</td>\n",
              "      <td>49</td>\n",
              "      <td>103</td>\n",
              "      <td>47</td>\n",
              "      <td>192</td>\n",
              "      <td>45</td>\n",
              "      <td>55</td>\n",
              "      <td>50</td>\n",
              "    </tr>\n",
              "    <tr>\n",
              "      <th>Rising Pune Supergiant</th>\n",
              "      <td>15</td>\n",
              "      <td>14</td>\n",
              "      <td>7</td>\n",
              "      <td>16</td>\n",
              "      <td>8</td>\n",
              "      <td>30</td>\n",
              "      <td>50</td>\n",
              "      <td>50</td>\n",
              "      <td>50</td>\n",
              "    </tr>\n",
              "    <tr>\n",
              "      <th>Sunrisers Hyderabad</th>\n",
              "      <td>75</td>\n",
              "      <td>69</td>\n",
              "      <td>36</td>\n",
              "      <td>83</td>\n",
              "      <td>39</td>\n",
              "      <td>152</td>\n",
              "      <td>46</td>\n",
              "      <td>52</td>\n",
              "      <td>49</td>\n",
              "    </tr>\n",
              "    <tr>\n",
              "      <th>Royal Challengers Bangalore</th>\n",
              "      <td>109</td>\n",
              "      <td>126</td>\n",
              "      <td>61</td>\n",
              "      <td>100</td>\n",
              "      <td>48</td>\n",
              "      <td>226</td>\n",
              "      <td>48</td>\n",
              "      <td>48</td>\n",
              "      <td>48</td>\n",
              "    </tr>\n",
              "    <tr>\n",
              "      <th>Punjab Kings</th>\n",
              "      <td>101</td>\n",
              "      <td>110</td>\n",
              "      <td>50</td>\n",
              "      <td>108</td>\n",
              "      <td>51</td>\n",
              "      <td>218</td>\n",
              "      <td>47</td>\n",
              "      <td>45</td>\n",
              "      <td>46</td>\n",
              "    </tr>\n",
              "    <tr>\n",
              "      <th>Delhi Capitals</th>\n",
              "      <td>103</td>\n",
              "      <td>114</td>\n",
              "      <td>53</td>\n",
              "      <td>110</td>\n",
              "      <td>50</td>\n",
              "      <td>224</td>\n",
              "      <td>45</td>\n",
              "      <td>46</td>\n",
              "      <td>45</td>\n",
              "    </tr>\n",
              "    <tr>\n",
              "      <th>Gujarat Lions</th>\n",
              "      <td>13</td>\n",
              "      <td>16</td>\n",
              "      <td>5</td>\n",
              "      <td>14</td>\n",
              "      <td>8</td>\n",
              "      <td>30</td>\n",
              "      <td>57</td>\n",
              "      <td>31</td>\n",
              "      <td>43</td>\n",
              "    </tr>\n",
              "    <tr>\n",
              "      <th>Kochi Tuskers Kerala</th>\n",
              "      <td>6</td>\n",
              "      <td>7</td>\n",
              "      <td>3</td>\n",
              "      <td>7</td>\n",
              "      <td>3</td>\n",
              "      <td>14</td>\n",
              "      <td>42</td>\n",
              "      <td>42</td>\n",
              "      <td>42</td>\n",
              "    </tr>\n",
              "    <tr>\n",
              "      <th>Deccan Chargers</th>\n",
              "      <td>29</td>\n",
              "      <td>39</td>\n",
              "      <td>13</td>\n",
              "      <td>36</td>\n",
              "      <td>16</td>\n",
              "      <td>75</td>\n",
              "      <td>44</td>\n",
              "      <td>33</td>\n",
              "      <td>38</td>\n",
              "    </tr>\n",
              "    <tr>\n",
              "      <th>Pune Warriors</th>\n",
              "      <td>12</td>\n",
              "      <td>23</td>\n",
              "      <td>6</td>\n",
              "      <td>23</td>\n",
              "      <td>6</td>\n",
              "      <td>46</td>\n",
              "      <td>26</td>\n",
              "      <td>26</td>\n",
              "      <td>26</td>\n",
              "    </tr>\n",
              "  </tbody>\n",
              "</table>\n",
              "</div>"
            ],
            "text/plain": [
              "                             Win  Home Played  Home Win  Away Played  \\\n",
              "team                                                                   \n",
              "Gujarat Titans                12            7         4            9   \n",
              "Lucknow Super Giants           9            8         7            7   \n",
              "Chennai Super Kings          121          111        65           97   \n",
              "Mumbai Indians               131          112        65          119   \n",
              "Kolkata Knight Riders        114          105        56          118   \n",
              "Rajasthan Royals              96           89        49          103   \n",
              "Rising Pune Supergiant        15           14         7           16   \n",
              "Sunrisers Hyderabad           75           69        36           83   \n",
              "Royal Challengers Bangalore  109          126        61          100   \n",
              "Punjab Kings                 101          110        50          108   \n",
              "Delhi Capitals               103          114        53          110   \n",
              "Gujarat Lions                 13           16         5           14   \n",
              "Kochi Tuskers Kerala           6            7         3            7   \n",
              "Deccan Chargers               29           39        13           36   \n",
              "Pune Warriors                 12           23         6           23   \n",
              "\n",
              "                             Away Win  Match Played  Away Win(%)  Home Win(%)  \\\n",
              "team                                                                            \n",
              "Gujarat Titans                      8            16           88           57   \n",
              "Lucknow Super Giants                2            15           28           87   \n",
              "Chennai Super Kings                56           208           57           58   \n",
              "Mumbai Indians                     66           231           55           58   \n",
              "Kolkata Knight Riders              58           223           49           53   \n",
              "Rajasthan Royals                   47           192           45           55   \n",
              "Rising Pune Supergiant              8            30           50           50   \n",
              "Sunrisers Hyderabad                39           152           46           52   \n",
              "Royal Challengers Bangalore        48           226           48           48   \n",
              "Punjab Kings                       51           218           47           45   \n",
              "Delhi Capitals                     50           224           45           46   \n",
              "Gujarat Lions                       8            30           57           31   \n",
              "Kochi Tuskers Kerala                3            14           42           42   \n",
              "Deccan Chargers                    16            75           44           33   \n",
              "Pune Warriors                       6            46           26           26   \n",
              "\n",
              "                             Win(%)  \n",
              "team                                 \n",
              "Gujarat Titans                   75  \n",
              "Lucknow Super Giants             60  \n",
              "Chennai Super Kings              58  \n",
              "Mumbai Indians                   56  \n",
              "Kolkata Knight Riders            51  \n",
              "Rajasthan Royals                 50  \n",
              "Rising Pune Supergiant           50  \n",
              "Sunrisers Hyderabad              49  \n",
              "Royal Challengers Bangalore      48  \n",
              "Punjab Kings                     46  \n",
              "Delhi Capitals                   45  \n",
              "Gujarat Lions                    43  \n",
              "Kochi Tuskers Kerala             42  \n",
              "Deccan Chargers                  38  \n",
              "Pune Warriors                    26  "
            ]
          },
          "execution_count": 99,
          "metadata": {},
          "output_type": "execute_result"
        }
      ],
      "source": [
        "df"
      ]
    },
    {
      "cell_type": "code",
      "execution_count": 101,
      "metadata": {
        "id": "XYLJXgVwu7MC"
      },
      "outputs": [
        {
          "data": {
            "application/vnd.microsoft.datawrangler.viewer.v0+json": {
              "columns": [
                {
                  "name": "City",
                  "rawType": "object",
                  "type": "string"
                },
                {
                  "name": "count",
                  "rawType": "int64",
                  "type": "integer"
                }
              ],
              "ref": "45047092-32a5-4f74-b8be-60e45044ab92",
              "rows": [
                [
                  "Bangalore",
                  "3"
                ],
                [
                  "Delhi",
                  "1"
                ]
              ],
              "shape": {
                "columns": 1,
                "rows": 2
              }
            },
            "text/plain": [
              "City\n",
              "Bangalore    3\n",
              "Delhi        1\n",
              "Name: count, dtype: int64"
            ]
          },
          "execution_count": 101,
          "metadata": {},
          "output_type": "execute_result"
        }
      ],
      "source": [
        "ipl[ipl['WonBy'] == 'NoResults']['City'].value_counts()"
      ]
    },
    {
      "cell_type": "code",
      "execution_count": 100,
      "metadata": {},
      "outputs": [],
      "source": [
        "ipl['City'] = ipl['City'].apply(lambda x : 'Bangalore' if x == 'Bengaluru' else x)"
      ]
    },
    {
      "cell_type": "markdown",
      "metadata": {
        "id": "XWeIf7I6u8T-"
      },
      "source": [
        "###`Q-8:` Player with most appearance in final match.\n",
        "\n",
        "`Team1Players` and `Team2Players` have all players name. It is not a list of players name instead it is str. So handle it as string.\n",
        "\n",
        "Hint: split and strip will help; Make a series of all players in final and do value counts\n"
      ]
    },
    {
      "cell_type": "code",
      "execution_count": 125,
      "metadata": {
        "id": "z_OKKz-Eu-dd"
      },
      "outputs": [
        {
          "name": "stdout",
          "output_type": "stream",
          "text": [
            "Series([], dtype: object)\n"
          ]
        },
        {
          "data": {
            "application/vnd.microsoft.datawrangler.viewer.v0+json": {
              "columns": [
                {
                  "name": "index",
                  "rawType": "object",
                  "type": "string"
                },
                {
                  "name": "count",
                  "rawType": "int64",
                  "type": "integer"
                }
              ],
              "ref": "3adb7591-f3d0-4605-8dfb-0c0841313863",
              "rows": [
                [
                  "MS Dhoni",
                  "10"
                ],
                [
                  "SK Raina",
                  "8"
                ],
                [
                  "R Ashwin",
                  "7"
                ],
                [
                  "RA Jadeja",
                  "7"
                ],
                [
                  "AT Rayudu",
                  "7"
                ]
              ],
              "shape": {
                "columns": 1,
                "rows": 5
              }
            },
            "text/plain": [
              "MS Dhoni     10\n",
              "SK Raina      8\n",
              "R Ashwin      7\n",
              "RA Jadeja     7\n",
              "AT Rayudu     7\n",
              "Name: count, dtype: int64"
            ]
          },
          "execution_count": 125,
          "metadata": {},
          "output_type": "execute_result"
        }
      ],
      "source": [
        "mask = ipl['MatchNumber'] == 'Final'\n",
        "\n",
        "data = ipl[mask]\n",
        "playerSeries = pd.Series()\n",
        "\n",
        "print(playerSeries)\n",
        "def getPlayers(l):\n",
        "    return pd.Series(list(map(lambda x : x.strip(\"'\"),l.lstrip(\"'[\").rstrip(\"]'\").split(\", \")))) #didnt Understand this logic\n",
        "\n",
        "for player_list in data['Team1Players']:\n",
        "    # print(player_list)\n",
        "    x = getPlayers(player_list)\n",
        "    playerSeries = pd.concat([playerSeries,x])\n",
        "    \n",
        "for player_list in data['Team2Players']:\n",
        "    x = getPlayers(player_list)\n",
        "    playerSeries = pd.concat([playerSeries,x])\n",
        "    \n",
        "playerSeries.value_counts().head()"
      ]
    },
    {
      "cell_type": "markdown",
      "metadata": {
        "id": "NUolo2wRu_ex"
      },
      "source": [
        "###`Q-9:` IPL Point Table\n",
        "\n",
        "Make a function `point_table` which take `season` as parameter and show points table in non-ascendng order of points and in ascending order of team name.\n",
        "\n",
        "For winning - 2 Ponits;\n",
        "For loosing - 0 Point\n",
        "For not result both team gets 1 points.\n",
        "\n",
        "Make dataframe which will have\n",
        "`TeamName` `MatchesPlayed` `MatchesWon` `NoResult` `Points`\n",
        "make `TeamName` as index.\n",
        "\n",
        "```\n",
        "season parametr should be one of these->\n",
        "['2022', '2021', '2020/21', '2019', '2018', '2017', '2016', '2015', '2014', '2013', '2012', '2011', '2009/10', '2009', '2007/08']\n",
        "```\n"
      ]
    },
    {
      "cell_type": "markdown",
      "metadata": {
        "id": "j4TSQq6fvFxO"
      },
      "source": [
        "Output of two Top 2 in season 2022\n",
        "```\n",
        "TeamName    MatchesPlayed\tMatchesWon\tNoResult\tPoints\n",
        "\n",
        "Gujarat Titans\t    16\t   12\t       0\t     24\n",
        "Rajasthan Royals\t  17\t   10\t       0\t     20\n",
        "\n",
        "```"
      ]
    },
    {
      "cell_type": "code",
      "execution_count": null,
      "metadata": {
        "id": "WdVcgEekvBv6"
      },
      "outputs": [],
      "source": [
        "\n",
        "\n",
        "season = ['2022', '2021', '2020/21', '2019', '2018', '2017', '2016', '2015', '2014', '2013', '2012', '2011', '2009/10', '2009', '2007/08']"
      ]
    },
    {
      "cell_type": "code",
      "execution_count": null,
      "metadata": {},
      "outputs": [],
      "source": [
        "def pointstable(season,ipl):\n",
        "    point = pd.DataFrame({\n",
        "                    'TeamName':[],\n",
        "                      'MatchesPlayed':[],\n",
        "                      'MatchesWon':[],\n",
        "                      'NoResult':[],\n",
        "                      'Points':[]\n",
        "                      })\n",
        "    \n",
        "    mask = (ipl['Season'] == season) \n",
        "    point['TeamName'] = ipl[mask]['Team1'].unique()\n",
        "    point.set_index('TeamName',inplace = True)\n",
        "    \n",
        "    for item in point.index:\n",
        "        point['MatchesPlayed'] = ipl[mask & ((ipl['Team1'] == item) | (ipl['Team2'] == item))].shape[0]\n",
        "        \n",
        "        point.loc[item,'MatchesWon']  = ipl[mask & (ipl['WinningTeam'] == item) & (ipl['MatchNumber'] != 'Final')&\n",
        "                                        (ipl['MatchNumber'] != 'Qualifier 2') & (ipl['MatchNumber'] != 'Qualifier 1')&\n",
        "                                        (ipl['MatchNumber'] != 'Eliminator')].shape[0]\n",
        "\n",
        "        point.loc[item,'NoResult'] = ipl[mask & (ipl['WonBy'] == 'NoResults' ) & (ipl['MatchNumber'] != 'Final')&\n",
        "                                        (ipl['MatchNumber'] != 'Qualifier 2') & (ipl['MatchNumber'] != 'Qualifier 1')&\n",
        "                                        (ipl['MatchNumber'] != 'Eliminator') &\n",
        "                                        (((ipl['Team1'] == item) | (ipl['Team2'] == item)))].shape[0]\n",
        "    \n",
        "    point['Points'] = 2*point['MatchesWon'] + 1*point['NoResult']\n",
        "    point.sort_values('Points',inplace = True,ascending = False)\n",
        "    return point\n"
      ]
    },
    {
      "cell_type": "code",
      "execution_count": 133,
      "metadata": {},
      "outputs": [
        {
          "data": {
            "application/vnd.microsoft.datawrangler.viewer.v0+json": {
              "columns": [
                {
                  "name": "TeamName",
                  "rawType": "object",
                  "type": "string"
                },
                {
                  "name": "MatchesPlayed",
                  "rawType": "int64",
                  "type": "integer"
                },
                {
                  "name": "MatchesWon",
                  "rawType": "float64",
                  "type": "float"
                },
                {
                  "name": "NoResult",
                  "rawType": "float64",
                  "type": "float"
                },
                {
                  "name": "Points",
                  "rawType": "float64",
                  "type": "float"
                }
              ],
              "ref": "ec5745db-cb1e-4cd5-bd5f-1ebaf292528d",
              "rows": [
                [
                  "Chennai Super Kings",
                  "16",
                  "11.0",
                  "0.0",
                  "22.0"
                ],
                [
                  "Mumbai Indians",
                  "16",
                  "11.0",
                  "0.0",
                  "22.0"
                ],
                [
                  "Rajasthan Royals",
                  "16",
                  "10.0",
                  "0.0",
                  "20.0"
                ],
                [
                  "Sunrisers Hyderabad",
                  "16",
                  "10.0",
                  "0.0",
                  "20.0"
                ]
              ],
              "shape": {
                "columns": 4,
                "rows": 4
              }
            },
            "text/html": [
              "<div>\n",
              "<style scoped>\n",
              "    .dataframe tbody tr th:only-of-type {\n",
              "        vertical-align: middle;\n",
              "    }\n",
              "\n",
              "    .dataframe tbody tr th {\n",
              "        vertical-align: top;\n",
              "    }\n",
              "\n",
              "    .dataframe thead th {\n",
              "        text-align: right;\n",
              "    }\n",
              "</style>\n",
              "<table border=\"1\" class=\"dataframe\">\n",
              "  <thead>\n",
              "    <tr style=\"text-align: right;\">\n",
              "      <th></th>\n",
              "      <th>MatchesPlayed</th>\n",
              "      <th>MatchesWon</th>\n",
              "      <th>NoResult</th>\n",
              "      <th>Points</th>\n",
              "    </tr>\n",
              "    <tr>\n",
              "      <th>TeamName</th>\n",
              "      <th></th>\n",
              "      <th></th>\n",
              "      <th></th>\n",
              "      <th></th>\n",
              "    </tr>\n",
              "  </thead>\n",
              "  <tbody>\n",
              "    <tr>\n",
              "      <th>Chennai Super Kings</th>\n",
              "      <td>16</td>\n",
              "      <td>11.0</td>\n",
              "      <td>0.0</td>\n",
              "      <td>22.0</td>\n",
              "    </tr>\n",
              "    <tr>\n",
              "      <th>Mumbai Indians</th>\n",
              "      <td>16</td>\n",
              "      <td>11.0</td>\n",
              "      <td>0.0</td>\n",
              "      <td>22.0</td>\n",
              "    </tr>\n",
              "    <tr>\n",
              "      <th>Rajasthan Royals</th>\n",
              "      <td>16</td>\n",
              "      <td>10.0</td>\n",
              "      <td>0.0</td>\n",
              "      <td>20.0</td>\n",
              "    </tr>\n",
              "    <tr>\n",
              "      <th>Sunrisers Hyderabad</th>\n",
              "      <td>16</td>\n",
              "      <td>10.0</td>\n",
              "      <td>0.0</td>\n",
              "      <td>20.0</td>\n",
              "    </tr>\n",
              "  </tbody>\n",
              "</table>\n",
              "</div>"
            ],
            "text/plain": [
              "                     MatchesPlayed  MatchesWon  NoResult  Points\n",
              "TeamName                                                        \n",
              "Chennai Super Kings             16        11.0       0.0    22.0\n",
              "Mumbai Indians                  16        11.0       0.0    22.0\n",
              "Rajasthan Royals                16        10.0       0.0    20.0\n",
              "Sunrisers Hyderabad             16        10.0       0.0    20.0"
            ]
          },
          "execution_count": 133,
          "metadata": {},
          "output_type": "execute_result"
        }
      ],
      "source": [
        "pointstable('2013',ipl).head(4)"
      ]
    },
    {
      "cell_type": "markdown",
      "metadata": {
        "id": "b7bf7YwqvIXj"
      },
      "source": [
        "###`Q-10:` IPL Point Table cont.\n",
        "Extend the above IPL Point Table with an extra column as `SeasonPosition`\n",
        "\n",
        "Team below top 4 after sorting on `Points` and then on `TeamName` Will have same `SeasonPosition` as there rank. use rank function.\n",
        "\n",
        "Teams in Top four will have `SeasonPosition` as:\n",
        "```\n",
        "    'Winner' - Team won final\n",
        "    'Runner' - Team lost Final\n",
        "    3 - Losing Team in Qualifier2\n",
        "    4 - Losing Team in Eliminator\n",
        "```\n",
        "\n",
        "For changing value of pariticular cell use `df.at[row_index, col_label] = value`\n",
        "\n",
        "Output of two Top 2 in season 2022. Your result should have all teams.\n",
        "```\n",
        "TeamName    MatchesPlayed\tMatchesWon\tNoResult\tPoints   SeasonPosition\n",
        "\n",
        "Gujarat Titans\t    16\t   12\t       0\t     24         Winner\n",
        "Rajasthan Royals\t  17\t   10\t       0\t     20         Runner\n",
        "\n",
        "```\n",
        "\n",
        "Note: If you try to chnage value of view of any dataframe a warnig will be shown. To avoid it, make a copy of the dataframe you want to change in by `df.copy()`"
      ]
    },
    {
      "cell_type": "code",
      "execution_count": null,
      "metadata": {
        "id": "ugZsBQiAvI5V"
      },
      "outputs": [],
      "source": [
        "\n",
        "def pointstable_extension(season):\n",
        "    df3 = pointstable(season,ipl)\n",
        "    df = ipl[ipl['Season'] == season].copy()\n",
        "    df3['SeasonPosition'] = df3['Points'].rank(ascending = False,method = 'first').astype('object')\n",
        "    df['LoosingTeam'] = df3['WinningTeam' == df['Team1']]['Team2'].append(df3['WinningTeam' == df['Team2']]['Team1'])\n",
        "    final = df[df['Match Number' == 'final']]    \n",
        "    winning_team = final['WinningTeam'].values[0]\n",
        "    runner = final['LoosingTeam'].values[0]\n",
        "    df3.at[winning_team,'SeasonPosition'] = 'Winner'\n",
        "    df3.at[runner,'SeasonPosition'] = 'Runner'\n",
        "    q = df[df['Match Number' == 'Qualifier 2']]    \n",
        "    e = df[df['Match Number' == 'eliminator']]    \n",
        "    third = q['WinningTeam'].values[0]\n",
        "    fourth = e['LoosingTeam'].values[0]\n",
        "    df3.at[third,'SeasonPosition'] = 'Third'\n",
        "    df3.at[fourth,'SeasonPosition'] = 'Fourth'\n",
        "    return df3\n",
        "    \n"
      ]
    },
    {
      "cell_type": "code",
      "execution_count": 136,
      "metadata": {},
      "outputs": [
        {
          "name": "stderr",
          "output_type": "stream",
          "text": [
            "C:\\Users\\axitk\\AppData\\Local\\Temp\\ipykernel_14204\\1705562238.py:5: UserWarning: Boolean Series key will be reindexed to match DataFrame index.\n",
            "  df['LoosingTeam'] = df3['WinningTeam' == df['Team1']]['Team2'].append(df3['WinningTeam' == df['Team2']]['Team1'])\n"
          ]
        },
        {
          "ename": "IndexingError",
          "evalue": "Unalignable boolean Series provided as indexer (index of the boolean Series and of the indexed object do not match).",
          "output_type": "error",
          "traceback": [
            "\u001b[1;31m---------------------------------------------------------------------------\u001b[0m",
            "\u001b[1;31mIndexingError\u001b[0m                             Traceback (most recent call last)",
            "Cell \u001b[1;32mIn[136], line 1\u001b[0m\n\u001b[1;32m----> 1\u001b[0m pointstable_extension(\u001b[38;5;241m2022\u001b[39m)\n",
            "Cell \u001b[1;32mIn[135], line 5\u001b[0m, in \u001b[0;36mpointstable_extension\u001b[1;34m(season)\u001b[0m\n\u001b[0;32m      3\u001b[0m df \u001b[38;5;241m=\u001b[39m ipl[ipl[\u001b[38;5;124m'\u001b[39m\u001b[38;5;124mSeason\u001b[39m\u001b[38;5;124m'\u001b[39m] \u001b[38;5;241m==\u001b[39m season]\u001b[38;5;241m.\u001b[39mcopy()\n\u001b[0;32m      4\u001b[0m df3[\u001b[38;5;124m'\u001b[39m\u001b[38;5;124mSeasonPosition\u001b[39m\u001b[38;5;124m'\u001b[39m] \u001b[38;5;241m=\u001b[39m df3[\u001b[38;5;124m'\u001b[39m\u001b[38;5;124mPoints\u001b[39m\u001b[38;5;124m'\u001b[39m]\u001b[38;5;241m.\u001b[39mrank(ascending \u001b[38;5;241m=\u001b[39m \u001b[38;5;28;01mFalse\u001b[39;00m,method \u001b[38;5;241m=\u001b[39m \u001b[38;5;124m'\u001b[39m\u001b[38;5;124mfirst\u001b[39m\u001b[38;5;124m'\u001b[39m)\u001b[38;5;241m.\u001b[39mastype(\u001b[38;5;124m'\u001b[39m\u001b[38;5;124mobject\u001b[39m\u001b[38;5;124m'\u001b[39m)\n\u001b[1;32m----> 5\u001b[0m df[\u001b[38;5;124m'\u001b[39m\u001b[38;5;124mLoosingTeam\u001b[39m\u001b[38;5;124m'\u001b[39m] \u001b[38;5;241m=\u001b[39m df3[\u001b[38;5;124m'\u001b[39m\u001b[38;5;124mWinningTeam\u001b[39m\u001b[38;5;124m'\u001b[39m \u001b[38;5;241m==\u001b[39m df[\u001b[38;5;124m'\u001b[39m\u001b[38;5;124mTeam1\u001b[39m\u001b[38;5;124m'\u001b[39m]][\u001b[38;5;124m'\u001b[39m\u001b[38;5;124mTeam2\u001b[39m\u001b[38;5;124m'\u001b[39m]\u001b[38;5;241m.\u001b[39mappend(df3[\u001b[38;5;124m'\u001b[39m\u001b[38;5;124mWinningTeam\u001b[39m\u001b[38;5;124m'\u001b[39m \u001b[38;5;241m==\u001b[39m df[\u001b[38;5;124m'\u001b[39m\u001b[38;5;124mTeam2\u001b[39m\u001b[38;5;124m'\u001b[39m]][\u001b[38;5;124m'\u001b[39m\u001b[38;5;124mTeam1\u001b[39m\u001b[38;5;124m'\u001b[39m])\n\u001b[0;32m      6\u001b[0m final \u001b[38;5;241m=\u001b[39m df[df[\u001b[38;5;124m'\u001b[39m\u001b[38;5;124mMatch Number\u001b[39m\u001b[38;5;124m'\u001b[39m \u001b[38;5;241m==\u001b[39m \u001b[38;5;124m'\u001b[39m\u001b[38;5;124mfinal\u001b[39m\u001b[38;5;124m'\u001b[39m]]    \n\u001b[0;32m      7\u001b[0m winning_team \u001b[38;5;241m=\u001b[39m final[\u001b[38;5;124m'\u001b[39m\u001b[38;5;124mWinningTeam\u001b[39m\u001b[38;5;124m'\u001b[39m]\u001b[38;5;241m.\u001b[39mvalues[\u001b[38;5;241m0\u001b[39m]\n",
            "File \u001b[1;32mc:\\Users\\axitk\\anaconda3\\envs\\Machinelearning_new\\Lib\\site-packages\\pandas\\core\\frame.py:4093\u001b[0m, in \u001b[0;36mDataFrame.__getitem__\u001b[1;34m(self, key)\u001b[0m\n\u001b[0;32m   4091\u001b[0m \u001b[38;5;66;03m# Do we have a (boolean) 1d indexer?\u001b[39;00m\n\u001b[0;32m   4092\u001b[0m \u001b[38;5;28;01mif\u001b[39;00m com\u001b[38;5;241m.\u001b[39mis_bool_indexer(key):\n\u001b[1;32m-> 4093\u001b[0m     \u001b[38;5;28;01mreturn\u001b[39;00m \u001b[38;5;28mself\u001b[39m\u001b[38;5;241m.\u001b[39m_getitem_bool_array(key)\n\u001b[0;32m   4095\u001b[0m \u001b[38;5;66;03m# We are left with two options: a single key, and a collection of keys,\u001b[39;00m\n\u001b[0;32m   4096\u001b[0m \u001b[38;5;66;03m# We interpret tuples as collections only for non-MultiIndex\u001b[39;00m\n\u001b[0;32m   4097\u001b[0m is_single_key \u001b[38;5;241m=\u001b[39m \u001b[38;5;28misinstance\u001b[39m(key, \u001b[38;5;28mtuple\u001b[39m) \u001b[38;5;129;01mor\u001b[39;00m \u001b[38;5;129;01mnot\u001b[39;00m is_list_like(key)\n",
            "File \u001b[1;32mc:\\Users\\axitk\\anaconda3\\envs\\Machinelearning_new\\Lib\\site-packages\\pandas\\core\\frame.py:4149\u001b[0m, in \u001b[0;36mDataFrame._getitem_bool_array\u001b[1;34m(self, key)\u001b[0m\n\u001b[0;32m   4143\u001b[0m     \u001b[38;5;28;01mraise\u001b[39;00m \u001b[38;5;167;01mValueError\u001b[39;00m(\n\u001b[0;32m   4144\u001b[0m         \u001b[38;5;124mf\u001b[39m\u001b[38;5;124m\"\u001b[39m\u001b[38;5;124mItem wrong length \u001b[39m\u001b[38;5;132;01m{\u001b[39;00m\u001b[38;5;28mlen\u001b[39m(key)\u001b[38;5;132;01m}\u001b[39;00m\u001b[38;5;124m instead of \u001b[39m\u001b[38;5;132;01m{\u001b[39;00m\u001b[38;5;28mlen\u001b[39m(\u001b[38;5;28mself\u001b[39m\u001b[38;5;241m.\u001b[39mindex)\u001b[38;5;132;01m}\u001b[39;00m\u001b[38;5;124m.\u001b[39m\u001b[38;5;124m\"\u001b[39m\n\u001b[0;32m   4145\u001b[0m     )\n\u001b[0;32m   4147\u001b[0m \u001b[38;5;66;03m# check_bool_indexer will throw exception if Series key cannot\u001b[39;00m\n\u001b[0;32m   4148\u001b[0m \u001b[38;5;66;03m# be reindexed to match DataFrame rows\u001b[39;00m\n\u001b[1;32m-> 4149\u001b[0m key \u001b[38;5;241m=\u001b[39m check_bool_indexer(\u001b[38;5;28mself\u001b[39m\u001b[38;5;241m.\u001b[39mindex, key)\n\u001b[0;32m   4151\u001b[0m \u001b[38;5;28;01mif\u001b[39;00m key\u001b[38;5;241m.\u001b[39mall():\n\u001b[0;32m   4152\u001b[0m     \u001b[38;5;28;01mreturn\u001b[39;00m \u001b[38;5;28mself\u001b[39m\u001b[38;5;241m.\u001b[39mcopy(deep\u001b[38;5;241m=\u001b[39m\u001b[38;5;28;01mNone\u001b[39;00m)\n",
            "File \u001b[1;32mc:\\Users\\axitk\\anaconda3\\envs\\Machinelearning_new\\Lib\\site-packages\\pandas\\core\\indexing.py:2662\u001b[0m, in \u001b[0;36mcheck_bool_indexer\u001b[1;34m(index, key)\u001b[0m\n\u001b[0;32m   2660\u001b[0m indexer \u001b[38;5;241m=\u001b[39m result\u001b[38;5;241m.\u001b[39mindex\u001b[38;5;241m.\u001b[39mget_indexer_for(index)\n\u001b[0;32m   2661\u001b[0m \u001b[38;5;28;01mif\u001b[39;00m \u001b[38;5;241m-\u001b[39m\u001b[38;5;241m1\u001b[39m \u001b[38;5;129;01min\u001b[39;00m indexer:\n\u001b[1;32m-> 2662\u001b[0m     \u001b[38;5;28;01mraise\u001b[39;00m IndexingError(\n\u001b[0;32m   2663\u001b[0m         \u001b[38;5;124m\"\u001b[39m\u001b[38;5;124mUnalignable boolean Series provided as \u001b[39m\u001b[38;5;124m\"\u001b[39m\n\u001b[0;32m   2664\u001b[0m         \u001b[38;5;124m\"\u001b[39m\u001b[38;5;124mindexer (index of the boolean Series and of \u001b[39m\u001b[38;5;124m\"\u001b[39m\n\u001b[0;32m   2665\u001b[0m         \u001b[38;5;124m\"\u001b[39m\u001b[38;5;124mthe indexed object do not match).\u001b[39m\u001b[38;5;124m\"\u001b[39m\n\u001b[0;32m   2666\u001b[0m     )\n\u001b[0;32m   2668\u001b[0m result \u001b[38;5;241m=\u001b[39m result\u001b[38;5;241m.\u001b[39mtake(indexer)\n\u001b[0;32m   2670\u001b[0m \u001b[38;5;66;03m# fall through for boolean\u001b[39;00m\n",
            "\u001b[1;31mIndexingError\u001b[0m: Unalignable boolean Series provided as indexer (index of the boolean Series and of the indexed object do not match)."
          ]
        }
      ],
      "source": [
        "pointstable_extension(2022)"
      ]
    },
    {
      "cell_type": "code",
      "execution_count": null,
      "metadata": {},
      "outputs": [],
      "source": []
    }
  ],
  "metadata": {
    "colab": {
      "provenance": []
    },
    "kernelspec": {
      "display_name": "Machinelearning_new",
      "language": "python",
      "name": "python3"
    },
    "language_info": {
      "codemirror_mode": {
        "name": "ipython",
        "version": 3
      },
      "file_extension": ".py",
      "mimetype": "text/x-python",
      "name": "python",
      "nbconvert_exporter": "python",
      "pygments_lexer": "ipython3",
      "version": "3.11.11"
    }
  },
  "nbformat": 4,
  "nbformat_minor": 0
}
