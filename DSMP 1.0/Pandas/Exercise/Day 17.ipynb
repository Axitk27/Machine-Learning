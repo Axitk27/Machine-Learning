{
  "cells": [
    {
      "cell_type": "code",
      "execution_count": null,
      "metadata": {
        "id": "u7ShJC6QbJOo"
      },
      "outputs": [],
      "source": [
        "\"https://raw.githubusercontent.com/justmarkham/DAT8/master/data/chipotle.tsv\""
      ]
    },
    {
      "cell_type": "code",
      "execution_count": 2,
      "metadata": {},
      "outputs": [],
      "source": [
        "import pandas as pd\n",
        "import numpy as np\n",
        "import os\n",
        "\n",
        "os.chdir('D:\\Education\\Extra\\Machine Learning\\DSMP 1.0\\Pandas\\Exercise\\Dataset')"
      ]
    },
    {
      "cell_type": "markdown",
      "metadata": {
        "id": "sM-WXcZmbTCW"
      },
      "source": [
        "## Basic DataFrame\n",
        "\n",
        "Consider the following Python dictionary data and Python list labels:\n",
        "\n",
        "```\n",
        "data = {'birds': ['Cranes', 'Cranes', 'plovers', 'spoonbills', 'spoonbills', 'Cranes', 'plovers', 'Cranes', 'spoonbills', 'spoonbills', 'Cranes'],\n",
        "        'age': [3.5, 4, 1.5, np.nan, 6, 3, 5.5, np.nan, 8, 4, 3.5], 'visits': [2, 4, 3, 4, 3, 4, 2, 2, 3, 2, 2],\n",
        "        'priority': ['yes', 'yes', 'no', np.nan, 'no', 'no', 'no', 'yes', 'no', 'no','yes']}\n",
        "```\n",
        "```\n",
        "labels = ['a', 'b', 'c', 'd', 'e', 'f', 'g', 'h', 'i', 'j', 'k']\n",
        "```"
      ]
    },
    {
      "cell_type": "markdown",
      "metadata": {
        "id": "fbl_dILPbZ9e"
      },
      "source": [
        "###`Q-1:`\n",
        "i. Create a DataFrame birds from the above dictionary data which has the index labels.\n",
        "\n",
        "ii. Display basic information about the dataFrame.\n",
        "\n",
        "iii. Show Alternate rows of the dataframe."
      ]
    },
    {
      "cell_type": "code",
      "execution_count": 5,
      "metadata": {
        "id": "FsGlueHWbZCr"
      },
      "outputs": [
        {
          "name": "stdout",
          "output_type": "stream",
          "text": [
            "<class 'pandas.core.frame.DataFrame'>\n",
            "Index: 11 entries, a to k\n",
            "Data columns (total 4 columns):\n",
            " #   Column    Non-Null Count  Dtype  \n",
            "---  ------    --------------  -----  \n",
            " 0   birds     11 non-null     object \n",
            " 1   age       9 non-null      float64\n",
            " 2   visits    11 non-null     int64  \n",
            " 3   priority  10 non-null     object \n",
            "dtypes: float64(1), int64(1), object(2)\n",
            "memory usage: 440.0+ bytes\n"
          ]
        },
        {
          "data": {
            "application/vnd.microsoft.datawrangler.viewer.v0+json": {
              "columns": [
                {
                  "name": "index",
                  "rawType": "object",
                  "type": "string"
                },
                {
                  "name": "birds",
                  "rawType": "object",
                  "type": "string"
                },
                {
                  "name": "age",
                  "rawType": "float64",
                  "type": "float"
                },
                {
                  "name": "visits",
                  "rawType": "int64",
                  "type": "integer"
                },
                {
                  "name": "priority",
                  "rawType": "object",
                  "type": "string"
                }
              ],
              "ref": "c518c1e2-db31-4daf-b6b1-c2606d810972",
              "rows": [
                [
                  "a",
                  "Cranes",
                  "3.5",
                  "2",
                  "yes"
                ],
                [
                  "c",
                  "plovers",
                  "1.5",
                  "3",
                  "no"
                ],
                [
                  "e",
                  "spoonbills",
                  "6.0",
                  "3",
                  "no"
                ],
                [
                  "g",
                  "plovers",
                  "5.5",
                  "2",
                  "no"
                ],
                [
                  "i",
                  "spoonbills",
                  "8.0",
                  "3",
                  "no"
                ],
                [
                  "k",
                  "Cranes",
                  "3.5",
                  "2",
                  "yes"
                ]
              ],
              "shape": {
                "columns": 4,
                "rows": 6
              }
            },
            "text/html": [
              "<div>\n",
              "<style scoped>\n",
              "    .dataframe tbody tr th:only-of-type {\n",
              "        vertical-align: middle;\n",
              "    }\n",
              "\n",
              "    .dataframe tbody tr th {\n",
              "        vertical-align: top;\n",
              "    }\n",
              "\n",
              "    .dataframe thead th {\n",
              "        text-align: right;\n",
              "    }\n",
              "</style>\n",
              "<table border=\"1\" class=\"dataframe\">\n",
              "  <thead>\n",
              "    <tr style=\"text-align: right;\">\n",
              "      <th></th>\n",
              "      <th>birds</th>\n",
              "      <th>age</th>\n",
              "      <th>visits</th>\n",
              "      <th>priority</th>\n",
              "    </tr>\n",
              "  </thead>\n",
              "  <tbody>\n",
              "    <tr>\n",
              "      <th>a</th>\n",
              "      <td>Cranes</td>\n",
              "      <td>3.5</td>\n",
              "      <td>2</td>\n",
              "      <td>yes</td>\n",
              "    </tr>\n",
              "    <tr>\n",
              "      <th>c</th>\n",
              "      <td>plovers</td>\n",
              "      <td>1.5</td>\n",
              "      <td>3</td>\n",
              "      <td>no</td>\n",
              "    </tr>\n",
              "    <tr>\n",
              "      <th>e</th>\n",
              "      <td>spoonbills</td>\n",
              "      <td>6.0</td>\n",
              "      <td>3</td>\n",
              "      <td>no</td>\n",
              "    </tr>\n",
              "    <tr>\n",
              "      <th>g</th>\n",
              "      <td>plovers</td>\n",
              "      <td>5.5</td>\n",
              "      <td>2</td>\n",
              "      <td>no</td>\n",
              "    </tr>\n",
              "    <tr>\n",
              "      <th>i</th>\n",
              "      <td>spoonbills</td>\n",
              "      <td>8.0</td>\n",
              "      <td>3</td>\n",
              "      <td>no</td>\n",
              "    </tr>\n",
              "    <tr>\n",
              "      <th>k</th>\n",
              "      <td>Cranes</td>\n",
              "      <td>3.5</td>\n",
              "      <td>2</td>\n",
              "      <td>yes</td>\n",
              "    </tr>\n",
              "  </tbody>\n",
              "</table>\n",
              "</div>"
            ],
            "text/plain": [
              "        birds  age  visits priority\n",
              "a      Cranes  3.5       2      yes\n",
              "c     plovers  1.5       3       no\n",
              "e  spoonbills  6.0       3       no\n",
              "g     plovers  5.5       2       no\n",
              "i  spoonbills  8.0       3       no\n",
              "k      Cranes  3.5       2      yes"
            ]
          },
          "execution_count": 5,
          "metadata": {},
          "output_type": "execute_result"
        }
      ],
      "source": [
        "data = {'birds': ['Cranes', 'Cranes', 'plovers', 'spoonbills', 'spoonbills', 'Cranes', 'plovers', 'Cranes', 'spoonbills', 'spoonbills', 'Cranes'],\n",
        "        'age': [3.5, 4, 1.5, np.nan, 6, 3, 5.5, np.nan, 8, 4, 3.5], \n",
        "        'visits': [2, 4, 3, 4, 3, 4, 2, 2, 3, 2, 2],\n",
        "        'priority': ['yes', 'yes', 'no', np.nan, 'no', 'no', 'no', 'yes', 'no', 'no','yes']}\n",
        "\n",
        "labels = ['a', 'b', 'c', 'd', 'e', 'f', 'g', 'h', 'i', 'j', 'k']\n",
        "\n",
        "birds = pd.DataFrame(data, index = labels)\n",
        "birds\n",
        "\n",
        "#2 Basic Information\n",
        "\n",
        "birds.info()\n",
        "birds.describe()\n",
        "\n",
        "#3 Show Alternate Rows\n",
        "\n",
        "birds.iloc[::2]"
      ]
    },
    {
      "cell_type": "markdown",
      "metadata": {
        "id": "06X1G_sbbe2K"
      },
      "source": [
        "###`Q-2:`\n",
        "i. Show only rows [1st, 3rd, 7th] from columns ['bird', 'age']\n",
        "\n",
        "ii. Select rows where the number of visits is less than 4."
      ]
    },
    {
      "cell_type": "code",
      "execution_count": 7,
      "metadata": {
        "id": "5ceryOqrbhB6"
      },
      "outputs": [
        {
          "data": {
            "application/vnd.microsoft.datawrangler.viewer.v0+json": {
              "columns": [
                {
                  "name": "index",
                  "rawType": "object",
                  "type": "string"
                },
                {
                  "name": "birds",
                  "rawType": "object",
                  "type": "string"
                },
                {
                  "name": "age",
                  "rawType": "float64",
                  "type": "float"
                }
              ],
              "ref": "47d566df-6502-454b-a1c9-1e6eee9cf9bc",
              "rows": [
                [
                  "a",
                  "Cranes",
                  "3.5"
                ],
                [
                  "c",
                  "plovers",
                  "1.5"
                ],
                [
                  "g",
                  "plovers",
                  "5.5"
                ]
              ],
              "shape": {
                "columns": 2,
                "rows": 3
              }
            },
            "text/html": [
              "<div>\n",
              "<style scoped>\n",
              "    .dataframe tbody tr th:only-of-type {\n",
              "        vertical-align: middle;\n",
              "    }\n",
              "\n",
              "    .dataframe tbody tr th {\n",
              "        vertical-align: top;\n",
              "    }\n",
              "\n",
              "    .dataframe thead th {\n",
              "        text-align: right;\n",
              "    }\n",
              "</style>\n",
              "<table border=\"1\" class=\"dataframe\">\n",
              "  <thead>\n",
              "    <tr style=\"text-align: right;\">\n",
              "      <th></th>\n",
              "      <th>birds</th>\n",
              "      <th>age</th>\n",
              "    </tr>\n",
              "  </thead>\n",
              "  <tbody>\n",
              "    <tr>\n",
              "      <th>a</th>\n",
              "      <td>Cranes</td>\n",
              "      <td>3.5</td>\n",
              "    </tr>\n",
              "    <tr>\n",
              "      <th>c</th>\n",
              "      <td>plovers</td>\n",
              "      <td>1.5</td>\n",
              "    </tr>\n",
              "    <tr>\n",
              "      <th>g</th>\n",
              "      <td>plovers</td>\n",
              "      <td>5.5</td>\n",
              "    </tr>\n",
              "  </tbody>\n",
              "</table>\n",
              "</div>"
            ],
            "text/plain": [
              "     birds  age\n",
              "a   Cranes  3.5\n",
              "c  plovers  1.5\n",
              "g  plovers  5.5"
            ]
          },
          "execution_count": 7,
          "metadata": {},
          "output_type": "execute_result"
        }
      ],
      "source": [
        "#1\n",
        "# birds.iloc[[1,3,7],[0,1]]\n",
        "birds[['birds','age']].iloc[[0,2,6]]"
      ]
    },
    {
      "cell_type": "code",
      "execution_count": 5,
      "metadata": {},
      "outputs": [
        {
          "data": {
            "application/vnd.microsoft.datawrangler.viewer.v0+json": {
              "columns": [
                {
                  "name": "index",
                  "rawType": "object",
                  "type": "string"
                },
                {
                  "name": "birds",
                  "rawType": "object",
                  "type": "string"
                },
                {
                  "name": "age",
                  "rawType": "float64",
                  "type": "float"
                },
                {
                  "name": "visits",
                  "rawType": "int64",
                  "type": "integer"
                },
                {
                  "name": "priority",
                  "rawType": "object",
                  "type": "string"
                }
              ],
              "ref": "fb7b3e09-4c8d-4eb2-a37d-e55346e9eb84",
              "rows": [
                [
                  "a",
                  "Cranes",
                  "3.5",
                  "2",
                  "yes"
                ],
                [
                  "c",
                  "plovers",
                  "1.5",
                  "3",
                  "no"
                ],
                [
                  "e",
                  "spoonbills",
                  "6.0",
                  "3",
                  "no"
                ],
                [
                  "g",
                  "plovers",
                  "5.5",
                  "2",
                  "no"
                ],
                [
                  "h",
                  "Cranes",
                  null,
                  "2",
                  "yes"
                ],
                [
                  "i",
                  "spoonbills",
                  "8.0",
                  "3",
                  "no"
                ],
                [
                  "j",
                  "spoonbills",
                  "4.0",
                  "2",
                  "no"
                ],
                [
                  "k",
                  "Cranes",
                  "3.5",
                  "2",
                  "yes"
                ]
              ],
              "shape": {
                "columns": 4,
                "rows": 8
              }
            },
            "text/html": [
              "<div>\n",
              "<style scoped>\n",
              "    .dataframe tbody tr th:only-of-type {\n",
              "        vertical-align: middle;\n",
              "    }\n",
              "\n",
              "    .dataframe tbody tr th {\n",
              "        vertical-align: top;\n",
              "    }\n",
              "\n",
              "    .dataframe thead th {\n",
              "        text-align: right;\n",
              "    }\n",
              "</style>\n",
              "<table border=\"1\" class=\"dataframe\">\n",
              "  <thead>\n",
              "    <tr style=\"text-align: right;\">\n",
              "      <th></th>\n",
              "      <th>birds</th>\n",
              "      <th>age</th>\n",
              "      <th>visits</th>\n",
              "      <th>priority</th>\n",
              "    </tr>\n",
              "  </thead>\n",
              "  <tbody>\n",
              "    <tr>\n",
              "      <th>a</th>\n",
              "      <td>Cranes</td>\n",
              "      <td>3.5</td>\n",
              "      <td>2</td>\n",
              "      <td>yes</td>\n",
              "    </tr>\n",
              "    <tr>\n",
              "      <th>c</th>\n",
              "      <td>plovers</td>\n",
              "      <td>1.5</td>\n",
              "      <td>3</td>\n",
              "      <td>no</td>\n",
              "    </tr>\n",
              "    <tr>\n",
              "      <th>e</th>\n",
              "      <td>spoonbills</td>\n",
              "      <td>6.0</td>\n",
              "      <td>3</td>\n",
              "      <td>no</td>\n",
              "    </tr>\n",
              "    <tr>\n",
              "      <th>g</th>\n",
              "      <td>plovers</td>\n",
              "      <td>5.5</td>\n",
              "      <td>2</td>\n",
              "      <td>no</td>\n",
              "    </tr>\n",
              "    <tr>\n",
              "      <th>h</th>\n",
              "      <td>Cranes</td>\n",
              "      <td>NaN</td>\n",
              "      <td>2</td>\n",
              "      <td>yes</td>\n",
              "    </tr>\n",
              "    <tr>\n",
              "      <th>i</th>\n",
              "      <td>spoonbills</td>\n",
              "      <td>8.0</td>\n",
              "      <td>3</td>\n",
              "      <td>no</td>\n",
              "    </tr>\n",
              "    <tr>\n",
              "      <th>j</th>\n",
              "      <td>spoonbills</td>\n",
              "      <td>4.0</td>\n",
              "      <td>2</td>\n",
              "      <td>no</td>\n",
              "    </tr>\n",
              "    <tr>\n",
              "      <th>k</th>\n",
              "      <td>Cranes</td>\n",
              "      <td>3.5</td>\n",
              "      <td>2</td>\n",
              "      <td>yes</td>\n",
              "    </tr>\n",
              "  </tbody>\n",
              "</table>\n",
              "</div>"
            ],
            "text/plain": [
              "        birds  age  visits priority\n",
              "a      Cranes  3.5       2      yes\n",
              "c     plovers  1.5       3       no\n",
              "e  spoonbills  6.0       3       no\n",
              "g     plovers  5.5       2       no\n",
              "h      Cranes  NaN       2      yes\n",
              "i  spoonbills  8.0       3       no\n",
              "j  spoonbills  4.0       2       no\n",
              "k      Cranes  3.5       2      yes"
            ]
          },
          "execution_count": 5,
          "metadata": {},
          "output_type": "execute_result"
        }
      ],
      "source": [
        "birds[birds['visits']<4]"
      ]
    },
    {
      "cell_type": "markdown",
      "metadata": {
        "id": "biVrhUo2biZm"
      },
      "source": [
        "###`Q-3:`\n",
        "i. Select all rows with nan values in age and visits column.\n",
        "\n",
        "ii. Fill nan with respective series mode value."
      ]
    },
    {
      "cell_type": "code",
      "execution_count": 19,
      "metadata": {
        "id": "Qe8KrN_UbkPW"
      },
      "outputs": [
        {
          "data": {
            "application/vnd.microsoft.datawrangler.viewer.v0+json": {
              "columns": [
                {
                  "name": "index",
                  "rawType": "object",
                  "type": "string"
                },
                {
                  "name": "birds",
                  "rawType": "object",
                  "type": "string"
                },
                {
                  "name": "age",
                  "rawType": "float64",
                  "type": "float"
                },
                {
                  "name": "visits",
                  "rawType": "int64",
                  "type": "integer"
                },
                {
                  "name": "priority",
                  "rawType": "object",
                  "type": "string"
                }
              ],
              "ref": "a40e5863-2c80-402e-a342-2b92d8d089da",
              "rows": [
                [
                  "a",
                  "Cranes",
                  "3.5",
                  "2",
                  "yes"
                ],
                [
                  "b",
                  "Cranes",
                  "4.0",
                  "4",
                  "yes"
                ],
                [
                  "c",
                  "plovers",
                  "1.5",
                  "3",
                  "no"
                ],
                [
                  "d",
                  "spoonbills",
                  "3.5",
                  "4",
                  "no"
                ],
                [
                  "e",
                  "spoonbills",
                  "6.0",
                  "3",
                  "no"
                ],
                [
                  "f",
                  "Cranes",
                  "3.0",
                  "4",
                  "no"
                ],
                [
                  "g",
                  "plovers",
                  "5.5",
                  "2",
                  "no"
                ],
                [
                  "h",
                  "Cranes",
                  "3.5",
                  "2",
                  "yes"
                ],
                [
                  "i",
                  "spoonbills",
                  "8.0",
                  "3",
                  "no"
                ],
                [
                  "j",
                  "spoonbills",
                  "4.0",
                  "2",
                  "no"
                ],
                [
                  "k",
                  "Cranes",
                  "3.5",
                  "2",
                  "yes"
                ]
              ],
              "shape": {
                "columns": 4,
                "rows": 11
              }
            },
            "text/html": [
              "<div>\n",
              "<style scoped>\n",
              "    .dataframe tbody tr th:only-of-type {\n",
              "        vertical-align: middle;\n",
              "    }\n",
              "\n",
              "    .dataframe tbody tr th {\n",
              "        vertical-align: top;\n",
              "    }\n",
              "\n",
              "    .dataframe thead th {\n",
              "        text-align: right;\n",
              "    }\n",
              "</style>\n",
              "<table border=\"1\" class=\"dataframe\">\n",
              "  <thead>\n",
              "    <tr style=\"text-align: right;\">\n",
              "      <th></th>\n",
              "      <th>birds</th>\n",
              "      <th>age</th>\n",
              "      <th>visits</th>\n",
              "      <th>priority</th>\n",
              "    </tr>\n",
              "  </thead>\n",
              "  <tbody>\n",
              "    <tr>\n",
              "      <th>a</th>\n",
              "      <td>Cranes</td>\n",
              "      <td>3.5</td>\n",
              "      <td>2</td>\n",
              "      <td>yes</td>\n",
              "    </tr>\n",
              "    <tr>\n",
              "      <th>b</th>\n",
              "      <td>Cranes</td>\n",
              "      <td>4.0</td>\n",
              "      <td>4</td>\n",
              "      <td>yes</td>\n",
              "    </tr>\n",
              "    <tr>\n",
              "      <th>c</th>\n",
              "      <td>plovers</td>\n",
              "      <td>1.5</td>\n",
              "      <td>3</td>\n",
              "      <td>no</td>\n",
              "    </tr>\n",
              "    <tr>\n",
              "      <th>d</th>\n",
              "      <td>spoonbills</td>\n",
              "      <td>3.5</td>\n",
              "      <td>4</td>\n",
              "      <td>no</td>\n",
              "    </tr>\n",
              "    <tr>\n",
              "      <th>e</th>\n",
              "      <td>spoonbills</td>\n",
              "      <td>6.0</td>\n",
              "      <td>3</td>\n",
              "      <td>no</td>\n",
              "    </tr>\n",
              "    <tr>\n",
              "      <th>f</th>\n",
              "      <td>Cranes</td>\n",
              "      <td>3.0</td>\n",
              "      <td>4</td>\n",
              "      <td>no</td>\n",
              "    </tr>\n",
              "    <tr>\n",
              "      <th>g</th>\n",
              "      <td>plovers</td>\n",
              "      <td>5.5</td>\n",
              "      <td>2</td>\n",
              "      <td>no</td>\n",
              "    </tr>\n",
              "    <tr>\n",
              "      <th>h</th>\n",
              "      <td>Cranes</td>\n",
              "      <td>3.5</td>\n",
              "      <td>2</td>\n",
              "      <td>yes</td>\n",
              "    </tr>\n",
              "    <tr>\n",
              "      <th>i</th>\n",
              "      <td>spoonbills</td>\n",
              "      <td>8.0</td>\n",
              "      <td>3</td>\n",
              "      <td>no</td>\n",
              "    </tr>\n",
              "    <tr>\n",
              "      <th>j</th>\n",
              "      <td>spoonbills</td>\n",
              "      <td>4.0</td>\n",
              "      <td>2</td>\n",
              "      <td>no</td>\n",
              "    </tr>\n",
              "    <tr>\n",
              "      <th>k</th>\n",
              "      <td>Cranes</td>\n",
              "      <td>3.5</td>\n",
              "      <td>2</td>\n",
              "      <td>yes</td>\n",
              "    </tr>\n",
              "  </tbody>\n",
              "</table>\n",
              "</div>"
            ],
            "text/plain": [
              "        birds  age  visits priority\n",
              "a      Cranes  3.5       2      yes\n",
              "b      Cranes  4.0       4      yes\n",
              "c     plovers  1.5       3       no\n",
              "d  spoonbills  3.5       4       no\n",
              "e  spoonbills  6.0       3       no\n",
              "f      Cranes  3.0       4       no\n",
              "g     plovers  5.5       2       no\n",
              "h      Cranes  3.5       2      yes\n",
              "i  spoonbills  8.0       3       no\n",
              "j  spoonbills  4.0       2       no\n",
              "k      Cranes  3.5       2      yes"
            ]
          },
          "execution_count": 19,
          "metadata": {},
          "output_type": "execute_result"
        }
      ],
      "source": [
        "#1\n",
        "\n",
        "birds[birds['visits'].isna() | birds['age'].isna()]\n",
        "\n",
        "\n",
        "#2\n",
        "birds['age'] = birds['age'].fillna(birds['age'].mode()[0])\n",
        "# birds['age'].mode(axis = 1)\n",
        "# birds['age'].mode()[0]\n",
        "\n",
        "birds['priority'] = birds['priority'].fillna(birds['priority'].mode()[0])\n",
        "\n",
        "birds"
      ]
    },
    {
      "cell_type": "markdown",
      "metadata": {
        "id": "PcYTOjqUblrF"
      },
      "source": [
        "###`Q-4`\n",
        "i. Find the total number of visits of the bird Cranes\n",
        "\n",
        "ii. Find the number of each type of birds in dataframe.\n",
        "\n",
        "iii. Print no of duplicate rows\n",
        "\n",
        "iv. Drop Duplicates rows and make this changes permanent. Show dataframe after changes."
      ]
    },
    {
      "cell_type": "code",
      "execution_count": 12,
      "metadata": {
        "id": "O92x1vp0bngT"
      },
      "outputs": [
        {
          "name": "stdout",
          "output_type": "stream",
          "text": [
            "0.0\n"
          ]
        },
        {
          "data": {
            "application/vnd.microsoft.datawrangler.viewer.v0+json": {
              "columns": [
                {
                  "name": "index",
                  "rawType": "object",
                  "type": "string"
                },
                {
                  "name": "birds",
                  "rawType": "object",
                  "type": "string"
                },
                {
                  "name": "age",
                  "rawType": "float64",
                  "type": "float"
                },
                {
                  "name": "visits",
                  "rawType": "int64",
                  "type": "integer"
                },
                {
                  "name": "priority",
                  "rawType": "object",
                  "type": "unknown"
                }
              ],
              "ref": "aa621548-8d83-456a-876a-4e938ecc6bcb",
              "rows": [
                [
                  "a",
                  "Cranes",
                  "3.5",
                  "2",
                  "yes"
                ],
                [
                  "b",
                  "Cranes",
                  "4.0",
                  "4",
                  "yes"
                ],
                [
                  "c",
                  "plovers",
                  "1.5",
                  "3",
                  "no"
                ],
                [
                  "d",
                  "spoonbills",
                  null,
                  "4",
                  null
                ],
                [
                  "e",
                  "spoonbills",
                  "6.0",
                  "3",
                  "no"
                ],
                [
                  "f",
                  "Cranes",
                  "3.0",
                  "4",
                  "no"
                ],
                [
                  "g",
                  "plovers",
                  "5.5",
                  "2",
                  "no"
                ],
                [
                  "h",
                  "Cranes",
                  null,
                  "2",
                  "yes"
                ],
                [
                  "i",
                  "spoonbills",
                  "8.0",
                  "3",
                  "no"
                ],
                [
                  "j",
                  "spoonbills",
                  "4.0",
                  "2",
                  "no"
                ]
              ],
              "shape": {
                "columns": 4,
                "rows": 10
              }
            },
            "text/html": [
              "<div>\n",
              "<style scoped>\n",
              "    .dataframe tbody tr th:only-of-type {\n",
              "        vertical-align: middle;\n",
              "    }\n",
              "\n",
              "    .dataframe tbody tr th {\n",
              "        vertical-align: top;\n",
              "    }\n",
              "\n",
              "    .dataframe thead th {\n",
              "        text-align: right;\n",
              "    }\n",
              "</style>\n",
              "<table border=\"1\" class=\"dataframe\">\n",
              "  <thead>\n",
              "    <tr style=\"text-align: right;\">\n",
              "      <th></th>\n",
              "      <th>birds</th>\n",
              "      <th>age</th>\n",
              "      <th>visits</th>\n",
              "      <th>priority</th>\n",
              "    </tr>\n",
              "  </thead>\n",
              "  <tbody>\n",
              "    <tr>\n",
              "      <th>a</th>\n",
              "      <td>Cranes</td>\n",
              "      <td>3.5</td>\n",
              "      <td>2</td>\n",
              "      <td>yes</td>\n",
              "    </tr>\n",
              "    <tr>\n",
              "      <th>b</th>\n",
              "      <td>Cranes</td>\n",
              "      <td>4.0</td>\n",
              "      <td>4</td>\n",
              "      <td>yes</td>\n",
              "    </tr>\n",
              "    <tr>\n",
              "      <th>c</th>\n",
              "      <td>plovers</td>\n",
              "      <td>1.5</td>\n",
              "      <td>3</td>\n",
              "      <td>no</td>\n",
              "    </tr>\n",
              "    <tr>\n",
              "      <th>d</th>\n",
              "      <td>spoonbills</td>\n",
              "      <td>NaN</td>\n",
              "      <td>4</td>\n",
              "      <td>NaN</td>\n",
              "    </tr>\n",
              "    <tr>\n",
              "      <th>e</th>\n",
              "      <td>spoonbills</td>\n",
              "      <td>6.0</td>\n",
              "      <td>3</td>\n",
              "      <td>no</td>\n",
              "    </tr>\n",
              "    <tr>\n",
              "      <th>f</th>\n",
              "      <td>Cranes</td>\n",
              "      <td>3.0</td>\n",
              "      <td>4</td>\n",
              "      <td>no</td>\n",
              "    </tr>\n",
              "    <tr>\n",
              "      <th>g</th>\n",
              "      <td>plovers</td>\n",
              "      <td>5.5</td>\n",
              "      <td>2</td>\n",
              "      <td>no</td>\n",
              "    </tr>\n",
              "    <tr>\n",
              "      <th>h</th>\n",
              "      <td>Cranes</td>\n",
              "      <td>NaN</td>\n",
              "      <td>2</td>\n",
              "      <td>yes</td>\n",
              "    </tr>\n",
              "    <tr>\n",
              "      <th>i</th>\n",
              "      <td>spoonbills</td>\n",
              "      <td>8.0</td>\n",
              "      <td>3</td>\n",
              "      <td>no</td>\n",
              "    </tr>\n",
              "    <tr>\n",
              "      <th>j</th>\n",
              "      <td>spoonbills</td>\n",
              "      <td>4.0</td>\n",
              "      <td>2</td>\n",
              "      <td>no</td>\n",
              "    </tr>\n",
              "  </tbody>\n",
              "</table>\n",
              "</div>"
            ],
            "text/plain": [
              "        birds  age  visits priority\n",
              "a      Cranes  3.5       2      yes\n",
              "b      Cranes  4.0       4      yes\n",
              "c     plovers  1.5       3       no\n",
              "d  spoonbills  NaN       4      NaN\n",
              "e  spoonbills  6.0       3       no\n",
              "f      Cranes  3.0       4       no\n",
              "g     plovers  5.5       2       no\n",
              "h      Cranes  NaN       2      yes\n",
              "i  spoonbills  8.0       3       no\n",
              "j  spoonbills  4.0       2       no"
            ]
          },
          "execution_count": 12,
          "metadata": {},
          "output_type": "execute_result"
        }
      ],
      "source": [
        "#1 \n",
        "no_of_visits = birds[birds == 'Cranes']['visits'].sum()\n",
        "print(no_of_visits)\n",
        "\n",
        "#2\n",
        "birds['birds'].drop_duplicates().size\n",
        "\n",
        "#3\n",
        "# birds[birds.duplicated()]\n",
        "\n",
        "# #4\n",
        "birds.drop_duplicates(inplace = True)\n",
        "birds"
      ]
    },
    {
      "cell_type": "code",
      "execution_count": 9,
      "metadata": {},
      "outputs": [
        {
          "data": {
            "application/vnd.microsoft.datawrangler.viewer.v0+json": {
              "columns": [
                {
                  "name": "index",
                  "rawType": "object",
                  "type": "string"
                },
                {
                  "name": "visits",
                  "rawType": "float64",
                  "type": "float"
                }
              ],
              "ref": "18baf096-e718-48f0-af26-2a383c216c8e",
              "rows": [
                [
                  "a",
                  null
                ],
                [
                  "b",
                  null
                ],
                [
                  "c",
                  null
                ],
                [
                  "d",
                  null
                ],
                [
                  "e",
                  null
                ],
                [
                  "f",
                  null
                ],
                [
                  "g",
                  null
                ],
                [
                  "h",
                  null
                ],
                [
                  "i",
                  null
                ],
                [
                  "j",
                  null
                ]
              ],
              "shape": {
                "columns": 1,
                "rows": 10
              }
            },
            "text/plain": [
              "a   NaN\n",
              "b   NaN\n",
              "c   NaN\n",
              "d   NaN\n",
              "e   NaN\n",
              "f   NaN\n",
              "g   NaN\n",
              "h   NaN\n",
              "i   NaN\n",
              "j   NaN\n",
              "Name: visits, dtype: float64"
            ]
          },
          "execution_count": 9,
          "metadata": {},
          "output_type": "execute_result"
        }
      ],
      "source": [
        "birds[birds == 'Cranes']['visits']"
      ]
    },
    {
      "cell_type": "markdown",
      "metadata": {
        "id": "sqOZLR5YbpD3"
      },
      "source": [
        "##Question on IPL Data\n",
        "\n",
        "IPL Data Link :  https://drive.google.com/file/d/1yKVUuexl6lIKuFQy7uIPgDgXhJ0L4SIg/view?usp=share_link\n",
        "\n",
        "https://www.kaggle.com/datasets/vora1011/ipl-2008-to-2021-all-match-dataset?select=IPL_Matches_2008_2022.csv\n",
        "\n",
        "Download ipl matches 2008-2022 file."
      ]
    },
    {
      "cell_type": "markdown",
      "metadata": {
        "id": "MCNrLdLxbvuq"
      },
      "source": [
        "###`Q-5:` In IPL matches dataset some teams name has changed.\n",
        "You will have to consider them as same.\n",
        "```\n",
        "'Delhi Capitals' formerly as 'Delhi Daredevils'\n",
        "'Punjab Kings' formerly as 'Kings XI Punjab'\n",
        "'Rising Pune Supergiant' formerly as 'Rising Pune Supergiants'\n",
        "```\n",
        "You need to make changes accordingly. Consider current name for each teams.\n",
        "\n",
        "Be careful Gujrat Titans and Gujrat Lions are different teams."
      ]
    },
    {
      "cell_type": "code",
      "execution_count": 15,
      "metadata": {
        "id": "gf1uEhRlbunm"
      },
      "outputs": [
        {
          "data": {
            "text/plain": [
              "array(['Gujarat Titans', 'Rajasthan Royals', 'Lucknow Super Giants',\n",
              "       'Punjab Kings', 'Mumbai Indians', 'Royal Challengers Bangalore',\n",
              "       'Kolkata Knight Riders', 'Sunrisers Hyderabad', 'Delhi Capitals',\n",
              "       'Chennai Super Kings', 'Rising Pune Supergiant', 'Gujarat Lions',\n",
              "       'Pune Warriors', 'Deccan Chargers', 'Kochi Tuskers Kerala'],\n",
              "      dtype=object)"
            ]
          },
          "execution_count": 15,
          "metadata": {},
          "output_type": "execute_result"
        }
      ],
      "source": [
        "ipl = pd.read_csv('ipl-matches.csv')\n",
        "ipl['Team1'] = ipl['Team1'].apply(lambda x : 'Punjab Kings' if x == 'Kings XI Punjab' else x)\n",
        "ipl['Team2'] = ipl['Team2'].apply(lambda x : 'Punjab Kings' if x == 'Kings XI Punjab' else x)\n",
        "ipl['Team1'] = ipl['Team1'].apply(lambda x : 'Delhi Capitals' if x == 'Delhi Daredevils' else x)\n",
        "ipl['Team2'] = ipl['Team2'].apply(lambda x : 'Delhi Capitals' if x == 'Delhi Daredevils' else x)\n",
        "ipl['Team1'] = ipl['Team1'].apply(lambda x : 'Rising Pune Supergiant' if x == 'Rising Pune Supergiants' else x)\n",
        "ipl['Team2'] = ipl['Team2'].apply(lambda x : 'Rising Pune Supergiant' if x == 'Rising Pune Supergiants' else x)\n",
        "# ipl['Team1'].apply(lambda x : 'Punjab Kings' if x == 'Kings XI Punjab' else x)\n",
        "# ipl['Team1'].apply(lambda x : 'Punjab Kings' if x == 'Kings XI Punjab' else x)\n",
        "ipl['Team2'].unique()"
      ]
    },
    {
      "cell_type": "markdown",
      "metadata": {
        "id": "vL5TaqJxbzUd"
      },
      "source": [
        "###`Q-6` Write a code which can display the bar chart of top 5 teams who have played maximum number of matches in the IPL.\n",
        ">  Hint: Be careful the data is divided in 2 different cols(Team 1 and Team 2)\n"
      ]
    },
    {
      "cell_type": "code",
      "execution_count": 16,
      "metadata": {
        "id": "wqUs7AFbb1x_"
      },
      "outputs": [
        {
          "data": {
            "application/vnd.microsoft.datawrangler.viewer.v0+json": {
              "columns": [
                {
                  "name": "index",
                  "rawType": "object",
                  "type": "string"
                },
                {
                  "name": "1",
                  "rawType": "int64",
                  "type": "integer"
                }
              ],
              "ref": "eb1fd7ab-1db9-4a20-8460-0c8e81697bcc",
              "rows": [
                [
                  "Kochi Tuskers Kerala",
                  "14"
                ],
                [
                  "Lucknow Super Giants",
                  "15"
                ],
                [
                  "Gujarat Titans",
                  "16"
                ],
                [
                  "Rising Pune Supergiant",
                  "30"
                ],
                [
                  "Gujarat Lions",
                  "30"
                ],
                [
                  "Pune Warriors",
                  "46"
                ],
                [
                  "Deccan Chargers",
                  "75"
                ],
                [
                  "Sunrisers Hyderabad",
                  "152"
                ],
                [
                  "Rajasthan Royals",
                  "192"
                ],
                [
                  "Chennai Super Kings",
                  "208"
                ],
                [
                  "Punjab Kings",
                  "218"
                ],
                [
                  "Kolkata Knight Riders",
                  "223"
                ],
                [
                  "Delhi Capitals",
                  "224"
                ],
                [
                  "Royal Challengers Bangalore",
                  "226"
                ],
                [
                  "Mumbai Indians",
                  "231"
                ]
              ],
              "shape": {
                "columns": 1,
                "rows": 15
              }
            },
            "text/html": [
              "<div>\n",
              "<style scoped>\n",
              "    .dataframe tbody tr th:only-of-type {\n",
              "        vertical-align: middle;\n",
              "    }\n",
              "\n",
              "    .dataframe tbody tr th {\n",
              "        vertical-align: top;\n",
              "    }\n",
              "\n",
              "    .dataframe thead th {\n",
              "        text-align: right;\n",
              "    }\n",
              "</style>\n",
              "<table border=\"1\" class=\"dataframe\">\n",
              "  <thead>\n",
              "    <tr style=\"text-align: right;\">\n",
              "      <th></th>\n",
              "      <th>1</th>\n",
              "    </tr>\n",
              "    <tr>\n",
              "      <th>0</th>\n",
              "      <th></th>\n",
              "    </tr>\n",
              "  </thead>\n",
              "  <tbody>\n",
              "    <tr>\n",
              "      <th>Kochi Tuskers Kerala</th>\n",
              "      <td>14</td>\n",
              "    </tr>\n",
              "    <tr>\n",
              "      <th>Lucknow Super Giants</th>\n",
              "      <td>15</td>\n",
              "    </tr>\n",
              "    <tr>\n",
              "      <th>Gujarat Titans</th>\n",
              "      <td>16</td>\n",
              "    </tr>\n",
              "    <tr>\n",
              "      <th>Rising Pune Supergiant</th>\n",
              "      <td>30</td>\n",
              "    </tr>\n",
              "    <tr>\n",
              "      <th>Gujarat Lions</th>\n",
              "      <td>30</td>\n",
              "    </tr>\n",
              "    <tr>\n",
              "      <th>Pune Warriors</th>\n",
              "      <td>46</td>\n",
              "    </tr>\n",
              "    <tr>\n",
              "      <th>Deccan Chargers</th>\n",
              "      <td>75</td>\n",
              "    </tr>\n",
              "    <tr>\n",
              "      <th>Sunrisers Hyderabad</th>\n",
              "      <td>152</td>\n",
              "    </tr>\n",
              "    <tr>\n",
              "      <th>Rajasthan Royals</th>\n",
              "      <td>192</td>\n",
              "    </tr>\n",
              "    <tr>\n",
              "      <th>Chennai Super Kings</th>\n",
              "      <td>208</td>\n",
              "    </tr>\n",
              "    <tr>\n",
              "      <th>Punjab Kings</th>\n",
              "      <td>218</td>\n",
              "    </tr>\n",
              "    <tr>\n",
              "      <th>Kolkata Knight Riders</th>\n",
              "      <td>223</td>\n",
              "    </tr>\n",
              "    <tr>\n",
              "      <th>Delhi Capitals</th>\n",
              "      <td>224</td>\n",
              "    </tr>\n",
              "    <tr>\n",
              "      <th>Royal Challengers Bangalore</th>\n",
              "      <td>226</td>\n",
              "    </tr>\n",
              "    <tr>\n",
              "      <th>Mumbai Indians</th>\n",
              "      <td>231</td>\n",
              "    </tr>\n",
              "  </tbody>\n",
              "</table>\n",
              "</div>"
            ],
            "text/plain": [
              "                               1\n",
              "0                               \n",
              "Kochi Tuskers Kerala          14\n",
              "Lucknow Super Giants          15\n",
              "Gujarat Titans                16\n",
              "Rising Pune Supergiant        30\n",
              "Gujarat Lions                 30\n",
              "Pune Warriors                 46\n",
              "Deccan Chargers               75\n",
              "Sunrisers Hyderabad          152\n",
              "Rajasthan Royals             192\n",
              "Chennai Super Kings          208\n",
              "Punjab Kings                 218\n",
              "Kolkata Knight Riders        223\n",
              "Delhi Capitals               224\n",
              "Royal Challengers Bangalore  226\n",
              "Mumbai Indians               231"
            ]
          },
          "execution_count": 16,
          "metadata": {},
          "output_type": "execute_result"
        },
        {
          "data": {
            "image/png": "[encoded data removed]",
            "text/plain": [
              "<Figure size 640x480 with 1 Axes>"
            ]
          },
          "metadata": {},
          "output_type": "display_data"
        }
      ],
      "source": [
        "match = {}\n",
        "import matplotlib.pyplot as plt\n",
        "\n",
        "for item in ipl['Team1']:\n",
        "    if item not in match:\n",
        "        match[item] = 1\n",
        "    else:\n",
        "        match[item]+=1\n",
        "        \n",
        "for item in ipl['Team2']:\n",
        "    if item not in match:\n",
        "        match[item] = 1\n",
        "    else:\n",
        "        match[item]+=1\n",
        "\n",
        "# print(match)\n",
        "\n",
        "data = sorted(match.items(),key = lambda x : x[1])\n",
        "data1 = pd.DataFrame(data)\n",
        "data1.set_index(0,inplace = True)\n",
        "data1.iloc[-5:data1.shape[0]].plot.bar()\n",
        "data1"
      ]
    },
    {
      "cell_type": "markdown",
      "metadata": {
        "id": "VORfLMaVb3E2"
      },
      "source": [
        "###`Q-7:` Player who got Most no. of player of the match award playing against Mumbai Indians.\n",
        "> Just for this question assume player of the match award is given to players from winning team. Although this is true in most of the cases.\n"
      ]
    },
    {
      "cell_type": "code",
      "execution_count": 17,
      "metadata": {
        "id": "9e5ZROJgb5ie"
      },
      "outputs": [
        {
          "data": {
            "application/vnd.microsoft.datawrangler.viewer.v0+json": {
              "columns": [
                {
                  "name": "Player_of_Match",
                  "rawType": "object",
                  "type": "string"
                },
                {
                  "name": "count",
                  "rawType": "int64",
                  "type": "integer"
                }
              ],
              "ref": "9a788dbb-31c6-420c-b634-e454716eb88d",
              "rows": [
                [
                  "KL Rahul",
                  "4"
                ]
              ],
              "shape": {
                "columns": 1,
                "rows": 1
              }
            },
            "text/plain": [
              "Player_of_Match\n",
              "KL Rahul    4\n",
              "Name: count, dtype: int64"
            ]
          },
          "execution_count": 17,
          "metadata": {},
          "output_type": "execute_result"
        }
      ],
      "source": [
        "ipl['Team1'].unique()\n",
        "\n",
        "data = ipl[((ipl['Team1'] == 'Mumbai Indians') | (ipl['Team2'] == 'Mumbai Indians')) & ~(ipl['WinningTeam'] == 'Mumbai Indians')]\n",
        "data['Player_of_Match'].value_counts().head(1)"
      ]
    },
    {
      "cell_type": "markdown",
      "metadata": {
        "id": "cFLzm0egb7AT"
      },
      "source": [
        "###`Q-8:` Team1 vs Team2 Dashbord\n",
        "Create a function which will take two string(name of two teams) as input. Show win Loss record between them and player getting most player of the match award in matches between these two teams.\n",
        "```\n",
        "team1_vs_team2('Kolkata Knight Riders','Chennai Super Kings')\n",
        "```"
      ]
    },
    {
      "cell_type": "code",
      "execution_count": 19,
      "metadata": {
        "id": "2szkRN5Ab9Py"
      },
      "outputs": [
        {
          "name": "stdout",
          "output_type": "stream",
          "text": [
            "Total Match Played between Kolkata Knight Riders and Chennai Super Kings are 26\n",
            "Kolkata Knight Riders won 9 matches\n",
            "Chennai Super Kings won 17 matches\n",
            "    \n",
            "Man of the Match most time is RA Jadeja\n"
          ]
        }
      ],
      "source": [
        "\n",
        "\n",
        "def team1_vs_team2(x,y,data = ipl):\n",
        "    data1 = data[((data['Team1'] == x) & (data['Team2'] == y))|\n",
        "    ((data['Team1'] == y) & (data['Team2'] == x))]\n",
        "    match_played = data1.shape[0]\n",
        "    \n",
        "    x_won = data1['WinningTeam'].value_counts().loc[x]\n",
        "    y_won = data1['WinningTeam'].value_counts().loc[y]\n",
        "    \n",
        "    print('''Total Match Played between {} and {} are {}\n",
        "{} won {} matches\n",
        "{} won {} matches\n",
        "    '''.format(x,y,match_played,x,x_won,y,y_won))\n",
        "    print('Man of the Match most time is {}'.format(data1['Player_of_Match'].value_counts().index[0]))\n",
        "\n",
        "team1_vs_team2('Kolkata Knight Riders','Chennai Super Kings')"
      ]
    },
    {
      "cell_type": "markdown",
      "metadata": {
        "id": "sb0c3Gc1b-bd"
      },
      "source": [
        "### `Q-9:` Find out the top 7 cities where the matches of Kolkata Knight Riders are played frequently and plot the result as bar chart.\n",
        "\n",
        "*`.plot(kind = \"bar\")` can help you to plot the bar chart. Also you can learn more about this method from [here](https://pandas.pydata.org/docs/reference/api/pandas.DataFrame.plot.html)*\n",
        "\n"
      ]
    },
    {
      "cell_type": "code",
      "execution_count": 140,
      "metadata": {
        "id": "FH-Pq14ncAZy"
      },
      "outputs": [
        {
          "data": {
            "text/plain": [
              "<Axes: xlabel='City'>"
            ]
          },
          "execution_count": 140,
          "metadata": {},
          "output_type": "execute_result"
        },
        {
          "data": {
            "image/png": "[encoded data removed]",
            "text/plain": [
              "<Figure size 640x480 with 1 Axes>"
            ]
          },
          "metadata": {},
          "output_type": "display_data"
        }
      ],
      "source": [
        "kkr = ipl[(ipl['Team1'] == 'Kolkata Knight Riders') | (ipl['Team2'] == 'Kolkata Knight Riders')]\n",
        "kkr_venue = kkr['City'].value_counts()\n",
        "kkr_venue.head(7).plot(kind = 'bar')"
      ]
    },
    {
      "cell_type": "markdown",
      "metadata": {
        "id": "NPiPNoJUcBmk"
      },
      "source": [
        "### `Q-10:` Find out the average margin for the team Mumbai Indians for only the session 2011."
      ]
    },
    {
      "cell_type": "code",
      "execution_count": 22,
      "metadata": {
        "id": "WPbS12ThcEAj"
      },
      "outputs": [
        {
          "name": "stderr",
          "output_type": "stream",
          "text": [
            "C:\\Users\\axitk\\AppData\\Local\\Temp\\ipykernel_7872\\2576530046.py:2: UserWarning: Boolean Series key will be reindexed to match DataFrame index.\n",
            "  Mi_match_played = ipl_session[(ipl['Team1'] == 'Mumbai Indians') | (ipl['Team2'] == 'Mumbai Indians')].size\n",
            "C:\\Users\\axitk\\AppData\\Local\\Temp\\ipykernel_7872\\2576530046.py:3: UserWarning: Boolean Series key will be reindexed to match DataFrame index.\n",
            "  Mi_won_played = ipl_session[(ipl['WinningTeam'] == 'Mumbai Indians')].shape[0]\n"
          ]
        },
        {
          "data": {
            "text/plain": [
              "320"
            ]
          },
          "execution_count": 22,
          "metadata": {},
          "output_type": "execute_result"
        }
      ],
      "source": [
        "ipl_session = ipl[ipl['Season'] == '2011']\n",
        "Mi_match_played = ipl_session[(ipl['Team1'] == 'Mumbai Indians') | (ipl['Team2'] == 'Mumbai Indians')].size\n",
        "Mi_won_played = ipl_session[(ipl['WinningTeam'] == 'Mumbai Indians')].shape[0]\n",
        "Mi_match_played"
      ]
    },
    {
      "cell_type": "code",
      "execution_count": 21,
      "metadata": {},
      "outputs": [
        {
          "data": {
            "text/plain": [
              "2.5"
            ]
          },
          "execution_count": 21,
          "metadata": {},
          "output_type": "execute_result"
        }
      ],
      "source": [
        "100*Mi_won_played/Mi_match_played"
      ]
    },
    {
      "cell_type": "code",
      "execution_count": 23,
      "metadata": {},
      "outputs": [
        {
          "name": "stderr",
          "output_type": "stream",
          "text": [
            "C:\\Users\\axitk\\AppData\\Local\\Temp\\ipykernel_7872\\2976855522.py:2: UserWarning: Boolean Series key will be reindexed to match DataFrame index.\n",
            "  Mi_match_played = ipl_session[(ipl['Team1'] == 'Mumbai Indians') | (ipl['Team2'] == 'Mumbai Indians')].Margin.mean()\n"
          ]
        },
        {
          "data": {
            "text/plain": [
              "np.float64(19.25)"
            ]
          },
          "execution_count": 23,
          "metadata": {},
          "output_type": "execute_result"
        }
      ],
      "source": [
        "ipl_session = ipl[ipl['Season'] == '2011']\n",
        "Mi_match_played = ipl_session[(ipl['Team1'] == 'Mumbai Indians') | (ipl['Team2'] == 'Mumbai Indians')].Margin.mean()\n",
        "Mi_match_played"
      ]
    },
    {
      "cell_type": "code",
      "execution_count": null,
      "metadata": {},
      "outputs": [],
      "source": []
    }
  ],
  "metadata": {
    "colab": {
      "provenance": []
    },
    "kernelspec": {
      "display_name": "Machinelearning_new",
      "language": "python",
      "name": "python3"
    },
    "language_info": {
      "codemirror_mode": {
        "name": "ipython",
        "version": 3
      },
      "file_extension": ".py",
      "mimetype": "text/x-python",
      "name": "python",
      "nbconvert_exporter": "python",
      "pygments_lexer": "ipython3",
      "version": "3.11.11"
    }
  },
  "nbformat": 4,
  "nbformat_minor": 0
}
