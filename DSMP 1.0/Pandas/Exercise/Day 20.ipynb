{
  "cells": [
    {
      "cell_type": "code",
      "execution_count": null,
      "metadata": {
        "id": "tWO36cIgWlev"
      },
      "outputs": [],
      "source": [
        "import pandas as pd\n",
        "import numpy as np"
      ]
    },
    {
      "cell_type": "markdown",
      "metadata": {
        "id": "zMEk5SAYWqbG"
      },
      "source": [
        "DATA DESCRIPTION\n",
        "```\n",
        "file name -> Columns\n",
        "quater-i.csv -> ['order_id', 'quantity', 'item_id', 'choice_description_id' 'item_price']\n",
        "items.csv -> ['item_id', 'item_name']\n",
        "```\n",
        "Dataset Link - https://drive.google.com/drive/folders/1Z0kaFybvgFeczeUj4dldUnhTdloLqLsL?usp=share_link"
      ]
    },
    {
      "cell_type": "code",
      "execution_count": 9,
      "metadata": {
        "id": "5qxjEvSwfDkI"
      },
      "outputs": [
        {
          "data": {
            "application/vnd.microsoft.datawrangler.viewer.v0+json": {
              "columns": [
                {
                  "name": "index",
                  "rawType": "int64",
                  "type": "integer"
                },
                {
                  "name": "order_id",
                  "rawType": "int64",
                  "type": "integer"
                },
                {
                  "name": "quantity",
                  "rawType": "int64",
                  "type": "integer"
                },
                {
                  "name": "item_id",
                  "rawType": "int64",
                  "type": "integer"
                },
                {
                  "name": "choice_description_id",
                  "rawType": "int64",
                  "type": "integer"
                },
                {
                  "name": "item_price",
                  "rawType": "object",
                  "type": "string"
                }
              ],
              "ref": "a88231e6-ea7a-4491-b0e7-45fd63a5cee7",
              "rows": [
                [
                  "0",
                  "1",
                  "1",
                  "1",
                  "1",
                  "$3.39 "
                ],
                [
                  "1",
                  "1",
                  "1",
                  "2",
                  "2",
                  "$3.39 "
                ],
                [
                  "2",
                  "2",
                  "2",
                  "4",
                  "3",
                  "$16.98 "
                ],
                [
                  "3",
                  "4",
                  "1",
                  "7",
                  "6",
                  "$9.25 "
                ],
                [
                  "4",
                  "6",
                  "1",
                  "9",
                  "8",
                  "$8.75 "
                ],
                [
                  "5",
                  "6",
                  "1",
                  "10",
                  "9",
                  "$8.75 "
                ],
                [
                  "6",
                  "7",
                  "1",
                  "4",
                  "10",
                  "$11.25 "
                ],
                [
                  "7",
                  "9",
                  "1",
                  "11",
                  "12",
                  "$8.49 "
                ],
                [
                  "8",
                  "10",
                  "1",
                  "8",
                  "0",
                  "$4.45 "
                ],
                [
                  "9",
                  "11",
                  "1",
                  "2",
                  "16",
                  "$3.39 "
                ],
                [
                  "10",
                  "12",
                  "1",
                  "1",
                  "18",
                  "$3.39 "
                ],
                [
                  "11",
                  "13",
                  "1",
                  "0",
                  "0",
                  "$2.39 "
                ],
                [
                  "12",
                  "13",
                  "1",
                  "4",
                  "19",
                  "$8.49 "
                ],
                [
                  "13",
                  "15",
                  "1",
                  "11",
                  "22",
                  "$8.49 "
                ],
                [
                  "14",
                  "15",
                  "1",
                  "3",
                  "0",
                  "$2.39 "
                ],
                [
                  "15",
                  "16",
                  "1",
                  "5",
                  "0",
                  "$1.69 "
                ],
                [
                  "16",
                  "17",
                  "1",
                  "15",
                  "24",
                  "$8.99 "
                ],
                [
                  "17",
                  "17",
                  "1",
                  "16",
                  "0",
                  "$1.09 "
                ],
                [
                  "18",
                  "18",
                  "1",
                  "17",
                  "0",
                  "$2.95 "
                ],
                [
                  "19",
                  "19",
                  "1",
                  "18",
                  "27",
                  "$11.75 "
                ],
                [
                  "20",
                  "20",
                  "1",
                  "8",
                  "0",
                  "$4.45 "
                ],
                [
                  "21",
                  "20",
                  "1",
                  "4",
                  "28",
                  "$11.25 "
                ],
                [
                  "22",
                  "20",
                  "1",
                  "6",
                  "29",
                  "$11.75 "
                ],
                [
                  "23",
                  "20",
                  "1",
                  "20",
                  "30",
                  "$8.75 "
                ],
                [
                  "24",
                  "21",
                  "1",
                  "6",
                  "32",
                  "$8.99 "
                ],
                [
                  "25",
                  "21",
                  "1",
                  "1",
                  "33",
                  "$3.39 "
                ],
                [
                  "26",
                  "22",
                  "1",
                  "6",
                  "34",
                  "$8.99 "
                ],
                [
                  "27",
                  "23",
                  "2",
                  "12",
                  "36",
                  "$2.18 "
                ],
                [
                  "28",
                  "24",
                  "1",
                  "11",
                  "37",
                  "$10.98 "
                ],
                [
                  "29",
                  "26",
                  "1",
                  "22",
                  "39",
                  "$9.25 "
                ],
                [
                  "30",
                  "27",
                  "1",
                  "18",
                  "27",
                  "$11.75 "
                ],
                [
                  "31",
                  "27",
                  "1",
                  "19",
                  "0",
                  "$2.15 "
                ],
                [
                  "32",
                  "28",
                  "1",
                  "8",
                  "0",
                  "$4.45 "
                ],
                [
                  "33",
                  "29",
                  "1",
                  "6",
                  "24",
                  "$8.99 "
                ],
                [
                  "34",
                  "30",
                  "1",
                  "1",
                  "33",
                  "$3.39 "
                ],
                [
                  "35",
                  "30",
                  "1",
                  "6",
                  "45",
                  "$8.99 "
                ],
                [
                  "36",
                  "31",
                  "1",
                  "6",
                  "46",
                  "$8.99 "
                ],
                [
                  "37",
                  "33",
                  "1",
                  "8",
                  "0",
                  "$4.45 "
                ],
                [
                  "38",
                  "34",
                  "1",
                  "10",
                  "49",
                  "$8.75 "
                ],
                [
                  "39",
                  "34",
                  "1",
                  "4",
                  "50",
                  "$8.75 "
                ],
                [
                  "40",
                  "35",
                  "1",
                  "19",
                  "0",
                  "$2.15 "
                ],
                [
                  "41",
                  "38",
                  "1",
                  "16",
                  "0",
                  "$1.09 "
                ],
                [
                  "42",
                  "40",
                  "1",
                  "21",
                  "59",
                  "$11.75 "
                ],
                [
                  "43",
                  "40",
                  "1",
                  "21",
                  "60",
                  "$11.75 "
                ],
                [
                  "44",
                  "41",
                  "1",
                  "14",
                  "62",
                  "$11.75 "
                ],
                [
                  "45",
                  "43",
                  "1",
                  "15",
                  "64",
                  "$11.75 "
                ],
                [
                  "46",
                  "44",
                  "1",
                  "4",
                  "66",
                  "$8.75 "
                ],
                [
                  "47",
                  "44",
                  "1",
                  "8",
                  "0",
                  "$4.45 "
                ],
                [
                  "48",
                  "45",
                  "1",
                  "6",
                  "67",
                  "$8.99 "
                ],
                [
                  "49",
                  "46",
                  "1",
                  "23",
                  "68",
                  "$8.49 "
                ]
              ],
              "shape": {
                "columns": 5,
                "rows": 2275
              }
            },
            "text/html": [
              "<div>\n",
              "<style scoped>\n",
              "    .dataframe tbody tr th:only-of-type {\n",
              "        vertical-align: middle;\n",
              "    }\n",
              "\n",
              "    .dataframe tbody tr th {\n",
              "        vertical-align: top;\n",
              "    }\n",
              "\n",
              "    .dataframe thead th {\n",
              "        text-align: right;\n",
              "    }\n",
              "</style>\n",
              "<table border=\"1\" class=\"dataframe\">\n",
              "  <thead>\n",
              "    <tr style=\"text-align: right;\">\n",
              "      <th></th>\n",
              "      <th>order_id</th>\n",
              "      <th>quantity</th>\n",
              "      <th>item_id</th>\n",
              "      <th>choice_description_id</th>\n",
              "      <th>item_price</th>\n",
              "    </tr>\n",
              "  </thead>\n",
              "  <tbody>\n",
              "    <tr>\n",
              "      <th>0</th>\n",
              "      <td>1</td>\n",
              "      <td>1</td>\n",
              "      <td>1</td>\n",
              "      <td>1</td>\n",
              "      <td>$3.39</td>\n",
              "    </tr>\n",
              "    <tr>\n",
              "      <th>1</th>\n",
              "      <td>1</td>\n",
              "      <td>1</td>\n",
              "      <td>2</td>\n",
              "      <td>2</td>\n",
              "      <td>$3.39</td>\n",
              "    </tr>\n",
              "    <tr>\n",
              "      <th>2</th>\n",
              "      <td>2</td>\n",
              "      <td>2</td>\n",
              "      <td>4</td>\n",
              "      <td>3</td>\n",
              "      <td>$16.98</td>\n",
              "    </tr>\n",
              "    <tr>\n",
              "      <th>3</th>\n",
              "      <td>4</td>\n",
              "      <td>1</td>\n",
              "      <td>7</td>\n",
              "      <td>6</td>\n",
              "      <td>$9.25</td>\n",
              "    </tr>\n",
              "    <tr>\n",
              "      <th>4</th>\n",
              "      <td>6</td>\n",
              "      <td>1</td>\n",
              "      <td>9</td>\n",
              "      <td>8</td>\n",
              "      <td>$8.75</td>\n",
              "    </tr>\n",
              "    <tr>\n",
              "      <th>...</th>\n",
              "      <td>...</td>\n",
              "      <td>...</td>\n",
              "      <td>...</td>\n",
              "      <td>...</td>\n",
              "      <td>...</td>\n",
              "    </tr>\n",
              "    <tr>\n",
              "      <th>2270</th>\n",
              "      <td>1831</td>\n",
              "      <td>1</td>\n",
              "      <td>16</td>\n",
              "      <td>0</td>\n",
              "      <td>$1.50</td>\n",
              "    </tr>\n",
              "    <tr>\n",
              "      <th>2271</th>\n",
              "      <td>1833</td>\n",
              "      <td>1</td>\n",
              "      <td>6</td>\n",
              "      <td>276</td>\n",
              "      <td>$11.75</td>\n",
              "    </tr>\n",
              "    <tr>\n",
              "      <th>2272</th>\n",
              "      <td>1833</td>\n",
              "      <td>1</td>\n",
              "      <td>6</td>\n",
              "      <td>904</td>\n",
              "      <td>$11.75</td>\n",
              "    </tr>\n",
              "    <tr>\n",
              "      <th>2273</th>\n",
              "      <td>1834</td>\n",
              "      <td>1</td>\n",
              "      <td>20</td>\n",
              "      <td>303</td>\n",
              "      <td>$8.75</td>\n",
              "    </tr>\n",
              "    <tr>\n",
              "      <th>2274</th>\n",
              "      <td>1834</td>\n",
              "      <td>1</td>\n",
              "      <td>20</td>\n",
              "      <td>30</td>\n",
              "      <td>$8.75</td>\n",
              "    </tr>\n",
              "  </tbody>\n",
              "</table>\n",
              "<p>2275 rows × 5 columns</p>\n",
              "</div>"
            ],
            "text/plain": [
              "      order_id  quantity  item_id  choice_description_id item_price\n",
              "0            1         1        1                      1     $3.39 \n",
              "1            1         1        2                      2     $3.39 \n",
              "2            2         2        4                      3    $16.98 \n",
              "3            4         1        7                      6     $9.25 \n",
              "4            6         1        9                      8     $8.75 \n",
              "...        ...       ...      ...                    ...        ...\n",
              "2270      1831         1       16                      0     $1.50 \n",
              "2271      1833         1        6                    276    $11.75 \n",
              "2272      1833         1        6                    904    $11.75 \n",
              "2273      1834         1       20                    303     $8.75 \n",
              "2274      1834         1       20                     30     $8.75 \n",
              "\n",
              "[2275 rows x 5 columns]"
            ]
          },
          "execution_count": 9,
          "metadata": {},
          "output_type": "execute_result"
        }
      ],
      "source": [
        "# import like this\n",
        "# items_path = \"https://drive.google.com/file/d/1MokLL6WAVRrA4TcWSCocTG_U7H-iN4Nw/view?usp=drive_link\"\n",
        "# q1_path = \"/content/drive/MyDrive/DSMP/01 - Python/Daily Tasks/Week 7/data/quarter-1.csv\"\n",
        "# q2_path = \"/content/drive/MyDrive/DSMP/01 - Python/Daily Tasks/Week 7/data/quarter-2.csv\"\n",
        "# q3_path = \"/content/drive/MyDrive/DSMP/01 - Python/Daily Tasks/Week 7/data/quarter-3.csv\"\n",
        "\n",
        "items = pd.read_csv('Dataset\\items.csv')\n",
        "q1= pd.read_csv('Dataset\\quarter-1.csv')\n",
        "q2 = pd.read_csv('Dataset\\quarter-2.csv')\n",
        "q3 = pd.read_csv('Dataset\\quarter-3.csv')\n",
        "q1"
      ]
    },
    {
      "cell_type": "markdown",
      "metadata": {
        "id": "zEhub0BcW1Ma"
      },
      "source": [
        "###`Q:1-5`\n",
        "1. You are given three quater files, your job is to append these three files and make a single dataframe.\n",
        "2. Have a index as Q-1 Q-2 Q-3 for respective quater files in the dataframe\n",
        "3. Your are given a file items.csv which has item_id and item_name. Find out most sold items in each quarter.\n",
        "4. Find out items which has made most revenue in each quarter.\n",
        "5. Find out avg order price of each quarter.\n",
        "\n",
        "***Note: item_price is given as str with $ sign, in earlier task you have converted this to rupees, here too first convert item_price field in rupees.***"
      ]
    },
    {
      "cell_type": "code",
      "execution_count": 7,
      "metadata": {
        "id": "nwICqy-RWyEf"
      },
      "outputs": [
        {
          "data": {
            "application/vnd.microsoft.datawrangler.viewer.v0+json": {
              "columns": [
                {
                  "name": "index",
                  "rawType": "int64",
                  "type": "integer"
                },
                {
                  "name": "order_id",
                  "rawType": "object",
                  "type": "unknown"
                },
                {
                  "name": "quantity",
                  "rawType": "object",
                  "type": "unknown"
                },
                {
                  "name": "item_id",
                  "rawType": "object",
                  "type": "unknown"
                },
                {
                  "name": "choice_description_id",
                  "rawType": "object",
                  "type": "unknown"
                },
                {
                  "name": "item_price",
                  "rawType": "object",
                  "type": "string"
                }
              ],
              "ref": "a8c67e5c-53a1-4b10-b9bc-32ed17825aad",
              "rows": [
                [
                  "0",
                  "1",
                  "1",
                  "1",
                  "1",
                  "$3.39 "
                ],
                [
                  "1",
                  "1",
                  "1",
                  "2",
                  "2",
                  "$3.39 "
                ],
                [
                  "2",
                  "2",
                  "2",
                  "4",
                  "3",
                  "$16.98 "
                ],
                [
                  "3",
                  "4",
                  "1",
                  "7",
                  "6",
                  "$9.25 "
                ],
                [
                  "4",
                  "6",
                  "1",
                  "9",
                  "8",
                  "$8.75 "
                ],
                [
                  "5",
                  "6",
                  "1",
                  "10",
                  "9",
                  "$8.75 "
                ],
                [
                  "6",
                  "7",
                  "1",
                  "4",
                  "10",
                  "$11.25 "
                ],
                [
                  "7",
                  "9",
                  "1",
                  "11",
                  "12",
                  "$8.49 "
                ],
                [
                  "8",
                  "10",
                  "1",
                  "8",
                  "0",
                  "$4.45 "
                ],
                [
                  "9",
                  "11",
                  "1",
                  "2",
                  "16",
                  "$3.39 "
                ],
                [
                  "10",
                  "12",
                  "1",
                  "1",
                  "18",
                  "$3.39 "
                ],
                [
                  "11",
                  "13",
                  "1",
                  "0",
                  "0",
                  "$2.39 "
                ],
                [
                  "12",
                  "13",
                  "1",
                  "4",
                  "19",
                  "$8.49 "
                ],
                [
                  "13",
                  "15",
                  "1",
                  "11",
                  "22",
                  "$8.49 "
                ],
                [
                  "14",
                  "15",
                  "1",
                  "3",
                  "0",
                  "$2.39 "
                ],
                [
                  "15",
                  "16",
                  "1",
                  "5",
                  "0",
                  "$1.69 "
                ],
                [
                  "16",
                  "17",
                  "1",
                  "15",
                  "24",
                  "$8.99 "
                ],
                [
                  "17",
                  "17",
                  "1",
                  "16",
                  "0",
                  "$1.09 "
                ],
                [
                  "18",
                  "18",
                  "1",
                  "17",
                  "0",
                  "$2.95 "
                ],
                [
                  "19",
                  "19",
                  "1",
                  "18",
                  "27",
                  "$11.75 "
                ],
                [
                  "20",
                  "20",
                  "1",
                  "8",
                  "0",
                  "$4.45 "
                ],
                [
                  "21",
                  "20",
                  "1",
                  "4",
                  "28",
                  "$11.25 "
                ],
                [
                  "22",
                  "20",
                  "1",
                  "6",
                  "29",
                  "$11.75 "
                ],
                [
                  "23",
                  "20",
                  "1",
                  "20",
                  "30",
                  "$8.75 "
                ],
                [
                  "24",
                  "21",
                  "1",
                  "6",
                  "32",
                  "$8.99 "
                ],
                [
                  "25",
                  "21",
                  "1",
                  "1",
                  "33",
                  "$3.39 "
                ],
                [
                  "26",
                  "22",
                  "1",
                  "6",
                  "34",
                  "$8.99 "
                ],
                [
                  "27",
                  "23",
                  "2",
                  "12",
                  "36",
                  "$2.18 "
                ],
                [
                  "28",
                  "24",
                  "1",
                  "11",
                  "37",
                  "$10.98 "
                ],
                [
                  "29",
                  "26",
                  "1",
                  "22",
                  "39",
                  "$9.25 "
                ],
                [
                  "30",
                  "27",
                  "1",
                  "18",
                  "27",
                  "$11.75 "
                ],
                [
                  "31",
                  "27",
                  "1",
                  "19",
                  "0",
                  "$2.15 "
                ],
                [
                  "32",
                  "28",
                  "1",
                  "8",
                  "0",
                  "$4.45 "
                ],
                [
                  "33",
                  "29",
                  "1",
                  "6",
                  "24",
                  "$8.99 "
                ],
                [
                  "34",
                  "30",
                  "1",
                  "1",
                  "33",
                  "$3.39 "
                ],
                [
                  "35",
                  "30",
                  "1",
                  "6",
                  "45",
                  "$8.99 "
                ],
                [
                  "36",
                  "31",
                  "1",
                  "6",
                  "46",
                  "$8.99 "
                ],
                [
                  "37",
                  "33",
                  "1",
                  "8",
                  "0",
                  "$4.45 "
                ],
                [
                  "38",
                  "34",
                  "1",
                  "10",
                  "49",
                  "$8.75 "
                ],
                [
                  "39",
                  "34",
                  "1",
                  "4",
                  "50",
                  "$8.75 "
                ],
                [
                  "40",
                  "35",
                  "1",
                  "19",
                  "0",
                  "$2.15 "
                ],
                [
                  "41",
                  "38",
                  "1",
                  "16",
                  "0",
                  "$1.09 "
                ],
                [
                  "42",
                  "40",
                  "1",
                  "21",
                  "59",
                  "$11.75 "
                ],
                [
                  "43",
                  "40",
                  "1",
                  "21",
                  "60",
                  "$11.75 "
                ],
                [
                  "44",
                  "41",
                  "1",
                  "14",
                  "62",
                  "$11.75 "
                ],
                [
                  "45",
                  "43",
                  "1",
                  "15",
                  "64",
                  "$11.75 "
                ],
                [
                  "46",
                  "44",
                  "1",
                  "4",
                  "66",
                  "$8.75 "
                ],
                [
                  "47",
                  "44",
                  "1",
                  "8",
                  "0",
                  "$4.45 "
                ],
                [
                  "48",
                  "45",
                  "1",
                  "6",
                  "67",
                  "$8.99 "
                ],
                [
                  "49",
                  "46",
                  "1",
                  "23",
                  "68",
                  "$8.49 "
                ]
              ],
              "shape": {
                "columns": 5,
                "rows": 4622
              }
            },
            "text/html": [
              "<div>\n",
              "<style scoped>\n",
              "    .dataframe tbody tr th:only-of-type {\n",
              "        vertical-align: middle;\n",
              "    }\n",
              "\n",
              "    .dataframe tbody tr th {\n",
              "        vertical-align: top;\n",
              "    }\n",
              "\n",
              "    .dataframe thead th {\n",
              "        text-align: right;\n",
              "    }\n",
              "</style>\n",
              "<table border=\"1\" class=\"dataframe\">\n",
              "  <thead>\n",
              "    <tr style=\"text-align: right;\">\n",
              "      <th></th>\n",
              "      <th>order_id</th>\n",
              "      <th>quantity</th>\n",
              "      <th>item_id</th>\n",
              "      <th>choice_description_id</th>\n",
              "      <th>item_price</th>\n",
              "    </tr>\n",
              "  </thead>\n",
              "  <tbody>\n",
              "    <tr>\n",
              "      <th>0</th>\n",
              "      <td>1</td>\n",
              "      <td>1</td>\n",
              "      <td>1</td>\n",
              "      <td>1</td>\n",
              "      <td>$3.39</td>\n",
              "    </tr>\n",
              "    <tr>\n",
              "      <th>1</th>\n",
              "      <td>1</td>\n",
              "      <td>1</td>\n",
              "      <td>2</td>\n",
              "      <td>2</td>\n",
              "      <td>$3.39</td>\n",
              "    </tr>\n",
              "    <tr>\n",
              "      <th>2</th>\n",
              "      <td>2</td>\n",
              "      <td>2</td>\n",
              "      <td>4</td>\n",
              "      <td>3</td>\n",
              "      <td>$16.98</td>\n",
              "    </tr>\n",
              "    <tr>\n",
              "      <th>3</th>\n",
              "      <td>4</td>\n",
              "      <td>1</td>\n",
              "      <td>7</td>\n",
              "      <td>6</td>\n",
              "      <td>$9.25</td>\n",
              "    </tr>\n",
              "    <tr>\n",
              "      <th>4</th>\n",
              "      <td>6</td>\n",
              "      <td>1</td>\n",
              "      <td>9</td>\n",
              "      <td>8</td>\n",
              "      <td>$8.75</td>\n",
              "    </tr>\n",
              "    <tr>\n",
              "      <th>...</th>\n",
              "      <td>...</td>\n",
              "      <td>...</td>\n",
              "      <td>...</td>\n",
              "      <td>...</td>\n",
              "      <td>...</td>\n",
              "    </tr>\n",
              "    <tr>\n",
              "      <th>4617</th>\n",
              "      <td>1829</td>\n",
              "      <td>1</td>\n",
              "      <td>23</td>\n",
              "      <td>92</td>\n",
              "      <td>$11.25</td>\n",
              "    </tr>\n",
              "    <tr>\n",
              "      <th>4618</th>\n",
              "      <td>1830</td>\n",
              "      <td>1</td>\n",
              "      <td>23</td>\n",
              "      <td>1043</td>\n",
              "      <td>$11.25</td>\n",
              "    </tr>\n",
              "    <tr>\n",
              "      <th>4619</th>\n",
              "      <td>1832</td>\n",
              "      <td>1</td>\n",
              "      <td>10</td>\n",
              "      <td>116</td>\n",
              "      <td>$8.75</td>\n",
              "    </tr>\n",
              "    <tr>\n",
              "      <th>4620</th>\n",
              "      <td>1832</td>\n",
              "      <td>1</td>\n",
              "      <td>8</td>\n",
              "      <td>0</td>\n",
              "      <td>$4.45</td>\n",
              "    </tr>\n",
              "    <tr>\n",
              "      <th>4621</th>\n",
              "      <td>1834</td>\n",
              "      <td>1</td>\n",
              "      <td>20</td>\n",
              "      <td>515</td>\n",
              "      <td>$11.25</td>\n",
              "    </tr>\n",
              "  </tbody>\n",
              "</table>\n",
              "<p>4622 rows × 5 columns</p>\n",
              "</div>"
            ],
            "text/plain": [
              "     order_id quantity item_id choice_description_id item_price\n",
              "0           1        1       1                     1     $3.39 \n",
              "1           1        1       2                     2     $3.39 \n",
              "2           2        2       4                     3    $16.98 \n",
              "3           4        1       7                     6     $9.25 \n",
              "4           6        1       9                     8     $8.75 \n",
              "...       ...      ...     ...                   ...        ...\n",
              "4617     1829        1      23                    92    $11.25 \n",
              "4618     1830        1      23                  1043    $11.25 \n",
              "4619     1832        1      10                   116     $8.75 \n",
              "4620     1832        1       8                     0     $4.45 \n",
              "4621     1834        1      20                   515    $11.25 \n",
              "\n",
              "[4622 rows x 5 columns]"
            ]
          },
          "execution_count": 7,
          "metadata": {},
          "output_type": "execute_result"
        }
      ],
      "source": [
        "#1 Merge Quarter File\n",
        "quarter = pd.concat([q1,q2,q3],ignore_index = True)\n",
        "quarter"
      ]
    },
    {
      "cell_type": "code",
      "execution_count": 12,
      "metadata": {},
      "outputs": [
        {
          "data": {
            "application/vnd.microsoft.datawrangler.viewer.v0+json": {
              "columns": [
                {
                  "name": "index",
                  "rawType": "int64",
                  "type": "integer"
                },
                {
                  "name": "level_0",
                  "rawType": "object",
                  "type": "string"
                },
                {
                  "name": "level_1",
                  "rawType": "int64",
                  "type": "integer"
                },
                {
                  "name": "order_id",
                  "rawType": "object",
                  "type": "unknown"
                },
                {
                  "name": "quantity",
                  "rawType": "object",
                  "type": "unknown"
                },
                {
                  "name": "item_id",
                  "rawType": "object",
                  "type": "unknown"
                },
                {
                  "name": "choice_description_id",
                  "rawType": "object",
                  "type": "unknown"
                },
                {
                  "name": "item_price",
                  "rawType": "object",
                  "type": "string"
                }
              ],
              "ref": "f580b0f2-1de2-458f-837a-6f7c27fd9b01",
              "rows": [
                [
                  "0",
                  "q1",
                  "0",
                  "1",
                  "1",
                  "1",
                  "1",
                  "$3.39 "
                ],
                [
                  "1",
                  "q1",
                  "1",
                  "1",
                  "1",
                  "2",
                  "2",
                  "$3.39 "
                ],
                [
                  "2",
                  "q1",
                  "2",
                  "2",
                  "2",
                  "4",
                  "3",
                  "$16.98 "
                ],
                [
                  "3",
                  "q1",
                  "3",
                  "4",
                  "1",
                  "7",
                  "6",
                  "$9.25 "
                ],
                [
                  "4",
                  "q1",
                  "4",
                  "6",
                  "1",
                  "9",
                  "8",
                  "$8.75 "
                ]
              ],
              "shape": {
                "columns": 7,
                "rows": 5
              }
            },
            "text/html": [
              "<div>\n",
              "<style scoped>\n",
              "    .dataframe tbody tr th:only-of-type {\n",
              "        vertical-align: middle;\n",
              "    }\n",
              "\n",
              "    .dataframe tbody tr th {\n",
              "        vertical-align: top;\n",
              "    }\n",
              "\n",
              "    .dataframe thead th {\n",
              "        text-align: right;\n",
              "    }\n",
              "</style>\n",
              "<table border=\"1\" class=\"dataframe\">\n",
              "  <thead>\n",
              "    <tr style=\"text-align: right;\">\n",
              "      <th></th>\n",
              "      <th>level_0</th>\n",
              "      <th>level_1</th>\n",
              "      <th>order_id</th>\n",
              "      <th>quantity</th>\n",
              "      <th>item_id</th>\n",
              "      <th>choice_description_id</th>\n",
              "      <th>item_price</th>\n",
              "    </tr>\n",
              "  </thead>\n",
              "  <tbody>\n",
              "    <tr>\n",
              "      <th>0</th>\n",
              "      <td>q1</td>\n",
              "      <td>0</td>\n",
              "      <td>1</td>\n",
              "      <td>1</td>\n",
              "      <td>1</td>\n",
              "      <td>1</td>\n",
              "      <td>$3.39</td>\n",
              "    </tr>\n",
              "    <tr>\n",
              "      <th>1</th>\n",
              "      <td>q1</td>\n",
              "      <td>1</td>\n",
              "      <td>1</td>\n",
              "      <td>1</td>\n",
              "      <td>2</td>\n",
              "      <td>2</td>\n",
              "      <td>$3.39</td>\n",
              "    </tr>\n",
              "    <tr>\n",
              "      <th>2</th>\n",
              "      <td>q1</td>\n",
              "      <td>2</td>\n",
              "      <td>2</td>\n",
              "      <td>2</td>\n",
              "      <td>4</td>\n",
              "      <td>3</td>\n",
              "      <td>$16.98</td>\n",
              "    </tr>\n",
              "    <tr>\n",
              "      <th>3</th>\n",
              "      <td>q1</td>\n",
              "      <td>3</td>\n",
              "      <td>4</td>\n",
              "      <td>1</td>\n",
              "      <td>7</td>\n",
              "      <td>6</td>\n",
              "      <td>$9.25</td>\n",
              "    </tr>\n",
              "    <tr>\n",
              "      <th>4</th>\n",
              "      <td>q1</td>\n",
              "      <td>4</td>\n",
              "      <td>6</td>\n",
              "      <td>1</td>\n",
              "      <td>9</td>\n",
              "      <td>8</td>\n",
              "      <td>$8.75</td>\n",
              "    </tr>\n",
              "  </tbody>\n",
              "</table>\n",
              "</div>"
            ],
            "text/plain": [
              "  level_0  level_1 order_id quantity item_id choice_description_id item_price\n",
              "0      q1        0        1        1       1                     1     $3.39 \n",
              "1      q1        1        1        1       2                     2     $3.39 \n",
              "2      q1        2        2        2       4                     3    $16.98 \n",
              "3      q1        3        4        1       7                     6     $9.25 \n",
              "4      q1        4        6        1       9                     8     $8.75 "
            ]
          },
          "execution_count": 12,
          "metadata": {},
          "output_type": "execute_result"
        }
      ],
      "source": [
        "#2\n",
        "quarter = pd.concat([q1,q2,q3],keys=['q1','q2','q3'])\n",
        "quarter = quarter.reset_index()\n",
        "quarter.head()"
      ]
    },
    {
      "cell_type": "code",
      "execution_count": 14,
      "metadata": {},
      "outputs": [
        {
          "data": {
            "application/vnd.microsoft.datawrangler.viewer.v0+json": {
              "columns": [
                {
                  "name": "index",
                  "rawType": "int64",
                  "type": "integer"
                },
                {
                  "name": "level_0",
                  "rawType": "object",
                  "type": "string"
                },
                {
                  "name": "level_1",
                  "rawType": "int64",
                  "type": "integer"
                },
                {
                  "name": "order_id",
                  "rawType": "object",
                  "type": "unknown"
                },
                {
                  "name": "quantity",
                  "rawType": "object",
                  "type": "unknown"
                },
                {
                  "name": "item_id",
                  "rawType": "object",
                  "type": "unknown"
                },
                {
                  "name": "choice_description_id",
                  "rawType": "object",
                  "type": "unknown"
                },
                {
                  "name": "item_price",
                  "rawType": "object",
                  "type": "string"
                },
                {
                  "name": "item_name",
                  "rawType": "object",
                  "type": "string"
                }
              ],
              "ref": "bdb118a0-acb0-4fa0-8364-e06274ad3d32",
              "rows": [
                [
                  "0",
                  "q1",
                  "0",
                  "1",
                  "1",
                  "1",
                  "1",
                  "$3.39 ",
                  "Izze"
                ],
                [
                  "1",
                  "q1",
                  "1",
                  "1",
                  "1",
                  "2",
                  "2",
                  "$3.39 ",
                  "Nantucket Nectar"
                ],
                [
                  "2",
                  "q1",
                  "2",
                  "2",
                  "2",
                  "4",
                  "3",
                  "$16.98 ",
                  "Chicken Bowl"
                ],
                [
                  "3",
                  "q1",
                  "3",
                  "4",
                  "1",
                  "7",
                  "6",
                  "$9.25 ",
                  "Steak Soft Tacos"
                ],
                [
                  "4",
                  "q1",
                  "4",
                  "6",
                  "1",
                  "9",
                  "8",
                  "$8.75 ",
                  "Chicken Crispy Tacos"
                ],
                [
                  "5",
                  "q1",
                  "5",
                  "6",
                  "1",
                  "10",
                  "9",
                  "$8.75 ",
                  "Chicken Soft Tacos"
                ],
                [
                  "6",
                  "q1",
                  "6",
                  "7",
                  "1",
                  "4",
                  "10",
                  "$11.25 ",
                  "Chicken Bowl"
                ],
                [
                  "7",
                  "q1",
                  "7",
                  "9",
                  "1",
                  "11",
                  "12",
                  "$8.49 ",
                  "Chicken Burrito"
                ],
                [
                  "8",
                  "q1",
                  "8",
                  "10",
                  "1",
                  "8",
                  "0",
                  "$4.45 ",
                  "Chips and Guacamole"
                ],
                [
                  "9",
                  "q1",
                  "9",
                  "11",
                  "1",
                  "2",
                  "16",
                  "$3.39 ",
                  "Nantucket Nectar"
                ],
                [
                  "10",
                  "q1",
                  "10",
                  "12",
                  "1",
                  "1",
                  "18",
                  "$3.39 ",
                  "Izze"
                ],
                [
                  "11",
                  "q1",
                  "11",
                  "13",
                  "1",
                  "0",
                  "0",
                  "$2.39 ",
                  "Chips and Fresh Tomato Salsa"
                ],
                [
                  "12",
                  "q1",
                  "12",
                  "13",
                  "1",
                  "4",
                  "19",
                  "$8.49 ",
                  "Chicken Bowl"
                ],
                [
                  "13",
                  "q1",
                  "13",
                  "15",
                  "1",
                  "11",
                  "22",
                  "$8.49 ",
                  "Chicken Burrito"
                ],
                [
                  "14",
                  "q1",
                  "14",
                  "15",
                  "1",
                  "3",
                  "0",
                  "$2.39 ",
                  "Chips and Tomatillo-Green Chili Salsa"
                ],
                [
                  "15",
                  "q1",
                  "15",
                  "16",
                  "1",
                  "5",
                  "0",
                  "$1.69 ",
                  "Side of Chips"
                ],
                [
                  "16",
                  "q1",
                  "16",
                  "17",
                  "1",
                  "15",
                  "24",
                  "$8.99 ",
                  "Carnitas Bowl"
                ],
                [
                  "17",
                  "q1",
                  "17",
                  "17",
                  "1",
                  "16",
                  "0",
                  "$1.09 ",
                  "Bottled Water"
                ],
                [
                  "18",
                  "q1",
                  "18",
                  "18",
                  "1",
                  "17",
                  "0",
                  "$2.95 ",
                  "Chips and Tomatillo Green Chili Salsa"
                ],
                [
                  "19",
                  "q1",
                  "19",
                  "19",
                  "1",
                  "18",
                  "27",
                  "$11.75 ",
                  "Barbacoa Bowl"
                ],
                [
                  "20",
                  "q1",
                  "20",
                  "20",
                  "1",
                  "8",
                  "0",
                  "$4.45 ",
                  "Chips and Guacamole"
                ],
                [
                  "21",
                  "q1",
                  "21",
                  "20",
                  "1",
                  "4",
                  "28",
                  "$11.25 ",
                  "Chicken Bowl"
                ],
                [
                  "22",
                  "q1",
                  "22",
                  "20",
                  "1",
                  "6",
                  "29",
                  "$11.75 ",
                  "Steak Burrito"
                ],
                [
                  "23",
                  "q1",
                  "23",
                  "20",
                  "1",
                  "20",
                  "30",
                  "$8.75 ",
                  "Chicken Salad Bowl"
                ],
                [
                  "24",
                  "q1",
                  "24",
                  "21",
                  "1",
                  "6",
                  "32",
                  "$8.99 ",
                  "Steak Burrito"
                ],
                [
                  "25",
                  "q1",
                  "25",
                  "21",
                  "1",
                  "1",
                  "33",
                  "$3.39 ",
                  "Izze"
                ],
                [
                  "26",
                  "q1",
                  "26",
                  "22",
                  "1",
                  "6",
                  "34",
                  "$8.99 ",
                  "Steak Burrito"
                ],
                [
                  "27",
                  "q1",
                  "27",
                  "23",
                  "2",
                  "12",
                  "36",
                  "$2.18 ",
                  "Canned Soda"
                ],
                [
                  "28",
                  "q1",
                  "28",
                  "24",
                  "1",
                  "11",
                  "37",
                  "$10.98 ",
                  "Chicken Burrito"
                ],
                [
                  "29",
                  "q1",
                  "29",
                  "26",
                  "1",
                  "22",
                  "39",
                  "$9.25 ",
                  "Barbacoa Soft Tacos"
                ],
                [
                  "30",
                  "q1",
                  "30",
                  "27",
                  "1",
                  "18",
                  "27",
                  "$11.75 ",
                  "Barbacoa Bowl"
                ],
                [
                  "31",
                  "q1",
                  "31",
                  "27",
                  "1",
                  "19",
                  "0",
                  "$2.15 ",
                  "Chips"
                ],
                [
                  "32",
                  "q1",
                  "32",
                  "28",
                  "1",
                  "8",
                  "0",
                  "$4.45 ",
                  "Chips and Guacamole"
                ],
                [
                  "33",
                  "q1",
                  "33",
                  "29",
                  "1",
                  "6",
                  "24",
                  "$8.99 ",
                  "Steak Burrito"
                ],
                [
                  "34",
                  "q1",
                  "34",
                  "30",
                  "1",
                  "1",
                  "33",
                  "$3.39 ",
                  "Izze"
                ],
                [
                  "35",
                  "q1",
                  "35",
                  "30",
                  "1",
                  "6",
                  "45",
                  "$8.99 ",
                  "Steak Burrito"
                ],
                [
                  "36",
                  "q1",
                  "36",
                  "31",
                  "1",
                  "6",
                  "46",
                  "$8.99 ",
                  "Steak Burrito"
                ],
                [
                  "37",
                  "q1",
                  "37",
                  "33",
                  "1",
                  "8",
                  "0",
                  "$4.45 ",
                  "Chips and Guacamole"
                ],
                [
                  "38",
                  "q1",
                  "38",
                  "34",
                  "1",
                  "10",
                  "49",
                  "$8.75 ",
                  "Chicken Soft Tacos"
                ],
                [
                  "39",
                  "q1",
                  "39",
                  "34",
                  "1",
                  "4",
                  "50",
                  "$8.75 ",
                  "Chicken Bowl"
                ],
                [
                  "40",
                  "q1",
                  "40",
                  "35",
                  "1",
                  "19",
                  "0",
                  "$2.15 ",
                  "Chips"
                ],
                [
                  "41",
                  "q1",
                  "41",
                  "38",
                  "1",
                  "16",
                  "0",
                  "$1.09 ",
                  "Bottled Water"
                ],
                [
                  "42",
                  "q1",
                  "42",
                  "40",
                  "1",
                  "21",
                  "59",
                  "$11.75 ",
                  "Steak Bowl"
                ],
                [
                  "43",
                  "q1",
                  "43",
                  "40",
                  "1",
                  "21",
                  "60",
                  "$11.75 ",
                  "Steak Bowl"
                ],
                [
                  "44",
                  "q1",
                  "44",
                  "41",
                  "1",
                  "14",
                  "62",
                  "$11.75 ",
                  "Carnitas Burrito"
                ],
                [
                  "45",
                  "q1",
                  "45",
                  "43",
                  "1",
                  "15",
                  "64",
                  "$11.75 ",
                  "Carnitas Bowl"
                ],
                [
                  "46",
                  "q1",
                  "46",
                  "44",
                  "1",
                  "4",
                  "66",
                  "$8.75 ",
                  "Chicken Bowl"
                ],
                [
                  "47",
                  "q1",
                  "47",
                  "44",
                  "1",
                  "8",
                  "0",
                  "$4.45 ",
                  "Chips and Guacamole"
                ],
                [
                  "48",
                  "q1",
                  "48",
                  "45",
                  "1",
                  "6",
                  "67",
                  "$8.99 ",
                  "Steak Burrito"
                ],
                [
                  "49",
                  "q1",
                  "49",
                  "46",
                  "1",
                  "23",
                  "68",
                  "$8.49 ",
                  "Veggie Burrito"
                ]
              ],
              "shape": {
                "columns": 8,
                "rows": 4622
              }
            },
            "text/html": [
              "<div>\n",
              "<style scoped>\n",
              "    .dataframe tbody tr th:only-of-type {\n",
              "        vertical-align: middle;\n",
              "    }\n",
              "\n",
              "    .dataframe tbody tr th {\n",
              "        vertical-align: top;\n",
              "    }\n",
              "\n",
              "    .dataframe thead th {\n",
              "        text-align: right;\n",
              "    }\n",
              "</style>\n",
              "<table border=\"1\" class=\"dataframe\">\n",
              "  <thead>\n",
              "    <tr style=\"text-align: right;\">\n",
              "      <th></th>\n",
              "      <th>level_0</th>\n",
              "      <th>level_1</th>\n",
              "      <th>order_id</th>\n",
              "      <th>quantity</th>\n",
              "      <th>item_id</th>\n",
              "      <th>choice_description_id</th>\n",
              "      <th>item_price</th>\n",
              "      <th>item_name</th>\n",
              "    </tr>\n",
              "  </thead>\n",
              "  <tbody>\n",
              "    <tr>\n",
              "      <th>0</th>\n",
              "      <td>q1</td>\n",
              "      <td>0</td>\n",
              "      <td>1</td>\n",
              "      <td>1</td>\n",
              "      <td>1</td>\n",
              "      <td>1</td>\n",
              "      <td>$3.39</td>\n",
              "      <td>Izze</td>\n",
              "    </tr>\n",
              "    <tr>\n",
              "      <th>1</th>\n",
              "      <td>q1</td>\n",
              "      <td>1</td>\n",
              "      <td>1</td>\n",
              "      <td>1</td>\n",
              "      <td>2</td>\n",
              "      <td>2</td>\n",
              "      <td>$3.39</td>\n",
              "      <td>Nantucket Nectar</td>\n",
              "    </tr>\n",
              "    <tr>\n",
              "      <th>2</th>\n",
              "      <td>q1</td>\n",
              "      <td>2</td>\n",
              "      <td>2</td>\n",
              "      <td>2</td>\n",
              "      <td>4</td>\n",
              "      <td>3</td>\n",
              "      <td>$16.98</td>\n",
              "      <td>Chicken Bowl</td>\n",
              "    </tr>\n",
              "    <tr>\n",
              "      <th>3</th>\n",
              "      <td>q1</td>\n",
              "      <td>3</td>\n",
              "      <td>4</td>\n",
              "      <td>1</td>\n",
              "      <td>7</td>\n",
              "      <td>6</td>\n",
              "      <td>$9.25</td>\n",
              "      <td>Steak Soft Tacos</td>\n",
              "    </tr>\n",
              "    <tr>\n",
              "      <th>4</th>\n",
              "      <td>q1</td>\n",
              "      <td>4</td>\n",
              "      <td>6</td>\n",
              "      <td>1</td>\n",
              "      <td>9</td>\n",
              "      <td>8</td>\n",
              "      <td>$8.75</td>\n",
              "      <td>Chicken Crispy Tacos</td>\n",
              "    </tr>\n",
              "    <tr>\n",
              "      <th>...</th>\n",
              "      <td>...</td>\n",
              "      <td>...</td>\n",
              "      <td>...</td>\n",
              "      <td>...</td>\n",
              "      <td>...</td>\n",
              "      <td>...</td>\n",
              "      <td>...</td>\n",
              "      <td>...</td>\n",
              "    </tr>\n",
              "    <tr>\n",
              "      <th>4617</th>\n",
              "      <td>q2</td>\n",
              "      <td>2342</td>\n",
              "      <td>1829</td>\n",
              "      <td>1</td>\n",
              "      <td>23</td>\n",
              "      <td>92</td>\n",
              "      <td>$11.25</td>\n",
              "      <td>Veggie Burrito</td>\n",
              "    </tr>\n",
              "    <tr>\n",
              "      <th>4618</th>\n",
              "      <td>q2</td>\n",
              "      <td>2343</td>\n",
              "      <td>1830</td>\n",
              "      <td>1</td>\n",
              "      <td>23</td>\n",
              "      <td>1043</td>\n",
              "      <td>$11.25</td>\n",
              "      <td>Veggie Burrito</td>\n",
              "    </tr>\n",
              "    <tr>\n",
              "      <th>4619</th>\n",
              "      <td>q2</td>\n",
              "      <td>2344</td>\n",
              "      <td>1832</td>\n",
              "      <td>1</td>\n",
              "      <td>10</td>\n",
              "      <td>116</td>\n",
              "      <td>$8.75</td>\n",
              "      <td>Chicken Soft Tacos</td>\n",
              "    </tr>\n",
              "    <tr>\n",
              "      <th>4620</th>\n",
              "      <td>q2</td>\n",
              "      <td>2345</td>\n",
              "      <td>1832</td>\n",
              "      <td>1</td>\n",
              "      <td>8</td>\n",
              "      <td>0</td>\n",
              "      <td>$4.45</td>\n",
              "      <td>Chips and Guacamole</td>\n",
              "    </tr>\n",
              "    <tr>\n",
              "      <th>4621</th>\n",
              "      <td>q2</td>\n",
              "      <td>2346</td>\n",
              "      <td>1834</td>\n",
              "      <td>1</td>\n",
              "      <td>20</td>\n",
              "      <td>515</td>\n",
              "      <td>$11.25</td>\n",
              "      <td>Chicken Salad Bowl</td>\n",
              "    </tr>\n",
              "  </tbody>\n",
              "</table>\n",
              "<p>4622 rows × 8 columns</p>\n",
              "</div>"
            ],
            "text/plain": [
              "     level_0  level_1 order_id quantity item_id choice_description_id  \\\n",
              "0         q1        0        1        1       1                     1   \n",
              "1         q1        1        1        1       2                     2   \n",
              "2         q1        2        2        2       4                     3   \n",
              "3         q1        3        4        1       7                     6   \n",
              "4         q1        4        6        1       9                     8   \n",
              "...      ...      ...      ...      ...     ...                   ...   \n",
              "4617      q2     2342     1829        1      23                    92   \n",
              "4618      q2     2343     1830        1      23                  1043   \n",
              "4619      q2     2344     1832        1      10                   116   \n",
              "4620      q2     2345     1832        1       8                     0   \n",
              "4621      q2     2346     1834        1      20                   515   \n",
              "\n",
              "     item_price             item_name  \n",
              "0        $3.39                   Izze  \n",
              "1        $3.39       Nantucket Nectar  \n",
              "2       $16.98           Chicken Bowl  \n",
              "3        $9.25       Steak Soft Tacos  \n",
              "4        $8.75   Chicken Crispy Tacos  \n",
              "...         ...                   ...  \n",
              "4617    $11.25         Veggie Burrito  \n",
              "4618    $11.25         Veggie Burrito  \n",
              "4619     $8.75     Chicken Soft Tacos  \n",
              "4620     $4.45    Chips and Guacamole  \n",
              "4621    $11.25     Chicken Salad Bowl  \n",
              "\n",
              "[4622 rows x 8 columns]"
            ]
          },
          "execution_count": 14,
          "metadata": {},
          "output_type": "execute_result"
        }
      ],
      "source": [
        "#3\n",
        "quarter_item = quarter.merge(items,how = 'left',on = 'item_id')\n",
        "quarter_item"
      ]
    },
    {
      "cell_type": "code",
      "execution_count": 28,
      "metadata": {},
      "outputs": [
        {
          "data": {
            "application/vnd.microsoft.datawrangler.viewer.v0+json": {
              "columns": [
                {
                  "name": "('level_0', 'item_name')",
                  "rawType": "object",
                  "type": "unknown"
                },
                {
                  "name": "count",
                  "rawType": "int64",
                  "type": "integer"
                }
              ],
              "ref": "fe77cb82-d426-44f6-8b40-6942ac2eae31",
              "rows": [
                [
                  "('q2', 'Chicken Bowl')",
                  "375"
                ],
                [
                  "('q1', 'Chicken Bowl')",
                  "351"
                ]
              ],
              "shape": {
                "columns": 1,
                "rows": 2
              }
            },
            "text/plain": [
              "level_0  item_name   \n",
              "q2       Chicken Bowl    375\n",
              "q1       Chicken Bowl    351\n",
              "Name: count, dtype: int64"
            ]
          },
          "execution_count": 28,
          "metadata": {},
          "output_type": "execute_result"
        }
      ],
      "source": [
        "quarter_item.groupby(['level_0','item_name'])['item_name'].value_counts().sort_values(ascending = False).head(2)"
      ]
    },
    {
      "cell_type": "code",
      "execution_count": null,
      "metadata": {},
      "outputs": [
        {
          "data": {
            "text/plain": [
              "<pandas.core.groupby.generic.SeriesGroupBy object at 0x0000023B48464790>"
            ]
          },
          "execution_count": 48,
          "metadata": {},
          "output_type": "execute_result"
        }
      ],
      "source": [
        "#4\n",
        "# quarter_item['item_price'] = quarter_item['item_price'].apply(lambda x : float(x.replace('$','').strip()))\n",
        "# quarter_item\n",
        "quarter_item.groupby(['level_0','item_name'])['item_price'].sum().reset_index().groupby('level_0').sort_values(ascending = False).head(2)"
      ]
    },
    {
      "cell_type": "code",
      "execution_count": 42,
      "metadata": {},
      "outputs": [
        {
          "data": {
            "application/vnd.microsoft.datawrangler.viewer.v0+json": {
              "columns": [
                {
                  "name": "level_0",
                  "rawType": "object",
                  "type": "string"
                },
                {
                  "name": "item_price",
                  "rawType": "float64",
                  "type": "float"
                }
              ],
              "ref": "469c9011-01ab-4f10-b726-468a97f0a8d2",
              "rows": [
                [
                  "q1",
                  "7.741252996100401"
                ],
                [
                  "q2",
                  "7.404731782106782"
                ]
              ],
              "shape": {
                "columns": 1,
                "rows": 2
              }
            },
            "text/plain": [
              "level_0\n",
              "q1    7.741253\n",
              "q2    7.404732\n",
              "Name: item_price, dtype: float64"
            ]
          },
          "execution_count": 42,
          "metadata": {},
          "output_type": "execute_result"
        }
      ],
      "source": [
        "quarter_item.groupby(['level_0','order_id'])['item_price'].mean().reset_index().groupby('level_0')['item_price'].mean()"
      ]
    },
    {
      "cell_type": "markdown",
      "metadata": {
        "id": "IRg-rNsDW-Ca"
      },
      "source": [
        "###`Q-6` From the IPL wala dataset you have to find the Purple cap holder each season.\n",
        "\n",
        "*Note: Bowler with most no wickets in a season gets purple cap. If more than one bowler have same no of wickets in the season, one with least ecomnomy among them is purple cap holder.*\n",
        "\n",
        "Bowler's Economy = runs-conceded per six balls"
      ]
    },
    {
      "cell_type": "code",
      "execution_count": 211,
      "metadata": {
        "id": "yQeUfliHXKJm"
      },
      "outputs": [
        {
          "data": {
            "text/plain": [
              "array([nan, 'caught', 'caught and bowled', 'run out', 'bowled', 'stumped',\n",
              "       'lbw', 'hit wicket', 'retired hurt', 'retired out',\n",
              "       'obstructing the field'], dtype=object)"
            ]
          },
          "execution_count": 211,
          "metadata": {},
          "output_type": "execute_result"
        }
      ],
      "source": [
        "ipl_df1 = pd.read_csv('Dataset\\ipl_deliveries.csv')\n",
        "ipl_df2 = pd.read_csv('Dataset\\ipl-matches.csv')\n",
        "\n",
        "df = ipl_df2.merge(ipl_df1,how='inner',on ='ID')\n",
        "df['kind'].unique()"
      ]
    },
    {
      "cell_type": "code",
      "execution_count": null,
      "metadata": {},
      "outputs": [
        {
          "data": {
            "application/vnd.microsoft.datawrangler.viewer.v0+json": {
              "columns": [
                {
                  "name": "('Season', 'bowler')",
                  "rawType": "object",
                  "type": "unknown"
                },
                {
                  "name": "0",
                  "rawType": "float64",
                  "type": "float"
                }
              ],
              "ref": "dccad98a-c244-445d-b230-565d571af377",
              "rows": [
                [
                  "('2007/08', 'A Kumble')",
                  "7.983050847457626"
                ],
                [
                  "('2007/08', 'A Mishra')",
                  "6.829268292682927"
                ],
                [
                  "('2007/08', 'A Nehra')",
                  "7.65"
                ],
                [
                  "('2007/08', 'A Nel')",
                  "10.333333333333334"
                ],
                [
                  "('2007/08', 'A Symonds')",
                  "14.454545454545455"
                ],
                [
                  "('2007/08', 'AA Noffke')",
                  "9.84"
                ],
                [
                  "('2007/08', 'AB Agarkar')",
                  "7.535714285714286"
                ],
                [
                  "('2007/08', 'AB Dinda')",
                  "6.514285714285714"
                ],
                [
                  "('2007/08', 'AD Mascarenhas')",
                  "7.4399999999999995"
                ],
                [
                  "('2007/08', 'AM Nayar')",
                  "9.627906976744185"
                ],
                [
                  "('2007/08', 'Abdur Razzak')",
                  "12.428571428571427"
                ],
                [
                  "('2007/08', 'B Akhil')",
                  "7.885714285714286"
                ],
                [
                  "('2007/08', 'B Geeves')",
                  "11.142857142857144"
                ],
                [
                  "('2007/08', 'B Lee')",
                  "7.151515151515151"
                ],
                [
                  "('2007/08', 'BAW Mendis')",
                  "6.0"
                ],
                [
                  "('2007/08', 'CK Kapugedera')",
                  "17.294117647058822"
                ],
                [
                  "('2007/08', 'CL White')",
                  "20.57142857142857"
                ],
                [
                  "('2007/08', 'CRD Fernando')",
                  "7.6875"
                ],
                [
                  "('2007/08', 'D Kalyankrishna')",
                  "10.559999999999999"
                ],
                [
                  "('2007/08', 'D Salunkhe')",
                  "9.411764705882353"
                ],
                [
                  "('2007/08', 'DB Ravi Teja')",
                  "9.5"
                ],
                [
                  "('2007/08', 'DJ Bravo')",
                  "7.922651933701657"
                ],
                [
                  "('2007/08', 'DJ Hussey')",
                  "10.177215189873419"
                ],
                [
                  "('2007/08', 'DJ Thornely')",
                  "5.454545454545455"
                ],
                [
                  "('2007/08', 'DL Vettori')",
                  "6.75"
                ],
                [
                  "('2007/08', 'DNT Zoysa')",
                  "8.695652173913043"
                ],
                [
                  "('2007/08', 'DP Vijaykumar')",
                  "7.735849056603773"
                ],
                [
                  "('2007/08', 'DR Smith')",
                  "7.217391304347826"
                ],
                [
                  "('2007/08', 'DS Kulkarni')",
                  "7.523316062176167"
                ],
                [
                  "('2007/08', 'DW Steyn')",
                  "6.437246963562753"
                ],
                [
                  "('2007/08', 'GD McGrath')",
                  "6.674772036474164"
                ],
                [
                  "('2007/08', 'Gagandeep Singh')",
                  "10.142857142857142"
                ],
                [
                  "('2007/08', 'Harbhajan Singh')",
                  "8.129032258064516"
                ],
                [
                  "('2007/08', 'I Sharma')",
                  "7.849624060150376"
                ],
                [
                  "('2007/08', 'IK Pathan')",
                  "6.446428571428571"
                ],
                [
                  "('2007/08', 'Iqbal Abdulla')",
                  "7.333333333333333"
                ],
                [
                  "('2007/08', 'JA Morkel')",
                  "8.012903225806452"
                ],
                [
                  "('2007/08', 'JDP Oram')",
                  "8.94"
                ],
                [
                  "('2007/08', 'JH Kallis')",
                  "9.156398104265403"
                ],
                [
                  "('2007/08', 'JR Hopes')",
                  "10.0"
                ],
                [
                  "('2007/08', 'Joginder Sharma')",
                  "9.151898734177216"
                ],
                [
                  "('2007/08', 'K Goel')",
                  "12.5"
                ],
                [
                  "('2007/08', 'L Balaji')",
                  "8.575609756097561"
                ],
                [
                  "('2007/08', 'LPC Silva')",
                  "21.0"
                ],
                [
                  "('2007/08', 'LR Shukla')",
                  "9.692307692307692"
                ],
                [
                  "('2007/08', 'M Kartik')",
                  "8.898876404494382"
                ],
                [
                  "('2007/08', 'M Muralitharan')",
                  "6.764227642276423"
                ],
                [
                  "('2007/08', 'M Ntini')",
                  "7.23943661971831"
                ],
                [
                  "('2007/08', 'MA Khote')",
                  "10.4"
                ],
                [
                  "('2007/08', 'MF Maharoof')",
                  "6.769911504424779"
                ]
              ],
              "shape": {
                "columns": 1,
                "rows": 1673
              }
            },
            "text/plain": [
              "Season   bowler           \n",
              "2007/08  A Kumble              7.983051\n",
              "         A Mishra              6.829268\n",
              "         A Nehra               7.650000\n",
              "         A Nel                10.333333\n",
              "         A Symonds            14.454545\n",
              "                                ...    \n",
              "2022     VR Iyer              11.500000\n",
              "         Washington Sundar     8.435294\n",
              "         YBK Jaiswal          36.000000\n",
              "         YS Chahal             7.496503\n",
              "         Yash Dayal            8.663415\n",
              "Length: 1673, dtype: float64"
            ]
          },
          "execution_count": 77,
          "metadata": {},
          "output_type": "execute_result"
        }
      ],
      "source": [
        "#finding bowler Economy\n",
        "bowler_overs = df.groupby(['Season','bowler'])['ballnumber'].count()/6\n",
        "total_runs_consceded = df.groupby(['Season','bowler'])['total_run'].sum()\n",
        "\n",
        "bowler_economy = total_runs_consceded/bowler_overs \n",
        "bowler_economy"
      ]
    },
    {
      "cell_type": "code",
      "execution_count": null,
      "metadata": {},
      "outputs": [
        {
          "ename": "TypeError",
          "evalue": "'DataFrameGroupBy' object does not support item assignment",
          "output_type": "error",
          "traceback": [
            "\u001b[1;31m---------------------------------------------------------------------------\u001b[0m",
            "\u001b[1;31mTypeError\u001b[0m                                 Traceback (most recent call last)",
            "Cell \u001b[1;32mIn[95], line 4\u001b[0m\n\u001b[0;32m      2\u001b[0m bowler_wicket \u001b[38;5;241m=\u001b[39m temp_df\u001b[38;5;241m.\u001b[39mgroupby([\u001b[38;5;124m'\u001b[39m\u001b[38;5;124mSeason\u001b[39m\u001b[38;5;124m'\u001b[39m,\u001b[38;5;124m'\u001b[39m\u001b[38;5;124mbowler\u001b[39m\u001b[38;5;124m'\u001b[39m])[\u001b[38;5;124m'\u001b[39m\u001b[38;5;124misWicketDelivery\u001b[39m\u001b[38;5;124m'\u001b[39m]\u001b[38;5;241m.\u001b[39mcount()\u001b[38;5;241m.\u001b[39mreset_index()\n\u001b[0;32m      3\u001b[0m bowler_wicket[\u001b[38;5;124m'\u001b[39m\u001b[38;5;124mEconomy\u001b[39m\u001b[38;5;124m'\u001b[39m] \u001b[38;5;241m=\u001b[39m \u001b[38;5;241m0\u001b[39m\n\u001b[1;32m----> 4\u001b[0m bowler_wicket\u001b[38;5;241m.\u001b[39mgroupby([\u001b[38;5;124m'\u001b[39m\u001b[38;5;124mSeason\u001b[39m\u001b[38;5;124m'\u001b[39m,\u001b[38;5;124m'\u001b[39m\u001b[38;5;124mbowler\u001b[39m\u001b[38;5;124m'\u001b[39m])[\u001b[38;5;124m'\u001b[39m\u001b[38;5;124mEconomy\u001b[39m\u001b[38;5;124m'\u001b[39m] \u001b[38;5;241m=\u001b[39m bowler_economy\n\u001b[0;32m      5\u001b[0m bowler_wicket\n",
            "\u001b[1;31mTypeError\u001b[0m: 'DataFrameGroupBy' object does not support item assignment"
          ]
        }
      ],
      "source": [
        "temp_df = df[df['isWicketDelivery'] == True]\n",
        "bowler_wicket = temp_df.groupby(['Season','bowler'])['isWicketDelivery'].count().reset_index()\n",
        "bowler_wicket['Economy'] = 0\n",
        "\n",
        "\n",
        "for groups,item in bowler_wicket.groupby(['Season','bowler']):\n",
        "    item['Economy'] = bowler_economy"
      ]
    },
    {
      "cell_type": "code",
      "execution_count": null,
      "metadata": {},
      "outputs": [],
      "source": [
        ".reset_index().groupby('Season').first()"
      ]
    },
    {
      "cell_type": "markdown",
      "metadata": {
        "id": "pmJJB0Q6XMWy"
      },
      "source": [
        "###`Q-7:` Best bowler in death overs.\n",
        "*Note: Have taken most no of wickets in case of tie with least economy*\n",
        "\n",
        "Death Overs - [16-20]"
      ]
    },
    {
      "cell_type": "code",
      "execution_count": null,
      "metadata": {
        "id": "s2t1IXf-XLak"
      },
      "outputs": [],
      "source": [
        "temp_df = df[df['overs']>16 & df['isWicketDelivery']]"
      ]
    },
    {
      "cell_type": "markdown",
      "metadata": {
        "id": "BHU3PYRTXbPc"
      },
      "source": [
        "###`Q-8` Batsman record season wise\n",
        "\n",
        "Make a function which takes a input `batsman_name` and it returns a dataframe.\n",
        "Columns of the data frame are - `['Season','Innings', 'TotalRuns', 'Avg', 'HighestScore','StrikeRate']`.\n",
        "* In result make `Season` column as index.\n",
        "\n",
        "* Avg - total_runs/ no of time got out. - player_out column will help.\n",
        "* StrikeRate -(total_runs/ balls faced) * 100- wides are not included in batsman ball faced counts. No balls are included. -> Extra_type column will help\n",
        "* Batsman Can score runs on No Balls.\n",
        "* Batsman can get out on No Ball or Wides. And even while being on non-striker. Keep these things in mind before masking."
      ]
    },
    {
      "cell_type": "code",
      "execution_count": 221,
      "metadata": {
        "id": "3RQTt5ELXdbH"
      },
      "outputs": [
        {
          "data": {
            "application/vnd.microsoft.datawrangler.viewer.v0+json": {
              "columns": [
                {
                  "name": "index",
                  "rawType": "int64",
                  "type": "integer"
                },
                {
                  "name": "Season",
                  "rawType": "object",
                  "type": "string"
                },
                {
                  "name": "Innings",
                  "rawType": "int64",
                  "type": "integer"
                },
                {
                  "name": "TotalRuns",
                  "rawType": "int64",
                  "type": "integer"
                },
                {
                  "name": "Avg",
                  "rawType": "float64",
                  "type": "float"
                },
                {
                  "name": "HighestScore",
                  "rawType": "int64",
                  "type": "integer"
                },
                {
                  "name": "StrikeRate",
                  "rawType": "float64",
                  "type": "float"
                }
              ],
              "ref": "cd7f6bfc-72be-4ee2-8a73-76d4fd233335",
              "rows": [
                [
                  "0",
                  "2007/08",
                  "11",
                  "165",
                  "15.0",
                  "38",
                  "105.09554140127389"
                ],
                [
                  "1",
                  "2009",
                  "13",
                  "246",
                  "18.92",
                  "50",
                  "112.32876712328768"
                ],
                [
                  "2",
                  "2009/10",
                  "13",
                  "306",
                  "23.54",
                  "58",
                  "144.33962264150944"
                ],
                [
                  "3",
                  "2011",
                  "16",
                  "556",
                  "34.75",
                  "71",
                  "120.8695652173913"
                ],
                [
                  "4",
                  "2012",
                  "15",
                  "364",
                  "24.27",
                  "73",
                  "111.65644171779141"
                ],
                [
                  "5",
                  "2013",
                  "16",
                  "638",
                  "39.88",
                  "98",
                  "138.99782135076254"
                ],
                [
                  "6",
                  "2014",
                  "13",
                  "358",
                  "27.54",
                  "73",
                  "121.7687074829932"
                ],
                [
                  "7",
                  "2015",
                  "16",
                  "504",
                  "31.5",
                  "82",
                  "130.5699481865285"
                ],
                [
                  "8",
                  "2016",
                  "16",
                  "973",
                  "60.81",
                  "113",
                  "152.03125"
                ],
                [
                  "9",
                  "2017",
                  "9",
                  "307",
                  "34.11",
                  "64",
                  "121.82539682539682"
                ],
                [
                  "10",
                  "2018",
                  "14",
                  "530",
                  "37.86",
                  "92",
                  "139.10761154855643"
                ],
                [
                  "11",
                  "2019",
                  "14",
                  "464",
                  "33.14",
                  "100",
                  "141.46341463414635"
                ],
                [
                  "12",
                  "2020/21",
                  "15",
                  "471",
                  "31.4",
                  "90",
                  "122.02072538860104"
                ],
                [
                  "13",
                  "2021",
                  "15",
                  "405",
                  "27.0",
                  "72",
                  "119.46902654867256"
                ],
                [
                  "14",
                  "2022",
                  "13",
                  "340",
                  "26.15",
                  "73",
                  "115.64625850340136"
                ]
              ],
              "shape": {
                "columns": 6,
                "rows": 15
              }
            },
            "text/html": [
              "<div>\n",
              "<style scoped>\n",
              "    .dataframe tbody tr th:only-of-type {\n",
              "        vertical-align: middle;\n",
              "    }\n",
              "\n",
              "    .dataframe tbody tr th {\n",
              "        vertical-align: top;\n",
              "    }\n",
              "\n",
              "    .dataframe thead th {\n",
              "        text-align: right;\n",
              "    }\n",
              "</style>\n",
              "<table border=\"1\" class=\"dataframe\">\n",
              "  <thead>\n",
              "    <tr style=\"text-align: right;\">\n",
              "      <th></th>\n",
              "      <th>Season</th>\n",
              "      <th>Innings</th>\n",
              "      <th>TotalRuns</th>\n",
              "      <th>Avg</th>\n",
              "      <th>HighestScore</th>\n",
              "      <th>StrikeRate</th>\n",
              "    </tr>\n",
              "  </thead>\n",
              "  <tbody>\n",
              "    <tr>\n",
              "      <th>0</th>\n",
              "      <td>2007/08</td>\n",
              "      <td>11</td>\n",
              "      <td>165</td>\n",
              "      <td>15.00</td>\n",
              "      <td>38</td>\n",
              "      <td>105.095541</td>\n",
              "    </tr>\n",
              "    <tr>\n",
              "      <th>1</th>\n",
              "      <td>2009</td>\n",
              "      <td>13</td>\n",
              "      <td>246</td>\n",
              "      <td>18.92</td>\n",
              "      <td>50</td>\n",
              "      <td>112.328767</td>\n",
              "    </tr>\n",
              "    <tr>\n",
              "      <th>2</th>\n",
              "      <td>2009/10</td>\n",
              "      <td>13</td>\n",
              "      <td>306</td>\n",
              "      <td>23.54</td>\n",
              "      <td>58</td>\n",
              "      <td>144.339623</td>\n",
              "    </tr>\n",
              "    <tr>\n",
              "      <th>3</th>\n",
              "      <td>2011</td>\n",
              "      <td>16</td>\n",
              "      <td>556</td>\n",
              "      <td>34.75</td>\n",
              "      <td>71</td>\n",
              "      <td>120.869565</td>\n",
              "    </tr>\n",
              "    <tr>\n",
              "      <th>4</th>\n",
              "      <td>2012</td>\n",
              "      <td>15</td>\n",
              "      <td>364</td>\n",
              "      <td>24.27</td>\n",
              "      <td>73</td>\n",
              "      <td>111.656442</td>\n",
              "    </tr>\n",
              "    <tr>\n",
              "      <th>5</th>\n",
              "      <td>2013</td>\n",
              "      <td>16</td>\n",
              "      <td>638</td>\n",
              "      <td>39.88</td>\n",
              "      <td>98</td>\n",
              "      <td>138.997821</td>\n",
              "    </tr>\n",
              "    <tr>\n",
              "      <th>6</th>\n",
              "      <td>2014</td>\n",
              "      <td>13</td>\n",
              "      <td>358</td>\n",
              "      <td>27.54</td>\n",
              "      <td>73</td>\n",
              "      <td>121.768707</td>\n",
              "    </tr>\n",
              "    <tr>\n",
              "      <th>7</th>\n",
              "      <td>2015</td>\n",
              "      <td>16</td>\n",
              "      <td>504</td>\n",
              "      <td>31.50</td>\n",
              "      <td>82</td>\n",
              "      <td>130.569948</td>\n",
              "    </tr>\n",
              "    <tr>\n",
              "      <th>8</th>\n",
              "      <td>2016</td>\n",
              "      <td>16</td>\n",
              "      <td>973</td>\n",
              "      <td>60.81</td>\n",
              "      <td>113</td>\n",
              "      <td>152.031250</td>\n",
              "    </tr>\n",
              "    <tr>\n",
              "      <th>9</th>\n",
              "      <td>2017</td>\n",
              "      <td>9</td>\n",
              "      <td>307</td>\n",
              "      <td>34.11</td>\n",
              "      <td>64</td>\n",
              "      <td>121.825397</td>\n",
              "    </tr>\n",
              "    <tr>\n",
              "      <th>10</th>\n",
              "      <td>2018</td>\n",
              "      <td>14</td>\n",
              "      <td>530</td>\n",
              "      <td>37.86</td>\n",
              "      <td>92</td>\n",
              "      <td>139.107612</td>\n",
              "    </tr>\n",
              "    <tr>\n",
              "      <th>11</th>\n",
              "      <td>2019</td>\n",
              "      <td>14</td>\n",
              "      <td>464</td>\n",
              "      <td>33.14</td>\n",
              "      <td>100</td>\n",
              "      <td>141.463415</td>\n",
              "    </tr>\n",
              "    <tr>\n",
              "      <th>12</th>\n",
              "      <td>2020/21</td>\n",
              "      <td>15</td>\n",
              "      <td>471</td>\n",
              "      <td>31.40</td>\n",
              "      <td>90</td>\n",
              "      <td>122.020725</td>\n",
              "    </tr>\n",
              "    <tr>\n",
              "      <th>13</th>\n",
              "      <td>2021</td>\n",
              "      <td>15</td>\n",
              "      <td>405</td>\n",
              "      <td>27.00</td>\n",
              "      <td>72</td>\n",
              "      <td>119.469027</td>\n",
              "    </tr>\n",
              "    <tr>\n",
              "      <th>14</th>\n",
              "      <td>2022</td>\n",
              "      <td>13</td>\n",
              "      <td>340</td>\n",
              "      <td>26.15</td>\n",
              "      <td>73</td>\n",
              "      <td>115.646259</td>\n",
              "    </tr>\n",
              "  </tbody>\n",
              "</table>\n",
              "</div>"
            ],
            "text/plain": [
              "     Season  Innings  TotalRuns    Avg  HighestScore  StrikeRate\n",
              "0   2007/08       11        165  15.00            38  105.095541\n",
              "1      2009       13        246  18.92            50  112.328767\n",
              "2   2009/10       13        306  23.54            58  144.339623\n",
              "3      2011       16        556  34.75            71  120.869565\n",
              "4      2012       15        364  24.27            73  111.656442\n",
              "5      2013       16        638  39.88            98  138.997821\n",
              "6      2014       13        358  27.54            73  121.768707\n",
              "7      2015       16        504  31.50            82  130.569948\n",
              "8      2016       16        973  60.81           113  152.031250\n",
              "9      2017        9        307  34.11            64  121.825397\n",
              "10     2018       14        530  37.86            92  139.107612\n",
              "11     2019       14        464  33.14           100  141.463415\n",
              "12  2020/21       15        471  31.40            90  122.020725\n",
              "13     2021       15        405  27.00            72  119.469027\n",
              "14     2022       13        340  26.15            73  115.646259"
            ]
          },
          "execution_count": 221,
          "metadata": {},
          "output_type": "execute_result"
        }
      ],
      "source": [
        "# out_df = pd.DataFrame(columns=['Season','Innings', 'TotalRuns', 'Avg', 'HighestScore','StrikeRate'] )\n",
        "\n",
        "def batsman_record(bat):\n",
        "    out_df = pd.DataFrame(columns=['Season'] )\n",
        "    temp_df = df[(df['isWicketDelivery'] == False) & (df['batter'] == bat)]\n",
        "    temp_df1 = temp_df.groupby(['Season'])\n",
        "    temp_df2 = temp_df.groupby(['Season','ID'])\n",
        "    \n",
        "    out_df['Season'] = temp_df['Season'].unique()[::-1]\n",
        "    out_df = out_df.merge(temp_df1['ID'].nunique(),how='inner',on='Season')    \n",
        "    \n",
        "    out_df = out_df.merge(temp_df1['batsman_run'].sum(),how='inner',on='Season')    \n",
        "    \n",
        "    out_df['Avg'] = round(out_df['batsman_run']/out_df['ID'],2)\n",
        "    \n",
        "    highest_score = temp_df2['batsman_run'].sum().reset_index().sort_values(by = 'batsman_run',ascending = False).groupby('Season').first()\n",
        "    out_df = out_df.merge(highest_score,how='inner',on='Season')    \n",
        "    \n",
        "    out_df.rename(columns = {'ID_x':'Innings','batsman_run_x' : 'TotalRuns','ID_y':'Match_no','batsman_run_y':'HighestScore'},inplace = True)\n",
        "    \n",
        "    temp_df3 = df[(df['extra_type'] != 'wides')&(df['batter'] == bat)].groupby('Season')\n",
        "    bowl_faced = temp_df3['innings'].count()\n",
        "    out_df = out_df.merge(bowl_faced,how='inner',on='Season')    \n",
        "    out_df.rename(columns = {'innings':'Bowl_faced'},inplace = True)\n",
        "    out_df['StrikeRate'] = 100*out_df['TotalRuns']/out_df['Bowl_faced']\n",
        "    return out_df\n",
        "\n",
        "\n",
        "batsman_record('V Kohli')[['Season','Innings', 'TotalRuns', 'Avg', 'HighestScore','StrikeRate']]"
      ]
    },
    {
      "cell_type": "markdown",
      "metadata": {
        "id": "jMyy5LcUXjUA"
      },
      "source": [
        "###`Q-9` Using both dataset, make a dataframe as described below\n",
        "\n",
        "Data Frame columns-> `['PlayerOfThematch', 'BattingFigure', 'BowlingFigure']`\n",
        "\n",
        "* BattingFigure->`<runs>/<balls>`\n",
        "* BowlingFigure->`<wicket>/<runs-conceded>`\n",
        "\n",
        "DataFrame should have one record for each match.\n",
        "\n",
        "Say 'V Kohli' got POM award then in dataset include his batting figure of that match. Say he scored 112runs in 76 balls. And he hasn't bowled so Bowling Figure will be NaN\n",
        "```\n",
        "PlayerOfThematch BattingFigure BowlingFigure\n",
        "V Kohli          112/76         nan  \n",
        "\n",
        "```\n"
      ]
    },
    {
      "cell_type": "code",
      "execution_count": null,
      "metadata": {
        "id": "uh36R6AZXn82"
      },
      "outputs": [],
      "source": [
        "# code here"
      ]
    },
    {
      "cell_type": "markdown",
      "metadata": {
        "id": "iljGaXfzXq1t"
      },
      "source": [
        "## **Questions Based on Iris Dataset**\n",
        "\n",
        "- **Sepal All:** https://docs.google.com/spreadsheets/d/e/2PACX-1vT58ekmHTwptX7Bs4QOy6YByA1HMvYTACeeIjrKhHE0Pg1K_3egewHMKMh02zN9D5-yHVXfvuaa3s5u/pub?gid=2028782809&single=true&output=csv\n",
        "    - **Unnamed: 0:** Unused column. This column is created when creating this sub-dataset.\n",
        "    - **Id:** Id of the records.\n",
        "    - **SepalLengthCm:** Sepal length of flowers in cm\n",
        "    - **SepalWidthCm:** Sepal width of flowers in cm\n",
        "\n",
        "- **Petal All:** https://docs.google.com/spreadsheets/d/e/2PACX-1vQinLXShrOz4ExNaW1bSQVuvbbhIzJW7G0kkkD2SvqSD6STjLrQQiftgI7BGe10sBZi0CNr2_sJpQAz/pub?gid=1580010789&single=true&output=csv\n",
        "    - **Unnamed: 0:** Unused column. This column is created when creating this sub-dataset.\n",
        "    - **Id:** Id of the records.\n",
        "    - **PetalLengthCm:** Petal length of flowers in cm\n",
        "    - **PetalWidthCm:** Petal width of flowers in cm\n",
        "\n",
        "- **Iris Virginica:** https://docs.google.com/spreadsheets/d/e/2PACX-1vSK39MwduGPHYNgw5yViezoLYCVDKMCWIHzjnt3GZNaxHPFOQLr2q6no_tyqTsOk-VfXleslfGVe9eJ/pub?gid=314231613&single=true&output=csv\n",
        "    - **Unnamed: 0:** Unused column. This column is created when creating the sub-dataset.\n",
        "    - **Id:** Id of the records.\n",
        "    - **Species:** Name of this species.\n",
        "\n",
        "- **Iris Versicolor:** https://docs.google.com/spreadsheets/d/e/2PACX-1vTcSFgLnabqIrgIc5WlwvnbbvyyJsgZjR-0E0-4TR-5aHgv_0EP6yNWglkkls3AXM2qHCR5VYzWCoTM/pub?gid=715607857&single=true&output=csv\n",
        "    - **Unnamed: 0:** Unused column. This column is created when creating the sub-dataset.\n",
        "    - **Id:** Id of the records.\n",
        "    - **Species:** Name of this species.\n",
        "\n",
        "- **Iris Setosa:** https://docs.google.com/spreadsheets/d/e/2PACX-1vSjqJpdgy2X_oDUUqQ0sSaFKqnnf8MYU4KgJSYgHaHmq0Wb1weMOsJXh-rICHmkLcaTkOwzMYLeh959/pub?gid=2003684803&single=true&output=csv\n",
        "    - **Unnamed 0:** Unused column. This column is created when creating the sub-dataset.\n",
        "    - **Id:** Id of the records.\n",
        "    - **Species:** Name of this species."
      ]
    },
    {
      "cell_type": "code",
      "execution_count": null,
      "metadata": {
        "id": "nY1khG0XXp1X"
      },
      "outputs": [],
      "source": [
        "import pandas as pd\n",
        "sepal_all = pd.read_csv(\"https://docs.google.com/spreadsheets/d/e/2PACX-1vT58ekmHTwptX7Bs4QOy6YByA1HMvYTACeeIjrKhHE0Pg1K_3egewHMKMh02zN9D5-yHVXfvuaa3s5u/pub?gid=2028782809&single=true&output=csv\")\n",
        "petal_all = pd.read_csv(\"https://docs.google.com/spreadsheets/d/e/2PACX-1vQinLXShrOz4ExNaW1bSQVuvbbhIzJW7G0kkkD2SvqSD6STjLrQQiftgI7BGe10sBZi0CNr2_sJpQAz/pub?gid=1580010789&single=true&output=csv\")\n",
        "\n",
        "virginica = pd.read_csv(\"https://docs.google.com/spreadsheets/d/e/2PACX-1vSK39MwduGPHYNgw5yViezoLYCVDKMCWIHzjnt3GZNaxHPFOQLr2q6no_tyqTsOk-VfXleslfGVe9eJ/pub?gid=314231613&single=true&output=csv\")\n",
        "versicolor = pd.read_csv(\"https://docs.google.com/spreadsheets/d/e/2PACX-1vTcSFgLnabqIrgIc5WlwvnbbvyyJsgZjR-0E0-4TR-5aHgv_0EP6yNWglkkls3AXM2qHCR5VYzWCoTM/pub?gid=715607857&single=true&output=csv\")\n",
        "setosa = pd.read_csv(\"https://docs.google.com/spreadsheets/d/e/2PACX-1vSjqJpdgy2X_oDUUqQ0sSaFKqnnf8MYU4KgJSYgHaHmq0Wb1weMOsJXh-rICHmkLcaTkOwzMYLeh959/pub?gid=2003684803&single=true&output=csv\")\n"
      ]
    },
    {
      "cell_type": "markdown",
      "metadata": {
        "id": "R6jqy4GQX4RI"
      },
      "source": [
        "### `Q-9:` Plot a bar chart of the average Sepal Length  of Virginica and average Petal length of Setosa flower."
      ]
    },
    {
      "cell_type": "code",
      "execution_count": null,
      "metadata": {
        "id": "zTx5S3yiX15D"
      },
      "outputs": [],
      "source": [
        "# code here"
      ]
    },
    {
      "cell_type": "markdown",
      "metadata": {
        "id": "ecWHo_gsYAT2"
      },
      "source": [
        "### `Q-10:` Create the complete dataset by uisng the below datasets:\n",
        "- virginica\n",
        "- versicolor\n",
        "- setosa\n",
        "- sepal all\n",
        "- petal all\n",
        "\n",
        "This dataset should have these below column names in order:\n",
        "1. Id\n",
        "2. Species\n",
        "3. SepalLengthCm\n",
        "4. SepalWidthCm\n",
        "5. PetalLengthCm\n",
        "6. PetalWidthCm\n",
        "\n",
        "Also, the dataset should be shuffled means the `Id` column should not be in increasing or decreasing order. So, make a dataset which has the shuffled Id column. You can use `DataFrame.sample()` method to shuffle."
      ]
    },
    {
      "cell_type": "code",
      "execution_count": null,
      "metadata": {
        "id": "PsWBn7g3YDRZ"
      },
      "outputs": [],
      "source": [
        "# code here"
      ]
    },
    {
      "cell_type": "markdown",
      "metadata": {
        "id": "FLlBdChyYHtw"
      },
      "source": [
        "### `Q-11:` Find out the maximum and minimum sepal width and petal width of Setosa and Versicolor. To do this:\n",
        "- First create a dataset with merging the required datasets\n",
        "- After that, use `groupby` to create groups based on the \"Species\" column.\n",
        "- Then find out which are asked in this question.\n",
        "\n",
        "\n",
        "The output should be like this:\n",
        "```bash\n",
        "Minimum Sepal width of Setosa is 2.3\n",
        "Maximum Sepal width of Setosa is 4.4\n",
        "\n",
        "**************************************************\n",
        "\n",
        "Minimum Sepal width of Versicolor is 2.0\n",
        "Maximum Sepal width of Versicolor is 3.4\n",
        "\n",
        "**************************************************\n",
        "```"
      ]
    },
    {
      "cell_type": "code",
      "execution_count": null,
      "metadata": {
        "id": "T7toJgSkYIIF"
      },
      "outputs": [],
      "source": [
        "# code here"
      ]
    }
  ],
  "metadata": {
    "colab": {
      "provenance": []
    },
    "kernelspec": {
      "display_name": "Machinelearning_new",
      "language": "python",
      "name": "python3"
    },
    "language_info": {
      "codemirror_mode": {
        "name": "ipython",
        "version": 3
      },
      "file_extension": ".py",
      "mimetype": "text/x-python",
      "name": "python",
      "nbconvert_exporter": "python",
      "pygments_lexer": "ipython3",
      "version": "3.11.11"
    }
  },
  "nbformat": 4,
  "nbformat_minor": 0
}
