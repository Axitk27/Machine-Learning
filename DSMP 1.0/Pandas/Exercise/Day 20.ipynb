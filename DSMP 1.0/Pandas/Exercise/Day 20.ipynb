{
  "cells": [
    {
      "cell_type": "code",
      "execution_count": null,
      "metadata": {
        "id": "tWO36cIgWlev"
      },
      "outputs": [],
      "source": [
        "import pandas as pd\n",
        "import numpy as np"
      ]
    },
    {
      "cell_type": "markdown",
      "metadata": {
        "id": "zMEk5SAYWqbG"
      },
      "source": [
        "DATA DESCRIPTION\n",
        "```\n",
        "file name -> Columns\n",
        "quater-i.csv -> ['order_id', 'quantity', 'item_id', 'choice_description_id' 'item_price']\n",
        "items.csv -> ['item_id', 'item_name']\n",
        "```\n",
        "Dataset Link - https://drive.google.com/drive/folders/1Z0kaFybvgFeczeUj4dldUnhTdloLqLsL?usp=share_link"
      ]
    },
    {
      "cell_type": "code",
      "execution_count": 202,
      "metadata": {
        "id": "5qxjEvSwfDkI"
      },
      "outputs": [
        {
          "data": {
            "application/vnd.microsoft.datawrangler.viewer.v0+json": {
              "columns": [
                {
                  "name": "index",
                  "rawType": "int64",
                  "type": "integer"
                },
                {
                  "name": "order_id",
                  "rawType": "int64",
                  "type": "integer"
                },
                {
                  "name": "quantity",
                  "rawType": "int64",
                  "type": "integer"
                },
                {
                  "name": "item_id",
                  "rawType": "int64",
                  "type": "integer"
                },
                {
                  "name": "choice_description_id",
                  "rawType": "int64",
                  "type": "integer"
                },
                {
                  "name": "item_price",
                  "rawType": "object",
                  "type": "string"
                }
              ],
              "ref": "5c19b700-ff7e-4f6c-9c61-6f89ee2e2f16",
              "rows": [
                [
                  "0",
                  "1",
                  "1",
                  "1",
                  "1",
                  "$3.39 "
                ],
                [
                  "1",
                  "1",
                  "1",
                  "2",
                  "2",
                  "$3.39 "
                ],
                [
                  "2",
                  "2",
                  "2",
                  "4",
                  "3",
                  "$16.98 "
                ],
                [
                  "3",
                  "4",
                  "1",
                  "7",
                  "6",
                  "$9.25 "
                ],
                [
                  "4",
                  "6",
                  "1",
                  "9",
                  "8",
                  "$8.75 "
                ],
                [
                  "5",
                  "6",
                  "1",
                  "10",
                  "9",
                  "$8.75 "
                ],
                [
                  "6",
                  "7",
                  "1",
                  "4",
                  "10",
                  "$11.25 "
                ],
                [
                  "7",
                  "9",
                  "1",
                  "11",
                  "12",
                  "$8.49 "
                ],
                [
                  "8",
                  "10",
                  "1",
                  "8",
                  "0",
                  "$4.45 "
                ],
                [
                  "9",
                  "11",
                  "1",
                  "2",
                  "16",
                  "$3.39 "
                ],
                [
                  "10",
                  "12",
                  "1",
                  "1",
                  "18",
                  "$3.39 "
                ],
                [
                  "11",
                  "13",
                  "1",
                  "0",
                  "0",
                  "$2.39 "
                ],
                [
                  "12",
                  "13",
                  "1",
                  "4",
                  "19",
                  "$8.49 "
                ],
                [
                  "13",
                  "15",
                  "1",
                  "11",
                  "22",
                  "$8.49 "
                ],
                [
                  "14",
                  "15",
                  "1",
                  "3",
                  "0",
                  "$2.39 "
                ],
                [
                  "15",
                  "16",
                  "1",
                  "5",
                  "0",
                  "$1.69 "
                ],
                [
                  "16",
                  "17",
                  "1",
                  "15",
                  "24",
                  "$8.99 "
                ],
                [
                  "17",
                  "17",
                  "1",
                  "16",
                  "0",
                  "$1.09 "
                ],
                [
                  "18",
                  "18",
                  "1",
                  "17",
                  "0",
                  "$2.95 "
                ],
                [
                  "19",
                  "19",
                  "1",
                  "18",
                  "27",
                  "$11.75 "
                ],
                [
                  "20",
                  "20",
                  "1",
                  "8",
                  "0",
                  "$4.45 "
                ],
                [
                  "21",
                  "20",
                  "1",
                  "4",
                  "28",
                  "$11.25 "
                ],
                [
                  "22",
                  "20",
                  "1",
                  "6",
                  "29",
                  "$11.75 "
                ],
                [
                  "23",
                  "20",
                  "1",
                  "20",
                  "30",
                  "$8.75 "
                ],
                [
                  "24",
                  "21",
                  "1",
                  "6",
                  "32",
                  "$8.99 "
                ],
                [
                  "25",
                  "21",
                  "1",
                  "1",
                  "33",
                  "$3.39 "
                ],
                [
                  "26",
                  "22",
                  "1",
                  "6",
                  "34",
                  "$8.99 "
                ],
                [
                  "27",
                  "23",
                  "2",
                  "12",
                  "36",
                  "$2.18 "
                ],
                [
                  "28",
                  "24",
                  "1",
                  "11",
                  "37",
                  "$10.98 "
                ],
                [
                  "29",
                  "26",
                  "1",
                  "22",
                  "39",
                  "$9.25 "
                ],
                [
                  "30",
                  "27",
                  "1",
                  "18",
                  "27",
                  "$11.75 "
                ],
                [
                  "31",
                  "27",
                  "1",
                  "19",
                  "0",
                  "$2.15 "
                ],
                [
                  "32",
                  "28",
                  "1",
                  "8",
                  "0",
                  "$4.45 "
                ],
                [
                  "33",
                  "29",
                  "1",
                  "6",
                  "24",
                  "$8.99 "
                ],
                [
                  "34",
                  "30",
                  "1",
                  "1",
                  "33",
                  "$3.39 "
                ],
                [
                  "35",
                  "30",
                  "1",
                  "6",
                  "45",
                  "$8.99 "
                ],
                [
                  "36",
                  "31",
                  "1",
                  "6",
                  "46",
                  "$8.99 "
                ],
                [
                  "37",
                  "33",
                  "1",
                  "8",
                  "0",
                  "$4.45 "
                ],
                [
                  "38",
                  "34",
                  "1",
                  "10",
                  "49",
                  "$8.75 "
                ],
                [
                  "39",
                  "34",
                  "1",
                  "4",
                  "50",
                  "$8.75 "
                ],
                [
                  "40",
                  "35",
                  "1",
                  "19",
                  "0",
                  "$2.15 "
                ],
                [
                  "41",
                  "38",
                  "1",
                  "16",
                  "0",
                  "$1.09 "
                ],
                [
                  "42",
                  "40",
                  "1",
                  "21",
                  "59",
                  "$11.75 "
                ],
                [
                  "43",
                  "40",
                  "1",
                  "21",
                  "60",
                  "$11.75 "
                ],
                [
                  "44",
                  "41",
                  "1",
                  "14",
                  "62",
                  "$11.75 "
                ],
                [
                  "45",
                  "43",
                  "1",
                  "15",
                  "64",
                  "$11.75 "
                ],
                [
                  "46",
                  "44",
                  "1",
                  "4",
                  "66",
                  "$8.75 "
                ],
                [
                  "47",
                  "44",
                  "1",
                  "8",
                  "0",
                  "$4.45 "
                ],
                [
                  "48",
                  "45",
                  "1",
                  "6",
                  "67",
                  "$8.99 "
                ],
                [
                  "49",
                  "46",
                  "1",
                  "23",
                  "68",
                  "$8.49 "
                ]
              ],
              "shape": {
                "columns": 5,
                "rows": 2275
              }
            },
            "text/html": [
              "<div>\n",
              "<style scoped>\n",
              "    .dataframe tbody tr th:only-of-type {\n",
              "        vertical-align: middle;\n",
              "    }\n",
              "\n",
              "    .dataframe tbody tr th {\n",
              "        vertical-align: top;\n",
              "    }\n",
              "\n",
              "    .dataframe thead th {\n",
              "        text-align: right;\n",
              "    }\n",
              "</style>\n",
              "<table border=\"1\" class=\"dataframe\">\n",
              "  <thead>\n",
              "    <tr style=\"text-align: right;\">\n",
              "      <th></th>\n",
              "      <th>order_id</th>\n",
              "      <th>quantity</th>\n",
              "      <th>item_id</th>\n",
              "      <th>choice_description_id</th>\n",
              "      <th>item_price</th>\n",
              "    </tr>\n",
              "  </thead>\n",
              "  <tbody>\n",
              "    <tr>\n",
              "      <th>0</th>\n",
              "      <td>1</td>\n",
              "      <td>1</td>\n",
              "      <td>1</td>\n",
              "      <td>1</td>\n",
              "      <td>$3.39</td>\n",
              "    </tr>\n",
              "    <tr>\n",
              "      <th>1</th>\n",
              "      <td>1</td>\n",
              "      <td>1</td>\n",
              "      <td>2</td>\n",
              "      <td>2</td>\n",
              "      <td>$3.39</td>\n",
              "    </tr>\n",
              "    <tr>\n",
              "      <th>2</th>\n",
              "      <td>2</td>\n",
              "      <td>2</td>\n",
              "      <td>4</td>\n",
              "      <td>3</td>\n",
              "      <td>$16.98</td>\n",
              "    </tr>\n",
              "    <tr>\n",
              "      <th>3</th>\n",
              "      <td>4</td>\n",
              "      <td>1</td>\n",
              "      <td>7</td>\n",
              "      <td>6</td>\n",
              "      <td>$9.25</td>\n",
              "    </tr>\n",
              "    <tr>\n",
              "      <th>4</th>\n",
              "      <td>6</td>\n",
              "      <td>1</td>\n",
              "      <td>9</td>\n",
              "      <td>8</td>\n",
              "      <td>$8.75</td>\n",
              "    </tr>\n",
              "    <tr>\n",
              "      <th>...</th>\n",
              "      <td>...</td>\n",
              "      <td>...</td>\n",
              "      <td>...</td>\n",
              "      <td>...</td>\n",
              "      <td>...</td>\n",
              "    </tr>\n",
              "    <tr>\n",
              "      <th>2270</th>\n",
              "      <td>1831</td>\n",
              "      <td>1</td>\n",
              "      <td>16</td>\n",
              "      <td>0</td>\n",
              "      <td>$1.50</td>\n",
              "    </tr>\n",
              "    <tr>\n",
              "      <th>2271</th>\n",
              "      <td>1833</td>\n",
              "      <td>1</td>\n",
              "      <td>6</td>\n",
              "      <td>276</td>\n",
              "      <td>$11.75</td>\n",
              "    </tr>\n",
              "    <tr>\n",
              "      <th>2272</th>\n",
              "      <td>1833</td>\n",
              "      <td>1</td>\n",
              "      <td>6</td>\n",
              "      <td>904</td>\n",
              "      <td>$11.75</td>\n",
              "    </tr>\n",
              "    <tr>\n",
              "      <th>2273</th>\n",
              "      <td>1834</td>\n",
              "      <td>1</td>\n",
              "      <td>20</td>\n",
              "      <td>303</td>\n",
              "      <td>$8.75</td>\n",
              "    </tr>\n",
              "    <tr>\n",
              "      <th>2274</th>\n",
              "      <td>1834</td>\n",
              "      <td>1</td>\n",
              "      <td>20</td>\n",
              "      <td>30</td>\n",
              "      <td>$8.75</td>\n",
              "    </tr>\n",
              "  </tbody>\n",
              "</table>\n",
              "<p>2275 rows × 5 columns</p>\n",
              "</div>"
            ],
            "text/plain": [
              "      order_id  quantity  item_id  choice_description_id item_price\n",
              "0            1         1        1                      1     $3.39 \n",
              "1            1         1        2                      2     $3.39 \n",
              "2            2         2        4                      3    $16.98 \n",
              "3            4         1        7                      6     $9.25 \n",
              "4            6         1        9                      8     $8.75 \n",
              "...        ...       ...      ...                    ...        ...\n",
              "2270      1831         1       16                      0     $1.50 \n",
              "2271      1833         1        6                    276    $11.75 \n",
              "2272      1833         1        6                    904    $11.75 \n",
              "2273      1834         1       20                    303     $8.75 \n",
              "2274      1834         1       20                     30     $8.75 \n",
              "\n",
              "[2275 rows x 5 columns]"
            ]
          },
          "execution_count": 202,
          "metadata": {},
          "output_type": "execute_result"
        }
      ],
      "source": [
        "# import like this\n",
        "# items_path = \"https://drive.google.com/file/d/1MokLL6WAVRrA4TcWSCocTG_U7H-iN4Nw/view?usp=drive_link\"\n",
        "# q1_path = \"/content/drive/MyDrive/DSMP/01 - Python/Daily Tasks/Week 7/data/quarter-1.csv\"\n",
        "# q2_path = \"/content/drive/MyDrive/DSMP/01 - Python/Daily Tasks/Week 7/data/quarter-2.csv\"\n",
        "# q3_path = \"/content/drive/MyDrive/DSMP/01 - Python/Daily Tasks/Week 7/data/quarter-3.csv\"\n",
        "\n",
        "items = pd.read_csv('Dataset\\items.csv')\n",
        "q1= pd.read_csv('Dataset\\quarter-1.csv')\n",
        "q2 = pd.read_csv('Dataset\\quarter-2.csv')\n",
        "q3 = pd.read_csv('Dataset\\quarter-3.csv')\n",
        "q1"
      ]
    },
    {
      "cell_type": "markdown",
      "metadata": {
        "id": "zEhub0BcW1Ma"
      },
      "source": [
        "###`Q:1-5`\n",
        "1. You are given three quater files, your job is to append these three files and make a single dataframe.\n",
        "2. Have a index as Q-1 Q-2 Q-3 for respective quater files in the dataframe\n",
        "3. Your are given a file items.csv which has item_id and item_name. Find out most sold items in each quarter.\n",
        "4. Find out items which has made most revenue in each quarter.\n",
        "5. Find out avg order price of each quarter.\n",
        "\n",
        "***Note: item_price is given as str with $ sign, in earlier task you have converted this to rupees, here too first convert item_price field in rupees.***"
      ]
    },
    {
      "cell_type": "code",
      "execution_count": 203,
      "metadata": {
        "id": "nwICqy-RWyEf"
      },
      "outputs": [
        {
          "data": {
            "application/vnd.microsoft.datawrangler.viewer.v0+json": {
              "columns": [
                {
                  "name": "index",
                  "rawType": "int64",
                  "type": "integer"
                },
                {
                  "name": "order_id",
                  "rawType": "object",
                  "type": "unknown"
                },
                {
                  "name": "quantity",
                  "rawType": "object",
                  "type": "unknown"
                },
                {
                  "name": "item_id",
                  "rawType": "object",
                  "type": "unknown"
                },
                {
                  "name": "choice_description_id",
                  "rawType": "object",
                  "type": "unknown"
                },
                {
                  "name": "item_price",
                  "rawType": "object",
                  "type": "string"
                }
              ],
              "ref": "d4098991-07e6-4cd5-8334-8a28d981d013",
              "rows": [
                [
                  "0",
                  "1",
                  "1",
                  "1",
                  "1",
                  "$3.39 "
                ],
                [
                  "1",
                  "1",
                  "1",
                  "2",
                  "2",
                  "$3.39 "
                ],
                [
                  "2",
                  "2",
                  "2",
                  "4",
                  "3",
                  "$16.98 "
                ],
                [
                  "3",
                  "4",
                  "1",
                  "7",
                  "6",
                  "$9.25 "
                ],
                [
                  "4",
                  "6",
                  "1",
                  "9",
                  "8",
                  "$8.75 "
                ],
                [
                  "5",
                  "6",
                  "1",
                  "10",
                  "9",
                  "$8.75 "
                ],
                [
                  "6",
                  "7",
                  "1",
                  "4",
                  "10",
                  "$11.25 "
                ],
                [
                  "7",
                  "9",
                  "1",
                  "11",
                  "12",
                  "$8.49 "
                ],
                [
                  "8",
                  "10",
                  "1",
                  "8",
                  "0",
                  "$4.45 "
                ],
                [
                  "9",
                  "11",
                  "1",
                  "2",
                  "16",
                  "$3.39 "
                ],
                [
                  "10",
                  "12",
                  "1",
                  "1",
                  "18",
                  "$3.39 "
                ],
                [
                  "11",
                  "13",
                  "1",
                  "0",
                  "0",
                  "$2.39 "
                ],
                [
                  "12",
                  "13",
                  "1",
                  "4",
                  "19",
                  "$8.49 "
                ],
                [
                  "13",
                  "15",
                  "1",
                  "11",
                  "22",
                  "$8.49 "
                ],
                [
                  "14",
                  "15",
                  "1",
                  "3",
                  "0",
                  "$2.39 "
                ],
                [
                  "15",
                  "16",
                  "1",
                  "5",
                  "0",
                  "$1.69 "
                ],
                [
                  "16",
                  "17",
                  "1",
                  "15",
                  "24",
                  "$8.99 "
                ],
                [
                  "17",
                  "17",
                  "1",
                  "16",
                  "0",
                  "$1.09 "
                ],
                [
                  "18",
                  "18",
                  "1",
                  "17",
                  "0",
                  "$2.95 "
                ],
                [
                  "19",
                  "19",
                  "1",
                  "18",
                  "27",
                  "$11.75 "
                ],
                [
                  "20",
                  "20",
                  "1",
                  "8",
                  "0",
                  "$4.45 "
                ],
                [
                  "21",
                  "20",
                  "1",
                  "4",
                  "28",
                  "$11.25 "
                ],
                [
                  "22",
                  "20",
                  "1",
                  "6",
                  "29",
                  "$11.75 "
                ],
                [
                  "23",
                  "20",
                  "1",
                  "20",
                  "30",
                  "$8.75 "
                ],
                [
                  "24",
                  "21",
                  "1",
                  "6",
                  "32",
                  "$8.99 "
                ],
                [
                  "25",
                  "21",
                  "1",
                  "1",
                  "33",
                  "$3.39 "
                ],
                [
                  "26",
                  "22",
                  "1",
                  "6",
                  "34",
                  "$8.99 "
                ],
                [
                  "27",
                  "23",
                  "2",
                  "12",
                  "36",
                  "$2.18 "
                ],
                [
                  "28",
                  "24",
                  "1",
                  "11",
                  "37",
                  "$10.98 "
                ],
                [
                  "29",
                  "26",
                  "1",
                  "22",
                  "39",
                  "$9.25 "
                ],
                [
                  "30",
                  "27",
                  "1",
                  "18",
                  "27",
                  "$11.75 "
                ],
                [
                  "31",
                  "27",
                  "1",
                  "19",
                  "0",
                  "$2.15 "
                ],
                [
                  "32",
                  "28",
                  "1",
                  "8",
                  "0",
                  "$4.45 "
                ],
                [
                  "33",
                  "29",
                  "1",
                  "6",
                  "24",
                  "$8.99 "
                ],
                [
                  "34",
                  "30",
                  "1",
                  "1",
                  "33",
                  "$3.39 "
                ],
                [
                  "35",
                  "30",
                  "1",
                  "6",
                  "45",
                  "$8.99 "
                ],
                [
                  "36",
                  "31",
                  "1",
                  "6",
                  "46",
                  "$8.99 "
                ],
                [
                  "37",
                  "33",
                  "1",
                  "8",
                  "0",
                  "$4.45 "
                ],
                [
                  "38",
                  "34",
                  "1",
                  "10",
                  "49",
                  "$8.75 "
                ],
                [
                  "39",
                  "34",
                  "1",
                  "4",
                  "50",
                  "$8.75 "
                ],
                [
                  "40",
                  "35",
                  "1",
                  "19",
                  "0",
                  "$2.15 "
                ],
                [
                  "41",
                  "38",
                  "1",
                  "16",
                  "0",
                  "$1.09 "
                ],
                [
                  "42",
                  "40",
                  "1",
                  "21",
                  "59",
                  "$11.75 "
                ],
                [
                  "43",
                  "40",
                  "1",
                  "21",
                  "60",
                  "$11.75 "
                ],
                [
                  "44",
                  "41",
                  "1",
                  "14",
                  "62",
                  "$11.75 "
                ],
                [
                  "45",
                  "43",
                  "1",
                  "15",
                  "64",
                  "$11.75 "
                ],
                [
                  "46",
                  "44",
                  "1",
                  "4",
                  "66",
                  "$8.75 "
                ],
                [
                  "47",
                  "44",
                  "1",
                  "8",
                  "0",
                  "$4.45 "
                ],
                [
                  "48",
                  "45",
                  "1",
                  "6",
                  "67",
                  "$8.99 "
                ],
                [
                  "49",
                  "46",
                  "1",
                  "23",
                  "68",
                  "$8.49 "
                ]
              ],
              "shape": {
                "columns": 5,
                "rows": 4622
              }
            },
            "text/html": [
              "<div>\n",
              "<style scoped>\n",
              "    .dataframe tbody tr th:only-of-type {\n",
              "        vertical-align: middle;\n",
              "    }\n",
              "\n",
              "    .dataframe tbody tr th {\n",
              "        vertical-align: top;\n",
              "    }\n",
              "\n",
              "    .dataframe thead th {\n",
              "        text-align: right;\n",
              "    }\n",
              "</style>\n",
              "<table border=\"1\" class=\"dataframe\">\n",
              "  <thead>\n",
              "    <tr style=\"text-align: right;\">\n",
              "      <th></th>\n",
              "      <th>order_id</th>\n",
              "      <th>quantity</th>\n",
              "      <th>item_id</th>\n",
              "      <th>choice_description_id</th>\n",
              "      <th>item_price</th>\n",
              "    </tr>\n",
              "  </thead>\n",
              "  <tbody>\n",
              "    <tr>\n",
              "      <th>0</th>\n",
              "      <td>1</td>\n",
              "      <td>1</td>\n",
              "      <td>1</td>\n",
              "      <td>1</td>\n",
              "      <td>$3.39</td>\n",
              "    </tr>\n",
              "    <tr>\n",
              "      <th>1</th>\n",
              "      <td>1</td>\n",
              "      <td>1</td>\n",
              "      <td>2</td>\n",
              "      <td>2</td>\n",
              "      <td>$3.39</td>\n",
              "    </tr>\n",
              "    <tr>\n",
              "      <th>2</th>\n",
              "      <td>2</td>\n",
              "      <td>2</td>\n",
              "      <td>4</td>\n",
              "      <td>3</td>\n",
              "      <td>$16.98</td>\n",
              "    </tr>\n",
              "    <tr>\n",
              "      <th>3</th>\n",
              "      <td>4</td>\n",
              "      <td>1</td>\n",
              "      <td>7</td>\n",
              "      <td>6</td>\n",
              "      <td>$9.25</td>\n",
              "    </tr>\n",
              "    <tr>\n",
              "      <th>4</th>\n",
              "      <td>6</td>\n",
              "      <td>1</td>\n",
              "      <td>9</td>\n",
              "      <td>8</td>\n",
              "      <td>$8.75</td>\n",
              "    </tr>\n",
              "    <tr>\n",
              "      <th>...</th>\n",
              "      <td>...</td>\n",
              "      <td>...</td>\n",
              "      <td>...</td>\n",
              "      <td>...</td>\n",
              "      <td>...</td>\n",
              "    </tr>\n",
              "    <tr>\n",
              "      <th>4617</th>\n",
              "      <td>1829</td>\n",
              "      <td>1</td>\n",
              "      <td>23</td>\n",
              "      <td>92</td>\n",
              "      <td>$11.25</td>\n",
              "    </tr>\n",
              "    <tr>\n",
              "      <th>4618</th>\n",
              "      <td>1830</td>\n",
              "      <td>1</td>\n",
              "      <td>23</td>\n",
              "      <td>1043</td>\n",
              "      <td>$11.25</td>\n",
              "    </tr>\n",
              "    <tr>\n",
              "      <th>4619</th>\n",
              "      <td>1832</td>\n",
              "      <td>1</td>\n",
              "      <td>10</td>\n",
              "      <td>116</td>\n",
              "      <td>$8.75</td>\n",
              "    </tr>\n",
              "    <tr>\n",
              "      <th>4620</th>\n",
              "      <td>1832</td>\n",
              "      <td>1</td>\n",
              "      <td>8</td>\n",
              "      <td>0</td>\n",
              "      <td>$4.45</td>\n",
              "    </tr>\n",
              "    <tr>\n",
              "      <th>4621</th>\n",
              "      <td>1834</td>\n",
              "      <td>1</td>\n",
              "      <td>20</td>\n",
              "      <td>515</td>\n",
              "      <td>$11.25</td>\n",
              "    </tr>\n",
              "  </tbody>\n",
              "</table>\n",
              "<p>4622 rows × 5 columns</p>\n",
              "</div>"
            ],
            "text/plain": [
              "     order_id quantity item_id choice_description_id item_price\n",
              "0           1        1       1                     1     $3.39 \n",
              "1           1        1       2                     2     $3.39 \n",
              "2           2        2       4                     3    $16.98 \n",
              "3           4        1       7                     6     $9.25 \n",
              "4           6        1       9                     8     $8.75 \n",
              "...       ...      ...     ...                   ...        ...\n",
              "4617     1829        1      23                    92    $11.25 \n",
              "4618     1830        1      23                  1043    $11.25 \n",
              "4619     1832        1      10                   116     $8.75 \n",
              "4620     1832        1       8                     0     $4.45 \n",
              "4621     1834        1      20                   515    $11.25 \n",
              "\n",
              "[4622 rows x 5 columns]"
            ]
          },
          "execution_count": 203,
          "metadata": {},
          "output_type": "execute_result"
        }
      ],
      "source": [
        "#1 Merge Quarter File\n",
        "quarter = pd.concat([q1,q2,q3],ignore_index = True)\n",
        "quarter"
      ]
    },
    {
      "cell_type": "code",
      "execution_count": 204,
      "metadata": {},
      "outputs": [
        {
          "data": {
            "application/vnd.microsoft.datawrangler.viewer.v0+json": {
              "columns": [
                {
                  "name": "index",
                  "rawType": "int64",
                  "type": "integer"
                },
                {
                  "name": "level_0",
                  "rawType": "object",
                  "type": "string"
                },
                {
                  "name": "level_1",
                  "rawType": "int64",
                  "type": "integer"
                },
                {
                  "name": "order_id",
                  "rawType": "object",
                  "type": "unknown"
                },
                {
                  "name": "quantity",
                  "rawType": "object",
                  "type": "unknown"
                },
                {
                  "name": "item_id",
                  "rawType": "object",
                  "type": "unknown"
                },
                {
                  "name": "choice_description_id",
                  "rawType": "object",
                  "type": "unknown"
                },
                {
                  "name": "item_price",
                  "rawType": "object",
                  "type": "string"
                }
              ],
              "ref": "4a96ac3f-a6ca-467a-801f-c0f244f8a391",
              "rows": [
                [
                  "0",
                  "q1",
                  "0",
                  "1",
                  "1",
                  "1",
                  "1",
                  "$3.39 "
                ],
                [
                  "1",
                  "q1",
                  "1",
                  "1",
                  "1",
                  "2",
                  "2",
                  "$3.39 "
                ],
                [
                  "2",
                  "q1",
                  "2",
                  "2",
                  "2",
                  "4",
                  "3",
                  "$16.98 "
                ],
                [
                  "3",
                  "q1",
                  "3",
                  "4",
                  "1",
                  "7",
                  "6",
                  "$9.25 "
                ],
                [
                  "4",
                  "q1",
                  "4",
                  "6",
                  "1",
                  "9",
                  "8",
                  "$8.75 "
                ]
              ],
              "shape": {
                "columns": 7,
                "rows": 5
              }
            },
            "text/html": [
              "<div>\n",
              "<style scoped>\n",
              "    .dataframe tbody tr th:only-of-type {\n",
              "        vertical-align: middle;\n",
              "    }\n",
              "\n",
              "    .dataframe tbody tr th {\n",
              "        vertical-align: top;\n",
              "    }\n",
              "\n",
              "    .dataframe thead th {\n",
              "        text-align: right;\n",
              "    }\n",
              "</style>\n",
              "<table border=\"1\" class=\"dataframe\">\n",
              "  <thead>\n",
              "    <tr style=\"text-align: right;\">\n",
              "      <th></th>\n",
              "      <th>level_0</th>\n",
              "      <th>level_1</th>\n",
              "      <th>order_id</th>\n",
              "      <th>quantity</th>\n",
              "      <th>item_id</th>\n",
              "      <th>choice_description_id</th>\n",
              "      <th>item_price</th>\n",
              "    </tr>\n",
              "  </thead>\n",
              "  <tbody>\n",
              "    <tr>\n",
              "      <th>0</th>\n",
              "      <td>q1</td>\n",
              "      <td>0</td>\n",
              "      <td>1</td>\n",
              "      <td>1</td>\n",
              "      <td>1</td>\n",
              "      <td>1</td>\n",
              "      <td>$3.39</td>\n",
              "    </tr>\n",
              "    <tr>\n",
              "      <th>1</th>\n",
              "      <td>q1</td>\n",
              "      <td>1</td>\n",
              "      <td>1</td>\n",
              "      <td>1</td>\n",
              "      <td>2</td>\n",
              "      <td>2</td>\n",
              "      <td>$3.39</td>\n",
              "    </tr>\n",
              "    <tr>\n",
              "      <th>2</th>\n",
              "      <td>q1</td>\n",
              "      <td>2</td>\n",
              "      <td>2</td>\n",
              "      <td>2</td>\n",
              "      <td>4</td>\n",
              "      <td>3</td>\n",
              "      <td>$16.98</td>\n",
              "    </tr>\n",
              "    <tr>\n",
              "      <th>3</th>\n",
              "      <td>q1</td>\n",
              "      <td>3</td>\n",
              "      <td>4</td>\n",
              "      <td>1</td>\n",
              "      <td>7</td>\n",
              "      <td>6</td>\n",
              "      <td>$9.25</td>\n",
              "    </tr>\n",
              "    <tr>\n",
              "      <th>4</th>\n",
              "      <td>q1</td>\n",
              "      <td>4</td>\n",
              "      <td>6</td>\n",
              "      <td>1</td>\n",
              "      <td>9</td>\n",
              "      <td>8</td>\n",
              "      <td>$8.75</td>\n",
              "    </tr>\n",
              "  </tbody>\n",
              "</table>\n",
              "</div>"
            ],
            "text/plain": [
              "  level_0  level_1 order_id quantity item_id choice_description_id item_price\n",
              "0      q1        0        1        1       1                     1     $3.39 \n",
              "1      q1        1        1        1       2                     2     $3.39 \n",
              "2      q1        2        2        2       4                     3    $16.98 \n",
              "3      q1        3        4        1       7                     6     $9.25 \n",
              "4      q1        4        6        1       9                     8     $8.75 "
            ]
          },
          "execution_count": 204,
          "metadata": {},
          "output_type": "execute_result"
        }
      ],
      "source": [
        "#2\n",
        "quarter = pd.concat([q1,q2,q3],keys=['q1','q2','q3'])\n",
        "quarter = quarter.reset_index()\n",
        "quarter.head()"
      ]
    },
    {
      "cell_type": "code",
      "execution_count": 205,
      "metadata": {},
      "outputs": [
        {
          "data": {
            "application/vnd.microsoft.datawrangler.viewer.v0+json": {
              "columns": [
                {
                  "name": "index",
                  "rawType": "int64",
                  "type": "integer"
                },
                {
                  "name": "level_0",
                  "rawType": "object",
                  "type": "string"
                },
                {
                  "name": "level_1",
                  "rawType": "int64",
                  "type": "integer"
                },
                {
                  "name": "order_id",
                  "rawType": "object",
                  "type": "unknown"
                },
                {
                  "name": "quantity",
                  "rawType": "object",
                  "type": "unknown"
                },
                {
                  "name": "item_id",
                  "rawType": "object",
                  "type": "unknown"
                },
                {
                  "name": "choice_description_id",
                  "rawType": "object",
                  "type": "unknown"
                },
                {
                  "name": "item_price",
                  "rawType": "object",
                  "type": "string"
                },
                {
                  "name": "item_name",
                  "rawType": "object",
                  "type": "string"
                }
              ],
              "ref": "61bd599b-c979-4372-8e28-8e9cd2e3ced2",
              "rows": [
                [
                  "0",
                  "q1",
                  "0",
                  "1",
                  "1",
                  "1",
                  "1",
                  "$3.39 ",
                  "Izze"
                ],
                [
                  "1",
                  "q1",
                  "1",
                  "1",
                  "1",
                  "2",
                  "2",
                  "$3.39 ",
                  "Nantucket Nectar"
                ],
                [
                  "2",
                  "q1",
                  "2",
                  "2",
                  "2",
                  "4",
                  "3",
                  "$16.98 ",
                  "Chicken Bowl"
                ],
                [
                  "3",
                  "q1",
                  "3",
                  "4",
                  "1",
                  "7",
                  "6",
                  "$9.25 ",
                  "Steak Soft Tacos"
                ],
                [
                  "4",
                  "q1",
                  "4",
                  "6",
                  "1",
                  "9",
                  "8",
                  "$8.75 ",
                  "Chicken Crispy Tacos"
                ],
                [
                  "5",
                  "q1",
                  "5",
                  "6",
                  "1",
                  "10",
                  "9",
                  "$8.75 ",
                  "Chicken Soft Tacos"
                ],
                [
                  "6",
                  "q1",
                  "6",
                  "7",
                  "1",
                  "4",
                  "10",
                  "$11.25 ",
                  "Chicken Bowl"
                ],
                [
                  "7",
                  "q1",
                  "7",
                  "9",
                  "1",
                  "11",
                  "12",
                  "$8.49 ",
                  "Chicken Burrito"
                ],
                [
                  "8",
                  "q1",
                  "8",
                  "10",
                  "1",
                  "8",
                  "0",
                  "$4.45 ",
                  "Chips and Guacamole"
                ],
                [
                  "9",
                  "q1",
                  "9",
                  "11",
                  "1",
                  "2",
                  "16",
                  "$3.39 ",
                  "Nantucket Nectar"
                ],
                [
                  "10",
                  "q1",
                  "10",
                  "12",
                  "1",
                  "1",
                  "18",
                  "$3.39 ",
                  "Izze"
                ],
                [
                  "11",
                  "q1",
                  "11",
                  "13",
                  "1",
                  "0",
                  "0",
                  "$2.39 ",
                  "Chips and Fresh Tomato Salsa"
                ],
                [
                  "12",
                  "q1",
                  "12",
                  "13",
                  "1",
                  "4",
                  "19",
                  "$8.49 ",
                  "Chicken Bowl"
                ],
                [
                  "13",
                  "q1",
                  "13",
                  "15",
                  "1",
                  "11",
                  "22",
                  "$8.49 ",
                  "Chicken Burrito"
                ],
                [
                  "14",
                  "q1",
                  "14",
                  "15",
                  "1",
                  "3",
                  "0",
                  "$2.39 ",
                  "Chips and Tomatillo-Green Chili Salsa"
                ],
                [
                  "15",
                  "q1",
                  "15",
                  "16",
                  "1",
                  "5",
                  "0",
                  "$1.69 ",
                  "Side of Chips"
                ],
                [
                  "16",
                  "q1",
                  "16",
                  "17",
                  "1",
                  "15",
                  "24",
                  "$8.99 ",
                  "Carnitas Bowl"
                ],
                [
                  "17",
                  "q1",
                  "17",
                  "17",
                  "1",
                  "16",
                  "0",
                  "$1.09 ",
                  "Bottled Water"
                ],
                [
                  "18",
                  "q1",
                  "18",
                  "18",
                  "1",
                  "17",
                  "0",
                  "$2.95 ",
                  "Chips and Tomatillo Green Chili Salsa"
                ],
                [
                  "19",
                  "q1",
                  "19",
                  "19",
                  "1",
                  "18",
                  "27",
                  "$11.75 ",
                  "Barbacoa Bowl"
                ],
                [
                  "20",
                  "q1",
                  "20",
                  "20",
                  "1",
                  "8",
                  "0",
                  "$4.45 ",
                  "Chips and Guacamole"
                ],
                [
                  "21",
                  "q1",
                  "21",
                  "20",
                  "1",
                  "4",
                  "28",
                  "$11.25 ",
                  "Chicken Bowl"
                ],
                [
                  "22",
                  "q1",
                  "22",
                  "20",
                  "1",
                  "6",
                  "29",
                  "$11.75 ",
                  "Steak Burrito"
                ],
                [
                  "23",
                  "q1",
                  "23",
                  "20",
                  "1",
                  "20",
                  "30",
                  "$8.75 ",
                  "Chicken Salad Bowl"
                ],
                [
                  "24",
                  "q1",
                  "24",
                  "21",
                  "1",
                  "6",
                  "32",
                  "$8.99 ",
                  "Steak Burrito"
                ],
                [
                  "25",
                  "q1",
                  "25",
                  "21",
                  "1",
                  "1",
                  "33",
                  "$3.39 ",
                  "Izze"
                ],
                [
                  "26",
                  "q1",
                  "26",
                  "22",
                  "1",
                  "6",
                  "34",
                  "$8.99 ",
                  "Steak Burrito"
                ],
                [
                  "27",
                  "q1",
                  "27",
                  "23",
                  "2",
                  "12",
                  "36",
                  "$2.18 ",
                  "Canned Soda"
                ],
                [
                  "28",
                  "q1",
                  "28",
                  "24",
                  "1",
                  "11",
                  "37",
                  "$10.98 ",
                  "Chicken Burrito"
                ],
                [
                  "29",
                  "q1",
                  "29",
                  "26",
                  "1",
                  "22",
                  "39",
                  "$9.25 ",
                  "Barbacoa Soft Tacos"
                ],
                [
                  "30",
                  "q1",
                  "30",
                  "27",
                  "1",
                  "18",
                  "27",
                  "$11.75 ",
                  "Barbacoa Bowl"
                ],
                [
                  "31",
                  "q1",
                  "31",
                  "27",
                  "1",
                  "19",
                  "0",
                  "$2.15 ",
                  "Chips"
                ],
                [
                  "32",
                  "q1",
                  "32",
                  "28",
                  "1",
                  "8",
                  "0",
                  "$4.45 ",
                  "Chips and Guacamole"
                ],
                [
                  "33",
                  "q1",
                  "33",
                  "29",
                  "1",
                  "6",
                  "24",
                  "$8.99 ",
                  "Steak Burrito"
                ],
                [
                  "34",
                  "q1",
                  "34",
                  "30",
                  "1",
                  "1",
                  "33",
                  "$3.39 ",
                  "Izze"
                ],
                [
                  "35",
                  "q1",
                  "35",
                  "30",
                  "1",
                  "6",
                  "45",
                  "$8.99 ",
                  "Steak Burrito"
                ],
                [
                  "36",
                  "q1",
                  "36",
                  "31",
                  "1",
                  "6",
                  "46",
                  "$8.99 ",
                  "Steak Burrito"
                ],
                [
                  "37",
                  "q1",
                  "37",
                  "33",
                  "1",
                  "8",
                  "0",
                  "$4.45 ",
                  "Chips and Guacamole"
                ],
                [
                  "38",
                  "q1",
                  "38",
                  "34",
                  "1",
                  "10",
                  "49",
                  "$8.75 ",
                  "Chicken Soft Tacos"
                ],
                [
                  "39",
                  "q1",
                  "39",
                  "34",
                  "1",
                  "4",
                  "50",
                  "$8.75 ",
                  "Chicken Bowl"
                ],
                [
                  "40",
                  "q1",
                  "40",
                  "35",
                  "1",
                  "19",
                  "0",
                  "$2.15 ",
                  "Chips"
                ],
                [
                  "41",
                  "q1",
                  "41",
                  "38",
                  "1",
                  "16",
                  "0",
                  "$1.09 ",
                  "Bottled Water"
                ],
                [
                  "42",
                  "q1",
                  "42",
                  "40",
                  "1",
                  "21",
                  "59",
                  "$11.75 ",
                  "Steak Bowl"
                ],
                [
                  "43",
                  "q1",
                  "43",
                  "40",
                  "1",
                  "21",
                  "60",
                  "$11.75 ",
                  "Steak Bowl"
                ],
                [
                  "44",
                  "q1",
                  "44",
                  "41",
                  "1",
                  "14",
                  "62",
                  "$11.75 ",
                  "Carnitas Burrito"
                ],
                [
                  "45",
                  "q1",
                  "45",
                  "43",
                  "1",
                  "15",
                  "64",
                  "$11.75 ",
                  "Carnitas Bowl"
                ],
                [
                  "46",
                  "q1",
                  "46",
                  "44",
                  "1",
                  "4",
                  "66",
                  "$8.75 ",
                  "Chicken Bowl"
                ],
                [
                  "47",
                  "q1",
                  "47",
                  "44",
                  "1",
                  "8",
                  "0",
                  "$4.45 ",
                  "Chips and Guacamole"
                ],
                [
                  "48",
                  "q1",
                  "48",
                  "45",
                  "1",
                  "6",
                  "67",
                  "$8.99 ",
                  "Steak Burrito"
                ],
                [
                  "49",
                  "q1",
                  "49",
                  "46",
                  "1",
                  "23",
                  "68",
                  "$8.49 ",
                  "Veggie Burrito"
                ]
              ],
              "shape": {
                "columns": 8,
                "rows": 4622
              }
            },
            "text/html": [
              "<div>\n",
              "<style scoped>\n",
              "    .dataframe tbody tr th:only-of-type {\n",
              "        vertical-align: middle;\n",
              "    }\n",
              "\n",
              "    .dataframe tbody tr th {\n",
              "        vertical-align: top;\n",
              "    }\n",
              "\n",
              "    .dataframe thead th {\n",
              "        text-align: right;\n",
              "    }\n",
              "</style>\n",
              "<table border=\"1\" class=\"dataframe\">\n",
              "  <thead>\n",
              "    <tr style=\"text-align: right;\">\n",
              "      <th></th>\n",
              "      <th>level_0</th>\n",
              "      <th>level_1</th>\n",
              "      <th>order_id</th>\n",
              "      <th>quantity</th>\n",
              "      <th>item_id</th>\n",
              "      <th>choice_description_id</th>\n",
              "      <th>item_price</th>\n",
              "      <th>item_name</th>\n",
              "    </tr>\n",
              "  </thead>\n",
              "  <tbody>\n",
              "    <tr>\n",
              "      <th>0</th>\n",
              "      <td>q1</td>\n",
              "      <td>0</td>\n",
              "      <td>1</td>\n",
              "      <td>1</td>\n",
              "      <td>1</td>\n",
              "      <td>1</td>\n",
              "      <td>$3.39</td>\n",
              "      <td>Izze</td>\n",
              "    </tr>\n",
              "    <tr>\n",
              "      <th>1</th>\n",
              "      <td>q1</td>\n",
              "      <td>1</td>\n",
              "      <td>1</td>\n",
              "      <td>1</td>\n",
              "      <td>2</td>\n",
              "      <td>2</td>\n",
              "      <td>$3.39</td>\n",
              "      <td>Nantucket Nectar</td>\n",
              "    </tr>\n",
              "    <tr>\n",
              "      <th>2</th>\n",
              "      <td>q1</td>\n",
              "      <td>2</td>\n",
              "      <td>2</td>\n",
              "      <td>2</td>\n",
              "      <td>4</td>\n",
              "      <td>3</td>\n",
              "      <td>$16.98</td>\n",
              "      <td>Chicken Bowl</td>\n",
              "    </tr>\n",
              "    <tr>\n",
              "      <th>3</th>\n",
              "      <td>q1</td>\n",
              "      <td>3</td>\n",
              "      <td>4</td>\n",
              "      <td>1</td>\n",
              "      <td>7</td>\n",
              "      <td>6</td>\n",
              "      <td>$9.25</td>\n",
              "      <td>Steak Soft Tacos</td>\n",
              "    </tr>\n",
              "    <tr>\n",
              "      <th>4</th>\n",
              "      <td>q1</td>\n",
              "      <td>4</td>\n",
              "      <td>6</td>\n",
              "      <td>1</td>\n",
              "      <td>9</td>\n",
              "      <td>8</td>\n",
              "      <td>$8.75</td>\n",
              "      <td>Chicken Crispy Tacos</td>\n",
              "    </tr>\n",
              "    <tr>\n",
              "      <th>...</th>\n",
              "      <td>...</td>\n",
              "      <td>...</td>\n",
              "      <td>...</td>\n",
              "      <td>...</td>\n",
              "      <td>...</td>\n",
              "      <td>...</td>\n",
              "      <td>...</td>\n",
              "      <td>...</td>\n",
              "    </tr>\n",
              "    <tr>\n",
              "      <th>4617</th>\n",
              "      <td>q2</td>\n",
              "      <td>2342</td>\n",
              "      <td>1829</td>\n",
              "      <td>1</td>\n",
              "      <td>23</td>\n",
              "      <td>92</td>\n",
              "      <td>$11.25</td>\n",
              "      <td>Veggie Burrito</td>\n",
              "    </tr>\n",
              "    <tr>\n",
              "      <th>4618</th>\n",
              "      <td>q2</td>\n",
              "      <td>2343</td>\n",
              "      <td>1830</td>\n",
              "      <td>1</td>\n",
              "      <td>23</td>\n",
              "      <td>1043</td>\n",
              "      <td>$11.25</td>\n",
              "      <td>Veggie Burrito</td>\n",
              "    </tr>\n",
              "    <tr>\n",
              "      <th>4619</th>\n",
              "      <td>q2</td>\n",
              "      <td>2344</td>\n",
              "      <td>1832</td>\n",
              "      <td>1</td>\n",
              "      <td>10</td>\n",
              "      <td>116</td>\n",
              "      <td>$8.75</td>\n",
              "      <td>Chicken Soft Tacos</td>\n",
              "    </tr>\n",
              "    <tr>\n",
              "      <th>4620</th>\n",
              "      <td>q2</td>\n",
              "      <td>2345</td>\n",
              "      <td>1832</td>\n",
              "      <td>1</td>\n",
              "      <td>8</td>\n",
              "      <td>0</td>\n",
              "      <td>$4.45</td>\n",
              "      <td>Chips and Guacamole</td>\n",
              "    </tr>\n",
              "    <tr>\n",
              "      <th>4621</th>\n",
              "      <td>q2</td>\n",
              "      <td>2346</td>\n",
              "      <td>1834</td>\n",
              "      <td>1</td>\n",
              "      <td>20</td>\n",
              "      <td>515</td>\n",
              "      <td>$11.25</td>\n",
              "      <td>Chicken Salad Bowl</td>\n",
              "    </tr>\n",
              "  </tbody>\n",
              "</table>\n",
              "<p>4622 rows × 8 columns</p>\n",
              "</div>"
            ],
            "text/plain": [
              "     level_0  level_1 order_id quantity item_id choice_description_id  \\\n",
              "0         q1        0        1        1       1                     1   \n",
              "1         q1        1        1        1       2                     2   \n",
              "2         q1        2        2        2       4                     3   \n",
              "3         q1        3        4        1       7                     6   \n",
              "4         q1        4        6        1       9                     8   \n",
              "...      ...      ...      ...      ...     ...                   ...   \n",
              "4617      q2     2342     1829        1      23                    92   \n",
              "4618      q2     2343     1830        1      23                  1043   \n",
              "4619      q2     2344     1832        1      10                   116   \n",
              "4620      q2     2345     1832        1       8                     0   \n",
              "4621      q2     2346     1834        1      20                   515   \n",
              "\n",
              "     item_price             item_name  \n",
              "0        $3.39                   Izze  \n",
              "1        $3.39       Nantucket Nectar  \n",
              "2       $16.98           Chicken Bowl  \n",
              "3        $9.25       Steak Soft Tacos  \n",
              "4        $8.75   Chicken Crispy Tacos  \n",
              "...         ...                   ...  \n",
              "4617    $11.25         Veggie Burrito  \n",
              "4618    $11.25         Veggie Burrito  \n",
              "4619     $8.75     Chicken Soft Tacos  \n",
              "4620     $4.45    Chips and Guacamole  \n",
              "4621    $11.25     Chicken Salad Bowl  \n",
              "\n",
              "[4622 rows x 8 columns]"
            ]
          },
          "execution_count": 205,
          "metadata": {},
          "output_type": "execute_result"
        }
      ],
      "source": [
        "#3\n",
        "quarter_item = quarter.merge(items,how = 'left',on = 'item_id')\n",
        "quarter_item"
      ]
    },
    {
      "cell_type": "code",
      "execution_count": 206,
      "metadata": {},
      "outputs": [
        {
          "data": {
            "application/vnd.microsoft.datawrangler.viewer.v0+json": {
              "columns": [
                {
                  "name": "level_0",
                  "rawType": "object",
                  "type": "string"
                },
                {
                  "name": "item_name",
                  "rawType": "object",
                  "type": "string"
                },
                {
                  "name": "quantity",
                  "rawType": "object",
                  "type": "unknown"
                }
              ],
              "ref": "d5cd0528-a36e-4447-b14d-7c2cb0044439",
              "rows": [
                [
                  "q1",
                  "Chicken Bowl",
                  "367"
                ],
                [
                  "q2",
                  "Chicken Bowl",
                  "394"
                ]
              ],
              "shape": {
                "columns": 2,
                "rows": 2
              }
            },
            "text/html": [
              "<div>\n",
              "<style scoped>\n",
              "    .dataframe tbody tr th:only-of-type {\n",
              "        vertical-align: middle;\n",
              "    }\n",
              "\n",
              "    .dataframe tbody tr th {\n",
              "        vertical-align: top;\n",
              "    }\n",
              "\n",
              "    .dataframe thead th {\n",
              "        text-align: right;\n",
              "    }\n",
              "</style>\n",
              "<table border=\"1\" class=\"dataframe\">\n",
              "  <thead>\n",
              "    <tr style=\"text-align: right;\">\n",
              "      <th></th>\n",
              "      <th>item_name</th>\n",
              "      <th>quantity</th>\n",
              "    </tr>\n",
              "    <tr>\n",
              "      <th>level_0</th>\n",
              "      <th></th>\n",
              "      <th></th>\n",
              "    </tr>\n",
              "  </thead>\n",
              "  <tbody>\n",
              "    <tr>\n",
              "      <th>q1</th>\n",
              "      <td>Chicken Bowl</td>\n",
              "      <td>367</td>\n",
              "    </tr>\n",
              "    <tr>\n",
              "      <th>q2</th>\n",
              "      <td>Chicken Bowl</td>\n",
              "      <td>394</td>\n",
              "    </tr>\n",
              "  </tbody>\n",
              "</table>\n",
              "</div>"
            ],
            "text/plain": [
              "            item_name quantity\n",
              "level_0                       \n",
              "q1       Chicken Bowl      367\n",
              "q2       Chicken Bowl      394"
            ]
          },
          "execution_count": 206,
          "metadata": {},
          "output_type": "execute_result"
        }
      ],
      "source": [
        "quarter_item.groupby(['level_0','item_name'])['quantity'].sum().sort_values(ascending = False).reset_index().groupby('level_0').first()"
      ]
    },
    {
      "cell_type": "code",
      "execution_count": 208,
      "metadata": {},
      "outputs": [],
      "source": [
        "#4\n",
        "quarter_item['item_price'] = quarter_item['item_price'].apply(lambda x : float(x.replace('$','').strip()))\n",
        "quarter_item['total_item_price'] = quarter_item['quantity']*quarter_item['item_price']"
      ]
    },
    {
      "cell_type": "code",
      "execution_count": 211,
      "metadata": {},
      "outputs": [
        {
          "data": {
            "application/vnd.microsoft.datawrangler.viewer.v0+json": {
              "columns": [
                {
                  "name": "level_0",
                  "rawType": "object",
                  "type": "string"
                },
                {
                  "name": "item_name",
                  "rawType": "object",
                  "type": "string"
                },
                {
                  "name": "total_item_price",
                  "rawType": "object",
                  "type": "unknown"
                }
              ],
              "ref": "94fe8ee0-7fa6-415e-9c1c-9eb42cbdae28",
              "rows": [
                [
                  "q1",
                  "Chicken Bowl",
                  "3852.379999999996"
                ],
                [
                  "q2",
                  "Chicken Bowl",
                  "4192.249999999996"
                ]
              ],
              "shape": {
                "columns": 2,
                "rows": 2
              }
            },
            "text/html": [
              "<div>\n",
              "<style scoped>\n",
              "    .dataframe tbody tr th:only-of-type {\n",
              "        vertical-align: middle;\n",
              "    }\n",
              "\n",
              "    .dataframe tbody tr th {\n",
              "        vertical-align: top;\n",
              "    }\n",
              "\n",
              "    .dataframe thead th {\n",
              "        text-align: right;\n",
              "    }\n",
              "</style>\n",
              "<table border=\"1\" class=\"dataframe\">\n",
              "  <thead>\n",
              "    <tr style=\"text-align: right;\">\n",
              "      <th></th>\n",
              "      <th>item_name</th>\n",
              "      <th>total_item_price</th>\n",
              "    </tr>\n",
              "    <tr>\n",
              "      <th>level_0</th>\n",
              "      <th></th>\n",
              "      <th></th>\n",
              "    </tr>\n",
              "  </thead>\n",
              "  <tbody>\n",
              "    <tr>\n",
              "      <th>q1</th>\n",
              "      <td>Chicken Bowl</td>\n",
              "      <td>3852.38</td>\n",
              "    </tr>\n",
              "    <tr>\n",
              "      <th>q2</th>\n",
              "      <td>Chicken Bowl</td>\n",
              "      <td>4192.25</td>\n",
              "    </tr>\n",
              "  </tbody>\n",
              "</table>\n",
              "</div>"
            ],
            "text/plain": [
              "            item_name total_item_price\n",
              "level_0                               \n",
              "q1       Chicken Bowl          3852.38\n",
              "q2       Chicken Bowl          4192.25"
            ]
          },
          "execution_count": 211,
          "metadata": {},
          "output_type": "execute_result"
        }
      ],
      "source": [
        "\n",
        "quarter_item.groupby(['level_0','item_name'])['total_item_price'].sum().sort_values(ascending = False).reset_index().groupby('level_0').first()"
      ]
    },
    {
      "cell_type": "code",
      "execution_count": 214,
      "metadata": {},
      "outputs": [
        {
          "data": {
            "application/vnd.microsoft.datawrangler.viewer.v0+json": {
              "columns": [
                {
                  "name": "level_0",
                  "rawType": "object",
                  "type": "string"
                },
                {
                  "name": "total_item_price",
                  "rawType": "object",
                  "type": "unknown"
                }
              ],
              "ref": "b873da3a-11e6-451f-9e69-85617127e117",
              "rows": [
                [
                  "q1",
                  "13.809487889273573"
                ],
                [
                  "q2",
                  "13.279827823691674"
                ]
              ],
              "shape": {
                "columns": 1,
                "rows": 2
              }
            },
            "text/plain": [
              "level_0\n",
              "q1    13.809488\n",
              "q2    13.279828\n",
              "Name: total_item_price, dtype: object"
            ]
          },
          "execution_count": 214,
          "metadata": {},
          "output_type": "execute_result"
        }
      ],
      "source": [
        "#5 Average Price\n",
        "quarter_item.groupby(['level_0','order_id'])['total_item_price'].sum().sort_values(ascending = False).reset_index().groupby('level_0')['total_item_price'].mean()\n"
      ]
    },
    {
      "cell_type": "markdown",
      "metadata": {
        "id": "IRg-rNsDW-Ca"
      },
      "source": [
        "###`Q-6` From the IPL wala dataset you have to find the Purple cap holder each season.\n",
        "\n",
        "*Note: Bowler with most no wickets in a season gets purple cap. If more than one bowler have same no of wickets in the season, one with least ecomnomy among them is purple cap holder.*\n",
        "\n",
        "Bowler's Economy = runs-conceded per six balls"
      ]
    },
    {
      "cell_type": "code",
      "execution_count": 218,
      "metadata": {
        "id": "yQeUfliHXKJm"
      },
      "outputs": [
        {
          "data": {
            "text/plain": [
              "array([nan, 'legbyes', 'wides', 'byes', 'noballs', 'penalty'],\n",
              "      dtype=object)"
            ]
          },
          "execution_count": 218,
          "metadata": {},
          "output_type": "execute_result"
        }
      ],
      "source": [
        "ipl_df1 = pd.read_csv('Dataset\\ipl_deliveries.csv')\n",
        "ipl_df2 = pd.read_csv('Dataset\\ipl-matches.csv')\n",
        "\n",
        "df = ipl_df1.merge(ipl_df2[['Season','ID']],how='inner',on ='ID')\n",
        "df['extra_type'].unique()"
      ]
    },
    {
      "cell_type": "code",
      "execution_count": 216,
      "metadata": {},
      "outputs": [
        {
          "data": {
            "application/vnd.microsoft.datawrangler.viewer.v0+json": {
              "columns": [
                {
                  "name": "index",
                  "rawType": "int64",
                  "type": "integer"
                },
                {
                  "name": "ID",
                  "rawType": "int64",
                  "type": "integer"
                },
                {
                  "name": "Team",
                  "rawType": "object",
                  "type": "string"
                },
                {
                  "name": "innings",
                  "rawType": "int64",
                  "type": "integer"
                },
                {
                  "name": "overs",
                  "rawType": "int64",
                  "type": "integer"
                },
                {
                  "name": "ballnumber",
                  "rawType": "int64",
                  "type": "integer"
                },
                {
                  "name": "batter",
                  "rawType": "object",
                  "type": "string"
                },
                {
                  "name": "bowler",
                  "rawType": "object",
                  "type": "string"
                },
                {
                  "name": "non-striker",
                  "rawType": "object",
                  "type": "string"
                },
                {
                  "name": "extra_type",
                  "rawType": "object",
                  "type": "unknown"
                },
                {
                  "name": "batsman_run",
                  "rawType": "int64",
                  "type": "integer"
                },
                {
                  "name": "extras_run",
                  "rawType": "int64",
                  "type": "integer"
                },
                {
                  "name": "total_run",
                  "rawType": "int64",
                  "type": "integer"
                },
                {
                  "name": "non_boundary",
                  "rawType": "int64",
                  "type": "integer"
                },
                {
                  "name": "isWicketDelivery",
                  "rawType": "int64",
                  "type": "integer"
                },
                {
                  "name": "player_out",
                  "rawType": "object",
                  "type": "unknown"
                },
                {
                  "name": "kind",
                  "rawType": "object",
                  "type": "unknown"
                },
                {
                  "name": "fielders_involved",
                  "rawType": "object",
                  "type": "unknown"
                },
                {
                  "name": "BattingTeam",
                  "rawType": "object",
                  "type": "string"
                },
                {
                  "name": "BowlingTeam",
                  "rawType": "object",
                  "type": "string"
                },
                {
                  "name": "Season",
                  "rawType": "object",
                  "type": "string"
                }
              ],
              "ref": "5bfaa104-2e26-4a77-93dd-a9d99a247d10",
              "rows": [
                [
                  "0",
                  "1312200",
                  "Rajasthan RoyalsGujarat Titans",
                  "1",
                  "0",
                  "1",
                  "YBK Jaiswal",
                  "Mohammed Shami",
                  "JC Buttler",
                  null,
                  "0",
                  "0",
                  "0",
                  "0",
                  "0",
                  null,
                  null,
                  null,
                  "Rajasthan Royals",
                  "Gujarat Titans",
                  "2022"
                ],
                [
                  "1",
                  "1312200",
                  "Rajasthan RoyalsGujarat Titans",
                  "1",
                  "0",
                  "2",
                  "YBK Jaiswal",
                  "Mohammed Shami",
                  "JC Buttler",
                  "legbyes",
                  "0",
                  "1",
                  "1",
                  "0",
                  "0",
                  null,
                  null,
                  null,
                  "Rajasthan Royals",
                  "Gujarat Titans",
                  "2022"
                ],
                [
                  "2",
                  "1312200",
                  "Rajasthan RoyalsGujarat Titans",
                  "1",
                  "0",
                  "3",
                  "JC Buttler",
                  "Mohammed Shami",
                  "YBK Jaiswal",
                  null,
                  "1",
                  "0",
                  "1",
                  "0",
                  "0",
                  null,
                  null,
                  null,
                  "Rajasthan Royals",
                  "Gujarat Titans",
                  "2022"
                ],
                [
                  "3",
                  "1312200",
                  "Rajasthan RoyalsGujarat Titans",
                  "1",
                  "0",
                  "4",
                  "YBK Jaiswal",
                  "Mohammed Shami",
                  "JC Buttler",
                  null,
                  "0",
                  "0",
                  "0",
                  "0",
                  "0",
                  null,
                  null,
                  null,
                  "Rajasthan Royals",
                  "Gujarat Titans",
                  "2022"
                ],
                [
                  "4",
                  "1312200",
                  "Rajasthan RoyalsGujarat Titans",
                  "1",
                  "0",
                  "5",
                  "YBK Jaiswal",
                  "Mohammed Shami",
                  "JC Buttler",
                  null,
                  "0",
                  "0",
                  "0",
                  "0",
                  "0",
                  null,
                  null,
                  null,
                  "Rajasthan Royals",
                  "Gujarat Titans",
                  "2022"
                ],
                [
                  "5",
                  "1312200",
                  "Rajasthan RoyalsGujarat Titans",
                  "1",
                  "0",
                  "6",
                  "YBK Jaiswal",
                  "Mohammed Shami",
                  "JC Buttler",
                  null,
                  "0",
                  "0",
                  "0",
                  "0",
                  "0",
                  null,
                  null,
                  null,
                  "Rajasthan Royals",
                  "Gujarat Titans",
                  "2022"
                ],
                [
                  "6",
                  "1312200",
                  "Rajasthan RoyalsGujarat Titans",
                  "1",
                  "1",
                  "1",
                  "JC Buttler",
                  "Yash Dayal",
                  "YBK Jaiswal",
                  null,
                  "0",
                  "0",
                  "0",
                  "0",
                  "0",
                  null,
                  null,
                  null,
                  "Rajasthan Royals",
                  "Gujarat Titans",
                  "2022"
                ],
                [
                  "7",
                  "1312200",
                  "Rajasthan RoyalsGujarat Titans",
                  "1",
                  "1",
                  "2",
                  "JC Buttler",
                  "Yash Dayal",
                  "YBK Jaiswal",
                  null,
                  "0",
                  "0",
                  "0",
                  "0",
                  "0",
                  null,
                  null,
                  null,
                  "Rajasthan Royals",
                  "Gujarat Titans",
                  "2022"
                ],
                [
                  "8",
                  "1312200",
                  "Rajasthan RoyalsGujarat Titans",
                  "1",
                  "1",
                  "3",
                  "JC Buttler",
                  "Yash Dayal",
                  "YBK Jaiswal",
                  null,
                  "4",
                  "0",
                  "4",
                  "0",
                  "0",
                  null,
                  null,
                  null,
                  "Rajasthan Royals",
                  "Gujarat Titans",
                  "2022"
                ],
                [
                  "9",
                  "1312200",
                  "Rajasthan RoyalsGujarat Titans",
                  "1",
                  "1",
                  "4",
                  "JC Buttler",
                  "Yash Dayal",
                  "YBK Jaiswal",
                  null,
                  "0",
                  "0",
                  "0",
                  "0",
                  "0",
                  null,
                  null,
                  null,
                  "Rajasthan Royals",
                  "Gujarat Titans",
                  "2022"
                ],
                [
                  "10",
                  "1312200",
                  "Rajasthan RoyalsGujarat Titans",
                  "1",
                  "1",
                  "5",
                  "JC Buttler",
                  "Yash Dayal",
                  "YBK Jaiswal",
                  null,
                  "1",
                  "0",
                  "1",
                  "0",
                  "0",
                  null,
                  null,
                  null,
                  "Rajasthan Royals",
                  "Gujarat Titans",
                  "2022"
                ],
                [
                  "11",
                  "1312200",
                  "Rajasthan RoyalsGujarat Titans",
                  "1",
                  "1",
                  "6",
                  "YBK Jaiswal",
                  "Yash Dayal",
                  "JC Buttler",
                  null,
                  "0",
                  "0",
                  "0",
                  "0",
                  "0",
                  null,
                  null,
                  null,
                  "Rajasthan Royals",
                  "Gujarat Titans",
                  "2022"
                ],
                [
                  "12",
                  "1312200",
                  "Rajasthan RoyalsGujarat Titans",
                  "1",
                  "2",
                  "1",
                  "JC Buttler",
                  "Mohammed Shami",
                  "YBK Jaiswal",
                  null,
                  "1",
                  "0",
                  "1",
                  "0",
                  "0",
                  null,
                  null,
                  null,
                  "Rajasthan Royals",
                  "Gujarat Titans",
                  "2022"
                ],
                [
                  "13",
                  "1312200",
                  "Rajasthan RoyalsGujarat Titans",
                  "1",
                  "2",
                  "2",
                  "YBK Jaiswal",
                  "Mohammed Shami",
                  "JC Buttler",
                  null,
                  "0",
                  "0",
                  "0",
                  "0",
                  "0",
                  null,
                  null,
                  null,
                  "Rajasthan Royals",
                  "Gujarat Titans",
                  "2022"
                ],
                [
                  "14",
                  "1312200",
                  "Rajasthan RoyalsGujarat Titans",
                  "1",
                  "2",
                  "3",
                  "YBK Jaiswal",
                  "Mohammed Shami",
                  "JC Buttler",
                  null,
                  "4",
                  "0",
                  "4",
                  "0",
                  "0",
                  null,
                  null,
                  null,
                  "Rajasthan Royals",
                  "Gujarat Titans",
                  "2022"
                ],
                [
                  "15",
                  "1312200",
                  "Rajasthan RoyalsGujarat Titans",
                  "1",
                  "2",
                  "4",
                  "YBK Jaiswal",
                  "Mohammed Shami",
                  "JC Buttler",
                  null,
                  "0",
                  "0",
                  "0",
                  "0",
                  "0",
                  null,
                  null,
                  null,
                  "Rajasthan Royals",
                  "Gujarat Titans",
                  "2022"
                ],
                [
                  "16",
                  "1312200",
                  "Rajasthan RoyalsGujarat Titans",
                  "1",
                  "2",
                  "5",
                  "YBK Jaiswal",
                  "Mohammed Shami",
                  "JC Buttler",
                  null,
                  "6",
                  "0",
                  "6",
                  "0",
                  "0",
                  null,
                  null,
                  null,
                  "Rajasthan Royals",
                  "Gujarat Titans",
                  "2022"
                ],
                [
                  "17",
                  "1312200",
                  "Rajasthan RoyalsGujarat Titans",
                  "1",
                  "2",
                  "6",
                  "YBK Jaiswal",
                  "Mohammed Shami",
                  "JC Buttler",
                  null,
                  "3",
                  "0",
                  "3",
                  "0",
                  "0",
                  null,
                  null,
                  null,
                  "Rajasthan Royals",
                  "Gujarat Titans",
                  "2022"
                ],
                [
                  "18",
                  "1312200",
                  "Rajasthan RoyalsGujarat Titans",
                  "1",
                  "3",
                  "1",
                  "YBK Jaiswal",
                  "Yash Dayal",
                  "JC Buttler",
                  null,
                  "1",
                  "0",
                  "1",
                  "0",
                  "0",
                  null,
                  null,
                  null,
                  "Rajasthan Royals",
                  "Gujarat Titans",
                  "2022"
                ],
                [
                  "19",
                  "1312200",
                  "Rajasthan RoyalsGujarat Titans",
                  "1",
                  "3",
                  "2",
                  "JC Buttler",
                  "Yash Dayal",
                  "YBK Jaiswal",
                  null,
                  "1",
                  "0",
                  "1",
                  "0",
                  "0",
                  null,
                  null,
                  null,
                  "Rajasthan Royals",
                  "Gujarat Titans",
                  "2022"
                ],
                [
                  "20",
                  "1312200",
                  "Rajasthan RoyalsGujarat Titans",
                  "1",
                  "3",
                  "3",
                  "YBK Jaiswal",
                  "Yash Dayal",
                  "JC Buttler",
                  null,
                  "0",
                  "0",
                  "0",
                  "0",
                  "0",
                  null,
                  null,
                  null,
                  "Rajasthan Royals",
                  "Gujarat Titans",
                  "2022"
                ],
                [
                  "21",
                  "1312200",
                  "Rajasthan RoyalsGujarat Titans",
                  "1",
                  "3",
                  "4",
                  "YBK Jaiswal",
                  "Yash Dayal",
                  "JC Buttler",
                  null,
                  "2",
                  "0",
                  "2",
                  "0",
                  "0",
                  null,
                  null,
                  null,
                  "Rajasthan Royals",
                  "Gujarat Titans",
                  "2022"
                ],
                [
                  "22",
                  "1312200",
                  "Rajasthan RoyalsGujarat Titans",
                  "1",
                  "3",
                  "5",
                  "YBK Jaiswal",
                  "Yash Dayal",
                  "JC Buttler",
                  null,
                  "6",
                  "0",
                  "6",
                  "0",
                  "0",
                  null,
                  null,
                  null,
                  "Rajasthan Royals",
                  "Gujarat Titans",
                  "2022"
                ],
                [
                  "23",
                  "1312200",
                  "Rajasthan RoyalsGujarat Titans",
                  "1",
                  "3",
                  "6",
                  "YBK Jaiswal",
                  "Yash Dayal",
                  "JC Buttler",
                  null,
                  "0",
                  "0",
                  "0",
                  "0",
                  "1",
                  "YBK Jaiswal",
                  "caught",
                  "R Sai Kishore",
                  "Rajasthan Royals",
                  "Gujarat Titans",
                  "2022"
                ],
                [
                  "24",
                  "1312200",
                  "Rajasthan RoyalsGujarat Titans",
                  "1",
                  "4",
                  "1",
                  "JC Buttler",
                  "LH Ferguson",
                  "SV Samson",
                  null,
                  "0",
                  "0",
                  "0",
                  "0",
                  "0",
                  null,
                  null,
                  null,
                  "Rajasthan Royals",
                  "Gujarat Titans",
                  "2022"
                ],
                [
                  "25",
                  "1312200",
                  "Rajasthan RoyalsGujarat Titans",
                  "1",
                  "4",
                  "2",
                  "JC Buttler",
                  "LH Ferguson",
                  "SV Samson",
                  null,
                  "1",
                  "0",
                  "1",
                  "0",
                  "0",
                  null,
                  null,
                  null,
                  "Rajasthan Royals",
                  "Gujarat Titans",
                  "2022"
                ],
                [
                  "26",
                  "1312200",
                  "Rajasthan RoyalsGujarat Titans",
                  "1",
                  "4",
                  "3",
                  "SV Samson",
                  "LH Ferguson",
                  "JC Buttler",
                  null,
                  "4",
                  "0",
                  "4",
                  "0",
                  "0",
                  null,
                  null,
                  null,
                  "Rajasthan Royals",
                  "Gujarat Titans",
                  "2022"
                ],
                [
                  "27",
                  "1312200",
                  "Rajasthan RoyalsGujarat Titans",
                  "1",
                  "4",
                  "4",
                  "SV Samson",
                  "LH Ferguson",
                  "JC Buttler",
                  null,
                  "1",
                  "0",
                  "1",
                  "0",
                  "0",
                  null,
                  null,
                  null,
                  "Rajasthan Royals",
                  "Gujarat Titans",
                  "2022"
                ],
                [
                  "28",
                  "1312200",
                  "Rajasthan RoyalsGujarat Titans",
                  "1",
                  "4",
                  "5",
                  "JC Buttler",
                  "LH Ferguson",
                  "SV Samson",
                  null,
                  "0",
                  "0",
                  "0",
                  "0",
                  "0",
                  null,
                  null,
                  null,
                  "Rajasthan Royals",
                  "Gujarat Titans",
                  "2022"
                ],
                [
                  "29",
                  "1312200",
                  "Rajasthan RoyalsGujarat Titans",
                  "1",
                  "4",
                  "6",
                  "JC Buttler",
                  "LH Ferguson",
                  "SV Samson",
                  null,
                  "0",
                  "0",
                  "0",
                  "0",
                  "0",
                  null,
                  null,
                  null,
                  "Rajasthan Royals",
                  "Gujarat Titans",
                  "2022"
                ],
                [
                  "30",
                  "1312200",
                  "Rajasthan RoyalsGujarat Titans",
                  "1",
                  "5",
                  "1",
                  "SV Samson",
                  "Rashid Khan",
                  "JC Buttler",
                  null,
                  "4",
                  "0",
                  "4",
                  "0",
                  "0",
                  null,
                  null,
                  null,
                  "Rajasthan Royals",
                  "Gujarat Titans",
                  "2022"
                ],
                [
                  "31",
                  "1312200",
                  "Rajasthan RoyalsGujarat Titans",
                  "1",
                  "5",
                  "2",
                  "SV Samson",
                  "Rashid Khan",
                  "JC Buttler",
                  null,
                  "1",
                  "0",
                  "1",
                  "0",
                  "0",
                  null,
                  null,
                  null,
                  "Rajasthan Royals",
                  "Gujarat Titans",
                  "2022"
                ],
                [
                  "32",
                  "1312200",
                  "Rajasthan RoyalsGujarat Titans",
                  "1",
                  "5",
                  "3",
                  "JC Buttler",
                  "Rashid Khan",
                  "SV Samson",
                  null,
                  "1",
                  "0",
                  "1",
                  "0",
                  "0",
                  null,
                  null,
                  null,
                  "Rajasthan Royals",
                  "Gujarat Titans",
                  "2022"
                ],
                [
                  "33",
                  "1312200",
                  "Rajasthan RoyalsGujarat Titans",
                  "1",
                  "5",
                  "4",
                  "SV Samson",
                  "Rashid Khan",
                  "JC Buttler",
                  null,
                  "0",
                  "0",
                  "0",
                  "0",
                  "0",
                  null,
                  null,
                  null,
                  "Rajasthan Royals",
                  "Gujarat Titans",
                  "2022"
                ],
                [
                  "34",
                  "1312200",
                  "Rajasthan RoyalsGujarat Titans",
                  "1",
                  "5",
                  "5",
                  "SV Samson",
                  "Rashid Khan",
                  "JC Buttler",
                  null,
                  "1",
                  "0",
                  "1",
                  "0",
                  "0",
                  null,
                  null,
                  null,
                  "Rajasthan Royals",
                  "Gujarat Titans",
                  "2022"
                ],
                [
                  "35",
                  "1312200",
                  "Rajasthan RoyalsGujarat Titans",
                  "1",
                  "5",
                  "6",
                  "JC Buttler",
                  "Rashid Khan",
                  "SV Samson",
                  null,
                  "0",
                  "0",
                  "0",
                  "0",
                  "0",
                  null,
                  null,
                  null,
                  "Rajasthan Royals",
                  "Gujarat Titans",
                  "2022"
                ],
                [
                  "36",
                  "1312200",
                  "Rajasthan RoyalsGujarat Titans",
                  "1",
                  "6",
                  "1",
                  "SV Samson",
                  "LH Ferguson",
                  "JC Buttler",
                  null,
                  "0",
                  "0",
                  "0",
                  "0",
                  "0",
                  null,
                  null,
                  null,
                  "Rajasthan Royals",
                  "Gujarat Titans",
                  "2022"
                ],
                [
                  "37",
                  "1312200",
                  "Rajasthan RoyalsGujarat Titans",
                  "1",
                  "6",
                  "2",
                  "SV Samson",
                  "LH Ferguson",
                  "JC Buttler",
                  null,
                  "1",
                  "0",
                  "1",
                  "0",
                  "0",
                  null,
                  null,
                  null,
                  "Rajasthan Royals",
                  "Gujarat Titans",
                  "2022"
                ],
                [
                  "38",
                  "1312200",
                  "Rajasthan RoyalsGujarat Titans",
                  "1",
                  "6",
                  "3",
                  "JC Buttler",
                  "LH Ferguson",
                  "SV Samson",
                  null,
                  "0",
                  "0",
                  "0",
                  "0",
                  "0",
                  null,
                  null,
                  null,
                  "Rajasthan Royals",
                  "Gujarat Titans",
                  "2022"
                ],
                [
                  "39",
                  "1312200",
                  "Rajasthan RoyalsGujarat Titans",
                  "1",
                  "6",
                  "4",
                  "JC Buttler",
                  "LH Ferguson",
                  "SV Samson",
                  null,
                  "4",
                  "0",
                  "4",
                  "0",
                  "0",
                  null,
                  null,
                  null,
                  "Rajasthan Royals",
                  "Gujarat Titans",
                  "2022"
                ],
                [
                  "40",
                  "1312200",
                  "Rajasthan RoyalsGujarat Titans",
                  "1",
                  "6",
                  "5",
                  "JC Buttler",
                  "LH Ferguson",
                  "SV Samson",
                  null,
                  "4",
                  "0",
                  "4",
                  "0",
                  "0",
                  null,
                  null,
                  null,
                  "Rajasthan Royals",
                  "Gujarat Titans",
                  "2022"
                ],
                [
                  "41",
                  "1312200",
                  "Rajasthan RoyalsGujarat Titans",
                  "1",
                  "6",
                  "6",
                  "JC Buttler",
                  "LH Ferguson",
                  "SV Samson",
                  null,
                  "1",
                  "0",
                  "1",
                  "0",
                  "0",
                  null,
                  null,
                  null,
                  "Rajasthan Royals",
                  "Gujarat Titans",
                  "2022"
                ],
                [
                  "42",
                  "1312200",
                  "Rajasthan RoyalsGujarat Titans",
                  "1",
                  "7",
                  "1",
                  "JC Buttler",
                  "Rashid Khan",
                  "SV Samson",
                  null,
                  "1",
                  "0",
                  "1",
                  "0",
                  "0",
                  null,
                  null,
                  null,
                  "Rajasthan Royals",
                  "Gujarat Titans",
                  "2022"
                ],
                [
                  "43",
                  "1312200",
                  "Rajasthan RoyalsGujarat Titans",
                  "1",
                  "7",
                  "2",
                  "SV Samson",
                  "Rashid Khan",
                  "JC Buttler",
                  null,
                  "1",
                  "0",
                  "1",
                  "0",
                  "0",
                  null,
                  null,
                  null,
                  "Rajasthan Royals",
                  "Gujarat Titans",
                  "2022"
                ],
                [
                  "44",
                  "1312200",
                  "Rajasthan RoyalsGujarat Titans",
                  "1",
                  "7",
                  "3",
                  "JC Buttler",
                  "Rashid Khan",
                  "SV Samson",
                  null,
                  "0",
                  "0",
                  "0",
                  "0",
                  "0",
                  null,
                  null,
                  null,
                  "Rajasthan Royals",
                  "Gujarat Titans",
                  "2022"
                ],
                [
                  "45",
                  "1312200",
                  "Rajasthan RoyalsGujarat Titans",
                  "1",
                  "7",
                  "4",
                  "JC Buttler",
                  "Rashid Khan",
                  "SV Samson",
                  null,
                  "1",
                  "0",
                  "1",
                  "0",
                  "0",
                  null,
                  null,
                  null,
                  "Rajasthan Royals",
                  "Gujarat Titans",
                  "2022"
                ],
                [
                  "46",
                  "1312200",
                  "Rajasthan RoyalsGujarat Titans",
                  "1",
                  "7",
                  "5",
                  "SV Samson",
                  "Rashid Khan",
                  "JC Buttler",
                  null,
                  "1",
                  "0",
                  "1",
                  "0",
                  "0",
                  null,
                  null,
                  null,
                  "Rajasthan Royals",
                  "Gujarat Titans",
                  "2022"
                ],
                [
                  "47",
                  "1312200",
                  "Rajasthan RoyalsGujarat Titans",
                  "1",
                  "7",
                  "6",
                  "JC Buttler",
                  "Rashid Khan",
                  "SV Samson",
                  null,
                  "1",
                  "0",
                  "1",
                  "0",
                  "0",
                  null,
                  null,
                  null,
                  "Rajasthan Royals",
                  "Gujarat Titans",
                  "2022"
                ],
                [
                  "48",
                  "1312200",
                  "Rajasthan RoyalsGujarat Titans",
                  "1",
                  "8",
                  "1",
                  "JC Buttler",
                  "HH Pandya",
                  "SV Samson",
                  null,
                  "1",
                  "0",
                  "1",
                  "0",
                  "0",
                  null,
                  null,
                  null,
                  "Rajasthan Royals",
                  "Gujarat Titans",
                  "2022"
                ],
                [
                  "49",
                  "1312200",
                  "Rajasthan RoyalsGujarat Titans",
                  "1",
                  "8",
                  "2",
                  "SV Samson",
                  "HH Pandya",
                  "JC Buttler",
                  null,
                  "0",
                  "0",
                  "0",
                  "0",
                  "1",
                  "SV Samson",
                  "caught",
                  "R Sai Kishore",
                  "Rajasthan Royals",
                  "Gujarat Titans",
                  "2022"
                ]
              ],
              "shape": {
                "columns": 20,
                "rows": 225954
              }
            },
            "text/html": [
              "<div>\n",
              "<style scoped>\n",
              "    .dataframe tbody tr th:only-of-type {\n",
              "        vertical-align: middle;\n",
              "    }\n",
              "\n",
              "    .dataframe tbody tr th {\n",
              "        vertical-align: top;\n",
              "    }\n",
              "\n",
              "    .dataframe thead th {\n",
              "        text-align: right;\n",
              "    }\n",
              "</style>\n",
              "<table border=\"1\" class=\"dataframe\">\n",
              "  <thead>\n",
              "    <tr style=\"text-align: right;\">\n",
              "      <th></th>\n",
              "      <th>ID</th>\n",
              "      <th>Team</th>\n",
              "      <th>innings</th>\n",
              "      <th>overs</th>\n",
              "      <th>ballnumber</th>\n",
              "      <th>batter</th>\n",
              "      <th>bowler</th>\n",
              "      <th>non-striker</th>\n",
              "      <th>extra_type</th>\n",
              "      <th>batsman_run</th>\n",
              "      <th>extras_run</th>\n",
              "      <th>total_run</th>\n",
              "      <th>non_boundary</th>\n",
              "      <th>isWicketDelivery</th>\n",
              "      <th>player_out</th>\n",
              "      <th>kind</th>\n",
              "      <th>fielders_involved</th>\n",
              "      <th>BattingTeam</th>\n",
              "      <th>BowlingTeam</th>\n",
              "      <th>Season</th>\n",
              "    </tr>\n",
              "  </thead>\n",
              "  <tbody>\n",
              "    <tr>\n",
              "      <th>0</th>\n",
              "      <td>1312200</td>\n",
              "      <td>Rajasthan RoyalsGujarat Titans</td>\n",
              "      <td>1</td>\n",
              "      <td>0</td>\n",
              "      <td>1</td>\n",
              "      <td>YBK Jaiswal</td>\n",
              "      <td>Mohammed Shami</td>\n",
              "      <td>JC Buttler</td>\n",
              "      <td>NaN</td>\n",
              "      <td>0</td>\n",
              "      <td>0</td>\n",
              "      <td>0</td>\n",
              "      <td>0</td>\n",
              "      <td>0</td>\n",
              "      <td>NaN</td>\n",
              "      <td>NaN</td>\n",
              "      <td>NaN</td>\n",
              "      <td>Rajasthan Royals</td>\n",
              "      <td>Gujarat Titans</td>\n",
              "      <td>2022</td>\n",
              "    </tr>\n",
              "    <tr>\n",
              "      <th>1</th>\n",
              "      <td>1312200</td>\n",
              "      <td>Rajasthan RoyalsGujarat Titans</td>\n",
              "      <td>1</td>\n",
              "      <td>0</td>\n",
              "      <td>2</td>\n",
              "      <td>YBK Jaiswal</td>\n",
              "      <td>Mohammed Shami</td>\n",
              "      <td>JC Buttler</td>\n",
              "      <td>legbyes</td>\n",
              "      <td>0</td>\n",
              "      <td>1</td>\n",
              "      <td>1</td>\n",
              "      <td>0</td>\n",
              "      <td>0</td>\n",
              "      <td>NaN</td>\n",
              "      <td>NaN</td>\n",
              "      <td>NaN</td>\n",
              "      <td>Rajasthan Royals</td>\n",
              "      <td>Gujarat Titans</td>\n",
              "      <td>2022</td>\n",
              "    </tr>\n",
              "    <tr>\n",
              "      <th>2</th>\n",
              "      <td>1312200</td>\n",
              "      <td>Rajasthan RoyalsGujarat Titans</td>\n",
              "      <td>1</td>\n",
              "      <td>0</td>\n",
              "      <td>3</td>\n",
              "      <td>JC Buttler</td>\n",
              "      <td>Mohammed Shami</td>\n",
              "      <td>YBK Jaiswal</td>\n",
              "      <td>NaN</td>\n",
              "      <td>1</td>\n",
              "      <td>0</td>\n",
              "      <td>1</td>\n",
              "      <td>0</td>\n",
              "      <td>0</td>\n",
              "      <td>NaN</td>\n",
              "      <td>NaN</td>\n",
              "      <td>NaN</td>\n",
              "      <td>Rajasthan Royals</td>\n",
              "      <td>Gujarat Titans</td>\n",
              "      <td>2022</td>\n",
              "    </tr>\n",
              "    <tr>\n",
              "      <th>3</th>\n",
              "      <td>1312200</td>\n",
              "      <td>Rajasthan RoyalsGujarat Titans</td>\n",
              "      <td>1</td>\n",
              "      <td>0</td>\n",
              "      <td>4</td>\n",
              "      <td>YBK Jaiswal</td>\n",
              "      <td>Mohammed Shami</td>\n",
              "      <td>JC Buttler</td>\n",
              "      <td>NaN</td>\n",
              "      <td>0</td>\n",
              "      <td>0</td>\n",
              "      <td>0</td>\n",
              "      <td>0</td>\n",
              "      <td>0</td>\n",
              "      <td>NaN</td>\n",
              "      <td>NaN</td>\n",
              "      <td>NaN</td>\n",
              "      <td>Rajasthan Royals</td>\n",
              "      <td>Gujarat Titans</td>\n",
              "      <td>2022</td>\n",
              "    </tr>\n",
              "    <tr>\n",
              "      <th>4</th>\n",
              "      <td>1312200</td>\n",
              "      <td>Rajasthan RoyalsGujarat Titans</td>\n",
              "      <td>1</td>\n",
              "      <td>0</td>\n",
              "      <td>5</td>\n",
              "      <td>YBK Jaiswal</td>\n",
              "      <td>Mohammed Shami</td>\n",
              "      <td>JC Buttler</td>\n",
              "      <td>NaN</td>\n",
              "      <td>0</td>\n",
              "      <td>0</td>\n",
              "      <td>0</td>\n",
              "      <td>0</td>\n",
              "      <td>0</td>\n",
              "      <td>NaN</td>\n",
              "      <td>NaN</td>\n",
              "      <td>NaN</td>\n",
              "      <td>Rajasthan Royals</td>\n",
              "      <td>Gujarat Titans</td>\n",
              "      <td>2022</td>\n",
              "    </tr>\n",
              "    <tr>\n",
              "      <th>...</th>\n",
              "      <td>...</td>\n",
              "      <td>...</td>\n",
              "      <td>...</td>\n",
              "      <td>...</td>\n",
              "      <td>...</td>\n",
              "      <td>...</td>\n",
              "      <td>...</td>\n",
              "      <td>...</td>\n",
              "      <td>...</td>\n",
              "      <td>...</td>\n",
              "      <td>...</td>\n",
              "      <td>...</td>\n",
              "      <td>...</td>\n",
              "      <td>...</td>\n",
              "      <td>...</td>\n",
              "      <td>...</td>\n",
              "      <td>...</td>\n",
              "      <td>...</td>\n",
              "      <td>...</td>\n",
              "      <td>...</td>\n",
              "    </tr>\n",
              "    <tr>\n",
              "      <th>225949</th>\n",
              "      <td>335982</td>\n",
              "      <td>Royal Challengers BangaloreKolkata Knight Riders</td>\n",
              "      <td>2</td>\n",
              "      <td>14</td>\n",
              "      <td>5</td>\n",
              "      <td>P Kumar</td>\n",
              "      <td>I Sharma</td>\n",
              "      <td>SB Joshi</td>\n",
              "      <td>legbyes</td>\n",
              "      <td>0</td>\n",
              "      <td>1</td>\n",
              "      <td>1</td>\n",
              "      <td>0</td>\n",
              "      <td>0</td>\n",
              "      <td>NaN</td>\n",
              "      <td>NaN</td>\n",
              "      <td>NaN</td>\n",
              "      <td>Royal Challengers Bangalore</td>\n",
              "      <td>Kolkata Knight Riders</td>\n",
              "      <td>2007/08</td>\n",
              "    </tr>\n",
              "    <tr>\n",
              "      <th>225950</th>\n",
              "      <td>335982</td>\n",
              "      <td>Royal Challengers BangaloreKolkata Knight Riders</td>\n",
              "      <td>2</td>\n",
              "      <td>14</td>\n",
              "      <td>6</td>\n",
              "      <td>SB Joshi</td>\n",
              "      <td>I Sharma</td>\n",
              "      <td>P Kumar</td>\n",
              "      <td>NaN</td>\n",
              "      <td>1</td>\n",
              "      <td>0</td>\n",
              "      <td>1</td>\n",
              "      <td>0</td>\n",
              "      <td>0</td>\n",
              "      <td>NaN</td>\n",
              "      <td>NaN</td>\n",
              "      <td>NaN</td>\n",
              "      <td>Royal Challengers Bangalore</td>\n",
              "      <td>Kolkata Knight Riders</td>\n",
              "      <td>2007/08</td>\n",
              "    </tr>\n",
              "    <tr>\n",
              "      <th>225951</th>\n",
              "      <td>335982</td>\n",
              "      <td>Royal Challengers BangaloreKolkata Knight Riders</td>\n",
              "      <td>2</td>\n",
              "      <td>14</td>\n",
              "      <td>7</td>\n",
              "      <td>P Kumar</td>\n",
              "      <td>I Sharma</td>\n",
              "      <td>SB Joshi</td>\n",
              "      <td>NaN</td>\n",
              "      <td>0</td>\n",
              "      <td>0</td>\n",
              "      <td>0</td>\n",
              "      <td>0</td>\n",
              "      <td>0</td>\n",
              "      <td>NaN</td>\n",
              "      <td>NaN</td>\n",
              "      <td>NaN</td>\n",
              "      <td>Royal Challengers Bangalore</td>\n",
              "      <td>Kolkata Knight Riders</td>\n",
              "      <td>2007/08</td>\n",
              "    </tr>\n",
              "    <tr>\n",
              "      <th>225952</th>\n",
              "      <td>335982</td>\n",
              "      <td>Royal Challengers BangaloreKolkata Knight Riders</td>\n",
              "      <td>2</td>\n",
              "      <td>15</td>\n",
              "      <td>1</td>\n",
              "      <td>SB Joshi</td>\n",
              "      <td>LR Shukla</td>\n",
              "      <td>P Kumar</td>\n",
              "      <td>wides</td>\n",
              "      <td>0</td>\n",
              "      <td>1</td>\n",
              "      <td>1</td>\n",
              "      <td>0</td>\n",
              "      <td>0</td>\n",
              "      <td>NaN</td>\n",
              "      <td>NaN</td>\n",
              "      <td>NaN</td>\n",
              "      <td>Royal Challengers Bangalore</td>\n",
              "      <td>Kolkata Knight Riders</td>\n",
              "      <td>2007/08</td>\n",
              "    </tr>\n",
              "    <tr>\n",
              "      <th>225953</th>\n",
              "      <td>335982</td>\n",
              "      <td>Royal Challengers BangaloreKolkata Knight Riders</td>\n",
              "      <td>2</td>\n",
              "      <td>15</td>\n",
              "      <td>2</td>\n",
              "      <td>SB Joshi</td>\n",
              "      <td>LR Shukla</td>\n",
              "      <td>P Kumar</td>\n",
              "      <td>NaN</td>\n",
              "      <td>0</td>\n",
              "      <td>0</td>\n",
              "      <td>0</td>\n",
              "      <td>0</td>\n",
              "      <td>1</td>\n",
              "      <td>SB Joshi</td>\n",
              "      <td>caught</td>\n",
              "      <td>BB McCullum</td>\n",
              "      <td>Royal Challengers Bangalore</td>\n",
              "      <td>Kolkata Knight Riders</td>\n",
              "      <td>2007/08</td>\n",
              "    </tr>\n",
              "  </tbody>\n",
              "</table>\n",
              "<p>225954 rows × 20 columns</p>\n",
              "</div>"
            ],
            "text/plain": [
              "             ID                                              Team  innings  \\\n",
              "0       1312200                    Rajasthan RoyalsGujarat Titans        1   \n",
              "1       1312200                    Rajasthan RoyalsGujarat Titans        1   \n",
              "2       1312200                    Rajasthan RoyalsGujarat Titans        1   \n",
              "3       1312200                    Rajasthan RoyalsGujarat Titans        1   \n",
              "4       1312200                    Rajasthan RoyalsGujarat Titans        1   \n",
              "...         ...                                               ...      ...   \n",
              "225949   335982  Royal Challengers BangaloreKolkata Knight Riders        2   \n",
              "225950   335982  Royal Challengers BangaloreKolkata Knight Riders        2   \n",
              "225951   335982  Royal Challengers BangaloreKolkata Knight Riders        2   \n",
              "225952   335982  Royal Challengers BangaloreKolkata Knight Riders        2   \n",
              "225953   335982  Royal Challengers BangaloreKolkata Knight Riders        2   \n",
              "\n",
              "        overs  ballnumber       batter          bowler  non-striker  \\\n",
              "0           0           1  YBK Jaiswal  Mohammed Shami   JC Buttler   \n",
              "1           0           2  YBK Jaiswal  Mohammed Shami   JC Buttler   \n",
              "2           0           3   JC Buttler  Mohammed Shami  YBK Jaiswal   \n",
              "3           0           4  YBK Jaiswal  Mohammed Shami   JC Buttler   \n",
              "4           0           5  YBK Jaiswal  Mohammed Shami   JC Buttler   \n",
              "...       ...         ...          ...             ...          ...   \n",
              "225949     14           5      P Kumar        I Sharma     SB Joshi   \n",
              "225950     14           6     SB Joshi        I Sharma      P Kumar   \n",
              "225951     14           7      P Kumar        I Sharma     SB Joshi   \n",
              "225952     15           1     SB Joshi       LR Shukla      P Kumar   \n",
              "225953     15           2     SB Joshi       LR Shukla      P Kumar   \n",
              "\n",
              "       extra_type  batsman_run  extras_run  total_run  non_boundary  \\\n",
              "0             NaN            0           0          0             0   \n",
              "1         legbyes            0           1          1             0   \n",
              "2             NaN            1           0          1             0   \n",
              "3             NaN            0           0          0             0   \n",
              "4             NaN            0           0          0             0   \n",
              "...           ...          ...         ...        ...           ...   \n",
              "225949    legbyes            0           1          1             0   \n",
              "225950        NaN            1           0          1             0   \n",
              "225951        NaN            0           0          0             0   \n",
              "225952      wides            0           1          1             0   \n",
              "225953        NaN            0           0          0             0   \n",
              "\n",
              "        isWicketDelivery player_out    kind fielders_involved  \\\n",
              "0                      0        NaN     NaN               NaN   \n",
              "1                      0        NaN     NaN               NaN   \n",
              "2                      0        NaN     NaN               NaN   \n",
              "3                      0        NaN     NaN               NaN   \n",
              "4                      0        NaN     NaN               NaN   \n",
              "...                  ...        ...     ...               ...   \n",
              "225949                 0        NaN     NaN               NaN   \n",
              "225950                 0        NaN     NaN               NaN   \n",
              "225951                 0        NaN     NaN               NaN   \n",
              "225952                 0        NaN     NaN               NaN   \n",
              "225953                 1   SB Joshi  caught       BB McCullum   \n",
              "\n",
              "                        BattingTeam            BowlingTeam   Season  \n",
              "0                  Rajasthan Royals         Gujarat Titans     2022  \n",
              "1                  Rajasthan Royals         Gujarat Titans     2022  \n",
              "2                  Rajasthan Royals         Gujarat Titans     2022  \n",
              "3                  Rajasthan Royals         Gujarat Titans     2022  \n",
              "4                  Rajasthan Royals         Gujarat Titans     2022  \n",
              "...                             ...                    ...      ...  \n",
              "225949  Royal Challengers Bangalore  Kolkata Knight Riders  2007/08  \n",
              "225950  Royal Challengers Bangalore  Kolkata Knight Riders  2007/08  \n",
              "225951  Royal Challengers Bangalore  Kolkata Knight Riders  2007/08  \n",
              "225952  Royal Challengers Bangalore  Kolkata Knight Riders  2007/08  \n",
              "225953  Royal Challengers Bangalore  Kolkata Knight Riders  2007/08  \n",
              "\n",
              "[225954 rows x 20 columns]"
            ]
          },
          "execution_count": 216,
          "metadata": {},
          "output_type": "execute_result"
        }
      ],
      "source": [
        "df"
      ]
    },
    {
      "cell_type": "code",
      "execution_count": null,
      "metadata": {},
      "outputs": [],
      "source": [
        "#finding bowler Economy\n"
      ]
    },
    {
      "cell_type": "code",
      "execution_count": 226,
      "metadata": {},
      "outputs": [
        {
          "data": {
            "application/vnd.microsoft.datawrangler.viewer.v0+json": {
              "columns": [
                {
                  "name": "Season",
                  "rawType": "object",
                  "type": "string"
                },
                {
                  "name": "bowler",
                  "rawType": "object",
                  "type": "string"
                },
                {
                  "name": "IsBowlerWicket",
                  "rawType": "int64",
                  "type": "integer"
                },
                {
                  "name": "BowlerRun",
                  "rawType": "int64",
                  "type": "integer"
                },
                {
                  "name": "Isvaliedball",
                  "rawType": "int64",
                  "type": "integer"
                },
                {
                  "name": "Economy",
                  "rawType": "float64",
                  "type": "float"
                }
              ],
              "ref": "a182023d-02b9-4a21-ae01-12b3fb8ad9e0",
              "rows": [
                [
                  "2007/08",
                  "Sohail Tanvir",
                  "22",
                  "266",
                  "247",
                  "6.461538461538462"
                ],
                [
                  "2009",
                  "RP Singh",
                  "23",
                  "417",
                  "358",
                  "6.988826815642458"
                ],
                [
                  "2009/10",
                  "PP Ojha",
                  "21",
                  "429",
                  "353",
                  "7.291784702549576"
                ],
                [
                  "2011",
                  "SL Malinga",
                  "28",
                  "375",
                  "378",
                  "5.9523809523809526"
                ],
                [
                  "2012",
                  "M Morkel",
                  "25",
                  "453",
                  "378",
                  "7.19047619047619"
                ],
                [
                  "2013",
                  "DJ Bravo",
                  "32",
                  "497",
                  "375",
                  "7.952"
                ],
                [
                  "2014",
                  "MM Sharma",
                  "23",
                  "452",
                  "323",
                  "8.396284829721361"
                ],
                [
                  "2015",
                  "DJ Bravo",
                  "26",
                  "426",
                  "314",
                  "8.140127388535031"
                ],
                [
                  "2016",
                  "B Kumar",
                  "23",
                  "490",
                  "396",
                  "7.424242424242425"
                ],
                [
                  "2017",
                  "B Kumar",
                  "26",
                  "369",
                  "314",
                  "7.050955414012739"
                ],
                [
                  "2018",
                  "AJ Tye",
                  "24",
                  "448",
                  "336",
                  "8.0"
                ],
                [
                  "2019",
                  "Imran Tahir",
                  "26",
                  "431",
                  "386",
                  "6.699481865284974"
                ],
                [
                  "2020/21",
                  "K Rabada",
                  "32",
                  "549",
                  "398",
                  "8.276381909547737"
                ],
                [
                  "2021",
                  "HV Patel",
                  "32",
                  "459",
                  "338",
                  "8.14792899408284"
                ],
                [
                  "2022",
                  "YS Chahal",
                  "27",
                  "527",
                  "408",
                  "7.75"
                ]
              ],
              "shape": {
                "columns": 5,
                "rows": 15
              }
            },
            "text/html": [
              "<div>\n",
              "<style scoped>\n",
              "    .dataframe tbody tr th:only-of-type {\n",
              "        vertical-align: middle;\n",
              "    }\n",
              "\n",
              "    .dataframe tbody tr th {\n",
              "        vertical-align: top;\n",
              "    }\n",
              "\n",
              "    .dataframe thead th {\n",
              "        text-align: right;\n",
              "    }\n",
              "</style>\n",
              "<table border=\"1\" class=\"dataframe\">\n",
              "  <thead>\n",
              "    <tr style=\"text-align: right;\">\n",
              "      <th></th>\n",
              "      <th>bowler</th>\n",
              "      <th>IsBowlerWicket</th>\n",
              "      <th>BowlerRun</th>\n",
              "      <th>Isvaliedball</th>\n",
              "      <th>Economy</th>\n",
              "    </tr>\n",
              "    <tr>\n",
              "      <th>Season</th>\n",
              "      <th></th>\n",
              "      <th></th>\n",
              "      <th></th>\n",
              "      <th></th>\n",
              "      <th></th>\n",
              "    </tr>\n",
              "  </thead>\n",
              "  <tbody>\n",
              "    <tr>\n",
              "      <th>2007/08</th>\n",
              "      <td>Sohail Tanvir</td>\n",
              "      <td>22</td>\n",
              "      <td>266</td>\n",
              "      <td>247</td>\n",
              "      <td>6.461538</td>\n",
              "    </tr>\n",
              "    <tr>\n",
              "      <th>2009</th>\n",
              "      <td>RP Singh</td>\n",
              "      <td>23</td>\n",
              "      <td>417</td>\n",
              "      <td>358</td>\n",
              "      <td>6.988827</td>\n",
              "    </tr>\n",
              "    <tr>\n",
              "      <th>2009/10</th>\n",
              "      <td>PP Ojha</td>\n",
              "      <td>21</td>\n",
              "      <td>429</td>\n",
              "      <td>353</td>\n",
              "      <td>7.291785</td>\n",
              "    </tr>\n",
              "    <tr>\n",
              "      <th>2011</th>\n",
              "      <td>SL Malinga</td>\n",
              "      <td>28</td>\n",
              "      <td>375</td>\n",
              "      <td>378</td>\n",
              "      <td>5.952381</td>\n",
              "    </tr>\n",
              "    <tr>\n",
              "      <th>2012</th>\n",
              "      <td>M Morkel</td>\n",
              "      <td>25</td>\n",
              "      <td>453</td>\n",
              "      <td>378</td>\n",
              "      <td>7.190476</td>\n",
              "    </tr>\n",
              "    <tr>\n",
              "      <th>2013</th>\n",
              "      <td>DJ Bravo</td>\n",
              "      <td>32</td>\n",
              "      <td>497</td>\n",
              "      <td>375</td>\n",
              "      <td>7.952000</td>\n",
              "    </tr>\n",
              "    <tr>\n",
              "      <th>2014</th>\n",
              "      <td>MM Sharma</td>\n",
              "      <td>23</td>\n",
              "      <td>452</td>\n",
              "      <td>323</td>\n",
              "      <td>8.396285</td>\n",
              "    </tr>\n",
              "    <tr>\n",
              "      <th>2015</th>\n",
              "      <td>DJ Bravo</td>\n",
              "      <td>26</td>\n",
              "      <td>426</td>\n",
              "      <td>314</td>\n",
              "      <td>8.140127</td>\n",
              "    </tr>\n",
              "    <tr>\n",
              "      <th>2016</th>\n",
              "      <td>B Kumar</td>\n",
              "      <td>23</td>\n",
              "      <td>490</td>\n",
              "      <td>396</td>\n",
              "      <td>7.424242</td>\n",
              "    </tr>\n",
              "    <tr>\n",
              "      <th>2017</th>\n",
              "      <td>B Kumar</td>\n",
              "      <td>26</td>\n",
              "      <td>369</td>\n",
              "      <td>314</td>\n",
              "      <td>7.050955</td>\n",
              "    </tr>\n",
              "    <tr>\n",
              "      <th>2018</th>\n",
              "      <td>AJ Tye</td>\n",
              "      <td>24</td>\n",
              "      <td>448</td>\n",
              "      <td>336</td>\n",
              "      <td>8.000000</td>\n",
              "    </tr>\n",
              "    <tr>\n",
              "      <th>2019</th>\n",
              "      <td>Imran Tahir</td>\n",
              "      <td>26</td>\n",
              "      <td>431</td>\n",
              "      <td>386</td>\n",
              "      <td>6.699482</td>\n",
              "    </tr>\n",
              "    <tr>\n",
              "      <th>2020/21</th>\n",
              "      <td>K Rabada</td>\n",
              "      <td>32</td>\n",
              "      <td>549</td>\n",
              "      <td>398</td>\n",
              "      <td>8.276382</td>\n",
              "    </tr>\n",
              "    <tr>\n",
              "      <th>2021</th>\n",
              "      <td>HV Patel</td>\n",
              "      <td>32</td>\n",
              "      <td>459</td>\n",
              "      <td>338</td>\n",
              "      <td>8.147929</td>\n",
              "    </tr>\n",
              "    <tr>\n",
              "      <th>2022</th>\n",
              "      <td>YS Chahal</td>\n",
              "      <td>27</td>\n",
              "      <td>527</td>\n",
              "      <td>408</td>\n",
              "      <td>7.750000</td>\n",
              "    </tr>\n",
              "  </tbody>\n",
              "</table>\n",
              "</div>"
            ],
            "text/plain": [
              "                bowler  IsBowlerWicket  BowlerRun  Isvaliedball   Economy\n",
              "Season                                                                   \n",
              "2007/08  Sohail Tanvir              22        266           247  6.461538\n",
              "2009          RP Singh              23        417           358  6.988827\n",
              "2009/10        PP Ojha              21        429           353  7.291785\n",
              "2011        SL Malinga              28        375           378  5.952381\n",
              "2012          M Morkel              25        453           378  7.190476\n",
              "2013          DJ Bravo              32        497           375  7.952000\n",
              "2014         MM Sharma              23        452           323  8.396285\n",
              "2015          DJ Bravo              26        426           314  8.140127\n",
              "2016           B Kumar              23        490           396  7.424242\n",
              "2017           B Kumar              26        369           314  7.050955\n",
              "2018            AJ Tye              24        448           336  8.000000\n",
              "2019       Imran Tahir              26        431           386  6.699482\n",
              "2020/21       K Rabada              32        549           398  8.276382\n",
              "2021          HV Patel              32        459           338  8.147929\n",
              "2022         YS Chahal              27        527           408  7.750000"
            ]
          },
          "execution_count": 226,
          "metadata": {},
          "output_type": "execute_result"
        }
      ],
      "source": [
        "#total wicket taken by the bowler\n",
        "\n",
        "df['IsBowlerWicket'] = df['kind'].apply(lambda x : 1 if x in ['caught', 'caught and bowled','bowled', 'stumped', 'lbw', 'hit wicket', 'obstructing the field'] else 0)\n",
        "df['BowlerRun'] = df['extra_type'].apply(lambda x : 0 if x in ['legbyes','byes'] else 1) * df['total_run']\n",
        "df['Isvaliedball'] = df['extra_type'].apply(lambda x : 0 if x in ['wides','noballs'] else 1)\n",
        "pcap_df = df.groupby(['Season','bowler'],as_index = False)[['IsBowlerWicket','BowlerRun','Isvaliedball']].sum()\n",
        "pcap_df['Economy'] = pcap_df['BowlerRun']/pcap_df['Isvaliedball']*6\n",
        "pcap_df.sort_values(by = ['IsBowlerWicket','Economy'],ascending = [False,True],inplace = True)\n",
        "pcap_df.groupby('Season').first()"
      ]
    },
    {
      "cell_type": "markdown",
      "metadata": {
        "id": "pmJJB0Q6XMWy"
      },
      "source": [
        "###`Q-7:` Best bowler in death overs.\n",
        "*Note: Have taken most no of wickets in case of tie with least economy*\n",
        "\n",
        "Death Overs - [16-20]"
      ]
    },
    {
      "cell_type": "code",
      "execution_count": 228,
      "metadata": {
        "id": "s2t1IXf-XLak"
      },
      "outputs": [
        {
          "data": {
            "application/vnd.microsoft.datawrangler.viewer.v0+json": {
              "columns": [
                {
                  "name": "bowler",
                  "rawType": "object",
                  "type": "string"
                },
                {
                  "name": "isWicketDelivery",
                  "rawType": "int64",
                  "type": "integer"
                }
              ],
              "ref": "e595aeb9-b17e-41bb-8384-09693d49d2ea",
              "rows": [
                [
                  "DJ Bravo",
                  "115"
                ],
                [
                  "SL Malinga",
                  "108"
                ],
                [
                  "B Kumar",
                  "90"
                ],
                [
                  "JJ Bumrah",
                  "80"
                ],
                [
                  "SP Narine",
                  "67"
                ],
                [
                  "CH Morris",
                  "58"
                ],
                [
                  "Mohammed Shami",
                  "57"
                ],
                [
                  "K Rabada",
                  "57"
                ],
                [
                  "A Nehra",
                  "54"
                ],
                [
                  "DW Steyn",
                  "50"
                ],
                [
                  "UT Yadav",
                  "50"
                ],
                [
                  "R Vinay Kumar",
                  "47"
                ],
                [
                  "JD Unadkat",
                  "46"
                ],
                [
                  "HV Patel",
                  "46"
                ],
                [
                  "RP Singh",
                  "45"
                ],
                [
                  "YS Chahal",
                  "43"
                ],
                [
                  "SR Watson",
                  "42"
                ],
                [
                  "MM Sharma",
                  "41"
                ],
                [
                  "TA Boult",
                  "40"
                ],
                [
                  "AD Russell",
                  "39"
                ],
                [
                  "Sandeep Sharma",
                  "39"
                ],
                [
                  "A Mishra",
                  "39"
                ],
                [
                  "SN Thakur",
                  "38"
                ],
                [
                  "PP Chawla",
                  "37"
                ],
                [
                  "Z Khan",
                  "37"
                ],
                [
                  "P Kumar",
                  "36"
                ],
                [
                  "R Ashwin",
                  "33"
                ],
                [
                  "L Balaji",
                  "33"
                ],
                [
                  "MJ McClenaghan",
                  "32"
                ],
                [
                  "JP Faulkner",
                  "32"
                ],
                [
                  "JA Morkel",
                  "31"
                ],
                [
                  "M Morkel",
                  "31"
                ],
                [
                  "S Kaul",
                  "30"
                ],
                [
                  "MG Johnson",
                  "29"
                ],
                [
                  "RA Jadeja",
                  "29"
                ],
                [
                  "JO Holder",
                  "28"
                ],
                [
                  "IK Pathan",
                  "28"
                ],
                [
                  "AB Dinda",
                  "26"
                ],
                [
                  "KA Pollard",
                  "26"
                ],
                [
                  "Harbhajan Singh",
                  "26"
                ],
                [
                  "RJ Harris",
                  "25"
                ],
                [
                  "Imran Tahir",
                  "25"
                ],
                [
                  "Mustafizur Rahman",
                  "25"
                ],
                [
                  "Rashid Khan",
                  "24"
                ],
                [
                  "Mohammed Siraj",
                  "24"
                ],
                [
                  "AJ Tye",
                  "24"
                ],
                [
                  "T Natarajan",
                  "24"
                ],
                [
                  "JH Kallis",
                  "24"
                ],
                [
                  "M Prasidh Krishna",
                  "24"
                ],
                [
                  "MM Patel",
                  "23"
                ]
              ],
              "shape": {
                "columns": 1,
                "rows": 317
              }
            },
            "text/plain": [
              "bowler\n",
              "DJ Bravo           115\n",
              "SL Malinga         108\n",
              "B Kumar             90\n",
              "JJ Bumrah           80\n",
              "SP Narine           67\n",
              "                  ... \n",
              "T Shamsi             1\n",
              "Shoaib Malik         1\n",
              "Y Venugopal Rao      1\n",
              "A Flintoff           1\n",
              "A Choudhary          1\n",
              "Name: isWicketDelivery, Length: 317, dtype: int64"
            ]
          },
          "execution_count": 228,
          "metadata": {},
          "output_type": "execute_result"
        }
      ],
      "source": [
        "temp_df = df[df['overs']>=15]\n",
        "\n",
        "mask1 = temp_df['kind'].apply( lambda x : x not in ['retired hurt', 'retired out', 'obstructing the field','run out'])\n",
        "mask2 = temp_df['isWicketDelivery'] == 1\n",
        "       \n",
        "death_wicket = temp_df[mask1 & mask2]\n",
        "death_wicket = death_wicket.groupby(['bowler'])['isWicketDelivery'].sum()\n",
        "death_wicket.sort_values(ascending = False)\n",
        "# death_wicket.reset_index().sort_values(by = 'isWicketDelivery',ascending = False).groupby(['Season']).first()"
      ]
    },
    {
      "cell_type": "markdown",
      "metadata": {
        "id": "BHU3PYRTXbPc"
      },
      "source": [
        "###`Q-8` Batsman record season wise\n",
        "\n",
        "Make a function which takes a input `batsman_name` and it returns a dataframe.\n",
        "Columns of the data frame are - `['Season','Innings', 'TotalRuns', 'Avg', 'HighestScore','StrikeRate']`.\n",
        "* In result make `Season` column as index.\n",
        "\n",
        "* Avg - total_runs/ no of time got out. - player_out column will help.\n",
        "* StrikeRate -(total_runs/ balls faced) * 100- wides are not included in batsman ball faced counts. No balls are included. -> Extra_type column will help\n",
        "* Batsman Can score runs on No Balls.\n",
        "* Batsman can get out on No Ball or Wides. And even while being on non-striker. Keep these things in mind before masking."
      ]
    },
    {
      "cell_type": "code",
      "execution_count": null,
      "metadata": {
        "id": "3RQTt5ELXdbH"
      },
      "outputs": [],
      "source": [
        "# out_df = pd.DataFrame(columns=['Season','Innings', 'TotalRuns', 'Avg', 'HighestScore','StrikeRate'] )\n",
        "\n",
        "def batsman_record(bat):\n",
        "    out_df = pd.DataFrame(columns=['Season'] )\n",
        "    temp_df = df[(df['isWicketDelivery'] == False) & (df['batter'] == bat)]\n",
        "    temp_df1 = temp_df.groupby(['Season'])\n",
        "    temp_df2 = temp_df.groupby(['Season','ID'])\n",
        "    \n",
        "    out_df['Season'] = temp_df['Season'].unique()[::-1]\n",
        "    out_df = out_df.merge(temp_df1['ID'].nunique(),how='inner',on='Season')    \n",
        "    \n",
        "    out_df = out_df.merge(temp_df1['batsman_run'].sum(),how='inner',on='Season')    \n",
        "    \n",
        "    out_df['Avg'] = round(out_df['batsman_run']/out_df['ID'],2)\n",
        "    \n",
        "    highest_score = temp_df2['batsman_run'].sum().reset_index().sort_values(by = 'batsman_run',ascending = False).groupby('Season').first()\n",
        "    out_df = out_df.merge(highest_score,how='inner',on='Season')    \n",
        "    \n",
        "    out_df.rename(columns = {'ID_x':'Innings','batsman_run_x' : 'TotalRuns','ID_y':'Match_no','batsman_run_y':'HighestScore'},inplace = True)\n",
        "    \n",
        "    temp_df3 = df[(df['extra_type'] != 'wides')&(df['batter'] == bat)].groupby('Season')\n",
        "    bowl_faced = temp_df3['innings'].count()\n",
        "    out_df = out_df.merge(bowl_faced,how='inner',on='Season')    \n",
        "    out_df.rename(columns = {'innings':'Bowl_faced'},inplace = True)\n",
        "    out_df['StrikeRate'] = 100*out_df['TotalRuns']/out_df['Bowl_faced']\n",
        "    return out_df\n",
        "\n",
        "\n",
        "record = batsman_record('V Kohli').set_index('Season')\n",
        "record[['Season','Innings', 'TotalRuns', 'Avg', 'HighestScore','StrikeRate']]"
      ]
    },
    {
      "cell_type": "code",
      "execution_count": null,
      "metadata": {},
      "outputs": [],
      "source": [
        "df.head()"
      ]
    },
    {
      "cell_type": "markdown",
      "metadata": {
        "id": "jMyy5LcUXjUA"
      },
      "source": [
        "###`Q-9` Using both dataset, make a dataframe as described below\n",
        "\n",
        "Data Frame columns-> `['PlayerOfThematch', 'BattingFigure', 'BowlingFigure']`\n",
        "\n",
        "* BattingFigure->`<runs>/<balls>`\n",
        "* BowlingFigure->`<wicket>/<runs-conceded>`\n",
        "\n",
        "DataFrame should have one record for each match.\n",
        "\n",
        "Say 'V Kohli' got POM award then in dataset include his batting figure of that match. Say he scored 112runs in 76 balls. And he hasn't bowled so Bowling Figure will be NaN\n",
        "```\n",
        "PlayerOfThematch BattingFigure BowlingFigure\n",
        "V Kohli          112/76         nan  \n",
        "\n",
        "```\n"
      ]
    },
    {
      "cell_type": "code",
      "execution_count": null,
      "metadata": {
        "id": "uh36R6AZXn82"
      },
      "outputs": [],
      "source": [
        "data = df.groupby(['ID','Player_of_Match'])\n",
        "new_df = pd.DataFrame(columns = ['PlayerOfThematch', 'BattingFigure', 'BowlingFigure'])\n",
        "new_df['PlayerOfThematch'] = data['Player_of_Match'].unique()\n",
        "# new_df['PlayerOfThematch'] = \n",
        "\n",
        "# new_df['BattingFigure'] = \n",
        "\n",
        "# new_df\n",
        "\n",
        "data['batsman_run'].sum()"
      ]
    },
    {
      "cell_type": "markdown",
      "metadata": {
        "id": "iljGaXfzXq1t"
      },
      "source": [
        "## **Questions Based on Iris Dataset**\n",
        "\n",
        "- **Sepal All:** https://docs.google.com/spreadsheets/d/e/2PACX-1vT58ekmHTwptX7Bs4QOy6YByA1HMvYTACeeIjrKhHE0Pg1K_3egewHMKMh02zN9D5-yHVXfvuaa3s5u/pub?gid=2028782809&single=true&output=csv\n",
        "    - **Unnamed: 0:** Unused column. This column is created when creating this sub-dataset.\n",
        "    - **Id:** Id of the records.\n",
        "    - **SepalLengthCm:** Sepal length of flowers in cm\n",
        "    - **SepalWidthCm:** Sepal width of flowers in cm\n",
        "\n",
        "- **Petal All:** https://docs.google.com/spreadsheets/d/e/2PACX-1vQinLXShrOz4ExNaW1bSQVuvbbhIzJW7G0kkkD2SvqSD6STjLrQQiftgI7BGe10sBZi0CNr2_sJpQAz/pub?gid=1580010789&single=true&output=csv\n",
        "    - **Unnamed: 0:** Unused column. This column is created when creating this sub-dataset.\n",
        "    - **Id:** Id of the records.\n",
        "    - **PetalLengthCm:** Petal length of flowers in cm\n",
        "    - **PetalWidthCm:** Petal width of flowers in cm\n",
        "\n",
        "- **Iris Virginica:** https://docs.google.com/spreadsheets/d/e/2PACX-1vSK39MwduGPHYNgw5yViezoLYCVDKMCWIHzjnt3GZNaxHPFOQLr2q6no_tyqTsOk-VfXleslfGVe9eJ/pub?gid=314231613&single=true&output=csv\n",
        "    - **Unnamed: 0:** Unused column. This column is created when creating the sub-dataset.\n",
        "    - **Id:** Id of the records.\n",
        "    - **Species:** Name of this species.\n",
        "\n",
        "- **Iris Versicolor:** https://docs.google.com/spreadsheets/d/e/2PACX-1vTcSFgLnabqIrgIc5WlwvnbbvyyJsgZjR-0E0-4TR-5aHgv_0EP6yNWglkkls3AXM2qHCR5VYzWCoTM/pub?gid=715607857&single=true&output=csv\n",
        "    - **Unnamed: 0:** Unused column. This column is created when creating the sub-dataset.\n",
        "    - **Id:** Id of the records.\n",
        "    - **Species:** Name of this species.\n",
        "\n",
        "- **Iris Setosa:** https://docs.google.com/spreadsheets/d/e/2PACX-1vSjqJpdgy2X_oDUUqQ0sSaFKqnnf8MYU4KgJSYgHaHmq0Wb1weMOsJXh-rICHmkLcaTkOwzMYLeh959/pub?gid=2003684803&single=true&output=csv\n",
        "    - **Unnamed 0:** Unused column. This column is created when creating the sub-dataset.\n",
        "    - **Id:** Id of the records.\n",
        "    - **Species:** Name of this species."
      ]
    },
    {
      "cell_type": "code",
      "execution_count": null,
      "metadata": {
        "id": "nY1khG0XXp1X"
      },
      "outputs": [],
      "source": [
        "import pandas as pd\n",
        "sepal_all = pd.read_csv(\"https://docs.google.com/spreadsheets/d/e/2PACX-1vT58ekmHTwptX7Bs4QOy6YByA1HMvYTACeeIjrKhHE0Pg1K_3egewHMKMh02zN9D5-yHVXfvuaa3s5u/pub?gid=2028782809&single=true&output=csv\")\n",
        "petal_all = pd.read_csv(\"https://docs.google.com/spreadsheets/d/e/2PACX-1vQinLXShrOz4ExNaW1bSQVuvbbhIzJW7G0kkkD2SvqSD6STjLrQQiftgI7BGe10sBZi0CNr2_sJpQAz/pub?gid=1580010789&single=true&output=csv\")\n",
        "\n",
        "virginica = pd.read_csv(\"https://docs.google.com/spreadsheets/d/e/2PACX-1vSK39MwduGPHYNgw5yViezoLYCVDKMCWIHzjnt3GZNaxHPFOQLr2q6no_tyqTsOk-VfXleslfGVe9eJ/pub?gid=314231613&single=true&output=csv\")\n",
        "versicolor = pd.read_csv(\"https://docs.google.com/spreadsheets/d/e/2PACX-1vTcSFgLnabqIrgIc5WlwvnbbvyyJsgZjR-0E0-4TR-5aHgv_0EP6yNWglkkls3AXM2qHCR5VYzWCoTM/pub?gid=715607857&single=true&output=csv\")\n",
        "setosa = pd.read_csv(\"https://docs.google.com/spreadsheets/d/e/2PACX-1vSjqJpdgy2X_oDUUqQ0sSaFKqnnf8MYU4KgJSYgHaHmq0Wb1weMOsJXh-rICHmkLcaTkOwzMYLeh959/pub?gid=2003684803&single=true&output=csv\")\n",
        "\n",
        "sepal_all = sepal_all.drop(columns = ['Unnamed: 0'])\n",
        "petal_all = petal_all.drop(columns = ['Unnamed: 0'])\n",
        "virginica = virginica.drop(columns = ['Unnamed: 0'])\n",
        "versicolor = versicolor.drop(columns = ['Unnamed: 0'])\n",
        "setosa = setosa.drop(columns = ['Unnamed: 0'])\n"
      ]
    },
    {
      "cell_type": "code",
      "execution_count": null,
      "metadata": {},
      "outputs": [],
      "source": [
        "petal_all\n"
      ]
    },
    {
      "cell_type": "markdown",
      "metadata": {
        "id": "R6jqy4GQX4RI"
      },
      "source": [
        "### `Q-9:` Plot a bar chart of the average Sepal Length  of Virginica and average Petal length of Setosa flower."
      ]
    },
    {
      "cell_type": "code",
      "execution_count": null,
      "metadata": {
        "id": "zTx5S3yiX15D"
      },
      "outputs": [],
      "source": [
        "# flowers_df = sepal_all.merge(virginica,on = 'Id',how = 'left').merge(setosa,on = 'Id',how = 'left').merge(versicolor,on = 'Id',how = 'left')\n",
        "flowers_df = pd.concat([setosa,versicolor,virginica],ignore_index = False)\n",
        "flowers_df = flowers_df.merge(sepal_all,how = 'inner',on = 'Id').merge(petal_all,how='inner',on = 'Id')\n",
        "flowers_df.sample(4)"
      ]
    },
    {
      "cell_type": "code",
      "execution_count": null,
      "metadata": {},
      "outputs": [],
      "source": [
        "flowers_df.groupby('Species')['SepalLengthCm'].mean().plot(kind = 'bar')\n",
        "flowers_df.groupby('Species')['PetalLengthCm'].mean().plot(kind = 'bar')"
      ]
    },
    {
      "cell_type": "markdown",
      "metadata": {
        "id": "ecWHo_gsYAT2"
      },
      "source": [
        "### `Q-10:` Create the complete dataset by uisng the below datasets:\n",
        "- virginica\n",
        "- versicolor\n",
        "- setosa\n",
        "- sepal all\n",
        "- petal all\n",
        "\n",
        "This dataset should have these below column names in order:\n",
        "1. Id\n",
        "2. Species\n",
        "3. SepalLengthCm\n",
        "4. SepalWidthCm\n",
        "5. PetalLengthCm\n",
        "6. PetalWidthCm\n",
        "\n",
        "Also, the dataset should be shuffled means the `Id` column should not be in increasing or decreasing order. So, make a dataset which has the shuffled Id column. You can use `DataFrame.sample()` method to shuffle."
      ]
    },
    {
      "cell_type": "code",
      "execution_count": null,
      "metadata": {
        "id": "PsWBn7g3YDRZ"
      },
      "outputs": [],
      "source": [
        "flowers_df.set_index('Id')"
      ]
    },
    {
      "cell_type": "markdown",
      "metadata": {
        "id": "FLlBdChyYHtw"
      },
      "source": [
        "### `Q-11:` Find out the maximum and minimum sepal width and petal width of Setosa and Versicolor. To do this:\n",
        "- First create a dataset with merging the required datasets\n",
        "- After that, use `groupby` to create groups based on the \"Species\" column.\n",
        "- Then find out which are asked in this question.\n",
        "\n",
        "\n",
        "The output should be like this:\n",
        "```bash\n",
        "Minimum Sepal width of Setosa is 2.3\n",
        "Maximum Sepal width of Setosa is 4.4\n",
        "\n",
        "**************************************************\n",
        "\n",
        "Minimum Sepal width of Versicolor is 2.0\n",
        "Maximum Sepal width of Versicolor is 3.4\n",
        "\n",
        "**************************************************\n",
        "```"
      ]
    },
    {
      "cell_type": "code",
      "execution_count": null,
      "metadata": {
        "id": "T7toJgSkYIIF"
      },
      "outputs": [],
      "source": [
        "# flowers_df\n",
        "data_min = flowers_df.groupby('Species')['SepalLengthCm'].min()\n",
        "data_max = flowers_df.groupby('Species')['SepalLengthCm'].max()"
      ]
    },
    {
      "cell_type": "code",
      "execution_count": null,
      "metadata": {},
      "outputs": [],
      "source": [
        "print('Minimum Sepal Width of {} is {}'.format(data_min.iloc[0],data_min.index[0]))\n",
        "print('Maximum Sepal Width of {} is {}'.format(data_max.iloc[0],data_max.index[0]))\n",
        "\n",
        "print('############################################')\n",
        "\n",
        "print('Minimum Sepal Width of {} is {}'.format(data_min.iloc[1],data_min.index[1]))\n",
        "print('Maximum Sepal Width of {} is {}'.format(data_max.iloc[1],data_max.index[1]))\n",
        "\n",
        "print('############################################')\n",
        "\n",
        "print('Minimum Sepal Width of {} is {}'.format(data_min.iloc[2],data_min.index[2]))\n",
        "print('Maximum Sepal Width of {} is {}'.format(data_max.iloc[2],data_max.index[2]))"
      ]
    },
    {
      "cell_type": "code",
      "execution_count": null,
      "metadata": {},
      "outputs": [],
      "source": []
    }
  ],
  "metadata": {
    "colab": {
      "provenance": []
    },
    "kernelspec": {
      "display_name": "Machinelearning_new",
      "language": "python",
      "name": "python3"
    },
    "language_info": {
      "codemirror_mode": {
        "name": "ipython",
        "version": 3
      },
      "file_extension": ".py",
      "mimetype": "text/x-python",
      "name": "python",
      "nbconvert_exporter": "python",
      "pygments_lexer": "ipython3",
      "version": "3.11.11"
    }
  },
  "nbformat": 4,
  "nbformat_minor": 0
}
