{
  "cells": [
    {
      "cell_type": "markdown",
      "metadata": {
        "id": "mGBzdavGOUdP"
      },
      "source": [
        "## **Questions based on Titanic Dataset:**\n",
        "\n",
        "To read the dataset as csv, use the below code:\n",
        "\n",
        "```python\n",
        "import pandas as pd\n",
        "\n",
        "url = \"https://docs.google.com/spreadsheets/d/e/2PACX-1vQjh5HzZ1N0SU7ME9ZQRzeVTaXaGsV97rU8R7eAcg53k27GTstJp9cRUOfr55go1GRRvTz1NwvyOnuh/pub?gid=1562145139&single=true&output=csv\"\n",
        "titanic_df = pd.read_csv(url)\n",
        "```"
      ]
    },
    {
      "cell_type": "markdown",
      "metadata": {
        "id": "HsmRWKRoOa0-"
      },
      "source": [
        "### `Q-1:` Using `groupby` make groups using the `\"Pclass\"` column and find out the average age and total number of missing values in the `\"Age\"` column for every group."
      ]
    },
    {
      "cell_type": "code",
      "execution_count": 1,
      "metadata": {
        "id": "OdPLAvd4OVS6"
      },
      "outputs": [],
      "source": [
        "import pandas as pd\n",
        "\n",
        "url = \"https://docs.google.com/spreadsheets/d/e/2PACX-1vQjh5HzZ1N0SU7ME9ZQRzeVTaXaGsV97rU8R7eAcg53k27GTstJp9cRUOfr55go1GRRvTz1NwvyOnuh/pub?gid=1562145139&single=true&output=csv\"\n",
        "titanic_df = pd.read_csv(url)"
      ]
    },
    {
      "cell_type": "code",
      "execution_count": 2,
      "metadata": {},
      "outputs": [
        {
          "data": {
            "application/vnd.microsoft.datawrangler.viewer.v0+json": {
              "columns": [
                {
                  "name": "index",
                  "rawType": "int64",
                  "type": "integer"
                },
                {
                  "name": "PassengerId",
                  "rawType": "int64",
                  "type": "integer"
                },
                {
                  "name": "Survived",
                  "rawType": "int64",
                  "type": "integer"
                },
                {
                  "name": "Pclass",
                  "rawType": "int64",
                  "type": "integer"
                },
                {
                  "name": "Name",
                  "rawType": "object",
                  "type": "string"
                },
                {
                  "name": "Sex",
                  "rawType": "object",
                  "type": "string"
                },
                {
                  "name": "Age",
                  "rawType": "float64",
                  "type": "float"
                },
                {
                  "name": "SibSp",
                  "rawType": "int64",
                  "type": "integer"
                },
                {
                  "name": "Parch",
                  "rawType": "int64",
                  "type": "integer"
                },
                {
                  "name": "Ticket",
                  "rawType": "object",
                  "type": "string"
                },
                {
                  "name": "Fare",
                  "rawType": "float64",
                  "type": "float"
                },
                {
                  "name": "Cabin",
                  "rawType": "object",
                  "type": "unknown"
                },
                {
                  "name": "Embarked",
                  "rawType": "object",
                  "type": "string"
                }
              ],
              "ref": "a565c48e-2108-4db4-81e7-a597c229ca68",
              "rows": [
                [
                  "0",
                  "1",
                  "0",
                  "3",
                  "Braund, Mr. Owen Harris",
                  "male",
                  "22.0",
                  "1",
                  "0",
                  "A/5 21171",
                  "7.25",
                  null,
                  "S"
                ],
                [
                  "1",
                  "2",
                  "1",
                  "1",
                  "Cumings, Mrs. John Bradley (Florence Briggs Thayer)",
                  "female",
                  "38.0",
                  "1",
                  "0",
                  "PC 17599",
                  "71.2833",
                  "C85",
                  "C"
                ],
                [
                  "2",
                  "3",
                  "1",
                  "3",
                  "Heikkinen, Miss. Laina",
                  "female",
                  "26.0",
                  "0",
                  "0",
                  "STON/O2. 3101282",
                  "7.925",
                  null,
                  "S"
                ],
                [
                  "3",
                  "4",
                  "1",
                  "1",
                  "Futrelle, Mrs. Jacques Heath (Lily May Peel)",
                  "female",
                  "35.0",
                  "1",
                  "0",
                  "113803",
                  "53.1",
                  "C123",
                  "S"
                ],
                [
                  "4",
                  "5",
                  "0",
                  "3",
                  "Allen, Mr. William Henry",
                  "male",
                  "35.0",
                  "0",
                  "0",
                  "373450",
                  "8.05",
                  null,
                  "S"
                ]
              ],
              "shape": {
                "columns": 12,
                "rows": 5
              }
            },
            "text/html": [
              "<div>\n",
              "<style scoped>\n",
              "    .dataframe tbody tr th:only-of-type {\n",
              "        vertical-align: middle;\n",
              "    }\n",
              "\n",
              "    .dataframe tbody tr th {\n",
              "        vertical-align: top;\n",
              "    }\n",
              "\n",
              "    .dataframe thead th {\n",
              "        text-align: right;\n",
              "    }\n",
              "</style>\n",
              "<table border=\"1\" class=\"dataframe\">\n",
              "  <thead>\n",
              "    <tr style=\"text-align: right;\">\n",
              "      <th></th>\n",
              "      <th>PassengerId</th>\n",
              "      <th>Survived</th>\n",
              "      <th>Pclass</th>\n",
              "      <th>Name</th>\n",
              "      <th>Sex</th>\n",
              "      <th>Age</th>\n",
              "      <th>SibSp</th>\n",
              "      <th>Parch</th>\n",
              "      <th>Ticket</th>\n",
              "      <th>Fare</th>\n",
              "      <th>Cabin</th>\n",
              "      <th>Embarked</th>\n",
              "    </tr>\n",
              "  </thead>\n",
              "  <tbody>\n",
              "    <tr>\n",
              "      <th>0</th>\n",
              "      <td>1</td>\n",
              "      <td>0</td>\n",
              "      <td>3</td>\n",
              "      <td>Braund, Mr. Owen Harris</td>\n",
              "      <td>male</td>\n",
              "      <td>22.0</td>\n",
              "      <td>1</td>\n",
              "      <td>0</td>\n",
              "      <td>A/5 21171</td>\n",
              "      <td>7.2500</td>\n",
              "      <td>NaN</td>\n",
              "      <td>S</td>\n",
              "    </tr>\n",
              "    <tr>\n",
              "      <th>1</th>\n",
              "      <td>2</td>\n",
              "      <td>1</td>\n",
              "      <td>1</td>\n",
              "      <td>Cumings, Mrs. John Bradley (Florence Briggs Th...</td>\n",
              "      <td>female</td>\n",
              "      <td>38.0</td>\n",
              "      <td>1</td>\n",
              "      <td>0</td>\n",
              "      <td>PC 17599</td>\n",
              "      <td>71.2833</td>\n",
              "      <td>C85</td>\n",
              "      <td>C</td>\n",
              "    </tr>\n",
              "    <tr>\n",
              "      <th>2</th>\n",
              "      <td>3</td>\n",
              "      <td>1</td>\n",
              "      <td>3</td>\n",
              "      <td>Heikkinen, Miss. Laina</td>\n",
              "      <td>female</td>\n",
              "      <td>26.0</td>\n",
              "      <td>0</td>\n",
              "      <td>0</td>\n",
              "      <td>STON/O2. 3101282</td>\n",
              "      <td>7.9250</td>\n",
              "      <td>NaN</td>\n",
              "      <td>S</td>\n",
              "    </tr>\n",
              "    <tr>\n",
              "      <th>3</th>\n",
              "      <td>4</td>\n",
              "      <td>1</td>\n",
              "      <td>1</td>\n",
              "      <td>Futrelle, Mrs. Jacques Heath (Lily May Peel)</td>\n",
              "      <td>female</td>\n",
              "      <td>35.0</td>\n",
              "      <td>1</td>\n",
              "      <td>0</td>\n",
              "      <td>113803</td>\n",
              "      <td>53.1000</td>\n",
              "      <td>C123</td>\n",
              "      <td>S</td>\n",
              "    </tr>\n",
              "    <tr>\n",
              "      <th>4</th>\n",
              "      <td>5</td>\n",
              "      <td>0</td>\n",
              "      <td>3</td>\n",
              "      <td>Allen, Mr. William Henry</td>\n",
              "      <td>male</td>\n",
              "      <td>35.0</td>\n",
              "      <td>0</td>\n",
              "      <td>0</td>\n",
              "      <td>373450</td>\n",
              "      <td>8.0500</td>\n",
              "      <td>NaN</td>\n",
              "      <td>S</td>\n",
              "    </tr>\n",
              "  </tbody>\n",
              "</table>\n",
              "</div>"
            ],
            "text/plain": [
              "   PassengerId  Survived  Pclass  \\\n",
              "0            1         0       3   \n",
              "1            2         1       1   \n",
              "2            3         1       3   \n",
              "3            4         1       1   \n",
              "4            5         0       3   \n",
              "\n",
              "                                                Name     Sex   Age  SibSp  \\\n",
              "0                            Braund, Mr. Owen Harris    male  22.0      1   \n",
              "1  Cumings, Mrs. John Bradley (Florence Briggs Th...  female  38.0      1   \n",
              "2                             Heikkinen, Miss. Laina  female  26.0      0   \n",
              "3       Futrelle, Mrs. Jacques Heath (Lily May Peel)  female  35.0      1   \n",
              "4                           Allen, Mr. William Henry    male  35.0      0   \n",
              "\n",
              "   Parch            Ticket     Fare Cabin Embarked  \n",
              "0      0         A/5 21171   7.2500   NaN        S  \n",
              "1      0          PC 17599  71.2833   C85        C  \n",
              "2      0  STON/O2. 3101282   7.9250   NaN        S  \n",
              "3      0            113803  53.1000  C123        S  \n",
              "4      0            373450   8.0500   NaN        S  "
            ]
          },
          "execution_count": 2,
          "metadata": {},
          "output_type": "execute_result"
        }
      ],
      "source": [
        "titanic_df.head()"
      ]
    },
    {
      "cell_type": "code",
      "execution_count": null,
      "metadata": {},
      "outputs": [
        {
          "data": {
            "application/vnd.microsoft.datawrangler.viewer.v0+json": {
              "columns": [
                {
                  "name": "Pclass",
                  "rawType": "int64",
                  "type": "integer"
                },
                {
                  "name": "Age",
                  "rawType": "float64",
                  "type": "float"
                }
              ],
              "ref": "0144381b-3690-4c8a-9fc1-ede5efb37eab",
              "rows": [
                [
                  "1",
                  "38.233440860215055"
                ],
                [
                  "2",
                  "29.87763005780347"
                ],
                [
                  "3",
                  "25.14061971830986"
                ]
              ],
              "shape": {
                "columns": 1,
                "rows": 3
              }
            },
            "text/plain": [
              "Pclass\n",
              "1    38.233441\n",
              "2    29.877630\n",
              "3    25.140620\n",
              "Name: Age, dtype: float64"
            ]
          },
          "execution_count": 3,
          "metadata": {},
          "output_type": "execute_result"
        }
      ],
      "source": [
        "# 1\n",
        "temp_data = titanic_df.groupby('Pclass')['Age'].mean()"
      ]
    },
    {
      "cell_type": "code",
      "execution_count": null,
      "metadata": {},
      "outputs": [
        {
          "data": {
            "text/plain": [
              "np.int64(177)"
            ]
          },
          "execution_count": 4,
          "metadata": {},
          "output_type": "execute_result"
        }
      ],
      "source": [
        "# 2\n",
        "temp_data = titanic_df.groupby('Pclass')['Age']\n",
        "with_na = temp_data.size()\n",
        "without_na = temp_data.count()\n",
        "(with_na - without_na).sum()"
      ]
    },
    {
      "cell_type": "code",
      "execution_count": 3,
      "metadata": {},
      "outputs": [],
      "source": [
        "import numpy as np"
      ]
    },
    {
      "cell_type": "code",
      "execution_count": 4,
      "metadata": {},
      "outputs": [
        {
          "data": {
            "application/vnd.microsoft.datawrangler.viewer.v0+json": {
              "columns": [
                {
                  "name": "index",
                  "rawType": "int64",
                  "type": "integer"
                },
                {
                  "name": "PassengerId",
                  "rawType": "int64",
                  "type": "integer"
                },
                {
                  "name": "Survived",
                  "rawType": "int64",
                  "type": "integer"
                },
                {
                  "name": "Pclass",
                  "rawType": "int64",
                  "type": "integer"
                },
                {
                  "name": "Name",
                  "rawType": "object",
                  "type": "string"
                },
                {
                  "name": "Sex",
                  "rawType": "object",
                  "type": "string"
                },
                {
                  "name": "Age",
                  "rawType": "float64",
                  "type": "float"
                },
                {
                  "name": "SibSp",
                  "rawType": "int64",
                  "type": "integer"
                },
                {
                  "name": "Parch",
                  "rawType": "int64",
                  "type": "integer"
                },
                {
                  "name": "Ticket",
                  "rawType": "object",
                  "type": "string"
                },
                {
                  "name": "Fare",
                  "rawType": "float64",
                  "type": "float"
                },
                {
                  "name": "Cabin",
                  "rawType": "object",
                  "type": "string"
                },
                {
                  "name": "Embarked",
                  "rawType": "object",
                  "type": "unknown"
                }
              ],
              "ref": "caa85e81-a928-453d-a1cf-8a96b21333c1",
              "rows": [
                [
                  "61",
                  "62",
                  "1",
                  "1",
                  "Icard, Miss. Amelie",
                  "female",
                  "38.0",
                  "0",
                  "0",
                  "113572",
                  "80.0",
                  "B28",
                  null
                ],
                [
                  "829",
                  "830",
                  "1",
                  "1",
                  "Stone, Mrs. George Nelson (Martha Evelyn)",
                  "female",
                  "62.0",
                  "0",
                  "0",
                  "113572",
                  "80.0",
                  "B28",
                  null
                ]
              ],
              "shape": {
                "columns": 12,
                "rows": 2
              }
            },
            "text/html": [
              "<div>\n",
              "<style scoped>\n",
              "    .dataframe tbody tr th:only-of-type {\n",
              "        vertical-align: middle;\n",
              "    }\n",
              "\n",
              "    .dataframe tbody tr th {\n",
              "        vertical-align: top;\n",
              "    }\n",
              "\n",
              "    .dataframe thead th {\n",
              "        text-align: right;\n",
              "    }\n",
              "</style>\n",
              "<table border=\"1\" class=\"dataframe\">\n",
              "  <thead>\n",
              "    <tr style=\"text-align: right;\">\n",
              "      <th></th>\n",
              "      <th>PassengerId</th>\n",
              "      <th>Survived</th>\n",
              "      <th>Pclass</th>\n",
              "      <th>Name</th>\n",
              "      <th>Sex</th>\n",
              "      <th>Age</th>\n",
              "      <th>SibSp</th>\n",
              "      <th>Parch</th>\n",
              "      <th>Ticket</th>\n",
              "      <th>Fare</th>\n",
              "      <th>Cabin</th>\n",
              "      <th>Embarked</th>\n",
              "    </tr>\n",
              "  </thead>\n",
              "  <tbody>\n",
              "    <tr>\n",
              "      <th>61</th>\n",
              "      <td>62</td>\n",
              "      <td>1</td>\n",
              "      <td>1</td>\n",
              "      <td>Icard, Miss. Amelie</td>\n",
              "      <td>female</td>\n",
              "      <td>38.0</td>\n",
              "      <td>0</td>\n",
              "      <td>0</td>\n",
              "      <td>113572</td>\n",
              "      <td>80.0</td>\n",
              "      <td>B28</td>\n",
              "      <td>NaN</td>\n",
              "    </tr>\n",
              "    <tr>\n",
              "      <th>829</th>\n",
              "      <td>830</td>\n",
              "      <td>1</td>\n",
              "      <td>1</td>\n",
              "      <td>Stone, Mrs. George Nelson (Martha Evelyn)</td>\n",
              "      <td>female</td>\n",
              "      <td>62.0</td>\n",
              "      <td>0</td>\n",
              "      <td>0</td>\n",
              "      <td>113572</td>\n",
              "      <td>80.0</td>\n",
              "      <td>B28</td>\n",
              "      <td>NaN</td>\n",
              "    </tr>\n",
              "  </tbody>\n",
              "</table>\n",
              "</div>"
            ],
            "text/plain": [
              "     PassengerId  Survived  Pclass                                       Name  \\\n",
              "61            62         1       1                        Icard, Miss. Amelie   \n",
              "829          830         1       1  Stone, Mrs. George Nelson (Martha Evelyn)   \n",
              "\n",
              "        Sex   Age  SibSp  Parch  Ticket  Fare Cabin Embarked  \n",
              "61   female  38.0      0      0  113572  80.0   B28      NaN  \n",
              "829  female  62.0      0      0  113572  80.0   B28      NaN  "
            ]
          },
          "execution_count": 4,
          "metadata": {},
          "output_type": "execute_result"
        }
      ],
      "source": [
        "titanic_df[titanic_df['Embarked'].isnull()]"
      ]
    },
    {
      "cell_type": "markdown",
      "metadata": {},
      "source": []
    },
    {
      "cell_type": "markdown",
      "metadata": {
        "id": "CGBHGvCMOctq"
      },
      "source": [
        "### `Q-2:` Using `groupby` make groups using the `\"Pclass\"` column and fill every group's `\"Embarked\"` column's missing values with the mode value of that group. After that, print every group's `\"Embarked\"` column's value counts in ascending order."
      ]
    },
    {
      "cell_type": "code",
      "execution_count": 82,
      "metadata": {},
      "outputs": [
        {
          "name": "stdout",
          "output_type": "stream",
          "text": [
            "Embarked\n",
            "S    127\n",
            "C     85\n",
            "Q      2\n",
            "Name: count, dtype: int64\n",
            "Embarked\n",
            "S    164\n",
            "C     17\n",
            "Q      3\n",
            "Name: count, dtype: int64\n",
            "Embarked\n",
            "S    353\n",
            "Q     72\n",
            "C     66\n",
            "Name: count, dtype: int64\n"
          ]
        },
        {
          "name": "stderr",
          "output_type": "stream",
          "text": [
            "C:\\Users\\axitk\\AppData\\Local\\Temp\\ipykernel_4384\\3821780115.py:8: FutureWarning: The behavior of DataFrame concatenation with empty or all-NA entries is deprecated. In a future version, this will no longer exclude empty or all-NA columns when determining the result dtypes. To retain the old behavior, exclude the relevant entries before the concat operation.\n",
            "  df = pd.concat((df,data))\n"
          ]
        }
      ],
      "source": [
        "temp_data = titanic_df.groupby('Pclass')\n",
        "df = pd.DataFrame(columns = titanic_df.columns)\n",
        "\n",
        "for group,data in temp_data:\n",
        "\n",
        "    data['Embarked'] = data['Embarked'].fillna(data['Embarked'].mode()[0])\n",
        "    print(temp_data.get_group(group)['Embarked'].value_counts())    \n",
        "    df = pd.concat((df,data)) \n",
        "    \n",
        "# df['Embarked'].isna().sum()"
      ]
    },
    {
      "cell_type": "markdown",
      "metadata": {
        "id": "3B4ieUtTOg2E"
      },
      "source": [
        "### `Q-3:` Make groups based on `\"Embarked\"` column. And for each of this embarked group, make another group based on `\"Pclass\"` and find out the average fare (round off up to 2 decimal places) for each \"Pclass\" for each group of \"Embarked\".\n",
        "\n",
        "**Sample Output:**\n",
        "\n",
        "```bash\n",
        "{'C': {1: 105, 2: 25, 3: 11},\n",
        " 'Q': {1: 90, 2: 12, 3: 11},\n",
        " 'S': {1: 70, 2: 20, 3: 15}}\n",
        "```"
      ]
    },
    {
      "cell_type": "code",
      "execution_count": null,
      "metadata": {
        "id": "eOMciiM_OfPU"
      },
      "outputs": [],
      "source": [
        "# (1)    \n",
        "x = df.groupby('Pclass')['Embarked'].value_counts()"
      ]
    },
    {
      "cell_type": "code",
      "execution_count": null,
      "metadata": {
        "id": "rQvGcpCLOjEk"
      },
      "outputs": [
        {
          "data": {
            "application/vnd.microsoft.datawrangler.viewer.v0+json": {
              "columns": [
                {
                  "name": "('Embarked', 'Pclass')",
                  "rawType": "object",
                  "type": "unknown"
                },
                {
                  "name": "Fare",
                  "rawType": "float64",
                  "type": "float"
                }
              ],
              "ref": "fcb3ddab-d86c-40aa-b4d9-27726200d8ce",
              "rows": [
                [
                  "('C', np.int64(1))",
                  "104.71852941176472"
                ],
                [
                  "('Q', np.int64(1))",
                  "90.0"
                ],
                [
                  "('S', np.int64(1))",
                  "70.3648622047244"
                ],
                [
                  "('C', np.int64(2))",
                  "25.358335294117648"
                ],
                [
                  "('S', np.int64(2))",
                  "20.327439024390245"
                ],
                [
                  "('S', np.int64(3))",
                  "14.64408300283286"
                ],
                [
                  "('Q', np.int64(2))",
                  "12.35"
                ],
                [
                  "('C', np.int64(3))",
                  "11.214083333333333"
                ],
                [
                  "('Q', np.int64(3))",
                  "11.183393055555555"
                ]
              ],
              "shape": {
                "columns": 1,
                "rows": 9
              }
            },
            "text/plain": [
              "Embarked  Pclass\n",
              "C         1         104.718529\n",
              "Q         1          90.000000\n",
              "S         1          70.364862\n",
              "C         2          25.358335\n",
              "S         2          20.327439\n",
              "          3          14.644083\n",
              "Q         2          12.350000\n",
              "C         3          11.214083\n",
              "Q         3          11.183393\n",
              "Name: Fare, dtype: float64"
            ]
          },
          "execution_count": 55,
          "metadata": {},
          "output_type": "execute_result"
        }
      ],
      "source": [
        "# (2)\n",
        "# Not Solved\n",
        "temp_data = titanic_df.groupby(['Embarked','Pclass'])\n",
        "output = temp_data['Fare'].mean().sort_values(ascending= False)\n",
        "output"
      ]
    },
    {
      "cell_type": "code",
      "execution_count": null,
      "metadata": {},
      "outputs": [
        {
          "data": {
            "text/plain": [
              "{'C': {1: 105, 2: 25, 3: 11},\n",
              " 'Q': {1: 90, 2: 12, 3: 11},\n",
              " 'S': {1: 70, 2: 20, 3: 15}}"
            ]
          },
          "execution_count": 92,
          "metadata": {},
          "output_type": "execute_result"
        }
      ],
      "source": [
        "d1 = {}\n",
        "# output.loc[('Q', np.int64(3))]\n",
        "for item in output.index:\n",
        "    if item[0] not in d1:\n",
        "        d1[item[0]] = {}\n",
        "    \n",
        "    d1[item[0]][item[1]] = round(output.loc[item])\n",
        "    # if item[1] not in d2:\n",
        "d1"
      ]
    },
    {
      "cell_type": "markdown",
      "metadata": {
        "id": "iS6vHZUIOnJy"
      },
      "source": [
        "## **Questions Based on Fifa Worldcup - 2022 Dataset:**\n",
        "\n",
        "You can read the dataset by using the below sample code\n",
        "\n",
        "```python\n",
        "import pandas as pd\n",
        "\n",
        "fifa_df = pd.read_csv(\"https://docs.google.com/spreadsheets/d/e/2PACX-1vT3D_x_4DS6d51LKJ7ze1sxT5WpV5uiSVOFYHLwBiGru6vFyVv5h5-83AwFjxWYiWfCDjDAaarHAV-k/pub?gid=0&single=true&output=csv\")\n",
        "```"
      ]
    },
    {
      "cell_type": "markdown",
      "metadata": {
        "id": "3GPZOvh5Oqhp"
      },
      "source": [
        "### `Q-4:` Perform `groupby` based on the `\"Team\"` column and then perform Z Normalization on top of the below columns of each group:\n",
        "1. Passes\n",
        "2. Passes Completed\n",
        "3. Attempted Line Breaks\n",
        "4. Completed Line Breaks\n",
        "\n",
        "You have to make a python function named `z_normalization` which takes two arguments:\n",
        "\n",
        "1. *group:* Every group that you have created\n",
        "2. *cols_to_perform:* This parameter takes a list of columns on which you have to perform the Z-Normalization.\n",
        "\n",
        "For this problem, you have to use th `apply()` method.\n",
        "\n",
        "$\\Large Z \\ - \\ Normalization = \\frac{X_i - \\mu}{std} $\n",
        "\n",
        "After that find out the below values for each group:\n",
        "- minimum \"Passess\"\n",
        "- maximum \"Passess\"\n",
        "- minimum \"Yellow Cards\"\n",
        "- maximum \"Yellow cards\"\n",
        "- average \"Yellow Cards\"\n",
        "- maximum \"Attempted Line Breaks\"\n",
        "- minimum \"Attempted Line Breaks\"\n",
        "- standardard deviation of \"Attempted Line Breaks\"\n",
        "- average Possession"
      ]
    },
    {
      "cell_type": "code",
      "execution_count": null,
      "metadata": {
        "id": "OuGLcl3EOnxY"
      },
      "outputs": [
        {
          "data": {
            "application/vnd.microsoft.datawrangler.viewer.v0+json": {
              "columns": [
                {
                  "name": "index",
                  "rawType": "int64",
                  "type": "integer"
                },
                {
                  "name": "Sl. No",
                  "rawType": "int64",
                  "type": "integer"
                },
                {
                  "name": "Match No.",
                  "rawType": "int64",
                  "type": "integer"
                },
                {
                  "name": "Team",
                  "rawType": "object",
                  "type": "string"
                },
                {
                  "name": "Against",
                  "rawType": "object",
                  "type": "string"
                },
                {
                  "name": "Group",
                  "rawType": "object",
                  "type": "string"
                },
                {
                  "name": "Goal",
                  "rawType": "int64",
                  "type": "integer"
                },
                {
                  "name": "Possession (%)",
                  "rawType": "int64",
                  "type": "integer"
                },
                {
                  "name": "Inside Penalty Area",
                  "rawType": "int64",
                  "type": "integer"
                },
                {
                  "name": "Outside Penalty Area",
                  "rawType": "int64",
                  "type": "integer"
                },
                {
                  "name": "Assists",
                  "rawType": "int64",
                  "type": "integer"
                },
                {
                  "name": "Total Attempts",
                  "rawType": "int64",
                  "type": "integer"
                },
                {
                  "name": "On Target",
                  "rawType": "int64",
                  "type": "integer"
                },
                {
                  "name": "Off Target",
                  "rawType": "int64",
                  "type": "integer"
                },
                {
                  "name": "Target in Penalty",
                  "rawType": "int64",
                  "type": "integer"
                },
                {
                  "name": "Target from Outside",
                  "rawType": "int64",
                  "type": "integer"
                },
                {
                  "name": "Left Channel",
                  "rawType": "int64",
                  "type": "integer"
                },
                {
                  "name": "Left Inside Channel",
                  "rawType": "int64",
                  "type": "integer"
                },
                {
                  "name": "Central Channel",
                  "rawType": "int64",
                  "type": "integer"
                },
                {
                  "name": "Right Inside Channel",
                  "rawType": "int64",
                  "type": "integer"
                },
                {
                  "name": "Right Channel",
                  "rawType": "int64",
                  "type": "integer"
                },
                {
                  "name": "Receptions MD",
                  "rawType": "int64",
                  "type": "integer"
                },
                {
                  "name": "Receptions D",
                  "rawType": "int64",
                  "type": "integer"
                },
                {
                  "name": "Attempted Line Breaks",
                  "rawType": "int64",
                  "type": "integer"
                },
                {
                  "name": "Completed Line Breaks",
                  "rawType": "int64",
                  "type": "integer"
                },
                {
                  "name": "Attempted Defensive Line Breaks",
                  "rawType": "int64",
                  "type": "integer"
                },
                {
                  "name": "Completed Defensive Line Breaks",
                  "rawType": "int64",
                  "type": "integer"
                },
                {
                  "name": "Yellow Cards",
                  "rawType": "int64",
                  "type": "integer"
                },
                {
                  "name": "Red Cards",
                  "rawType": "int64",
                  "type": "integer"
                },
                {
                  "name": "Fouls Against",
                  "rawType": "int64",
                  "type": "integer"
                },
                {
                  "name": "Offsides",
                  "rawType": "int64",
                  "type": "integer"
                },
                {
                  "name": "Passes",
                  "rawType": "int64",
                  "type": "integer"
                },
                {
                  "name": "Passes Completed",
                  "rawType": "int64",
                  "type": "integer"
                },
                {
                  "name": "Crosses",
                  "rawType": "int64",
                  "type": "integer"
                },
                {
                  "name": "Crosses Completed",
                  "rawType": "int64",
                  "type": "integer"
                },
                {
                  "name": "Corners",
                  "rawType": "int64",
                  "type": "integer"
                },
                {
                  "name": "Free Kicks",
                  "rawType": "int64",
                  "type": "integer"
                },
                {
                  "name": "Penalties Scored",
                  "rawType": "int64",
                  "type": "integer"
                },
                {
                  "name": "Pts",
                  "rawType": "int64",
                  "type": "integer"
                }
              ],
              "ref": "0c0f04ff-4aab-420f-ae4d-2ce851a68e38",
              "rows": [
                [
                  "0",
                  "1",
                  "1",
                  "Qatar",
                  "Ecuador",
                  "A",
                  "0",
                  "40",
                  "0",
                  "0",
                  "0",
                  "5",
                  "0",
                  "5",
                  "2",
                  "3",
                  "15",
                  "0",
                  "3",
                  "1",
                  "9",
                  "45",
                  "5",
                  "159",
                  "100",
                  "6",
                  "4",
                  "4",
                  "0",
                  "15",
                  "3",
                  "453",
                  "387",
                  "10",
                  "5",
                  "1",
                  "19",
                  "0",
                  "0"
                ],
                [
                  "1",
                  "2",
                  "1",
                  "Ecuador",
                  "Qatar",
                  "A",
                  "2",
                  "46",
                  "2",
                  "0",
                  "1",
                  "5",
                  "5",
                  "2",
                  "4",
                  "1",
                  "8",
                  "7",
                  "6",
                  "4",
                  "6",
                  "55",
                  "10",
                  "159",
                  "103",
                  "6",
                  "4",
                  "2",
                  "0",
                  "15",
                  "4",
                  "484",
                  "419",
                  "26",
                  "10",
                  "3",
                  "17",
                  "1",
                  "3"
                ]
              ],
              "shape": {
                "columns": 38,
                "rows": 2
              }
            },
            "text/html": [
              "<div>\n",
              "<style scoped>\n",
              "    .dataframe tbody tr th:only-of-type {\n",
              "        vertical-align: middle;\n",
              "    }\n",
              "\n",
              "    .dataframe tbody tr th {\n",
              "        vertical-align: top;\n",
              "    }\n",
              "\n",
              "    .dataframe thead th {\n",
              "        text-align: right;\n",
              "    }\n",
              "</style>\n",
              "<table border=\"1\" class=\"dataframe\">\n",
              "  <thead>\n",
              "    <tr style=\"text-align: right;\">\n",
              "      <th></th>\n",
              "      <th>Sl. No</th>\n",
              "      <th>Match No.</th>\n",
              "      <th>Team</th>\n",
              "      <th>Against</th>\n",
              "      <th>Group</th>\n",
              "      <th>Goal</th>\n",
              "      <th>Possession (%)</th>\n",
              "      <th>Inside Penalty Area</th>\n",
              "      <th>Outside Penalty Area</th>\n",
              "      <th>Assists</th>\n",
              "      <th>...</th>\n",
              "      <th>Fouls Against</th>\n",
              "      <th>Offsides</th>\n",
              "      <th>Passes</th>\n",
              "      <th>Passes Completed</th>\n",
              "      <th>Crosses</th>\n",
              "      <th>Crosses Completed</th>\n",
              "      <th>Corners</th>\n",
              "      <th>Free Kicks</th>\n",
              "      <th>Penalties Scored</th>\n",
              "      <th>Pts</th>\n",
              "    </tr>\n",
              "  </thead>\n",
              "  <tbody>\n",
              "    <tr>\n",
              "      <th>0</th>\n",
              "      <td>1</td>\n",
              "      <td>1</td>\n",
              "      <td>Qatar</td>\n",
              "      <td>Ecuador</td>\n",
              "      <td>A</td>\n",
              "      <td>0</td>\n",
              "      <td>40</td>\n",
              "      <td>0</td>\n",
              "      <td>0</td>\n",
              "      <td>0</td>\n",
              "      <td>...</td>\n",
              "      <td>15</td>\n",
              "      <td>3</td>\n",
              "      <td>453</td>\n",
              "      <td>387</td>\n",
              "      <td>10</td>\n",
              "      <td>5</td>\n",
              "      <td>1</td>\n",
              "      <td>19</td>\n",
              "      <td>0</td>\n",
              "      <td>0</td>\n",
              "    </tr>\n",
              "    <tr>\n",
              "      <th>1</th>\n",
              "      <td>2</td>\n",
              "      <td>1</td>\n",
              "      <td>Ecuador</td>\n",
              "      <td>Qatar</td>\n",
              "      <td>A</td>\n",
              "      <td>2</td>\n",
              "      <td>46</td>\n",
              "      <td>2</td>\n",
              "      <td>0</td>\n",
              "      <td>1</td>\n",
              "      <td>...</td>\n",
              "      <td>15</td>\n",
              "      <td>4</td>\n",
              "      <td>484</td>\n",
              "      <td>419</td>\n",
              "      <td>26</td>\n",
              "      <td>10</td>\n",
              "      <td>3</td>\n",
              "      <td>17</td>\n",
              "      <td>1</td>\n",
              "      <td>3</td>\n",
              "    </tr>\n",
              "  </tbody>\n",
              "</table>\n",
              "<p>2 rows × 38 columns</p>\n",
              "</div>"
            ],
            "text/plain": [
              "   Sl. No  Match No.     Team  Against Group  Goal  Possession (%)  \\\n",
              "0       1          1    Qatar  Ecuador     A     0              40   \n",
              "1       2          1  Ecuador    Qatar     A     2              46   \n",
              "\n",
              "   Inside Penalty Area  Outside Penalty Area  Assists  ...  Fouls Against  \\\n",
              "0                    0                     0        0  ...             15   \n",
              "1                    2                     0        1  ...             15   \n",
              "\n",
              "   Offsides  Passes  Passes Completed  Crosses  Crosses Completed  Corners  \\\n",
              "0         3     453               387       10                  5        1   \n",
              "1         4     484               419       26                 10        3   \n",
              "\n",
              "   Free Kicks  Penalties Scored  Pts  \n",
              "0          19                 0    0  \n",
              "1          17                 1    3  \n",
              "\n",
              "[2 rows x 38 columns]"
            ]
          },
          "execution_count": 20,
          "metadata": {},
          "output_type": "execute_result"
        }
      ],
      "source": [
        "fifa_df = pd.read_csv(\"https://docs.google.com/spreadsheets/d/e/2PACX-1vT3D_x_4DS6d51LKJ7ze1sxT5WpV5uiSVOFYHLwBiGru6vFyVv5h5-83AwFjxWYiWfCDjDAaarHAV-k/pub?gid=0&single=true&output=csv\")\n",
        "fifa_df.head(2)"
      ]
    },
    {
      "cell_type": "code",
      "execution_count": 21,
      "metadata": {},
      "outputs": [
        {
          "data": {
            "application/vnd.microsoft.datawrangler.viewer.v0+json": {
              "columns": [
                {
                  "name": "index",
                  "rawType": "int64",
                  "type": "integer"
                },
                {
                  "name": "Sl. No",
                  "rawType": "object",
                  "type": "string"
                },
                {
                  "name": "Match No.",
                  "rawType": "object",
                  "type": "string"
                },
                {
                  "name": "Team",
                  "rawType": "object",
                  "type": "string"
                },
                {
                  "name": "Against",
                  "rawType": "object",
                  "type": "string"
                },
                {
                  "name": "Group",
                  "rawType": "object",
                  "type": "string"
                },
                {
                  "name": "Goal",
                  "rawType": "object",
                  "type": "string"
                },
                {
                  "name": "Possession (%)",
                  "rawType": "object",
                  "type": "string"
                },
                {
                  "name": "Inside Penalty Area",
                  "rawType": "object",
                  "type": "string"
                },
                {
                  "name": "Outside Penalty Area",
                  "rawType": "object",
                  "type": "string"
                },
                {
                  "name": "Assists",
                  "rawType": "object",
                  "type": "string"
                },
                {
                  "name": "Total Attempts",
                  "rawType": "object",
                  "type": "string"
                },
                {
                  "name": "On Target",
                  "rawType": "object",
                  "type": "string"
                },
                {
                  "name": "Off Target",
                  "rawType": "object",
                  "type": "string"
                },
                {
                  "name": "Target in Penalty",
                  "rawType": "object",
                  "type": "string"
                },
                {
                  "name": "Target from Outside",
                  "rawType": "object",
                  "type": "string"
                },
                {
                  "name": "Left Channel",
                  "rawType": "object",
                  "type": "string"
                },
                {
                  "name": "Left Inside Channel",
                  "rawType": "object",
                  "type": "string"
                },
                {
                  "name": "Central Channel",
                  "rawType": "object",
                  "type": "string"
                },
                {
                  "name": "Right Inside Channel",
                  "rawType": "object",
                  "type": "string"
                },
                {
                  "name": "Right Channel",
                  "rawType": "object",
                  "type": "string"
                },
                {
                  "name": "Receptions MD",
                  "rawType": "object",
                  "type": "string"
                },
                {
                  "name": "Receptions D",
                  "rawType": "object",
                  "type": "string"
                },
                {
                  "name": "Attempted Line Breaks",
                  "rawType": "object",
                  "type": "string"
                },
                {
                  "name": "Completed Line Breaks",
                  "rawType": "object",
                  "type": "string"
                },
                {
                  "name": "Attempted Defensive Line Breaks",
                  "rawType": "object",
                  "type": "string"
                },
                {
                  "name": "Completed Defensive Line Breaks",
                  "rawType": "object",
                  "type": "string"
                },
                {
                  "name": "Yellow Cards",
                  "rawType": "object",
                  "type": "string"
                },
                {
                  "name": "Red Cards",
                  "rawType": "object",
                  "type": "string"
                },
                {
                  "name": "Fouls Against",
                  "rawType": "object",
                  "type": "string"
                },
                {
                  "name": "Offsides",
                  "rawType": "object",
                  "type": "string"
                },
                {
                  "name": "Passes",
                  "rawType": "object",
                  "type": "string"
                },
                {
                  "name": "Passes Completed",
                  "rawType": "object",
                  "type": "string"
                },
                {
                  "name": "Crosses",
                  "rawType": "object",
                  "type": "string"
                },
                {
                  "name": "Crosses Completed",
                  "rawType": "object",
                  "type": "string"
                },
                {
                  "name": "Corners",
                  "rawType": "object",
                  "type": "string"
                },
                {
                  "name": "Free Kicks",
                  "rawType": "object",
                  "type": "string"
                },
                {
                  "name": "Penalties Scored",
                  "rawType": "object",
                  "type": "string"
                },
                {
                  "name": "Pts",
                  "rawType": "object",
                  "type": "string"
                }
              ],
              "ref": "1b42d198-4cc2-4acc-bb25-4844b2c2efda",
              "rows": [],
              "shape": {
                "columns": 38,
                "rows": 0
              }
            },
            "text/html": [
              "<div>\n",
              "<style scoped>\n",
              "    .dataframe tbody tr th:only-of-type {\n",
              "        vertical-align: middle;\n",
              "    }\n",
              "\n",
              "    .dataframe tbody tr th {\n",
              "        vertical-align: top;\n",
              "    }\n",
              "\n",
              "    .dataframe thead th {\n",
              "        text-align: right;\n",
              "    }\n",
              "</style>\n",
              "<table border=\"1\" class=\"dataframe\">\n",
              "  <thead>\n",
              "    <tr style=\"text-align: right;\">\n",
              "      <th></th>\n",
              "      <th>Sl. No</th>\n",
              "      <th>Match No.</th>\n",
              "      <th>Team</th>\n",
              "      <th>Against</th>\n",
              "      <th>Group</th>\n",
              "      <th>Goal</th>\n",
              "      <th>Possession (%)</th>\n",
              "      <th>Inside Penalty Area</th>\n",
              "      <th>Outside Penalty Area</th>\n",
              "      <th>Assists</th>\n",
              "      <th>...</th>\n",
              "      <th>Fouls Against</th>\n",
              "      <th>Offsides</th>\n",
              "      <th>Passes</th>\n",
              "      <th>Passes Completed</th>\n",
              "      <th>Crosses</th>\n",
              "      <th>Crosses Completed</th>\n",
              "      <th>Corners</th>\n",
              "      <th>Free Kicks</th>\n",
              "      <th>Penalties Scored</th>\n",
              "      <th>Pts</th>\n",
              "    </tr>\n",
              "  </thead>\n",
              "  <tbody>\n",
              "  </tbody>\n",
              "</table>\n",
              "<p>0 rows × 38 columns</p>\n",
              "</div>"
            ],
            "text/plain": [
              "Empty DataFrame\n",
              "Columns: [Sl. No, Match No., Team, Against, Group, Goal, Possession (%), Inside Penalty Area, Outside Penalty Area, Assists, Total Attempts, On Target, Off Target, Target in Penalty, Target from Outside, Left Channel, Left Inside Channel, Central Channel, Right Inside Channel, Right Channel, Receptions MD, Receptions D, Attempted Line Breaks, Completed Line Breaks, Attempted Defensive Line Breaks, Completed Defensive Line Breaks, Yellow Cards, Red Cards, Fouls Against, Offsides, Passes, Passes Completed, Crosses, Crosses Completed, Corners, Free Kicks, Penalties Scored, Pts]\n",
              "Index: []\n",
              "\n",
              "[0 rows x 38 columns]"
            ]
          },
          "execution_count": 21,
          "metadata": {},
          "output_type": "execute_result"
        }
      ],
      "source": [
        "df = pd.DataFrame(columns = fifa_df.columns)\n",
        "df"
      ]
    },
    {
      "cell_type": "code",
      "execution_count": 126,
      "metadata": {},
      "outputs": [
        {
          "name": "stderr",
          "output_type": "stream",
          "text": [
            "C:\\Users\\axitk\\AppData\\Local\\Temp\\ipykernel_4384\\867195401.py:11: DeprecationWarning: DataFrameGroupBy.apply operated on the grouping columns. This behavior is deprecated, and in a future version of pandas the grouping columns will be excluded from the operation. Either pass `include_groups=False` to exclude the groupings or explicitly select the grouping columns after groupby to silence this warning.\n",
            "  groups = groups.apply(z_normalization,cols_to_perform = cols_to_perform)\n"
          ]
        }
      ],
      "source": [
        "def z_normalization(group,cols_to_perform):\n",
        "    for col in cols_to_perform:\n",
        "        std = group[col].std()\n",
        "        mean = group[col].mean()\n",
        "        group[f'{col}_z_norm'] = (group[col]-mean)/std  \n",
        "    return group\n",
        "\n",
        "\n",
        "cols_to_perform = ['Passes','Passes Completed','Attempted Line Breaks','Completed Line Breaks']\n",
        "groups = fifa_df.groupby('Team')\n",
        "groups = groups.apply(z_normalization,cols_to_perform = cols_to_perform)"
      ]
    },
    {
      "cell_type": "code",
      "execution_count": 127,
      "metadata": {},
      "outputs": [
        {
          "data": {
            "application/vnd.microsoft.datawrangler.viewer.v0+json": {
              "columns": [
                {
                  "name": "('Team', None)",
                  "rawType": "object",
                  "type": "unknown"
                },
                {
                  "name": "Sl. No",
                  "rawType": "int64",
                  "type": "integer"
                },
                {
                  "name": "Match No.",
                  "rawType": "int64",
                  "type": "integer"
                },
                {
                  "name": "Team",
                  "rawType": "object",
                  "type": "string"
                },
                {
                  "name": "Against",
                  "rawType": "object",
                  "type": "string"
                },
                {
                  "name": "Group",
                  "rawType": "object",
                  "type": "string"
                },
                {
                  "name": "Goal",
                  "rawType": "int64",
                  "type": "integer"
                },
                {
                  "name": "Possession (%)",
                  "rawType": "int64",
                  "type": "integer"
                },
                {
                  "name": "Inside Penalty Area",
                  "rawType": "int64",
                  "type": "integer"
                },
                {
                  "name": "Outside Penalty Area",
                  "rawType": "int64",
                  "type": "integer"
                },
                {
                  "name": "Assists",
                  "rawType": "int64",
                  "type": "integer"
                },
                {
                  "name": "Total Attempts",
                  "rawType": "int64",
                  "type": "integer"
                },
                {
                  "name": "On Target",
                  "rawType": "int64",
                  "type": "integer"
                },
                {
                  "name": "Off Target",
                  "rawType": "int64",
                  "type": "integer"
                },
                {
                  "name": "Target in Penalty",
                  "rawType": "int64",
                  "type": "integer"
                },
                {
                  "name": "Target from Outside",
                  "rawType": "int64",
                  "type": "integer"
                },
                {
                  "name": "Left Channel",
                  "rawType": "int64",
                  "type": "integer"
                },
                {
                  "name": "Left Inside Channel",
                  "rawType": "int64",
                  "type": "integer"
                },
                {
                  "name": "Central Channel",
                  "rawType": "int64",
                  "type": "integer"
                },
                {
                  "name": "Right Inside Channel",
                  "rawType": "int64",
                  "type": "integer"
                },
                {
                  "name": "Right Channel",
                  "rawType": "int64",
                  "type": "integer"
                },
                {
                  "name": "Receptions MD",
                  "rawType": "int64",
                  "type": "integer"
                },
                {
                  "name": "Receptions D",
                  "rawType": "int64",
                  "type": "integer"
                },
                {
                  "name": "Attempted Line Breaks",
                  "rawType": "int64",
                  "type": "integer"
                },
                {
                  "name": "Completed Line Breaks",
                  "rawType": "int64",
                  "type": "integer"
                },
                {
                  "name": "Attempted Defensive Line Breaks",
                  "rawType": "int64",
                  "type": "integer"
                },
                {
                  "name": "Completed Defensive Line Breaks",
                  "rawType": "int64",
                  "type": "integer"
                },
                {
                  "name": "Yellow Cards",
                  "rawType": "int64",
                  "type": "integer"
                },
                {
                  "name": "Red Cards",
                  "rawType": "int64",
                  "type": "integer"
                },
                {
                  "name": "Fouls Against",
                  "rawType": "int64",
                  "type": "integer"
                },
                {
                  "name": "Offsides",
                  "rawType": "int64",
                  "type": "integer"
                },
                {
                  "name": "Passes",
                  "rawType": "int64",
                  "type": "integer"
                },
                {
                  "name": "Passes Completed",
                  "rawType": "int64",
                  "type": "integer"
                },
                {
                  "name": "Crosses",
                  "rawType": "int64",
                  "type": "integer"
                },
                {
                  "name": "Crosses Completed",
                  "rawType": "int64",
                  "type": "integer"
                },
                {
                  "name": "Corners",
                  "rawType": "int64",
                  "type": "integer"
                },
                {
                  "name": "Free Kicks",
                  "rawType": "int64",
                  "type": "integer"
                },
                {
                  "name": "Penalties Scored",
                  "rawType": "int64",
                  "type": "integer"
                },
                {
                  "name": "Pts",
                  "rawType": "int64",
                  "type": "integer"
                },
                {
                  "name": "Passes_z_norm",
                  "rawType": "float64",
                  "type": "float"
                },
                {
                  "name": "Passes Completed_z_norm",
                  "rawType": "float64",
                  "type": "float"
                },
                {
                  "name": "Attempted Line Breaks_z_norm",
                  "rawType": "float64",
                  "type": "float"
                },
                {
                  "name": "Completed Line Breaks_z_norm",
                  "rawType": "float64",
                  "type": "float"
                }
              ],
              "ref": "b5de70d0-c3b4-4e70-8de6-891397f27ae3",
              "rows": [
                [
                  "('Argentina', np.int64(8))",
                  "9",
                  "5",
                  "Argentina",
                  "Saudi Arabia",
                  "C",
                  "1",
                  "51",
                  "1",
                  "0",
                  "0",
                  "14",
                  "6",
                  "6",
                  "10",
                  "4",
                  "12",
                  "4",
                  "5",
                  "8",
                  "18",
                  "91",
                  "27",
                  "195",
                  "127",
                  "10",
                  "8",
                  "0",
                  "0",
                  "7",
                  "10",
                  "593",
                  "525",
                  "36",
                  "15",
                  "9",
                  "21",
                  "1",
                  "0",
                  "-0.2081379482131027",
                  "-0.15788753763833321",
                  "0.36474460521941",
                  "0.08740255509171803"
                ],
                [
                  "('Argentina', np.int64(46))",
                  "47",
                  "24",
                  "Argentina",
                  "Mexico",
                  "C",
                  "2",
                  "50",
                  "1",
                  "1",
                  "2",
                  "5",
                  "2",
                  "3",
                  "2",
                  "3",
                  "10",
                  "6",
                  "2",
                  "4",
                  "12",
                  "89",
                  "2",
                  "150",
                  "100",
                  "10",
                  "5",
                  "1",
                  "0",
                  "15",
                  "2",
                  "533",
                  "464",
                  "14",
                  "2",
                  "4",
                  "23",
                  "0",
                  "3",
                  "-0.6304468286454852",
                  "-0.5740478991912245",
                  "-0.795806411387804",
                  "-0.9450401269291985"
                ],
                [
                  "('Argentina', np.int64(77))",
                  "78",
                  "39",
                  "Argentina",
                  "Poland",
                  "C",
                  "2",
                  "67",
                  "1",
                  "1",
                  "2",
                  "25",
                  "13",
                  "8",
                  "10",
                  "15",
                  "25",
                  "8",
                  "7",
                  "10",
                  "26",
                  "150",
                  "36",
                  "141",
                  "126",
                  "20",
                  "16",
                  "1",
                  "0",
                  "11",
                  "0",
                  "862",
                  "814",
                  "22",
                  "5",
                  "9",
                  "5",
                  "0",
                  "3",
                  "1.685213532392079",
                  "1.8137574539811023",
                  "-1.0279166147092467",
                  "0.049163937239091494"
                ],
                [
                  "('Argentina', np.int64(98))",
                  "99",
                  "50",
                  "Argentina",
                  "Australia",
                  "C",
                  "2",
                  "53",
                  "2",
                  "0",
                  "1",
                  "14",
                  "5",
                  "7",
                  "11",
                  "3",
                  "15",
                  "6",
                  "11",
                  "2",
                  "17",
                  "127",
                  "8",
                  "181",
                  "135",
                  "16",
                  "8",
                  "0",
                  "0",
                  "8",
                  "4",
                  "711",
                  "635",
                  "6",
                  "1",
                  "1",
                  "15",
                  "0",
                  "3",
                  "0.6224028499705829",
                  "0.5925655733586838",
                  "0.0036842889416100985",
                  "0.39331149791273035"
                ],
                [
                  "('Argentina', np.int64(115))",
                  "116",
                  "58",
                  "Argentina",
                  "Netherlands",
                  "C",
                  "2",
                  "44",
                  "2",
                  "0",
                  "1",
                  "15",
                  "6",
                  "8",
                  "5",
                  "10",
                  "7",
                  "7",
                  "13",
                  "6",
                  "17",
                  "104",
                  "7",
                  "203",
                  "122",
                  "24",
                  "8",
                  "8",
                  "0",
                  "18",
                  "2",
                  "603",
                  "511",
                  "16",
                  "4",
                  "8",
                  "30",
                  "5",
                  "3",
                  "-0.13775313480770562",
                  "-0.2533997517652263",
                  "0.5710647859495813",
                  "-0.10379053417141465"
                ],
                [
                  "('Argentina', np.int64(120))",
                  "121",
                  "61",
                  "Argentina",
                  "Croatia",
                  "C",
                  "3",
                  "34",
                  "3",
                  "0",
                  "1",
                  "10",
                  "7",
                  "2",
                  "7",
                  "3",
                  "8",
                  "9",
                  "7",
                  "3",
                  "2",
                  "121",
                  "7",
                  "147",
                  "91",
                  "17",
                  "7",
                  "2",
                  "0",
                  "15",
                  "1",
                  "408",
                  "344",
                  "8",
                  "2",
                  "2",
                  "6",
                  "1",
                  "3",
                  "-1.5102569962129488",
                  "-1.3927240202788793",
                  "-0.8731764791616182",
                  "-1.2891876876028372"
                ],
                [
                  "('Argentina', np.int64(126))",
                  "127",
                  "64",
                  "Argentina",
                  "France",
                  "C",
                  "3",
                  "46",
                  "3",
                  "0",
                  "1",
                  "21",
                  "9",
                  "9",
                  "13",
                  "8",
                  "13",
                  "6",
                  "8",
                  "9",
                  "9",
                  "163",
                  "28",
                  "249",
                  "172",
                  "40",
                  "24",
                  "4",
                  "0",
                  "26",
                  "4",
                  "648",
                  "544",
                  "20",
                  "4",
                  "6",
                  "22",
                  "5",
                  "3",
                  "0.17897852551658128",
                  "-0.028263818466121197",
                  "1.7574058251480669",
                  "1.808140358459912"
                ],
                [
                  "('Australia', np.int64(15))",
                  "16",
                  "8",
                  "Australia",
                  "France",
                  "D",
                  "1",
                  "35",
                  "1",
                  "0",
                  "1",
                  "4",
                  "1",
                  "3",
                  "2",
                  "2",
                  "11",
                  "2",
                  "5",
                  "1",
                  "9",
                  "66",
                  "7",
                  "133",
                  "84",
                  "15",
                  "7",
                  "3",
                  "0",
                  "11",
                  "0",
                  "466",
                  "399",
                  "9",
                  "2",
                  "1",
                  "5",
                  "0",
                  "0",
                  "0.9327822981462446",
                  "0.9318453296647077",
                  "-1.1876227352126725",
                  "-0.5603155257282213"
                ],
                [
                  "('Australia', np.int64(41))",
                  "42",
                  "21",
                  "Australia",
                  "Tunisia",
                  "D",
                  "1",
                  "31",
                  "1",
                  "0",
                  "1",
                  "8",
                  "2",
                  "3",
                  "5",
                  "3",
                  "11",
                  "3",
                  "4",
                  "7",
                  "19",
                  "111",
                  "8",
                  "171",
                  "91",
                  "19",
                  "10",
                  "0",
                  "0",
                  "15",
                  "0",
                  "334",
                  "239",
                  "23",
                  "4",
                  "2",
                  "19",
                  "0",
                  "3",
                  "-0.5687696939916126",
                  "-0.597336749785069",
                  "0.9614088808864492",
                  "0.7470873676376284"
                ],
                [
                  "('Australia', np.int64(72))",
                  "73",
                  "37",
                  "Australia",
                  "Denmark",
                  "D",
                  "1",
                  "24",
                  "1",
                  "0",
                  "1",
                  "8",
                  "4",
                  "2",
                  "3",
                  "5",
                  "9",
                  "2",
                  "2",
                  "1",
                  "11",
                  "93",
                  "8",
                  "166",
                  "81",
                  "17",
                  "7",
                  "2",
                  "0",
                  "11",
                  "1",
                  "286",
                  "187",
                  "11",
                  "2",
                  "2",
                  "13",
                  "0",
                  "3",
                  "-1.1147886002235607",
                  "-1.0943209256062465",
                  "0.6786415629786701",
                  "-1.1206310514564426"
                ],
                [
                  "('Australia', np.int64(99))",
                  "100",
                  "50",
                  "Australia",
                  "Argentina",
                  "D",
                  "1",
                  "35",
                  "0",
                  "0",
                  "0",
                  "5",
                  "2",
                  "2",
                  "3",
                  "2",
                  "8",
                  "1",
                  "2",
                  "6",
                  "9",
                  "60",
                  "8",
                  "146",
                  "92",
                  "12",
                  "7",
                  "2",
                  "0",
                  "15",
                  "0",
                  "450",
                  "381",
                  "15",
                  "2",
                  "3",
                  "11",
                  "0",
                  "0",
                  "0.7507759960689286",
                  "0.7598123457266078",
                  "-0.4524277086524467",
                  "0.9338592095470355"
                ],
                [
                  "('Belgium', np.int64(22))",
                  "23",
                  "12",
                  "Belgium",
                  "Canada",
                  "F",
                  "1",
                  "46",
                  "1",
                  "0",
                  "1",
                  "9",
                  "3",
                  "6",
                  "6",
                  "3",
                  "6",
                  "3",
                  "5",
                  "2",
                  "6",
                  "93",
                  "8",
                  "175",
                  "118",
                  "13",
                  "6",
                  "3",
                  "0",
                  "11",
                  "0",
                  "512",
                  "439",
                  "8",
                  "5",
                  "4",
                  "15",
                  "0",
                  "3",
                  "-1.0826957835703472",
                  "-1.0895024834345572",
                  "-0.2773500981126146",
                  "-1.15470053837925"
                ],
                [
                  "('Belgium', np.int64(50))",
                  "51",
                  "26",
                  "Belgium",
                  "Morocco",
                  "F",
                  "0",
                  "55",
                  "0",
                  "0",
                  "0",
                  "10",
                  "4",
                  "4",
                  "5",
                  "5",
                  "12",
                  "8",
                  "3",
                  "4",
                  "9",
                  "91",
                  "3",
                  "167",
                  "123",
                  "8",
                  "3",
                  "1",
                  "0",
                  "10",
                  "3",
                  "685",
                  "617",
                  "24",
                  "5",
                  "9",
                  "17",
                  "0",
                  "0",
                  "0.888950222299864",
                  "0.8760188887075164",
                  "-0.8320502943378437",
                  "0.5773502691896274"
                ],
                [
                  "('Belgium', np.int64(81))",
                  "82",
                  "41",
                  "Belgium",
                  "Croatia",
                  "F",
                  "0",
                  "46",
                  "0",
                  "0",
                  "0",
                  "15",
                  "4",
                  "7",
                  "12",
                  "3",
                  "18",
                  "5",
                  "7",
                  "4",
                  "9",
                  "86",
                  "11",
                  "195",
                  "123",
                  "9",
                  "6",
                  "1",
                  "0",
                  "9",
                  "0",
                  "624",
                  "557",
                  "27",
                  "7",
                  "4",
                  "11",
                  "0",
                  "1",
                  "0.19374556127048317",
                  "0.21348359472704212",
                  "1.1094003924504583",
                  "0.5773502691896274"
                ],
                [
                  "('Brazil', np.int64(30))",
                  "31",
                  "16",
                  "Brazil",
                  "Serbia",
                  "G",
                  "2",
                  "53",
                  "2",
                  "0",
                  "1",
                  "24",
                  "10",
                  "9",
                  "11",
                  "13",
                  "14",
                  "9",
                  "10",
                  "7",
                  "20",
                  "125",
                  "11",
                  "184",
                  "134",
                  "16",
                  "10",
                  "0",
                  "0",
                  "7",
                  "1",
                  "585",
                  "526",
                  "19",
                  "3",
                  "6",
                  "12",
                  "0",
                  "3",
                  "-0.29005638991957045",
                  "-0.24263312119987515",
                  "0.2431925310820687",
                  "0.15686299430784473"
                ],
                [
                  "('Brazil', np.int64(60))",
                  "61",
                  "31",
                  "Brazil",
                  "Switzerland",
                  "G",
                  "1",
                  "51",
                  "1",
                  "0",
                  "1",
                  "9",
                  "5",
                  "2",
                  "6",
                  "3",
                  "19",
                  "12",
                  "5",
                  "5",
                  "11",
                  "99",
                  "16",
                  "164",
                  "114",
                  "20",
                  "11",
                  "1",
                  "0",
                  "10",
                  "3",
                  "565",
                  "498",
                  "26",
                  "3",
                  "8",
                  "18",
                  "0",
                  "3",
                  "-0.6353616160142981",
                  "-0.7573094388965782",
                  "-1.62751924647231",
                  "-1.2691642266725693"
                ],
                [
                  "('Brazil', np.int64(95))",
                  "96",
                  "48",
                  "Brazil",
                  "Cameroon",
                  "G",
                  "0",
                  "56",
                  "0",
                  "0",
                  "0",
                  "19",
                  "6",
                  "11",
                  "14",
                  "5",
                  "20",
                  "5",
                  "6",
                  "7",
                  "13",
                  "156",
                  "9",
                  "181",
                  "145",
                  "15",
                  "9",
                  "2",
                  "0",
                  "14",
                  "1",
                  "548",
                  "491",
                  "28",
                  "8",
                  "11",
                  "14",
                  "0",
                  "0",
                  "-0.9288710581948166",
                  "-0.885978518320754",
                  "-0.03741423555108811",
                  "0.9411779658470724"
                ],
                [
                  "('Brazil', np.int64(106))",
                  "107",
                  "54",
                  "Brazil",
                  "Korea Republic",
                  "G",
                  "4",
                  "47",
                  "4",
                  "0",
                  "3",
                  "18",
                  "9",
                  "8",
                  "14",
                  "4",
                  "20",
                  "5",
                  "5",
                  "7",
                  "15",
                  "112",
                  "17",
                  "193",
                  "145",
                  "21",
                  "17",
                  "0",
                  "0",
                  "8",
                  "0",
                  "616",
                  "556",
                  "18",
                  "4",
                  "5",
                  "16",
                  "1",
                  "3",
                  "0.24516671052725744",
                  "0.308805790618021",
                  "1.0850128309815392",
                  "0.9411779658470724"
                ],
                [
                  "('Brazil', np.int64(113))",
                  "114",
                  "57",
                  "Brazil",
                  "Croatia",
                  "G",
                  "1",
                  "45",
                  "1",
                  "0",
                  "1",
                  "20",
                  "11",
                  "4",
                  "12",
                  "8",
                  "25",
                  "10",
                  "15",
                  "8",
                  "20",
                  "111",
                  "11",
                  "185",
                  "121",
                  "19",
                  "10",
                  "3",
                  "0",
                  "24",
                  "3",
                  "695",
                  "625",
                  "25",
                  "6",
                  "7",
                  "25",
                  "2",
                  "0",
                  "1.6091223536014319",
                  "1.5771152877991823",
                  "0.33672811995978763",
                  "-0.7700546993294244"
                ],
                [
                  "('Cameroon', np.int64(25))",
                  "26",
                  "13",
                  "Cameroon",
                  "Switzerland",
                  "G",
                  "0",
                  "46",
                  "0",
                  "0",
                  "0",
                  "7",
                  "3",
                  "2",
                  "6",
                  "1",
                  "9",
                  "12",
                  "3",
                  "5",
                  "18",
                  "103",
                  "5",
                  "182",
                  "103",
                  "16",
                  "4",
                  "1",
                  "0",
                  "10",
                  "2",
                  "500",
                  "424",
                  "20",
                  "4",
                  "5",
                  "14",
                  "0",
                  "0",
                  "1.0897127288785045",
                  "1.1394819369509566",
                  "0.788941603160895",
                  "0.9577042613611466"
                ],
                [
                  "('Cameroon', np.int64(56))",
                  "57",
                  "29",
                  "Cameroon",
                  "Serbia",
                  "G",
                  "3",
                  "38",
                  "3",
                  "0",
                  "3",
                  "13",
                  "8",
                  "3",
                  "9",
                  "4",
                  "5",
                  "3",
                  "5",
                  "4",
                  "15",
                  "80",
                  "15",
                  "173",
                  "78",
                  "22",
                  "12",
                  "2",
                  "0",
                  "8",
                  "0",
                  "364",
                  "271",
                  "20",
                  "1",
                  "4",
                  "17",
                  "0",
                  "1",
                  "-0.21410777957436866",
                  "-0.40792104843510546",
                  "0.3357198311322955",
                  "-1.0375129498079088"
                ],
                [
                  "('Cameroon', np.int64(94))",
                  "95",
                  "48",
                  "Cameroon",
                  "Brazil",
                  "G",
                  "1",
                  "31",
                  "1",
                  "0",
                  "1",
                  "7",
                  "3",
                  "3",
                  "5",
                  "2",
                  "8",
                  "8",
                  "4",
                  "4",
                  "9",
                  "73",
                  "9",
                  "144",
                  "92",
                  "16",
                  "7",
                  "5",
                  "1",
                  "14",
                  "0",
                  "295",
                  "239",
                  "12",
                  "3",
                  "3",
                  "15",
                  "0",
                  "3",
                  "-0.8756049493041351",
                  "-0.7315608885158504",
                  "-1.1246614342931918",
                  "0.07980868844676221"
                ],
                [
                  "('Canada', np.int64(23))",
                  "24",
                  "12",
                  "Canada",
                  "Belgium",
                  "F",
                  "0",
                  "43",
                  "0",
                  "0",
                  "0",
                  "21",
                  "4",
                  "12",
                  "16",
                  "5",
                  "17",
                  "6",
                  "8",
                  "5",
                  "20",
                  "117",
                  "15",
                  "176",
                  "123",
                  "23",
                  "13",
                  "2",
                  "0",
                  "14",
                  "1",
                  "448",
                  "382",
                  "19",
                  "6",
                  "4",
                  "10",
                  "0",
                  "0",
                  "-1.1208970766356094",
                  "-1.0683053999599001",
                  "0.8652599458729285",
                  "1.0800164379495951"
                ],
                [
                  "('Canada', np.int64(53))",
                  "54",
                  "27",
                  "Canada",
                  "Croatia",
                  "F",
                  "1",
                  "45",
                  "1",
                  "0",
                  "1",
                  "8",
                  "2",
                  "3",
                  "1",
                  "7",
                  "8",
                  "4",
                  "3",
                  "4",
                  "13",
                  "46",
                  "5",
                  "102",
                  "70",
                  "2",
                  "1",
                  "2",
                  "0",
                  "5",
                  "3",
                  "514",
                  "440",
                  "18",
                  "5",
                  "2",
                  "14",
                  "0",
                  "0",
                  "0.32025630761017465",
                  "0.1546231499941956",
                  "-1.0948187070228899",
                  "-0.8938067072686304"
                ],
                [
                  "('Canada', np.int64(82))",
                  "83",
                  "42",
                  "Canada",
                  "Morocco",
                  "F",
                  "1",
                  "45",
                  "0",
                  "0",
                  "0",
                  "5",
                  "0",
                  "4",
                  "4",
                  "1",
                  "22",
                  "4",
                  "2",
                  "6",
                  "11",
                  "75",
                  "9",
                  "152",
                  "89",
                  "9",
                  "6",
                  "4",
                  "0",
                  "14",
                  "4",
                  "536",
                  "476",
                  "24",
                  "6",
                  "6",
                  "18",
                  "0",
                  "0",
                  "0.800640769025436",
                  "0.9136822499657034",
                  "0.22955876114996046",
                  "-0.18620973068096466"
                ],
                [
                  "('Costa Rica', np.int64(21))",
                  "22",
                  "11",
                  "Costa Rica",
                  "Spain",
                  "E",
                  "0",
                  "18",
                  "0",
                  "0",
                  "0",
                  "0",
                  "0",
                  "0",
                  "0",
                  "0",
                  "5",
                  "0",
                  "1",
                  "0",
                  "1",
                  "32",
                  "0",
                  "86",
                  "47",
                  "3",
                  "0",
                  "2",
                  "0",
                  "12",
                  "7",
                  "231",
                  "166",
                  "9",
                  "3",
                  "0",
                  "11",
                  "0",
                  "0",
                  "-1.0131779033236277",
                  "-0.9935907143960284",
                  "-1.1546055130292672",
                  "-1.0959910138035929"
                ],
                [
                  "('Costa Rica', np.int64(49))",
                  "50",
                  "25",
                  "Costa Rica",
                  "Japan",
                  "E",
                  "1",
                  "38",
                  "1",
                  "0",
                  "1",
                  "4",
                  "1",
                  "1",
                  "1",
                  "3",
                  "8",
                  "0",
                  "3",
                  "1",
                  "4",
                  "53",
                  "0",
                  "153",
                  "85",
                  "3",
                  "1",
                  "3",
                  "0",
                  "9",
                  "2",
                  "454",
                  "376",
                  "5",
                  "0",
                  "0",
                  "22",
                  "0",
                  "3",
                  "0.9862793749168057",
                  "1.0062883593084382",
                  "0.564473806369864",
                  "0.23318957740501994"
                ],
                [
                  "('Costa Rica', np.int64(86))",
                  "87",
                  "44",
                  "Costa Rica",
                  "Germany",
                  "E",
                  "2",
                  "26",
                  "1",
                  "0",
                  "0",
                  "7",
                  "5",
                  "1",
                  "5",
                  "2",
                  "7",
                  "5",
                  "3",
                  "1",
                  "1",
                  "118",
                  "10",
                  "154",
                  "103",
                  "13",
                  "7",
                  "1",
                  "0",
                  "3",
                  "4",
                  "347",
                  "269",
                  "12",
                  "3",
                  "1",
                  "12",
                  "0",
                  "0",
                  "0.026898528406821973",
                  "-0.01269764491240913",
                  "0.5901317066594033",
                  "0.8628014363985733"
                ],
                [
                  "('Croatia', np.int64(17))",
                  "18",
                  "9",
                  "Croatia",
                  "Morocco",
                  "F",
                  "0",
                  "53",
                  "0",
                  "0",
                  "0",
                  "7",
                  "2",
                  "2",
                  "5",
                  "2",
                  "12",
                  "3",
                  "6",
                  "5",
                  "7",
                  "84",
                  "9",
                  "192",
                  "129",
                  "8",
                  "2",
                  "0",
                  "0",
                  "11",
                  "1",
                  "670",
                  "601",
                  "23",
                  "3",
                  "5",
                  "17",
                  "0",
                  "1",
                  "0.5726577201720259",
                  "0.6674134516960187",
                  "-0.041939795711916306",
                  "-0.11622669888257693"
                ],
                [
                  "('Croatia', np.int64(52))",
                  "53",
                  "27",
                  "Croatia",
                  "Canada",
                  "F",
                  "4",
                  "39",
                  "3",
                  "1",
                  "4",
                  "13",
                  "10",
                  "3",
                  "9",
                  "4",
                  "7",
                  "3",
                  "3",
                  "3",
                  "3",
                  "43",
                  "8",
                  "97",
                  "55",
                  "7",
                  "2",
                  "2",
                  "0",
                  "13",
                  "1",
                  "461",
                  "390",
                  "31",
                  "8",
                  "5",
                  "8",
                  "0",
                  "3",
                  "-1.441280367836805",
                  "-1.5183286062973724",
                  "-1.785062554988444",
                  "-1.8363818423447156"
                ],
                [
                  "('Croatia', np.int64(80))",
                  "81",
                  "41",
                  "Croatia",
                  "Belgium",
                  "F",
                  "0",
                  "46",
                  "0",
                  "0",
                  "0",
                  "11",
                  "4",
                  "6",
                  "7",
                  "4",
                  "23",
                  "7",
                  "3",
                  "2",
                  "12",
                  "120",
                  "17",
                  "226",
                  "178",
                  "14",
                  "8",
                  "0",
                  "0",
                  "7",
                  "4",
                  "589",
                  "519",
                  "28",
                  "7",
                  "2",
                  "9",
                  "0",
                  "1",
                  "-0.20786373977398032",
                  "-0.18202185046255037",
                  "0.581914665502841",
                  "1.022794950166677"
                ],
                [
                  "('Croatia', np.int64(105))",
                  "106",
                  "53",
                  "Croatia",
                  "Japan",
                  "F",
                  "1",
                  "50",
                  "1",
                  "0",
                  "1",
                  "17",
                  "4",
                  "6",
                  "10",
                  "7",
                  "18",
                  "7",
                  "9",
                  "6",
                  "28",
                  "112",
                  "16",
                  "259",
                  "153",
                  "12",
                  "8",
                  "2",
                  "0",
                  "16",
                  "0",
                  "724",
                  "633",
                  "53",
                  "25",
                  "5",
                  "16",
                  "3",
                  "3",
                  "1.09300536013603",
                  "0.9989003988798506",
                  "1.1874204660936347",
                  "0.44166145575379234"
                ],
                [
                  "('Croatia', np.int64(112))",
                  "113",
                  "57",
                  "Croatia",
                  "Brazil",
                  "F",
                  "1",
                  "45",
                  "1",
                  "0",
                  "1",
                  "9",
                  "1",
                  "4",
                  "5",
                  "4",
                  "19",
                  "4",
                  "2",
                  "5",
                  "27",
                  "131",
                  "10",
                  "240",
                  "180",
                  "16",
                  "10",
                  "2",
                  "0",
                  "22",
                  "3",
                  "715",
                  "632",
                  "22",
                  "5",
                  "3",
                  "27",
                  "4",
                  "3",
                  "1.0062807534753626",
                  "0.9885414317803559",
                  "0.8387959142383292",
                  "1.0692856297197078"
                ],
                [
                  "('Croatia', np.int64(121))",
                  "122",
                  "61",
                  "Croatia",
                  "Argentina",
                  "F",
                  "0",
                  "54",
                  "0",
                  "0",
                  "0",
                  "12",
                  "3",
                  "7",
                  "6",
                  "6",
                  "18",
                  "6",
                  "7",
                  "4",
                  "8",
                  "108",
                  "3",
                  "182",
                  "129",
                  "9",
                  "1",
                  "2",
                  "0",
                  "8",
                  "0",
                  "624",
                  "551",
                  "20",
                  "4",
                  "4",
                  "16",
                  "0",
                  "0",
                  "0.12939861946194828",
                  "0.1494650967212815",
                  "-0.2254264019515508",
                  "-0.11622669888257693"
                ],
                [
                  "('Croatia', np.int64(124))",
                  "125",
                  "63",
                  "Croatia",
                  "Morocco",
                  "F",
                  "2",
                  "45",
                  "2",
                  "0",
                  "2",
                  "14",
                  "4",
                  "8",
                  "7",
                  "7",
                  "20",
                  "8",
                  "3",
                  "2",
                  "7",
                  "106",
                  "15",
                  "164",
                  "114",
                  "23",
                  "12",
                  "0",
                  "0",
                  "13",
                  "2",
                  "491",
                  "430",
                  "21",
                  "3",
                  "6",
                  "13",
                  "0",
                  "3",
                  "-1.1521983456345803",
                  "-1.1039699223175827",
                  "-0.5557022931828929",
                  "-0.4649067955303077"
                ],
                [
                  "('Denmark', np.int64(10))",
                  "11",
                  "6",
                  "Denmark",
                  "Tunisia",
                  "D",
                  "0",
                  "50",
                  "0",
                  "0",
                  "0",
                  "12",
                  "6",
                  "4",
                  "7",
                  "5",
                  "17",
                  "4",
                  "7",
                  "6",
                  "18",
                  "108",
                  "12",
                  "207",
                  "147",
                  "9",
                  "6",
                  "2",
                  "0",
                  "9",
                  "1",
                  "602",
                  "532",
                  "34",
                  "15",
                  "11",
                  "11",
                  "0",
                  "1",
                  "0.0999187841685248",
                  "0.16839306718964575",
                  "0.0",
                  "-0.16495721976846497"
                ],
                [
                  "('Denmark', np.int64(45))",
                  "46",
                  "23",
                  "Denmark",
                  "France",
                  "D",
                  "1",
                  "44",
                  "1",
                  "0",
                  "1",
                  "10",
                  "2",
                  "6",
                  "5",
                  "5",
                  "13",
                  "5",
                  "3",
                  "4",
                  "25",
                  "105",
                  "17",
                  "173",
                  "132",
                  "23",
                  "15",
                  "2",
                  "0",
                  "9",
                  "1",
                  "537",
                  "473",
                  "18",
                  "4",
                  "4",
                  "5",
                  "0",
                  "0",
                  "-1.0462084459998555",
                  "-1.0735058033339917",
                  "-1.0",
                  "-0.9072647087265552"
                ],
                [
                  "('Denmark', np.int64(73))",
                  "74",
                  "37",
                  "Denmark",
                  "Australia",
                  "D",
                  "0",
                  "60",
                  "0",
                  "0",
                  "0",
                  "14",
                  "3",
                  "7",
                  "11",
                  "3",
                  "27",
                  "5",
                  "4",
                  "6",
                  "19",
                  "130",
                  "17",
                  "241",
                  "172",
                  "21",
                  "17",
                  "1",
                  "0",
                  "10",
                  "3",
                  "650",
                  "567",
                  "32",
                  "5",
                  "6",
                  "12",
                  "0",
                  "0",
                  "0.9462896618313288",
                  "0.905112736144346",
                  "1.0",
                  "1.0722219284950187"
                ],
                [
                  "('Ecuador', np.int64(1))",
                  "2",
                  "1",
                  "Ecuador",
                  "Qatar",
                  "A",
                  "2",
                  "46",
                  "2",
                  "0",
                  "1",
                  "5",
                  "5",
                  "2",
                  "4",
                  "1",
                  "8",
                  "7",
                  "6",
                  "4",
                  "6",
                  "55",
                  "10",
                  "159",
                  "103",
                  "6",
                  "4",
                  "2",
                  "0",
                  "15",
                  "4",
                  "484",
                  "419",
                  "26",
                  "10",
                  "3",
                  "17",
                  "1",
                  "3",
                  "1.0858755590513685",
                  "1.123094979157362",
                  "-0.039193090083480465",
                  "0.8176235608718829"
                ],
                [
                  "('Ecuador', np.int64(37))",
                  "38",
                  "19",
                  "Ecuador",
                  "Netherlands",
                  "A",
                  "1",
                  "36",
                  "1",
                  "0",
                  "0",
                  "14",
                  "4",
                  "5",
                  "9",
                  "5",
                  "10",
                  "5",
                  "2",
                  "5",
                  "4",
                  "77",
                  "8",
                  "177",
                  "96",
                  "13",
                  "7",
                  "1",
                  "0",
                  "12",
                  "4",
                  "429",
                  "353",
                  "26",
                  "8",
                  "5",
                  "16",
                  "0",
                  "1",
                  "-0.8830196853824327",
                  "-0.7939119680250308",
                  "1.019020342170507",
                  "0.29731765849886654"
                ],
                [
                  "('Ecuador', np.int64(66))",
                  "67",
                  "34",
                  "Ecuador",
                  "Senegal",
                  "A",
                  "1",
                  "46",
                  "1",
                  "0",
                  "1",
                  "8",
                  "4",
                  "2",
                  "5",
                  "3",
                  "13",
                  "3",
                  "1",
                  "6",
                  "6",
                  "67",
                  "1",
                  "143",
                  "77",
                  "3",
                  "1",
                  "0",
                  "0",
                  "23",
                  "0",
                  "448",
                  "369",
                  "20",
                  "6",
                  "3",
                  "14",
                  "0",
                  "0",
                  "-0.20285587366893776",
                  "-0.3291830111323295",
                  "-0.9798272520870249",
                  "-1.1149412193707495"
                ],
                [
                  "('England', np.int64(2))",
                  "3",
                  "2",
                  "England",
                  "Iran",
                  "B",
                  "6",
                  "69",
                  "6",
                  "0",
                  "6",
                  "13",
                  "7",
                  "3",
                  "10",
                  "3",
                  "11",
                  "5",
                  "2",
                  "3",
                  "11",
                  "72",
                  "15",
                  "133",
                  "94",
                  "8",
                  "6",
                  "0",
                  "0",
                  "9",
                  "2",
                  "810",
                  "733",
                  "29",
                  "9",
                  "8",
                  "16",
                  "0",
                  "3",
                  "1.7058443670113492",
                  "1.7180119203089275",
                  "-1.172641461906948",
                  "-1.3349041550113758"
                ],
                [
                  "('England', np.int64(38))",
                  "39",
                  "20",
                  "England",
                  "United States",
                  "B",
                  "0",
                  "51",
                  "0",
                  "0",
                  "0",
                  "8",
                  "3",
                  "4",
                  "6",
                  "2",
                  "11",
                  "2",
                  "7",
                  "5",
                  "11",
                  "102",
                  "10",
                  "208",
                  "147",
                  "23",
                  "10",
                  "0",
                  "0",
                  "9",
                  "1",
                  "550",
                  "488",
                  "13",
                  "4",
                  "3",
                  "15",
                  "0",
                  "1",
                  "-0.5184261215691465",
                  "-0.5232709363241254",
                  "1.354603068064922",
                  "1.2100570038232619"
                ],
                [
                  "('England', np.int64(69))",
                  "70",
                  "35",
                  "England",
                  "Wales",
                  "B",
                  "3",
                  "58",
                  "2",
                  "1",
                  "2",
                  "17",
                  "7",
                  "6",
                  "13",
                  "4",
                  "10",
                  "4",
                  "7",
                  "12",
                  "9",
                  "97",
                  "9",
                  "167",
                  "131",
                  "13",
                  "8",
                  "0",
                  "0",
                  "9",
                  "1",
                  "588",
                  "529",
                  "17",
                  "7",
                  "6",
                  "17",
                  "0",
                  "3",
                  "-0.1933404347766125",
                  "-0.1481991113365533",
                  "-0.026957274986366995",
                  "0.4417668426656354"
                ],
                [
                  "('England', np.int64(102))",
                  "103",
                  "52",
                  "England",
                  "Senegal",
                  "B",
                  "3",
                  "54",
                  "3",
                  "0",
                  "3",
                  "8",
                  "4",
                  "4",
                  "7",
                  "1",
                  "17",
                  "6",
                  "2",
                  "2",
                  "13",
                  "114",
                  "11",
                  "184",
                  "129",
                  "16",
                  "12",
                  "0",
                  "0",
                  "16",
                  "0",
                  "597",
                  "523",
                  "19",
                  "7",
                  "3",
                  "12",
                  "0",
                  "3",
                  "-0.11634645632574919",
                  "-0.20308767109083214",
                  "0.5458848184739236",
                  "0.34573057252093203"
                ],
                [
                  "('England', np.int64(118))",
                  "119",
                  "60",
                  "England",
                  "France",
                  "B",
                  "1",
                  "54",
                  "1",
                  "0",
                  "0",
                  "14",
                  "6",
                  "4",
                  "6",
                  "8",
                  "17",
                  "6",
                  "4",
                  "2",
                  "10",
                  "88",
                  "8",
                  "147",
                  "108",
                  "13",
                  "10",
                  "1",
                  "0",
                  "10",
                  "1",
                  "508",
                  "453",
                  "22",
                  "5",
                  "5",
                  "14",
                  "1",
                  "0",
                  "-0.877731354339842",
                  "-0.8434542015574187",
                  "-0.7008891496455323",
                  "-0.6626502639984527"
                ],
                [
                  "('France', np.int64(14))",
                  "15",
                  "8",
                  "France",
                  "Australia",
                  "D",
                  "4",
                  "56",
                  "4",
                  "0",
                  "4",
                  "22",
                  "7",
                  "9",
                  "18",
                  "4",
                  "30",
                  "6",
                  "3",
                  "8",
                  "19",
                  "106",
                  "26",
                  "173",
                  "135",
                  "32",
                  "27",
                  "0",
                  "0",
                  "5",
                  "0",
                  "734",
                  "672",
                  "34",
                  "17",
                  "8",
                  "11",
                  "0",
                  "3",
                  "1.571018948298315",
                  "1.6357066318085147",
                  "0.8675153189671523",
                  "1.8359666469088693"
                ],
                [
                  "('France', np.int64(44))",
                  "45",
                  "23",
                  "France",
                  "Denmark",
                  "D",
                  "2",
                  "44",
                  "2",
                  "0",
                  "2",
                  "21",
                  "6",
                  "8",
                  "16",
                  "5",
                  "15",
                  "7",
                  "4",
                  "1",
                  "13",
                  "105",
                  "11",
                  "155",
                  "105",
                  "16",
                  "12",
                  "1",
                  "0",
                  "4",
                  "1",
                  "503",
                  "437",
                  "23",
                  "12",
                  "6",
                  "10",
                  "0",
                  "3",
                  "-0.14310901350895622",
                  "-0.14388160187204527",
                  "0.026692779045143698",
                  "0.0509990735252466"
                ],
                [
                  "('France', np.int64(75))",
                  "76",
                  "38",
                  "France",
                  "Tunisia",
                  "D",
                  "0",
                  "56",
                  "0",
                  "0",
                  "0",
                  "9",
                  "3",
                  "4",
                  "4",
                  "5",
                  "14",
                  "6",
                  "5",
                  "3",
                  "21",
                  "101",
                  "11",
                  "138",
                  "99",
                  "10",
                  "4",
                  "0",
                  "0",
                  "6",
                  "2",
                  "636",
                  "566",
                  "20",
                  "5",
                  "8",
                  "17",
                  "0",
                  "0",
                  "0.8438131463194727",
                  "0.8329987476802622",
                  "-0.7674173975478644",
                  "-0.30599444115147795"
                ],
                [
                  "('France', np.int64(100))",
                  "101",
                  "51",
                  "France",
                  "Poland",
                  "D",
                  "3",
                  "48",
                  "3",
                  "0",
                  "3",
                  "16",
                  "7",
                  "7",
                  "10",
                  "6",
                  "15",
                  "7",
                  "2",
                  "9",
                  "19",
                  "113",
                  "14",
                  "174",
                  "111",
                  "26",
                  "14",
                  "1",
                  "0",
                  "10",
                  "3",
                  "540",
                  "481",
                  "27",
                  "4",
                  "7",
                  "8",
                  "0",
                  "3",
                  "0.13144827907489243",
                  "0.18931789720005957",
                  "0.9142276822961528",
                  "0.40799258820197115"
                ]
              ],
              "shape": {
                "columns": 42,
                "rows": 128
              }
            },
            "text/html": [
              "<div>\n",
              "<style scoped>\n",
              "    .dataframe tbody tr th:only-of-type {\n",
              "        vertical-align: middle;\n",
              "    }\n",
              "\n",
              "    .dataframe tbody tr th {\n",
              "        vertical-align: top;\n",
              "    }\n",
              "\n",
              "    .dataframe thead th {\n",
              "        text-align: right;\n",
              "    }\n",
              "</style>\n",
              "<table border=\"1\" class=\"dataframe\">\n",
              "  <thead>\n",
              "    <tr style=\"text-align: right;\">\n",
              "      <th></th>\n",
              "      <th></th>\n",
              "      <th>Sl. No</th>\n",
              "      <th>Match No.</th>\n",
              "      <th>Team</th>\n",
              "      <th>Against</th>\n",
              "      <th>Group</th>\n",
              "      <th>Goal</th>\n",
              "      <th>Possession (%)</th>\n",
              "      <th>Inside Penalty Area</th>\n",
              "      <th>Outside Penalty Area</th>\n",
              "      <th>Assists</th>\n",
              "      <th>...</th>\n",
              "      <th>Crosses</th>\n",
              "      <th>Crosses Completed</th>\n",
              "      <th>Corners</th>\n",
              "      <th>Free Kicks</th>\n",
              "      <th>Penalties Scored</th>\n",
              "      <th>Pts</th>\n",
              "      <th>Passes_z_norm</th>\n",
              "      <th>Passes Completed_z_norm</th>\n",
              "      <th>Attempted Line Breaks_z_norm</th>\n",
              "      <th>Completed Line Breaks_z_norm</th>\n",
              "    </tr>\n",
              "    <tr>\n",
              "      <th>Team</th>\n",
              "      <th></th>\n",
              "      <th></th>\n",
              "      <th></th>\n",
              "      <th></th>\n",
              "      <th></th>\n",
              "      <th></th>\n",
              "      <th></th>\n",
              "      <th></th>\n",
              "      <th></th>\n",
              "      <th></th>\n",
              "      <th></th>\n",
              "      <th></th>\n",
              "      <th></th>\n",
              "      <th></th>\n",
              "      <th></th>\n",
              "      <th></th>\n",
              "      <th></th>\n",
              "      <th></th>\n",
              "      <th></th>\n",
              "      <th></th>\n",
              "      <th></th>\n",
              "      <th></th>\n",
              "    </tr>\n",
              "  </thead>\n",
              "  <tbody>\n",
              "    <tr>\n",
              "      <th rowspan=\"5\" valign=\"top\">Argentina</th>\n",
              "      <th>8</th>\n",
              "      <td>9</td>\n",
              "      <td>5</td>\n",
              "      <td>Argentina</td>\n",
              "      <td>Saudi Arabia</td>\n",
              "      <td>C</td>\n",
              "      <td>1</td>\n",
              "      <td>51</td>\n",
              "      <td>1</td>\n",
              "      <td>0</td>\n",
              "      <td>0</td>\n",
              "      <td>...</td>\n",
              "      <td>36</td>\n",
              "      <td>15</td>\n",
              "      <td>9</td>\n",
              "      <td>21</td>\n",
              "      <td>1</td>\n",
              "      <td>0</td>\n",
              "      <td>-0.208138</td>\n",
              "      <td>-0.157888</td>\n",
              "      <td>0.364745</td>\n",
              "      <td>0.087403</td>\n",
              "    </tr>\n",
              "    <tr>\n",
              "      <th>46</th>\n",
              "      <td>47</td>\n",
              "      <td>24</td>\n",
              "      <td>Argentina</td>\n",
              "      <td>Mexico</td>\n",
              "      <td>C</td>\n",
              "      <td>2</td>\n",
              "      <td>50</td>\n",
              "      <td>1</td>\n",
              "      <td>1</td>\n",
              "      <td>2</td>\n",
              "      <td>...</td>\n",
              "      <td>14</td>\n",
              "      <td>2</td>\n",
              "      <td>4</td>\n",
              "      <td>23</td>\n",
              "      <td>0</td>\n",
              "      <td>3</td>\n",
              "      <td>-0.630447</td>\n",
              "      <td>-0.574048</td>\n",
              "      <td>-0.795806</td>\n",
              "      <td>-0.945040</td>\n",
              "    </tr>\n",
              "    <tr>\n",
              "      <th>77</th>\n",
              "      <td>78</td>\n",
              "      <td>39</td>\n",
              "      <td>Argentina</td>\n",
              "      <td>Poland</td>\n",
              "      <td>C</td>\n",
              "      <td>2</td>\n",
              "      <td>67</td>\n",
              "      <td>1</td>\n",
              "      <td>1</td>\n",
              "      <td>2</td>\n",
              "      <td>...</td>\n",
              "      <td>22</td>\n",
              "      <td>5</td>\n",
              "      <td>9</td>\n",
              "      <td>5</td>\n",
              "      <td>0</td>\n",
              "      <td>3</td>\n",
              "      <td>1.685214</td>\n",
              "      <td>1.813757</td>\n",
              "      <td>-1.027917</td>\n",
              "      <td>0.049164</td>\n",
              "    </tr>\n",
              "    <tr>\n",
              "      <th>98</th>\n",
              "      <td>99</td>\n",
              "      <td>50</td>\n",
              "      <td>Argentina</td>\n",
              "      <td>Australia</td>\n",
              "      <td>C</td>\n",
              "      <td>2</td>\n",
              "      <td>53</td>\n",
              "      <td>2</td>\n",
              "      <td>0</td>\n",
              "      <td>1</td>\n",
              "      <td>...</td>\n",
              "      <td>6</td>\n",
              "      <td>1</td>\n",
              "      <td>1</td>\n",
              "      <td>15</td>\n",
              "      <td>0</td>\n",
              "      <td>3</td>\n",
              "      <td>0.622403</td>\n",
              "      <td>0.592566</td>\n",
              "      <td>0.003684</td>\n",
              "      <td>0.393311</td>\n",
              "    </tr>\n",
              "    <tr>\n",
              "      <th>115</th>\n",
              "      <td>116</td>\n",
              "      <td>58</td>\n",
              "      <td>Argentina</td>\n",
              "      <td>Netherlands</td>\n",
              "      <td>C</td>\n",
              "      <td>2</td>\n",
              "      <td>44</td>\n",
              "      <td>2</td>\n",
              "      <td>0</td>\n",
              "      <td>1</td>\n",
              "      <td>...</td>\n",
              "      <td>16</td>\n",
              "      <td>4</td>\n",
              "      <td>8</td>\n",
              "      <td>30</td>\n",
              "      <td>5</td>\n",
              "      <td>3</td>\n",
              "      <td>-0.137753</td>\n",
              "      <td>-0.253400</td>\n",
              "      <td>0.571065</td>\n",
              "      <td>-0.103791</td>\n",
              "    </tr>\n",
              "    <tr>\n",
              "      <th>...</th>\n",
              "      <th>...</th>\n",
              "      <td>...</td>\n",
              "      <td>...</td>\n",
              "      <td>...</td>\n",
              "      <td>...</td>\n",
              "      <td>...</td>\n",
              "      <td>...</td>\n",
              "      <td>...</td>\n",
              "      <td>...</td>\n",
              "      <td>...</td>\n",
              "      <td>...</td>\n",
              "      <td>...</td>\n",
              "      <td>...</td>\n",
              "      <td>...</td>\n",
              "      <td>...</td>\n",
              "      <td>...</td>\n",
              "      <td>...</td>\n",
              "      <td>...</td>\n",
              "      <td>...</td>\n",
              "      <td>...</td>\n",
              "      <td>...</td>\n",
              "      <td>...</td>\n",
              "    </tr>\n",
              "    <tr>\n",
              "      <th rowspan=\"2\" valign=\"top\">Uruguay</th>\n",
              "      <th>63</th>\n",
              "      <td>64</td>\n",
              "      <td>32</td>\n",
              "      <td>Uruguay</td>\n",
              "      <td>Portugal</td>\n",
              "      <td>H</td>\n",
              "      <td>0</td>\n",
              "      <td>35</td>\n",
              "      <td>0</td>\n",
              "      <td>0</td>\n",
              "      <td>0</td>\n",
              "      <td>...</td>\n",
              "      <td>18</td>\n",
              "      <td>5</td>\n",
              "      <td>2</td>\n",
              "      <td>13</td>\n",
              "      <td>0</td>\n",
              "      <td>0</td>\n",
              "      <td>-0.931702</td>\n",
              "      <td>-0.894617</td>\n",
              "      <td>-0.484182</td>\n",
              "      <td>-0.623480</td>\n",
              "    </tr>\n",
              "    <tr>\n",
              "      <th>89</th>\n",
              "      <td>90</td>\n",
              "      <td>45</td>\n",
              "      <td>Uruguay</td>\n",
              "      <td>Ghana</td>\n",
              "      <td>H</td>\n",
              "      <td>2</td>\n",
              "      <td>39</td>\n",
              "      <td>2</td>\n",
              "      <td>0</td>\n",
              "      <td>1</td>\n",
              "      <td>...</td>\n",
              "      <td>15</td>\n",
              "      <td>4</td>\n",
              "      <td>2</td>\n",
              "      <td>20</td>\n",
              "      <td>0</td>\n",
              "      <td>3</td>\n",
              "      <td>-0.124867</td>\n",
              "      <td>-0.184945</td>\n",
              "      <td>1.149932</td>\n",
              "      <td>1.153437</td>\n",
              "    </tr>\n",
              "    <tr>\n",
              "      <th rowspan=\"3\" valign=\"top\">Wales</th>\n",
              "      <th>7</th>\n",
              "      <td>8</td>\n",
              "      <td>4</td>\n",
              "      <td>Wales</td>\n",
              "      <td>United States</td>\n",
              "      <td>B</td>\n",
              "      <td>1</td>\n",
              "      <td>39</td>\n",
              "      <td>1</td>\n",
              "      <td>0</td>\n",
              "      <td>0</td>\n",
              "      <td>...</td>\n",
              "      <td>15</td>\n",
              "      <td>6</td>\n",
              "      <td>3</td>\n",
              "      <td>15</td>\n",
              "      <td>1</td>\n",
              "      <td>1</td>\n",
              "      <td>-0.054584</td>\n",
              "      <td>-0.139325</td>\n",
              "      <td>0.226294</td>\n",
              "      <td>0.195342</td>\n",
              "    </tr>\n",
              "    <tr>\n",
              "      <th>32</th>\n",
              "      <td>33</td>\n",
              "      <td>17</td>\n",
              "      <td>Wales</td>\n",
              "      <td>Iran</td>\n",
              "      <td>B</td>\n",
              "      <td>0</td>\n",
              "      <td>51</td>\n",
              "      <td>0</td>\n",
              "      <td>0</td>\n",
              "      <td>0</td>\n",
              "      <td>...</td>\n",
              "      <td>20</td>\n",
              "      <td>5</td>\n",
              "      <td>2</td>\n",
              "      <td>12</td>\n",
              "      <td>0</td>\n",
              "      <td>1</td>\n",
              "      <td>1.026174</td>\n",
              "      <td>1.062357</td>\n",
              "      <td>0.867461</td>\n",
              "      <td>0.887916</td>\n",
              "    </tr>\n",
              "    <tr>\n",
              "      <th>68</th>\n",
              "      <td>69</td>\n",
              "      <td>35</td>\n",
              "      <td>Wales</td>\n",
              "      <td>England</td>\n",
              "      <td>B</td>\n",
              "      <td>0</td>\n",
              "      <td>33</td>\n",
              "      <td>0</td>\n",
              "      <td>0</td>\n",
              "      <td>0</td>\n",
              "      <td>...</td>\n",
              "      <td>4</td>\n",
              "      <td>1</td>\n",
              "      <td>1</td>\n",
              "      <td>10</td>\n",
              "      <td>0</td>\n",
              "      <td>0</td>\n",
              "      <td>-0.971590</td>\n",
              "      <td>-0.923031</td>\n",
              "      <td>-1.093756</td>\n",
              "      <td>-1.083258</td>\n",
              "    </tr>\n",
              "  </tbody>\n",
              "</table>\n",
              "<p>128 rows × 42 columns</p>\n",
              "</div>"
            ],
            "text/plain": [
              "               Sl. No  Match No.       Team        Against Group  Goal  \\\n",
              "Team                                                                     \n",
              "Argentina 8         9          5  Argentina   Saudi Arabia     C     1   \n",
              "          46       47         24  Argentina         Mexico     C     2   \n",
              "          77       78         39  Argentina         Poland     C     2   \n",
              "          98       99         50  Argentina      Australia     C     2   \n",
              "          115     116         58  Argentina    Netherlands     C     2   \n",
              "...               ...        ...        ...            ...   ...   ...   \n",
              "Uruguay   63       64         32    Uruguay       Portugal     H     0   \n",
              "          89       90         45    Uruguay          Ghana     H     2   \n",
              "Wales     7         8          4      Wales  United States     B     1   \n",
              "          32       33         17      Wales           Iran     B     0   \n",
              "          68       69         35      Wales        England     B     0   \n",
              "\n",
              "               Possession (%)  Inside Penalty Area  Outside Penalty Area  \\\n",
              "Team                                                                       \n",
              "Argentina 8                51                    1                     0   \n",
              "          46               50                    1                     1   \n",
              "          77               67                    1                     1   \n",
              "          98               53                    2                     0   \n",
              "          115              44                    2                     0   \n",
              "...                       ...                  ...                   ...   \n",
              "Uruguay   63               35                    0                     0   \n",
              "          89               39                    2                     0   \n",
              "Wales     7                39                    1                     0   \n",
              "          32               51                    0                     0   \n",
              "          68               33                    0                     0   \n",
              "\n",
              "               Assists  ...  Crosses  Crosses Completed  Corners  Free Kicks  \\\n",
              "Team                    ...                                                    \n",
              "Argentina 8          0  ...       36                 15        9          21   \n",
              "          46         2  ...       14                  2        4          23   \n",
              "          77         2  ...       22                  5        9           5   \n",
              "          98         1  ...        6                  1        1          15   \n",
              "          115        1  ...       16                  4        8          30   \n",
              "...                ...  ...      ...                ...      ...         ...   \n",
              "Uruguay   63         0  ...       18                  5        2          13   \n",
              "          89         1  ...       15                  4        2          20   \n",
              "Wales     7          0  ...       15                  6        3          15   \n",
              "          32         0  ...       20                  5        2          12   \n",
              "          68         0  ...        4                  1        1          10   \n",
              "\n",
              "               Penalties Scored  Pts  Passes_z_norm  Passes Completed_z_norm  \\\n",
              "Team                                                                           \n",
              "Argentina 8                   1    0      -0.208138                -0.157888   \n",
              "          46                  0    3      -0.630447                -0.574048   \n",
              "          77                  0    3       1.685214                 1.813757   \n",
              "          98                  0    3       0.622403                 0.592566   \n",
              "          115                 5    3      -0.137753                -0.253400   \n",
              "...                         ...  ...            ...                      ...   \n",
              "Uruguay   63                  0    0      -0.931702                -0.894617   \n",
              "          89                  0    3      -0.124867                -0.184945   \n",
              "Wales     7                   1    1      -0.054584                -0.139325   \n",
              "          32                  0    1       1.026174                 1.062357   \n",
              "          68                  0    0      -0.971590                -0.923031   \n",
              "\n",
              "               Attempted Line Breaks_z_norm  Completed Line Breaks_z_norm  \n",
              "Team                                                                       \n",
              "Argentina 8                        0.364745                      0.087403  \n",
              "          46                      -0.795806                     -0.945040  \n",
              "          77                      -1.027917                      0.049164  \n",
              "          98                       0.003684                      0.393311  \n",
              "          115                      0.571065                     -0.103791  \n",
              "...                                     ...                           ...  \n",
              "Uruguay   63                      -0.484182                     -0.623480  \n",
              "          89                       1.149932                      1.153437  \n",
              "Wales     7                        0.226294                      0.195342  \n",
              "          32                       0.867461                      0.887916  \n",
              "          68                      -1.093756                     -1.083258  \n",
              "\n",
              "[128 rows x 42 columns]"
            ]
          },
          "execution_count": 127,
          "metadata": {},
          "output_type": "execute_result"
        }
      ],
      "source": [
        "groups"
      ]
    },
    {
      "cell_type": "code",
      "execution_count": 121,
      "metadata": {},
      "outputs": [
        {
          "data": {
            "application/vnd.microsoft.datawrangler.viewer.v0+json": {
              "columns": [
                {
                  "name": "index",
                  "rawType": "object",
                  "type": "string"
                },
                {
                  "name": "Passes",
                  "rawType": "float64",
                  "type": "float"
                },
                {
                  "name": "Yellow Cards",
                  "rawType": "float64",
                  "type": "float"
                },
                {
                  "name": "Attempted Line Breaks",
                  "rawType": "float64",
                  "type": "float"
                },
                {
                  "name": "Possession (%)",
                  "rawType": "float64",
                  "type": "float"
                }
              ],
              "ref": "8bc829ce-5154-4be1-8dcc-3e90026469a3",
              "rows": [
                [
                  "min",
                  "225.0",
                  "0.0",
                  "56.0",
                  null
                ],
                [
                  "max",
                  "1070.0",
                  "8.0",
                  "259.0",
                  null
                ],
                [
                  "mean",
                  null,
                  "1.7265625",
                  null,
                  "43.4765625"
                ],
                [
                  "std",
                  null,
                  null,
                  "34.120660723218364",
                  null
                ]
              ],
              "shape": {
                "columns": 4,
                "rows": 4
              }
            },
            "text/html": [
              "<div>\n",
              "<style scoped>\n",
              "    .dataframe tbody tr th:only-of-type {\n",
              "        vertical-align: middle;\n",
              "    }\n",
              "\n",
              "    .dataframe tbody tr th {\n",
              "        vertical-align: top;\n",
              "    }\n",
              "\n",
              "    .dataframe thead th {\n",
              "        text-align: right;\n",
              "    }\n",
              "</style>\n",
              "<table border=\"1\" class=\"dataframe\">\n",
              "  <thead>\n",
              "    <tr style=\"text-align: right;\">\n",
              "      <th></th>\n",
              "      <th>Passes</th>\n",
              "      <th>Yellow Cards</th>\n",
              "      <th>Attempted Line Breaks</th>\n",
              "      <th>Possession (%)</th>\n",
              "    </tr>\n",
              "  </thead>\n",
              "  <tbody>\n",
              "    <tr>\n",
              "      <th>min</th>\n",
              "      <td>225.0</td>\n",
              "      <td>0.000000</td>\n",
              "      <td>56.000000</td>\n",
              "      <td>NaN</td>\n",
              "    </tr>\n",
              "    <tr>\n",
              "      <th>max</th>\n",
              "      <td>1070.0</td>\n",
              "      <td>8.000000</td>\n",
              "      <td>259.000000</td>\n",
              "      <td>NaN</td>\n",
              "    </tr>\n",
              "    <tr>\n",
              "      <th>mean</th>\n",
              "      <td>NaN</td>\n",
              "      <td>1.726562</td>\n",
              "      <td>NaN</td>\n",
              "      <td>43.476562</td>\n",
              "    </tr>\n",
              "    <tr>\n",
              "      <th>std</th>\n",
              "      <td>NaN</td>\n",
              "      <td>NaN</td>\n",
              "      <td>34.120661</td>\n",
              "      <td>NaN</td>\n",
              "    </tr>\n",
              "  </tbody>\n",
              "</table>\n",
              "</div>"
            ],
            "text/plain": [
              "      Passes  Yellow Cards  Attempted Line Breaks  Possession (%)\n",
              "min    225.0      0.000000              56.000000             NaN\n",
              "max   1070.0      8.000000             259.000000             NaN\n",
              "mean     NaN      1.726562                    NaN       43.476562\n",
              "std      NaN           NaN              34.120661             NaN"
            ]
          },
          "execution_count": 121,
          "metadata": {},
          "output_type": "execute_result"
        }
      ],
      "source": [
        "groups.agg({    \n",
        "    'Passes':['min','max'],\n",
        "    'Yellow Cards' : ['min','max','mean'],\n",
        "    'Attempted Line Breaks' : ['min','max','std'],\n",
        "    'Possession (%)':'mean'\n",
        "})\n"
      ]
    },
    {
      "cell_type": "markdown",
      "metadata": {
        "id": "RPjqA-OtOxDD"
      },
      "source": [
        "## **Questions on IPL wala dataset**\n",
        "\n",
        "ball by ball dataset - https://drive.google.com/file/d/1-kvv_9KCSAFWcrhS9WgTxSrURkRh6GNt/view?usp=share_link\n",
        "\n",
        "\n",
        "\n"
      ]
    },
    {
      "cell_type": "markdown",
      "metadata": {
        "id": "IeQpV8A2O0IR"
      },
      "source": [
        "###`Q-5:` Find batsman in below category-\n",
        "* Highest score while chasing\n",
        "* Best Strike rate while chasing and have faced 100+ balls\n",
        "\n",
        "\n",
        "> Chasing mean team batting in second inning"
      ]
    },
    {
      "cell_type": "code",
      "execution_count": 27,
      "metadata": {
        "id": "nwa-adpMOxl4"
      },
      "outputs": [
        {
          "data": {
            "application/vnd.microsoft.datawrangler.viewer.v0+json": {
              "columns": [
                {
                  "name": "index",
                  "rawType": "int64",
                  "type": "integer"
                },
                {
                  "name": "ID",
                  "rawType": "int64",
                  "type": "integer"
                },
                {
                  "name": "Team",
                  "rawType": "object",
                  "type": "string"
                },
                {
                  "name": "innings",
                  "rawType": "int64",
                  "type": "integer"
                },
                {
                  "name": "overs",
                  "rawType": "int64",
                  "type": "integer"
                },
                {
                  "name": "ballnumber",
                  "rawType": "int64",
                  "type": "integer"
                },
                {
                  "name": "batter",
                  "rawType": "object",
                  "type": "string"
                },
                {
                  "name": "bowler",
                  "rawType": "object",
                  "type": "string"
                },
                {
                  "name": "non-striker",
                  "rawType": "object",
                  "type": "string"
                },
                {
                  "name": "extra_type",
                  "rawType": "object",
                  "type": "unknown"
                },
                {
                  "name": "batsman_run",
                  "rawType": "int64",
                  "type": "integer"
                },
                {
                  "name": "extras_run",
                  "rawType": "int64",
                  "type": "integer"
                },
                {
                  "name": "total_run",
                  "rawType": "int64",
                  "type": "integer"
                },
                {
                  "name": "non_boundary",
                  "rawType": "int64",
                  "type": "integer"
                },
                {
                  "name": "isWicketDelivery",
                  "rawType": "int64",
                  "type": "integer"
                },
                {
                  "name": "player_out",
                  "rawType": "object",
                  "type": "unknown"
                },
                {
                  "name": "kind",
                  "rawType": "object",
                  "type": "unknown"
                },
                {
                  "name": "fielders_involved",
                  "rawType": "object",
                  "type": "unknown"
                },
                {
                  "name": "BattingTeam",
                  "rawType": "object",
                  "type": "string"
                },
                {
                  "name": "BowlingTeam",
                  "rawType": "object",
                  "type": "string"
                }
              ],
              "ref": "f1fac8de-ca8e-4bed-8bc5-3fc419faf8f3",
              "rows": [
                [
                  "0",
                  "1312200",
                  "Rajasthan RoyalsGujarat Titans",
                  "1",
                  "0",
                  "1",
                  "YBK Jaiswal",
                  "Mohammed Shami",
                  "JC Buttler",
                  null,
                  "0",
                  "0",
                  "0",
                  "0",
                  "0",
                  null,
                  null,
                  null,
                  "Rajasthan Royals",
                  "Gujarat Titans"
                ]
              ],
              "shape": {
                "columns": 19,
                "rows": 1
              }
            },
            "text/html": [
              "<div>\n",
              "<style scoped>\n",
              "    .dataframe tbody tr th:only-of-type {\n",
              "        vertical-align: middle;\n",
              "    }\n",
              "\n",
              "    .dataframe tbody tr th {\n",
              "        vertical-align: top;\n",
              "    }\n",
              "\n",
              "    .dataframe thead th {\n",
              "        text-align: right;\n",
              "    }\n",
              "</style>\n",
              "<table border=\"1\" class=\"dataframe\">\n",
              "  <thead>\n",
              "    <tr style=\"text-align: right;\">\n",
              "      <th></th>\n",
              "      <th>ID</th>\n",
              "      <th>Team</th>\n",
              "      <th>innings</th>\n",
              "      <th>overs</th>\n",
              "      <th>ballnumber</th>\n",
              "      <th>batter</th>\n",
              "      <th>bowler</th>\n",
              "      <th>non-striker</th>\n",
              "      <th>extra_type</th>\n",
              "      <th>batsman_run</th>\n",
              "      <th>extras_run</th>\n",
              "      <th>total_run</th>\n",
              "      <th>non_boundary</th>\n",
              "      <th>isWicketDelivery</th>\n",
              "      <th>player_out</th>\n",
              "      <th>kind</th>\n",
              "      <th>fielders_involved</th>\n",
              "      <th>BattingTeam</th>\n",
              "      <th>BowlingTeam</th>\n",
              "    </tr>\n",
              "  </thead>\n",
              "  <tbody>\n",
              "    <tr>\n",
              "      <th>0</th>\n",
              "      <td>1312200</td>\n",
              "      <td>Rajasthan RoyalsGujarat Titans</td>\n",
              "      <td>1</td>\n",
              "      <td>0</td>\n",
              "      <td>1</td>\n",
              "      <td>YBK Jaiswal</td>\n",
              "      <td>Mohammed Shami</td>\n",
              "      <td>JC Buttler</td>\n",
              "      <td>NaN</td>\n",
              "      <td>0</td>\n",
              "      <td>0</td>\n",
              "      <td>0</td>\n",
              "      <td>0</td>\n",
              "      <td>0</td>\n",
              "      <td>NaN</td>\n",
              "      <td>NaN</td>\n",
              "      <td>NaN</td>\n",
              "      <td>Rajasthan Royals</td>\n",
              "      <td>Gujarat Titans</td>\n",
              "    </tr>\n",
              "  </tbody>\n",
              "</table>\n",
              "</div>"
            ],
            "text/plain": [
              "        ID                            Team  innings  overs  ballnumber  \\\n",
              "0  1312200  Rajasthan RoyalsGujarat Titans        1      0           1   \n",
              "\n",
              "        batter          bowler non-striker extra_type  batsman_run  \\\n",
              "0  YBK Jaiswal  Mohammed Shami  JC Buttler        NaN            0   \n",
              "\n",
              "   extras_run  total_run  non_boundary  isWicketDelivery player_out kind  \\\n",
              "0           0          0             0                 0        NaN  NaN   \n",
              "\n",
              "  fielders_involved       BattingTeam     BowlingTeam  \n",
              "0               NaN  Rajasthan Royals  Gujarat Titans  "
            ]
          },
          "execution_count": 27,
          "metadata": {},
          "output_type": "execute_result"
        }
      ],
      "source": [
        "ipl_df = pd.read_csv('D:\\Education\\Extra\\Machine Learning\\DSMP 1.0\\Pandas\\Exercise\\Dataset\\ipl_deliveries.csv')\n",
        "ipl_df.head(1)\n"
      ]
    },
    {
      "cell_type": "code",
      "execution_count": 28,
      "metadata": {},
      "outputs": [
        {
          "data": {
            "application/vnd.microsoft.datawrangler.viewer.v0+json": {
              "columns": [
                {
                  "name": "('batter', 'ID')",
                  "rawType": "object",
                  "type": "unknown"
                },
                {
                  "name": "total_run",
                  "rawType": "int64",
                  "type": "integer"
                }
              ],
              "ref": "fba1a783-a326-49f5-b690-e3dda0d7cc2b",
              "rows": [
                [
                  "('SV Samson', np.int64(1254061))",
                  "124"
                ],
                [
                  "('ST Jayasuriya', np.int64(336018))",
                  "122"
                ],
                [
                  "('V Sehwag', np.int64(501243))",
                  "122"
                ],
                [
                  "('SR Watson', np.int64(1136620))",
                  "121"
                ],
                [
                  "('PC Valthaty', np.int64(501206))",
                  "121"
                ],
                [
                  "('DA Warner', np.int64(548329))",
                  "119"
                ],
                [
                  "('AC Gilchrist', np.int64(335994))",
                  "116"
                ],
                [
                  "('Q de Kock', np.int64(980921))",
                  "115"
                ],
                [
                  "('BA Stokes', np.int64(1216541))",
                  "114"
                ],
                [
                  "('DPMD Jayawardene', np.int64(419139))",
                  "114"
                ],
                [
                  "('V Kohli', np.int64(980969))",
                  "109"
                ],
                [
                  "('D Padikkal', np.int64(1254073))",
                  "109"
                ],
                [
                  "('DA Miller', np.int64(598064))",
                  "108"
                ],
                [
                  "('MS Bisla', np.int64(598034))",
                  "108"
                ],
                [
                  "('JC Buttler', np.int64(1312199))",
                  "106"
                ],
                [
                  "('KP Pietersen', np.int64(548321))",
                  "105"
                ],
                [
                  "('BA Stokes', np.int64(1082629))",
                  "105"
                ],
                [
                  "('CH Gayle', np.int64(501222))",
                  "105"
                ],
                [
                  "('S Dhawan', np.int64(1216509))",
                  "104"
                ],
                [
                  "('LMP Simmons', np.int64(734025))",
                  "104"
                ],
                [
                  "('CH Gayle', np.int64(829713))",
                  "103"
                ],
                [
                  "('YK Pathan', np.int64(419107))",
                  "103"
                ],
                [
                  "('KL Rahul', np.int64(1254094))",
                  "103"
                ],
                [
                  "('CA Lynn', np.int64(1082593))",
                  "102"
                ],
                [
                  "('V Sehwag', np.int64(335988))",
                  "102"
                ],
                [
                  "('Ishan Kishan', np.int64(1216547))",
                  "101"
                ],
                [
                  "('KL Rahul', np.int64(1136600))",
                  "101"
                ],
                [
                  "('M Vohra', np.int64(1082609))",
                  "101"
                ],
                [
                  "('GJ Maxwell', np.int64(729283))",
                  "101"
                ],
                [
                  "('AT Rayudu', np.int64(1136606))",
                  "100"
                ],
                [
                  "('PP Shaw', np.int64(1175365))",
                  "100"
                ],
                [
                  "('RR Pant', np.int64(1082632))",
                  "100"
                ],
                [
                  "('CJ Anderson', np.int64(734041))",
                  "99"
                ],
                [
                  "('KL Rahul', np.int64(1136610))",
                  "99"
                ],
                [
                  "('NV Ojha', np.int64(419137))",
                  "99"
                ],
                [
                  "('Shubman Gill', np.int64(1304062))",
                  "99"
                ],
                [
                  "('S Dhawan', np.int64(1178401))",
                  "98"
                ],
                [
                  "('SS Iyer', np.int64(1082640))",
                  "98"
                ],
                [
                  "('S Dhawan', np.int64(1254068))",
                  "98"
                ],
                [
                  "('SR Watson', np.int64(1178416))",
                  "98"
                ],
                [
                  "('V Sehwag', np.int64(598024))",
                  "98"
                ],
                [
                  "('SR Watson', np.int64(598032))",
                  "98"
                ],
                [
                  "('V Kohli', np.int64(598048))",
                  "97"
                ],
                [
                  "('JH Kallis', np.int64(419112))",
                  "97"
                ],
                [
                  "('SE Marsh', np.int64(501223))",
                  "97"
                ],
                [
                  "('ML Hayden', np.int64(419116))",
                  "97"
                ],
                [
                  "('HH Pandya', np.int64(1178422))",
                  "96"
                ],
                [
                  "('RA Tripathi', np.int64(1082631))",
                  "96"
                ],
                [
                  "('DA Miller', np.int64(1304075))",
                  "96"
                ],
                [
                  "('MK Pandey', np.int64(734049))",
                  "96"
                ]
              ],
              "shape": {
                "columns": 1,
                "rows": 6972
              }
            },
            "text/plain": [
              "batter         ID     \n",
              "SV Samson      1254061    124\n",
              "ST Jayasuriya  336018     122\n",
              "V Sehwag       501243     122\n",
              "SR Watson      1136620    121\n",
              "PC Valthaty    501206     121\n",
              "                         ... \n",
              "Iqbal Abdulla  829779       0\n",
              "G Gambhir      548312       0\n",
              "RV Uthappa     980939       0\n",
              "G Gambhir      598050       0\n",
              "               548363       0\n",
              "Name: total_run, Length: 6972, dtype: int64"
            ]
          },
          "execution_count": 28,
          "metadata": {},
          "output_type": "execute_result"
        }
      ],
      "source": [
        "#1\n",
        "ipl_df[ipl_df['innings'] == 2].groupby(['batter','ID'])['total_run'].sum().sort_values(ascending = False)"
      ]
    },
    {
      "cell_type": "code",
      "execution_count": 130,
      "metadata": {},
      "outputs": [
        {
          "data": {
            "application/vnd.microsoft.datawrangler.viewer.v0+json": {
              "columns": [
                {
                  "name": "index",
                  "rawType": "int64",
                  "type": "integer"
                },
                {
                  "name": "batter",
                  "rawType": "object",
                  "type": "string"
                },
                {
                  "name": "batsman_run",
                  "rawType": "int64",
                  "type": "integer"
                },
                {
                  "name": "ballnumber",
                  "rawType": "int64",
                  "type": "integer"
                },
                {
                  "name": "strike_rate",
                  "rawType": "float64",
                  "type": "float"
                }
              ],
              "ref": "4e519f41-7e21-4ff9-aede-1320105b0ca2",
              "rows": [
                [
                  "0",
                  "PJ Cummins",
                  "222",
                  "114",
                  "194.73684210526315"
                ],
                [
                  "1",
                  "AD Russell",
                  "986",
                  "570",
                  "172.98245614035088"
                ],
                [
                  "2",
                  "LS Livingstone",
                  "182",
                  "107",
                  "170.09345794392524"
                ],
                [
                  "3",
                  "SP Narine",
                  "599",
                  "356",
                  "168.25842696629215"
                ],
                [
                  "4",
                  "SO Hetmyer",
                  "330",
                  "200",
                  "165.0"
                ],
                [
                  "5",
                  "Rashid Khan",
                  "171",
                  "104",
                  "164.42307692307693"
                ],
                [
                  "6",
                  "V Sehwag",
                  "1427",
                  "875",
                  "163.0857142857143"
                ],
                [
                  "7",
                  "N Pooran",
                  "632",
                  "392",
                  "161.22448979591837"
                ],
                [
                  "8",
                  "CH Morris",
                  "335",
                  "209",
                  "160.28708133971293"
                ],
                [
                  "9",
                  "JC Buttler",
                  "1436",
                  "900",
                  "159.55555555555554"
                ],
                [
                  "10",
                  "MJ Lumb",
                  "173",
                  "109",
                  "158.71559633027522"
                ],
                [
                  "11",
                  "GJ Maxwell",
                  "1024",
                  "651",
                  "157.29646697388634"
                ],
                [
                  "12",
                  "JJ Roy",
                  "186",
                  "119",
                  "156.30252100840337"
                ],
                [
                  "13",
                  "ST Jayasuriya",
                  "319",
                  "206",
                  "154.85436893203882"
                ],
                [
                  "14",
                  "YK Pathan",
                  "1879",
                  "1237",
                  "151.8997574777688"
                ],
                [
                  "15",
                  "KA Pollard",
                  "1550",
                  "1025",
                  "151.21951219512195"
                ],
                [
                  "16",
                  "JA Morkel",
                  "459",
                  "304",
                  "150.98684210526315"
                ],
                [
                  "17",
                  "PP Shaw",
                  "761",
                  "507",
                  "150.09861932938855"
                ],
                [
                  "18",
                  "AC Gilchrist",
                  "1126",
                  "755",
                  "149.13907284768212"
                ],
                [
                  "19",
                  "NLTC Perera",
                  "205",
                  "138",
                  "148.55072463768116"
                ],
                [
                  "20",
                  "DR Smith",
                  "1280",
                  "866",
                  "147.80600461893764"
                ],
                [
                  "21",
                  "JP Faulkner",
                  "302",
                  "206",
                  "146.60194174757282"
                ],
                [
                  "22",
                  "RR Pant",
                  "1434",
                  "981",
                  "146.17737003058105"
                ],
                [
                  "23",
                  "CA Lynn",
                  "710",
                  "486",
                  "146.09053497942386"
                ],
                [
                  "24",
                  "MP Stoinis",
                  "441",
                  "302",
                  "146.02649006622516"
                ],
                [
                  "25",
                  "BA Stokes",
                  "584",
                  "401",
                  "145.6359102244389"
                ],
                [
                  "26",
                  "RK Singh",
                  "150",
                  "103",
                  "145.63106796116506"
                ],
                [
                  "27",
                  "HH Pandya",
                  "764",
                  "529",
                  "144.4234404536862"
                ],
                [
                  "28",
                  "RA Tripathi",
                  "920",
                  "641",
                  "143.52574102964118"
                ],
                [
                  "29",
                  "CH Gayle",
                  "2092",
                  "1460",
                  "143.2876712328767"
                ],
                [
                  "30",
                  "YBK Jaiswal",
                  "259",
                  "181",
                  "143.0939226519337"
                ],
                [
                  "31",
                  "DA Warner",
                  "2839",
                  "1985",
                  "143.02267002518892"
                ],
                [
                  "32",
                  "JR Hopes",
                  "263",
                  "184",
                  "142.93478260869566"
                ],
                [
                  "33",
                  "M Vohra",
                  "534",
                  "374",
                  "142.7807486631016"
                ],
                [
                  "34",
                  "JM Bairstow",
                  "790",
                  "555",
                  "142.34234234234233"
                ],
                [
                  "35",
                  "SR Watson",
                  "2162",
                  "1534",
                  "140.9387222946545"
                ],
                [
                  "36",
                  "SP Fleming",
                  "142",
                  "101",
                  "140.59405940594058"
                ],
                [
                  "37",
                  "DA Miller",
                  "1444",
                  "1028",
                  "140.4669260700389"
                ],
                [
                  "38",
                  "MV Boucher",
                  "244",
                  "174",
                  "140.22988505747125"
                ],
                [
                  "39",
                  "AK Markram",
                  "379",
                  "271",
                  "139.85239852398524"
                ],
                [
                  "40",
                  "KH Pandya",
                  "601",
                  "432",
                  "139.12037037037038"
                ],
                [
                  "41",
                  "PC Valthaty",
                  "300",
                  "216",
                  "138.88888888888889"
                ],
                [
                  "42",
                  "SK Raina",
                  "2334",
                  "1688",
                  "138.27014218009478"
                ],
                [
                  "43",
                  "KL Rahul",
                  "1955",
                  "1416",
                  "138.06497175141243"
                ],
                [
                  "44",
                  "AB de Villiers",
                  "1999",
                  "1450",
                  "137.86206896551724"
                ],
                [
                  "45",
                  "ML Hayden",
                  "490",
                  "356",
                  "137.64044943820224"
                ],
                [
                  "46",
                  "SE Marsh",
                  "1060",
                  "771",
                  "137.48378728923475"
                ],
                [
                  "47",
                  "SW Billings",
                  "240",
                  "175",
                  "137.14285714285714"
                ],
                [
                  "48",
                  "KS Bharat",
                  "142",
                  "104",
                  "136.53846153846155"
                ],
                [
                  "49",
                  "MA Agarwal",
                  "1192",
                  "874",
                  "136.38443935926773"
                ]
              ],
              "shape": {
                "columns": 4,
                "rows": 180
              }
            },
            "text/html": [
              "<div>\n",
              "<style scoped>\n",
              "    .dataframe tbody tr th:only-of-type {\n",
              "        vertical-align: middle;\n",
              "    }\n",
              "\n",
              "    .dataframe tbody tr th {\n",
              "        vertical-align: top;\n",
              "    }\n",
              "\n",
              "    .dataframe thead th {\n",
              "        text-align: right;\n",
              "    }\n",
              "</style>\n",
              "<table border=\"1\" class=\"dataframe\">\n",
              "  <thead>\n",
              "    <tr style=\"text-align: right;\">\n",
              "      <th></th>\n",
              "      <th>batter</th>\n",
              "      <th>batsman_run</th>\n",
              "      <th>ballnumber</th>\n",
              "      <th>strike_rate</th>\n",
              "    </tr>\n",
              "  </thead>\n",
              "  <tbody>\n",
              "    <tr>\n",
              "      <th>0</th>\n",
              "      <td>PJ Cummins</td>\n",
              "      <td>222</td>\n",
              "      <td>114</td>\n",
              "      <td>194.736842</td>\n",
              "    </tr>\n",
              "    <tr>\n",
              "      <th>1</th>\n",
              "      <td>AD Russell</td>\n",
              "      <td>986</td>\n",
              "      <td>570</td>\n",
              "      <td>172.982456</td>\n",
              "    </tr>\n",
              "    <tr>\n",
              "      <th>2</th>\n",
              "      <td>LS Livingstone</td>\n",
              "      <td>182</td>\n",
              "      <td>107</td>\n",
              "      <td>170.093458</td>\n",
              "    </tr>\n",
              "    <tr>\n",
              "      <th>3</th>\n",
              "      <td>SP Narine</td>\n",
              "      <td>599</td>\n",
              "      <td>356</td>\n",
              "      <td>168.258427</td>\n",
              "    </tr>\n",
              "    <tr>\n",
              "      <th>4</th>\n",
              "      <td>SO Hetmyer</td>\n",
              "      <td>330</td>\n",
              "      <td>200</td>\n",
              "      <td>165.000000</td>\n",
              "    </tr>\n",
              "    <tr>\n",
              "      <th>...</th>\n",
              "      <td>...</td>\n",
              "      <td>...</td>\n",
              "      <td>...</td>\n",
              "      <td>...</td>\n",
              "    </tr>\n",
              "    <tr>\n",
              "      <th>175</th>\n",
              "      <td>LR Shukla</td>\n",
              "      <td>137</td>\n",
              "      <td>147</td>\n",
              "      <td>93.197279</td>\n",
              "    </tr>\n",
              "    <tr>\n",
              "      <th>176</th>\n",
              "      <td>GH Vihari</td>\n",
              "      <td>179</td>\n",
              "      <td>193</td>\n",
              "      <td>92.746114</td>\n",
              "    </tr>\n",
              "    <tr>\n",
              "      <th>177</th>\n",
              "      <td>B Kumar</td>\n",
              "      <td>150</td>\n",
              "      <td>164</td>\n",
              "      <td>91.463415</td>\n",
              "    </tr>\n",
              "    <tr>\n",
              "      <th>178</th>\n",
              "      <td>R Dhawan</td>\n",
              "      <td>92</td>\n",
              "      <td>101</td>\n",
              "      <td>91.089109</td>\n",
              "    </tr>\n",
              "    <tr>\n",
              "      <th>179</th>\n",
              "      <td>K Goel</td>\n",
              "      <td>97</td>\n",
              "      <td>118</td>\n",
              "      <td>82.203390</td>\n",
              "    </tr>\n",
              "  </tbody>\n",
              "</table>\n",
              "<p>180 rows × 4 columns</p>\n",
              "</div>"
            ],
            "text/plain": [
              "             batter  batsman_run  ballnumber  strike_rate\n",
              "0        PJ Cummins          222         114   194.736842\n",
              "1        AD Russell          986         570   172.982456\n",
              "2    LS Livingstone          182         107   170.093458\n",
              "3         SP Narine          599         356   168.258427\n",
              "4        SO Hetmyer          330         200   165.000000\n",
              "..              ...          ...         ...          ...\n",
              "175       LR Shukla          137         147    93.197279\n",
              "176       GH Vihari          179         193    92.746114\n",
              "177         B Kumar          150         164    91.463415\n",
              "178        R Dhawan           92         101    91.089109\n",
              "179          K Goel           97         118    82.203390\n",
              "\n",
              "[180 rows x 4 columns]"
            ]
          },
          "execution_count": 130,
          "metadata": {},
          "output_type": "execute_result"
        }
      ],
      "source": [
        "#2\n",
        "df = ipl_df[ipl_df['innings'] == 2]\n",
        "temp_df = df[~(df['extra_type'] == 'wides')]\n",
        "\n",
        "temp_df = temp_df.groupby('batter').agg({\n",
        "    \n",
        "    \"batsman_run\" : \"sum\",\n",
        "    \"ballnumber\" :\"count\"\n",
        "})\n",
        "\n",
        "temp_df[\"strike_rate\"] = 100*temp_df[\"batsman_run\"]/temp_df[\"ballnumber\"]\n",
        "temp_df[temp_df['ballnumber'] > 100].sort_values(by= 'strike_rate',ascending = False).reset_index()"
      ]
    },
    {
      "cell_type": "code",
      "execution_count": 32,
      "metadata": {},
      "outputs": [
        {
          "data": {
            "application/vnd.microsoft.datawrangler.viewer.v0+json": {
              "columns": [
                {
                  "name": "index",
                  "rawType": "int64",
                  "type": "integer"
                },
                {
                  "name": "ID",
                  "rawType": "int64",
                  "type": "integer"
                },
                {
                  "name": "Team",
                  "rawType": "object",
                  "type": "string"
                },
                {
                  "name": "innings",
                  "rawType": "int64",
                  "type": "integer"
                },
                {
                  "name": "overs",
                  "rawType": "int64",
                  "type": "integer"
                },
                {
                  "name": "ballnumber",
                  "rawType": "int64",
                  "type": "integer"
                },
                {
                  "name": "batter",
                  "rawType": "object",
                  "type": "string"
                },
                {
                  "name": "bowler",
                  "rawType": "object",
                  "type": "string"
                },
                {
                  "name": "non-striker",
                  "rawType": "object",
                  "type": "string"
                },
                {
                  "name": "extra_type",
                  "rawType": "object",
                  "type": "unknown"
                },
                {
                  "name": "batsman_run",
                  "rawType": "int64",
                  "type": "integer"
                },
                {
                  "name": "extras_run",
                  "rawType": "int64",
                  "type": "integer"
                },
                {
                  "name": "total_run",
                  "rawType": "int64",
                  "type": "integer"
                },
                {
                  "name": "non_boundary",
                  "rawType": "int64",
                  "type": "integer"
                },
                {
                  "name": "isWicketDelivery",
                  "rawType": "int64",
                  "type": "integer"
                },
                {
                  "name": "player_out",
                  "rawType": "object",
                  "type": "unknown"
                },
                {
                  "name": "kind",
                  "rawType": "object",
                  "type": "unknown"
                },
                {
                  "name": "fielders_involved",
                  "rawType": "object",
                  "type": "unknown"
                },
                {
                  "name": "BattingTeam",
                  "rawType": "object",
                  "type": "string"
                },
                {
                  "name": "BowlingTeam",
                  "rawType": "object",
                  "type": "string"
                }
              ],
              "ref": "737d9a4b-62c2-4792-a8b6-272bbe864b38",
              "rows": [
                [
                  "0",
                  "1312200",
                  "Rajasthan RoyalsGujarat Titans",
                  "1",
                  "0",
                  "1",
                  "YBK Jaiswal",
                  "Mohammed Shami",
                  "JC Buttler",
                  null,
                  "0",
                  "0",
                  "0",
                  "0",
                  "0",
                  null,
                  null,
                  null,
                  "Rajasthan Royals",
                  "Gujarat Titans"
                ],
                [
                  "1",
                  "1312200",
                  "Rajasthan RoyalsGujarat Titans",
                  "1",
                  "0",
                  "2",
                  "YBK Jaiswal",
                  "Mohammed Shami",
                  "JC Buttler",
                  "legbyes",
                  "0",
                  "1",
                  "1",
                  "0",
                  "0",
                  null,
                  null,
                  null,
                  "Rajasthan Royals",
                  "Gujarat Titans"
                ],
                [
                  "2",
                  "1312200",
                  "Rajasthan RoyalsGujarat Titans",
                  "1",
                  "0",
                  "3",
                  "JC Buttler",
                  "Mohammed Shami",
                  "YBK Jaiswal",
                  null,
                  "1",
                  "0",
                  "1",
                  "0",
                  "0",
                  null,
                  null,
                  null,
                  "Rajasthan Royals",
                  "Gujarat Titans"
                ],
                [
                  "3",
                  "1312200",
                  "Rajasthan RoyalsGujarat Titans",
                  "1",
                  "0",
                  "4",
                  "YBK Jaiswal",
                  "Mohammed Shami",
                  "JC Buttler",
                  null,
                  "0",
                  "0",
                  "0",
                  "0",
                  "0",
                  null,
                  null,
                  null,
                  "Rajasthan Royals",
                  "Gujarat Titans"
                ],
                [
                  "4",
                  "1312200",
                  "Rajasthan RoyalsGujarat Titans",
                  "1",
                  "0",
                  "5",
                  "YBK Jaiswal",
                  "Mohammed Shami",
                  "JC Buttler",
                  null,
                  "0",
                  "0",
                  "0",
                  "0",
                  "0",
                  null,
                  null,
                  null,
                  "Rajasthan Royals",
                  "Gujarat Titans"
                ]
              ],
              "shape": {
                "columns": 19,
                "rows": 5
              }
            },
            "text/html": [
              "<div>\n",
              "<style scoped>\n",
              "    .dataframe tbody tr th:only-of-type {\n",
              "        vertical-align: middle;\n",
              "    }\n",
              "\n",
              "    .dataframe tbody tr th {\n",
              "        vertical-align: top;\n",
              "    }\n",
              "\n",
              "    .dataframe thead th {\n",
              "        text-align: right;\n",
              "    }\n",
              "</style>\n",
              "<table border=\"1\" class=\"dataframe\">\n",
              "  <thead>\n",
              "    <tr style=\"text-align: right;\">\n",
              "      <th></th>\n",
              "      <th>ID</th>\n",
              "      <th>Team</th>\n",
              "      <th>innings</th>\n",
              "      <th>overs</th>\n",
              "      <th>ballnumber</th>\n",
              "      <th>batter</th>\n",
              "      <th>bowler</th>\n",
              "      <th>non-striker</th>\n",
              "      <th>extra_type</th>\n",
              "      <th>batsman_run</th>\n",
              "      <th>extras_run</th>\n",
              "      <th>total_run</th>\n",
              "      <th>non_boundary</th>\n",
              "      <th>isWicketDelivery</th>\n",
              "      <th>player_out</th>\n",
              "      <th>kind</th>\n",
              "      <th>fielders_involved</th>\n",
              "      <th>BattingTeam</th>\n",
              "      <th>BowlingTeam</th>\n",
              "    </tr>\n",
              "  </thead>\n",
              "  <tbody>\n",
              "    <tr>\n",
              "      <th>0</th>\n",
              "      <td>1312200</td>\n",
              "      <td>Rajasthan RoyalsGujarat Titans</td>\n",
              "      <td>1</td>\n",
              "      <td>0</td>\n",
              "      <td>1</td>\n",
              "      <td>YBK Jaiswal</td>\n",
              "      <td>Mohammed Shami</td>\n",
              "      <td>JC Buttler</td>\n",
              "      <td>NaN</td>\n",
              "      <td>0</td>\n",
              "      <td>0</td>\n",
              "      <td>0</td>\n",
              "      <td>0</td>\n",
              "      <td>0</td>\n",
              "      <td>NaN</td>\n",
              "      <td>NaN</td>\n",
              "      <td>NaN</td>\n",
              "      <td>Rajasthan Royals</td>\n",
              "      <td>Gujarat Titans</td>\n",
              "    </tr>\n",
              "    <tr>\n",
              "      <th>1</th>\n",
              "      <td>1312200</td>\n",
              "      <td>Rajasthan RoyalsGujarat Titans</td>\n",
              "      <td>1</td>\n",
              "      <td>0</td>\n",
              "      <td>2</td>\n",
              "      <td>YBK Jaiswal</td>\n",
              "      <td>Mohammed Shami</td>\n",
              "      <td>JC Buttler</td>\n",
              "      <td>legbyes</td>\n",
              "      <td>0</td>\n",
              "      <td>1</td>\n",
              "      <td>1</td>\n",
              "      <td>0</td>\n",
              "      <td>0</td>\n",
              "      <td>NaN</td>\n",
              "      <td>NaN</td>\n",
              "      <td>NaN</td>\n",
              "      <td>Rajasthan Royals</td>\n",
              "      <td>Gujarat Titans</td>\n",
              "    </tr>\n",
              "    <tr>\n",
              "      <th>2</th>\n",
              "      <td>1312200</td>\n",
              "      <td>Rajasthan RoyalsGujarat Titans</td>\n",
              "      <td>1</td>\n",
              "      <td>0</td>\n",
              "      <td>3</td>\n",
              "      <td>JC Buttler</td>\n",
              "      <td>Mohammed Shami</td>\n",
              "      <td>YBK Jaiswal</td>\n",
              "      <td>NaN</td>\n",
              "      <td>1</td>\n",
              "      <td>0</td>\n",
              "      <td>1</td>\n",
              "      <td>0</td>\n",
              "      <td>0</td>\n",
              "      <td>NaN</td>\n",
              "      <td>NaN</td>\n",
              "      <td>NaN</td>\n",
              "      <td>Rajasthan Royals</td>\n",
              "      <td>Gujarat Titans</td>\n",
              "    </tr>\n",
              "    <tr>\n",
              "      <th>3</th>\n",
              "      <td>1312200</td>\n",
              "      <td>Rajasthan RoyalsGujarat Titans</td>\n",
              "      <td>1</td>\n",
              "      <td>0</td>\n",
              "      <td>4</td>\n",
              "      <td>YBK Jaiswal</td>\n",
              "      <td>Mohammed Shami</td>\n",
              "      <td>JC Buttler</td>\n",
              "      <td>NaN</td>\n",
              "      <td>0</td>\n",
              "      <td>0</td>\n",
              "      <td>0</td>\n",
              "      <td>0</td>\n",
              "      <td>0</td>\n",
              "      <td>NaN</td>\n",
              "      <td>NaN</td>\n",
              "      <td>NaN</td>\n",
              "      <td>Rajasthan Royals</td>\n",
              "      <td>Gujarat Titans</td>\n",
              "    </tr>\n",
              "    <tr>\n",
              "      <th>4</th>\n",
              "      <td>1312200</td>\n",
              "      <td>Rajasthan RoyalsGujarat Titans</td>\n",
              "      <td>1</td>\n",
              "      <td>0</td>\n",
              "      <td>5</td>\n",
              "      <td>YBK Jaiswal</td>\n",
              "      <td>Mohammed Shami</td>\n",
              "      <td>JC Buttler</td>\n",
              "      <td>NaN</td>\n",
              "      <td>0</td>\n",
              "      <td>0</td>\n",
              "      <td>0</td>\n",
              "      <td>0</td>\n",
              "      <td>0</td>\n",
              "      <td>NaN</td>\n",
              "      <td>NaN</td>\n",
              "      <td>NaN</td>\n",
              "      <td>Rajasthan Royals</td>\n",
              "      <td>Gujarat Titans</td>\n",
              "    </tr>\n",
              "  </tbody>\n",
              "</table>\n",
              "</div>"
            ],
            "text/plain": [
              "        ID                            Team  innings  overs  ballnumber  \\\n",
              "0  1312200  Rajasthan RoyalsGujarat Titans        1      0           1   \n",
              "1  1312200  Rajasthan RoyalsGujarat Titans        1      0           2   \n",
              "2  1312200  Rajasthan RoyalsGujarat Titans        1      0           3   \n",
              "3  1312200  Rajasthan RoyalsGujarat Titans        1      0           4   \n",
              "4  1312200  Rajasthan RoyalsGujarat Titans        1      0           5   \n",
              "\n",
              "        batter          bowler  non-striker extra_type  batsman_run  \\\n",
              "0  YBK Jaiswal  Mohammed Shami   JC Buttler        NaN            0   \n",
              "1  YBK Jaiswal  Mohammed Shami   JC Buttler    legbyes            0   \n",
              "2   JC Buttler  Mohammed Shami  YBK Jaiswal        NaN            1   \n",
              "3  YBK Jaiswal  Mohammed Shami   JC Buttler        NaN            0   \n",
              "4  YBK Jaiswal  Mohammed Shami   JC Buttler        NaN            0   \n",
              "\n",
              "   extras_run  total_run  non_boundary  isWicketDelivery player_out kind  \\\n",
              "0           0          0             0                 0        NaN  NaN   \n",
              "1           1          1             0                 0        NaN  NaN   \n",
              "2           0          1             0                 0        NaN  NaN   \n",
              "3           0          0             0                 0        NaN  NaN   \n",
              "4           0          0             0                 0        NaN  NaN   \n",
              "\n",
              "  fielders_involved       BattingTeam     BowlingTeam  \n",
              "0               NaN  Rajasthan Royals  Gujarat Titans  \n",
              "1               NaN  Rajasthan Royals  Gujarat Titans  \n",
              "2               NaN  Rajasthan Royals  Gujarat Titans  \n",
              "3               NaN  Rajasthan Royals  Gujarat Titans  \n",
              "4               NaN  Rajasthan Royals  Gujarat Titans  "
            ]
          },
          "execution_count": 32,
          "metadata": {},
          "output_type": "execute_result"
        }
      ],
      "source": [
        "ipl_df.head()"
      ]
    },
    {
      "cell_type": "markdown",
      "metadata": {
        "id": "Wr443WT0O2Qw"
      },
      "source": [
        "###`Q-6` Most Successful bowler against any batsman. Find that pair of bowler and batsman.\n",
        "> Most Successful in terms of dissmissal. A bowler who have dissmissed any batsman most no of times. If any two pairs have same no of dissmisal, consider runs conceded by bowler to that batsman. Those who have concede lesser runs is more successful."
      ]
    },
    {
      "cell_type": "code",
      "execution_count": 59,
      "metadata": {
        "id": "oG1P4PT8O4u4"
      },
      "outputs": [
        {
          "data": {
            "application/vnd.microsoft.datawrangler.viewer.v0+json": {
              "columns": [
                {
                  "name": "('batter', 'bowler')",
                  "rawType": "object",
                  "type": "unknown"
                },
                {
                  "name": "isWicketDelivery",
                  "rawType": "int64",
                  "type": "integer"
                },
                {
                  "name": "batsman_run",
                  "rawType": "int64",
                  "type": "integer"
                }
              ],
              "ref": "234c6182-aedc-47cd-90e7-c32822080f96",
              "rows": [
                [
                  "('RG Sharma', 'SP Narine')",
                  "8",
                  "137"
                ],
                [
                  "('PA Patel', 'B Kumar')",
                  "7",
                  "65"
                ],
                [
                  "('MS Dhoni', 'Z Khan')",
                  "7",
                  "74"
                ],
                [
                  "('V Kohli', 'Sandeep Sharma')",
                  "7",
                  "78"
                ],
                [
                  "('RG Sharma', 'A Mishra')",
                  "7",
                  "87"
                ],
                [
                  "('MS Dhoni', 'PP Ojha')",
                  "7",
                  "98"
                ],
                [
                  "('RV Uthappa', 'R Ashwin')",
                  "7",
                  "123"
                ],
                [
                  "('RG Sharma', 'R Vinay Kumar')",
                  "6",
                  "22"
                ],
                [
                  "('Q de Kock', 'YS Chahal')",
                  "6",
                  "44"
                ],
                [
                  "('RG Sharma', 'SK Trivedi')",
                  "6",
                  "45"
                ],
                [
                  "('RR Pant', 'JJ Bumrah')",
                  "6",
                  "48"
                ],
                [
                  "('GJ Maxwell', 'RA Jadeja')",
                  "6",
                  "49"
                ],
                [
                  "('AT Rayudu', 'MM Sharma')",
                  "6",
                  "52"
                ],
                [
                  "('SR Watson', 'AR Patel')",
                  "6",
                  "53"
                ],
                [
                  "('V Kohli', 'A Nehra')",
                  "6",
                  "60"
                ],
                [
                  "('AT Rayudu', 'PP Chawla')",
                  "6",
                  "75"
                ],
                [
                  "('SR Watson', 'A Mishra')",
                  "6",
                  "79"
                ],
                [
                  "('PP Shaw', 'DL Chahar')",
                  "6",
                  "80"
                ],
                [
                  "('AM Rahane', 'B Kumar')",
                  "6",
                  "90"
                ],
                [
                  "('G Gambhir', 'Z Khan')",
                  "6",
                  "109"
                ],
                [
                  "('KC Sangakkara', 'R Sharma')",
                  "5",
                  "12"
                ],
                [
                  "('SV Samson', 'Shivam Mavi')",
                  "5",
                  "34"
                ],
                [
                  "('SR Watson', 'SP Narine')",
                  "5",
                  "39"
                ],
                [
                  "('YK Pathan', 'MM Sharma')",
                  "5",
                  "40"
                ],
                [
                  "('SV Samson', 'YS Chahal')",
                  "5",
                  "42"
                ],
                [
                  "('GJ Maxwell', 'JJ Bumrah')",
                  "5",
                  "44"
                ],
                [
                  "('Ishan Kishan', 'Imran Tahir')",
                  "5",
                  "45"
                ],
                [
                  "('CH Gayle', 'R Ashwin')",
                  "5",
                  "53"
                ],
                [
                  "('AT Rayudu', 'HV Patel')",
                  "5",
                  "54"
                ],
                [
                  "('G Gambhir', 'PP Ojha')",
                  "5",
                  "55"
                ],
                [
                  "('SS Iyer', 'AD Russell')",
                  "5",
                  "63"
                ],
                [
                  "('GJ Maxwell', 'A Mishra')",
                  "5",
                  "66"
                ],
                [
                  "('SPD Smith', 'RA Jadeja')",
                  "5",
                  "68"
                ],
                [
                  "('MA Agarwal', 'YS Chahal')",
                  "5",
                  "69"
                ],
                [
                  "('SR Watson', 'RA Jadeja')",
                  "5",
                  "74"
                ],
                [
                  "('N Rana', 'YS Chahal')",
                  "5",
                  "81"
                ],
                [
                  "('RG Sharma', 'DJ Bravo')",
                  "5",
                  "82"
                ],
                [
                  "('G Gambhir', 'Harbhajan Singh')",
                  "5",
                  "84"
                ],
                [
                  "('RV Uthappa', 'A Mishra')",
                  "5",
                  "84"
                ],
                [
                  "('V Kohli', 'Mohammed Shami')",
                  "5",
                  "90"
                ],
                [
                  "('DA Warner', 'UT Yadav')",
                  "5",
                  "94"
                ],
                [
                  "('CH Gayle', 'Harbhajan Singh')",
                  "5",
                  "102"
                ],
                [
                  "('SK Raina', 'Harbhajan Singh')",
                  "5",
                  "132"
                ],
                [
                  "('V Kohli', 'RA Jadeja')",
                  "5",
                  "140"
                ],
                [
                  "('RG Sharma', 'UT Yadav')",
                  "5",
                  "144"
                ],
                [
                  "('V Kohli', 'UT Yadav')",
                  "5",
                  "150"
                ],
                [
                  "('Harbhajan Singh', 'P Kumar')",
                  "4",
                  "0"
                ],
                [
                  "('Rashid Khan', 'JJ Bumrah')",
                  "4",
                  "3"
                ],
                [
                  "('NV Ojha', 'RP Singh')",
                  "4",
                  "10"
                ],
                [
                  "('SC Ganguly', 'R Vinay Kumar')",
                  "4",
                  "10"
                ]
              ],
              "shape": {
                "columns": 2,
                "rows": 24213
              }
            },
            "text/html": [
              "<div>\n",
              "<style scoped>\n",
              "    .dataframe tbody tr th:only-of-type {\n",
              "        vertical-align: middle;\n",
              "    }\n",
              "\n",
              "    .dataframe tbody tr th {\n",
              "        vertical-align: top;\n",
              "    }\n",
              "\n",
              "    .dataframe thead th {\n",
              "        text-align: right;\n",
              "    }\n",
              "</style>\n",
              "<table border=\"1\" class=\"dataframe\">\n",
              "  <thead>\n",
              "    <tr style=\"text-align: right;\">\n",
              "      <th></th>\n",
              "      <th></th>\n",
              "      <th>isWicketDelivery</th>\n",
              "      <th>batsman_run</th>\n",
              "    </tr>\n",
              "    <tr>\n",
              "      <th>batter</th>\n",
              "      <th>bowler</th>\n",
              "      <th></th>\n",
              "      <th></th>\n",
              "    </tr>\n",
              "  </thead>\n",
              "  <tbody>\n",
              "    <tr>\n",
              "      <th>RG Sharma</th>\n",
              "      <th>SP Narine</th>\n",
              "      <td>8</td>\n",
              "      <td>137</td>\n",
              "    </tr>\n",
              "    <tr>\n",
              "      <th>PA Patel</th>\n",
              "      <th>B Kumar</th>\n",
              "      <td>7</td>\n",
              "      <td>65</td>\n",
              "    </tr>\n",
              "    <tr>\n",
              "      <th>MS Dhoni</th>\n",
              "      <th>Z Khan</th>\n",
              "      <td>7</td>\n",
              "      <td>74</td>\n",
              "    </tr>\n",
              "    <tr>\n",
              "      <th>V Kohli</th>\n",
              "      <th>Sandeep Sharma</th>\n",
              "      <td>7</td>\n",
              "      <td>78</td>\n",
              "    </tr>\n",
              "    <tr>\n",
              "      <th>RG Sharma</th>\n",
              "      <th>A Mishra</th>\n",
              "      <td>7</td>\n",
              "      <td>87</td>\n",
              "    </tr>\n",
              "    <tr>\n",
              "      <th>...</th>\n",
              "      <th>...</th>\n",
              "      <td>...</td>\n",
              "      <td>...</td>\n",
              "    </tr>\n",
              "    <tr>\n",
              "      <th>N Rana</th>\n",
              "      <th>R Ashwin</th>\n",
              "      <td>0</td>\n",
              "      <td>99</td>\n",
              "    </tr>\n",
              "    <tr>\n",
              "      <th>SR Watson</th>\n",
              "      <th>Sandeep Sharma</th>\n",
              "      <td>0</td>\n",
              "      <td>102</td>\n",
              "    </tr>\n",
              "    <tr>\n",
              "      <th>KD Karthik</th>\n",
              "      <th>JD Unadkat</th>\n",
              "      <td>0</td>\n",
              "      <td>104</td>\n",
              "    </tr>\n",
              "    <tr>\n",
              "      <th>SA Yadav</th>\n",
              "      <th>R Ashwin</th>\n",
              "      <td>0</td>\n",
              "      <td>106</td>\n",
              "    </tr>\n",
              "    <tr>\n",
              "      <th>KL Rahul</th>\n",
              "      <th>DL Chahar</th>\n",
              "      <td>0</td>\n",
              "      <td>120</td>\n",
              "    </tr>\n",
              "  </tbody>\n",
              "</table>\n",
              "<p>24213 rows × 2 columns</p>\n",
              "</div>"
            ],
            "text/plain": [
              "                           isWicketDelivery  batsman_run\n",
              "batter     bowler                                       \n",
              "RG Sharma  SP Narine                      8          137\n",
              "PA Patel   B Kumar                        7           65\n",
              "MS Dhoni   Z Khan                         7           74\n",
              "V Kohli    Sandeep Sharma                 7           78\n",
              "RG Sharma  A Mishra                       7           87\n",
              "...                                     ...          ...\n",
              "N Rana     R Ashwin                       0           99\n",
              "SR Watson  Sandeep Sharma                 0          102\n",
              "KD Karthik JD Unadkat                     0          104\n",
              "SA Yadav   R Ashwin                       0          106\n",
              "KL Rahul   DL Chahar                      0          120\n",
              "\n",
              "[24213 rows x 2 columns]"
            ]
          },
          "execution_count": 59,
          "metadata": {},
          "output_type": "execute_result"
        }
      ],
      "source": [
        "#1\n",
        "data = ipl_df.groupby(['batter','bowler'])[['isWicketDelivery','batsman_run']].sum().sort_values(ascending = [False,True], by = ['isWicketDelivery','batsman_run'])\n",
        "data"
      ]
    },
    {
      "cell_type": "markdown",
      "metadata": {
        "id": "7BP2EDkNO6KM"
      },
      "source": [
        "###`Q-7`: Most successful batting pair in IPL. Batting pair who have scored most runs playing together.\n"
      ]
    },
    {
      "cell_type": "code",
      "execution_count": 136,
      "metadata": {
        "id": "lRlbTuarO80s"
      },
      "outputs": [
        {
          "data": {
            "application/vnd.microsoft.datawrangler.viewer.v0+json": {
              "columns": [
                {
                  "name": "batter-pair",
                  "rawType": "object",
                  "type": "string"
                },
                {
                  "name": "total_run",
                  "rawType": "int64",
                  "type": "integer"
                }
              ],
              "ref": "45a87ad1-861c-4b96-885d-d82ba48e9296",
              "rows": [
                [
                  "AB de Villiers-V Kohli",
                  "3134"
                ],
                [
                  "CH Gayle-V Kohli",
                  "2802"
                ],
                [
                  "DA Warner-S Dhawan",
                  "2357"
                ],
                [
                  "G Gambhir-RV Uthappa",
                  "1906"
                ],
                [
                  "KL Rahul-MA Agarwal",
                  "1731"
                ]
              ],
              "shape": {
                "columns": 1,
                "rows": 5
              }
            },
            "text/plain": [
              "batter-pair\n",
              "AB de Villiers-V Kohli    3134\n",
              "CH Gayle-V Kohli          2802\n",
              "DA Warner-S Dhawan        2357\n",
              "G Gambhir-RV Uthappa      1906\n",
              "KL Rahul-MA Agarwal       1731\n",
              "Name: total_run, dtype: int64"
            ]
          },
          "execution_count": 136,
          "metadata": {},
          "output_type": "execute_result"
        }
      ],
      "source": [
        "def func(x):\n",
        "    return '-'.join(list(np.sort(x.values)))  #because they are sorting it so the value would remain only one there\n",
        "\n",
        "ipl_df['batter-pair'] = ipl_df[['batter','non-striker']].apply(func,axis = 1)\n",
        "ipl_df.groupby('batter-pair')['total_run'].sum().sort_values(ascending = False).head()"
      ]
    },
    {
      "cell_type": "markdown",
      "metadata": {
        "id": "gVJ2CnAxO-b0"
      },
      "source": [
        "###`Q-8:` Make a dataframe for all batting pairs played together.\n",
        "```\n",
        "Batsman1 Batsman2 Runs Avg StrikeRate\n",
        "```\n",
        "\n",
        "> Just to ease this question you can count wide-balls for strike rate."
      ]
    },
    {
      "cell_type": "code",
      "execution_count": 144,
      "metadata": {
        "id": "S0bgMx_dPA9Y"
      },
      "outputs": [
        {
          "data": {
            "application/vnd.microsoft.datawrangler.viewer.v0+json": {
              "columns": [
                {
                  "name": "index",
                  "rawType": "int64",
                  "type": "integer"
                },
                {
                  "name": "Batsman 1",
                  "rawType": "object",
                  "type": "string"
                },
                {
                  "name": "Batsman 2",
                  "rawType": "object",
                  "type": "string"
                },
                {
                  "name": "Runs",
                  "rawType": "int64",
                  "type": "integer"
                },
                {
                  "name": "Avg",
                  "rawType": "float64",
                  "type": "float"
                },
                {
                  "name": "strikeRate",
                  "rawType": "float64",
                  "type": "float"
                }
              ],
              "ref": "b78f9315-6441-4126-9258-ea5a0a1de72a",
              "rows": [
                [
                  "302",
                  "AB de Villiers",
                  "V Kohli",
                  "3134",
                  "44.140845070422536",
                  "152.20981058766392"
                ],
                [
                  "1251",
                  "CH Gayle",
                  "V Kohli",
                  "2802",
                  "52.867924528301884",
                  "142.01723264064876"
                ],
                [
                  "1508",
                  "DA Warner",
                  "S Dhawan",
                  "2357",
                  "48.10204081632653",
                  "136.6376811594203"
                ],
                [
                  "1954",
                  "G Gambhir",
                  "RV Uthappa",
                  "1906",
                  "39.708333333333336",
                  "133.75438596491227"
                ],
                [
                  "2803",
                  "KL Rahul",
                  "MA Agarwal",
                  "1731",
                  "52.45454545454545",
                  "142.93971924029728"
                ],
                [
                  "1228",
                  "CH Gayle",
                  "KL Rahul",
                  "1633",
                  "45.361111111111114",
                  "135.18211920529802"
                ],
                [
                  "3420",
                  "MS Dhoni",
                  "SK Raina",
                  "1482",
                  "30.244897959183675",
                  "137.98882681564245"
                ],
                [
                  "3708",
                  "PP Shaw",
                  "S Dhawan",
                  "1461",
                  "33.20454545454545",
                  "141.15942028985506"
                ],
                [
                  "1485",
                  "DA Warner",
                  "JM Bairstow",
                  "1401",
                  "53.88461538461539",
                  "144.2842430484037"
                ],
                [
                  "3947",
                  "RR Pant",
                  "SS Iyer",
                  "1368",
                  "36.972972972972975",
                  "129.1784702549575"
                ],
                [
                  "3148",
                  "M Vijay",
                  "MEK Hussey",
                  "1367",
                  "40.205882352941174",
                  "119.18047079337401"
                ],
                [
                  "1011",
                  "BB McCullum",
                  "DR Smith",
                  "1363",
                  "34.94871794871795",
                  "134.4181459566075"
                ],
                [
                  "2656",
                  "KA Pollard",
                  "RG Sharma",
                  "1344",
                  "34.46153846153846",
                  "154.66052934407364"
                ],
                [
                  "3411",
                  "MS Dhoni",
                  "RA Jadeja",
                  "1290",
                  "30.714285714285715",
                  "141.91419141914193"
                ],
                [
                  "3727",
                  "Q de Kock",
                  "RG Sharma",
                  "1274",
                  "33.526315789473685",
                  "130.5327868852459"
                ],
                [
                  "624",
                  "AM Rahane",
                  "SR Watson",
                  "1169",
                  "41.75",
                  "132.8409090909091"
                ],
                [
                  "3229",
                  "MEK Hussey",
                  "SK Raina",
                  "1168",
                  "41.714285714285715",
                  "137.5736160188457"
                ],
                [
                  "781",
                  "AT Rayudu",
                  "RG Sharma",
                  "1165",
                  "30.657894736842106",
                  "116.26746506986028"
                ],
                [
                  "2383",
                  "JC Buttler",
                  "SV Samson",
                  "1147",
                  "34.75757575757576",
                  "144.64060529634298"
                ],
                [
                  "614",
                  "AM Rahane",
                  "R Dravid",
                  "1145",
                  "35.78125",
                  "112.03522504892366"
                ],
                [
                  "1921",
                  "F du Plessis",
                  "SK Raina",
                  "1056",
                  "31.058823529411764",
                  "123.50877192982456"
                ],
                [
                  "3289",
                  "MK Pandey",
                  "RV Uthappa",
                  "1040",
                  "32.5",
                  "118.4510250569476"
                ],
                [
                  "760",
                  "AT Rayudu",
                  "KA Pollard",
                  "1023",
                  "34.1",
                  "155.2352048558422"
                ],
                [
                  "1033",
                  "BB McCullum",
                  "SK Raina",
                  "976",
                  "36.148148148148145",
                  "142.06695778748178"
                ],
                [
                  "1940",
                  "G Gambhir",
                  "JH Kallis",
                  "961",
                  "31.0",
                  "115.22781774580335"
                ],
                [
                  "629",
                  "AM Rahane",
                  "SV Samson",
                  "957",
                  "43.5",
                  "125.09803921568627"
                ],
                [
                  "1413",
                  "D Padikkal",
                  "V Kohli",
                  "946",
                  "45.04761904761905",
                  "127.32166890982504"
                ],
                [
                  "1964",
                  "G Gambhir",
                  "V Sehwag",
                  "933",
                  "34.55555555555556",
                  "151.2155591572123"
                ],
                [
                  "315",
                  "AC Gilchrist",
                  "HH Gibbs",
                  "921",
                  "35.42307692307692",
                  "130.45325779036827"
                ],
                [
                  "2103",
                  "HH Pandya",
                  "KA Pollard",
                  "919",
                  "34.03703703703704",
                  "163.23268206039077"
                ],
                [
                  "1249",
                  "CH Gayle",
                  "TM Dilshan",
                  "909",
                  "45.45",
                  "140.06163328197226"
                ],
                [
                  "2894",
                  "KS Williamson",
                  "S Dhawan",
                  "898",
                  "52.8235294117647",
                  "138.58024691358025"
                ],
                [
                  "1917",
                  "F du Plessis",
                  "RD Gaikwad",
                  "894",
                  "42.57142857142857",
                  "126.80851063829788"
                ],
                [
                  "2281",
                  "Ishan Kishan",
                  "RG Sharma",
                  "875",
                  "35.0",
                  "130.40238450074514"
                ],
                [
                  "4029",
                  "S Dhawan",
                  "SS Iyer",
                  "868",
                  "41.333333333333336",
                  "125.97968069666183"
                ],
                [
                  "2986",
                  "LMP Simmons",
                  "PA Patel",
                  "854",
                  "44.94736842105263",
                  "130.1829268292683"
                ],
                [
                  "1925",
                  "F du Plessis",
                  "SR Watson",
                  "846",
                  "40.285714285714285",
                  "121.03004291845494"
                ],
                [
                  "4021",
                  "S Badrinath",
                  "SK Raina",
                  "820",
                  "37.27272727272727",
                  "128.9308176100629"
                ],
                [
                  "1585",
                  "DJ Bravo",
                  "MS Dhoni",
                  "818",
                  "38.95238095238095",
                  "150.64456721915286"
                ],
                [
                  "1945",
                  "G Gambhir",
                  "MK Pandey",
                  "812",
                  "38.666666666666664",
                  "134.21487603305786"
                ],
                [
                  "769",
                  "AT Rayudu",
                  "MS Dhoni",
                  "800",
                  "57.142857142857146",
                  "141.84397163120568"
                ],
                [
                  "2283",
                  "Ishan Kishan",
                  "SA Yadav",
                  "788",
                  "32.833333333333336",
                  "128.54812398042415"
                ],
                [
                  "1494",
                  "DA Warner",
                  "MK Pandey",
                  "787",
                  "60.53846153846154",
                  "130.73089700996678"
                ],
                [
                  "1513",
                  "DA Warner",
                  "V Sehwag",
                  "765",
                  "24.677419354838708",
                  "146.83301343570056"
                ],
                [
                  "4153",
                  "SR Tendulkar",
                  "ST Jayasuriya",
                  "752",
                  "35.80952380952381",
                  "128.98799313893653"
                ],
                [
                  "790",
                  "AT Rayudu",
                  "SR Watson",
                  "748",
                  "39.36842105263158",
                  "138.00738007380073"
                ],
                [
                  "3781",
                  "R Dravid",
                  "SR Watson",
                  "745",
                  "49.666666666666664",
                  "128.44827586206898"
                ],
                [
                  "1794",
                  "DR Smith",
                  "SK Raina",
                  "739",
                  "29.56",
                  "145.4724409448819"
                ],
                [
                  "1204",
                  "CA Lynn",
                  "SP Narine",
                  "731",
                  "28.115384615384617",
                  "168.82217090069284"
                ],
                [
                  "622",
                  "AM Rahane",
                  "SPD Smith",
                  "719",
                  "42.294117647058826",
                  "125.26132404181185"
                ]
              ],
              "shape": {
                "columns": 5,
                "rows": 4259
              }
            },
            "text/html": [
              "<div>\n",
              "<style scoped>\n",
              "    .dataframe tbody tr th:only-of-type {\n",
              "        vertical-align: middle;\n",
              "    }\n",
              "\n",
              "    .dataframe tbody tr th {\n",
              "        vertical-align: top;\n",
              "    }\n",
              "\n",
              "    .dataframe thead th {\n",
              "        text-align: right;\n",
              "    }\n",
              "</style>\n",
              "<table border=\"1\" class=\"dataframe\">\n",
              "  <thead>\n",
              "    <tr style=\"text-align: right;\">\n",
              "      <th></th>\n",
              "      <th>Batsman 1</th>\n",
              "      <th>Batsman 2</th>\n",
              "      <th>Runs</th>\n",
              "      <th>Avg</th>\n",
              "      <th>strikeRate</th>\n",
              "    </tr>\n",
              "  </thead>\n",
              "  <tbody>\n",
              "    <tr>\n",
              "      <th>302</th>\n",
              "      <td>AB de Villiers</td>\n",
              "      <td>V Kohli</td>\n",
              "      <td>3134</td>\n",
              "      <td>44.140845</td>\n",
              "      <td>152.209811</td>\n",
              "    </tr>\n",
              "    <tr>\n",
              "      <th>1251</th>\n",
              "      <td>CH Gayle</td>\n",
              "      <td>V Kohli</td>\n",
              "      <td>2802</td>\n",
              "      <td>52.867925</td>\n",
              "      <td>142.017233</td>\n",
              "    </tr>\n",
              "    <tr>\n",
              "      <th>1508</th>\n",
              "      <td>DA Warner</td>\n",
              "      <td>S Dhawan</td>\n",
              "      <td>2357</td>\n",
              "      <td>48.102041</td>\n",
              "      <td>136.637681</td>\n",
              "    </tr>\n",
              "    <tr>\n",
              "      <th>1954</th>\n",
              "      <td>G Gambhir</td>\n",
              "      <td>RV Uthappa</td>\n",
              "      <td>1906</td>\n",
              "      <td>39.708333</td>\n",
              "      <td>133.754386</td>\n",
              "    </tr>\n",
              "    <tr>\n",
              "      <th>2803</th>\n",
              "      <td>KL Rahul</td>\n",
              "      <td>MA Agarwal</td>\n",
              "      <td>1731</td>\n",
              "      <td>52.454545</td>\n",
              "      <td>142.939719</td>\n",
              "    </tr>\n",
              "    <tr>\n",
              "      <th>...</th>\n",
              "      <td>...</td>\n",
              "      <td>...</td>\n",
              "      <td>...</td>\n",
              "      <td>...</td>\n",
              "      <td>...</td>\n",
              "    </tr>\n",
              "    <tr>\n",
              "      <th>34</th>\n",
              "      <td>A Choudhary</td>\n",
              "      <td>S Badree</td>\n",
              "      <td>0</td>\n",
              "      <td>0.000000</td>\n",
              "      <td>0.000000</td>\n",
              "    </tr>\n",
              "    <tr>\n",
              "      <th>4215</th>\n",
              "      <td>T Stubbs</td>\n",
              "      <td>Tilak Varma</td>\n",
              "      <td>0</td>\n",
              "      <td>0.000000</td>\n",
              "      <td>0.000000</td>\n",
              "    </tr>\n",
              "    <tr>\n",
              "      <th>64</th>\n",
              "      <td>A Mishra</td>\n",
              "      <td>CL White</td>\n",
              "      <td>0</td>\n",
              "      <td>0.000000</td>\n",
              "      <td>0.000000</td>\n",
              "    </tr>\n",
              "    <tr>\n",
              "      <th>3114</th>\n",
              "      <td>M Muralitharan</td>\n",
              "      <td>MS Gony</td>\n",
              "      <td>0</td>\n",
              "      <td>0.000000</td>\n",
              "      <td>0.000000</td>\n",
              "    </tr>\n",
              "    <tr>\n",
              "      <th>3107</th>\n",
              "      <td>M Morkel</td>\n",
              "      <td>S Nadeem</td>\n",
              "      <td>0</td>\n",
              "      <td>0.000000</td>\n",
              "      <td>0.000000</td>\n",
              "    </tr>\n",
              "  </tbody>\n",
              "</table>\n",
              "<p>4259 rows × 5 columns</p>\n",
              "</div>"
            ],
            "text/plain": [
              "           Batsman 1    Batsman 2  Runs        Avg  strikeRate\n",
              "302   AB de Villiers      V Kohli  3134  44.140845  152.209811\n",
              "1251        CH Gayle      V Kohli  2802  52.867925  142.017233\n",
              "1508       DA Warner     S Dhawan  2357  48.102041  136.637681\n",
              "1954       G Gambhir   RV Uthappa  1906  39.708333  133.754386\n",
              "2803        KL Rahul   MA Agarwal  1731  52.454545  142.939719\n",
              "...              ...          ...   ...        ...         ...\n",
              "34       A Choudhary     S Badree     0   0.000000    0.000000\n",
              "4215        T Stubbs  Tilak Varma     0   0.000000    0.000000\n",
              "64          A Mishra     CL White     0   0.000000    0.000000\n",
              "3114  M Muralitharan      MS Gony     0   0.000000    0.000000\n",
              "3107        M Morkel     S Nadeem     0   0.000000    0.000000\n",
              "\n",
              "[4259 rows x 5 columns]"
            ]
          },
          "execution_count": 144,
          "metadata": {},
          "output_type": "execute_result"
        }
      ],
      "source": [
        "df = pd.DataFrame(columns = ['Batsman1', 'Batsman2' ,'Runs' ,'Avg', 'StrikeRate'])\n",
        "\n",
        "\n",
        "temp_df = ipl_df.groupby('batter-pair').agg({\n",
        "    \n",
        "    \"total_run\" : 'sum',\n",
        "    \"ballnumber\":\"count\",\n",
        "    \"isWicketDelivery\":\"sum\"    \n",
        "    \n",
        "}).reset_index()\n",
        "\n",
        "temp_df['Batsman 1'] = temp_df[\"batter-pair\"].apply(lambda x : x.split(\"-\")[0])\n",
        "temp_df['Batsman 2'] = temp_df[\"batter-pair\"].apply(lambda x : x.split(\"-\")[1])\n",
        "temp_df.rename(columns = {'total_run' : \"Runs\"},inplace = True)\n",
        "temp_df[\"strikeRate\"] = temp_df['Runs']/temp_df['ballnumber'] *100\n",
        "temp_df[\"Avg\"]  = temp_df['Runs']/temp_df[\"isWicketDelivery\"]\n",
        "\n",
        "temp_df.sort_values(by = 'Runs',ascending = False,inplace = True)\n",
        "\n",
        "temp_df[['Batsman 1', 'Batsman 2' ,'Runs' ,'Avg', 'strikeRate']]"
      ]
    },
    {
      "cell_type": "code",
      "execution_count": 67,
      "metadata": {},
      "outputs": [
        {
          "data": {
            "application/vnd.microsoft.datawrangler.viewer.v0+json": {
              "columns": [
                {
                  "name": "('batter', 'non-striker')",
                  "rawType": "object",
                  "type": "unknown"
                },
                {
                  "name": "Batsman1",
                  "rawType": "object",
                  "type": "string"
                },
                {
                  "name": "Batsman2",
                  "rawType": "object",
                  "type": "string"
                },
                {
                  "name": "Runs",
                  "rawType": "int64",
                  "type": "integer"
                },
                {
                  "name": "Avg",
                  "rawType": "float64",
                  "type": "float"
                },
                {
                  "name": "StrikeRate",
                  "rawType": "float64",
                  "type": "float"
                }
              ],
              "ref": "2498ed00-ba0d-46a9-8ebb-db679300bcc7",
              "rows": [
                [
                  "('A Ashish Reddy', 'A Mishra')",
                  "A Ashish Reddy",
                  "A Mishra",
                  "19",
                  "1.2666666666666666",
                  "126.66666666666667"
                ],
                [
                  "('A Ashish Reddy', 'AA Jhunjhunwala')",
                  "A Ashish Reddy",
                  "AA Jhunjhunwala",
                  "3",
                  "1.0",
                  "100.0"
                ],
                [
                  "('A Ashish Reddy', 'CL White')",
                  "A Ashish Reddy",
                  "CL White",
                  "3",
                  "1.0",
                  "100.0"
                ],
                [
                  "('A Ashish Reddy', 'DB Ravi Teja')",
                  "A Ashish Reddy",
                  "DB Ravi Teja",
                  "6",
                  "2.0",
                  "200.0"
                ],
                [
                  "('A Ashish Reddy', 'DJG Sammy')",
                  "A Ashish Reddy",
                  "DJG Sammy",
                  "26",
                  "1.4444444444444444",
                  "144.44444444444446"
                ],
                [
                  "('A Ashish Reddy', 'DT Christian')",
                  "A Ashish Reddy",
                  "DT Christian",
                  "3",
                  "1.0",
                  "100.0"
                ],
                [
                  "('A Ashish Reddy', 'EJG Morgan')",
                  "A Ashish Reddy",
                  "EJG Morgan",
                  "42",
                  "1.5",
                  "150.0"
                ],
                [
                  "('A Ashish Reddy', 'GH Vihari')",
                  "A Ashish Reddy",
                  "GH Vihari",
                  "15",
                  "1.0714285714285714",
                  "107.14285714285714"
                ],
                [
                  "('A Ashish Reddy', 'J Theron')",
                  "A Ashish Reddy",
                  "J Theron",
                  "5",
                  "1.0",
                  "100.0"
                ],
                [
                  "('A Ashish Reddy', 'JP Duminy')",
                  "A Ashish Reddy",
                  "JP Duminy",
                  "10",
                  "1.0",
                  "100.0"
                ],
                [
                  "('A Ashish Reddy', 'KV Sharma')",
                  "A Ashish Reddy",
                  "KV Sharma",
                  "53",
                  "1.7096774193548387",
                  "170.96774193548387"
                ],
                [
                  "('A Ashish Reddy', 'MC Henriques')",
                  "A Ashish Reddy",
                  "MC Henriques",
                  "11",
                  "1.375",
                  "137.5"
                ],
                [
                  "('A Ashish Reddy', 'NLTC Perera')",
                  "A Ashish Reddy",
                  "NLTC Perera",
                  "27",
                  "1.2857142857142858",
                  "128.57142857142858"
                ],
                [
                  "('A Ashish Reddy', 'PA Patel')",
                  "A Ashish Reddy",
                  "PA Patel",
                  "19",
                  "1.2666666666666666",
                  "126.66666666666667"
                ],
                [
                  "('A Ashish Reddy', 'RS Bopara')",
                  "A Ashish Reddy",
                  "RS Bopara",
                  "13",
                  "1.4444444444444444",
                  "144.44444444444446"
                ],
                [
                  "('A Ashish Reddy', 'S Dhawan')",
                  "A Ashish Reddy",
                  "S Dhawan",
                  "24",
                  "2.6666666666666665",
                  "266.6666666666667"
                ],
                [
                  "('A Badoni', 'DJ Hooda')",
                  "A Badoni",
                  "DJ Hooda",
                  "43",
                  "1.0",
                  "100.0"
                ],
                [
                  "('A Badoni', 'E Lewis')",
                  "A Badoni",
                  "E Lewis",
                  "19",
                  "1.3571428571428572",
                  "135.71428571428572"
                ],
                [
                  "('A Badoni', 'JO Holder')",
                  "A Badoni",
                  "JO Holder",
                  "10",
                  "1.25",
                  "125.0"
                ],
                [
                  "('A Badoni', 'KH Pandya')",
                  "A Badoni",
                  "KH Pandya",
                  "38",
                  "1.6521739130434783",
                  "165.2173913043478"
                ],
                [
                  "('A Badoni', 'KL Rahul')",
                  "A Badoni",
                  "KL Rahul",
                  "25",
                  "1.3157894736842106",
                  "131.57894736842104"
                ],
                [
                  "('A Badoni', 'MP Stoinis')",
                  "A Badoni",
                  "MP Stoinis",
                  "21",
                  "0.875",
                  "87.5"
                ],
                [
                  "('A Badoni', 'Q de Kock')",
                  "A Badoni",
                  "Q de Kock",
                  "5",
                  "0.7142857142857143",
                  "71.42857142857143"
                ],
                [
                  "('A Chandila', 'DH Yagnik')",
                  "A Chandila",
                  "DH Yagnik",
                  "1",
                  "1.0",
                  "100.0"
                ],
                [
                  "('A Chandila', 'S Sreesanth')",
                  "A Chandila",
                  "S Sreesanth",
                  "1",
                  "0.5",
                  "50.0"
                ],
                [
                  "('A Chandila', 'SK Trivedi')",
                  "A Chandila",
                  "SK Trivedi",
                  "2",
                  "0.6666666666666666",
                  "66.66666666666667"
                ],
                [
                  "('A Chopra', 'BJ Hodge')",
                  "A Chopra",
                  "BJ Hodge",
                  "13",
                  "0.52",
                  "52.0"
                ],
                [
                  "('A Chopra', 'SC Ganguly')",
                  "A Chopra",
                  "SC Ganguly",
                  "26",
                  "0.9285714285714286",
                  "92.85714285714286"
                ],
                [
                  "('A Chopra', 'Salman Butt')",
                  "A Chopra",
                  "Salman Butt",
                  "14",
                  "0.6363636363636364",
                  "63.63636363636363"
                ],
                [
                  "('A Choudhary', 'S Aravind')",
                  "A Choudhary",
                  "S Aravind",
                  "15",
                  "1.25",
                  "125.0"
                ],
                [
                  "('A Choudhary', 'YS Chahal')",
                  "A Choudhary",
                  "YS Chahal",
                  "10",
                  "1.25",
                  "125.0"
                ],
                [
                  "('A Dananjaya', 'HH Pandya')",
                  "A Dananjaya",
                  "HH Pandya",
                  "2",
                  "0.6666666666666666",
                  "66.66666666666667"
                ],
                [
                  "('A Dananjaya', 'M Markande')",
                  "A Dananjaya",
                  "M Markande",
                  "2",
                  "1.0",
                  "100.0"
                ],
                [
                  "('A Flintoff', 'JA Morkel')",
                  "A Flintoff",
                  "JA Morkel",
                  "17",
                  "1.4166666666666667",
                  "141.66666666666666"
                ],
                [
                  "('A Flintoff', 'ML Hayden')",
                  "A Flintoff",
                  "ML Hayden",
                  "24",
                  "0.96",
                  "96.0"
                ],
                [
                  "('A Flintoff', 'SK Raina')",
                  "A Flintoff",
                  "SK Raina",
                  "21",
                  "1.05",
                  "105.0"
                ],
                [
                  "('A Kumble', 'B Akhil')",
                  "A Kumble",
                  "B Akhil",
                  "2",
                  "2.0",
                  "200.0"
                ],
                [
                  "('A Kumble', 'DW Steyn')",
                  "A Kumble",
                  "DW Steyn",
                  "1",
                  "0.5",
                  "50.0"
                ],
                [
                  "('A Kumble', 'KP Appanna')",
                  "A Kumble",
                  "KP Appanna",
                  "1",
                  "1.0",
                  "100.0"
                ],
                [
                  "('A Kumble', 'LRPL Taylor')",
                  "A Kumble",
                  "LRPL Taylor",
                  "1",
                  "0.3333333333333333",
                  "33.333333333333336"
                ],
                [
                  "('A Kumble', 'MV Boucher')",
                  "A Kumble",
                  "MV Boucher",
                  "7",
                  "1.1666666666666667",
                  "116.66666666666667"
                ],
                [
                  "('A Kumble', 'P Kumar')",
                  "A Kumble",
                  "P Kumar",
                  "2",
                  "0.4",
                  "40.0"
                ],
                [
                  "('A Kumble', 'R Dravid')",
                  "A Kumble",
                  "R Dravid",
                  "11",
                  "0.6111111111111112",
                  "61.111111111111114"
                ],
                [
                  "('A Kumble', 'R Vinay Kumar')",
                  "A Kumble",
                  "R Vinay Kumar",
                  "8",
                  "0.8",
                  "80.0"
                ],
                [
                  "('A Kumble', 'RV Uthappa')",
                  "A Kumble",
                  "RV Uthappa",
                  "1",
                  "1.0",
                  "100.0"
                ],
                [
                  "('A Kumble', 'V Kohli')",
                  "A Kumble",
                  "V Kohli",
                  "1",
                  "1.0",
                  "100.0"
                ],
                [
                  "('A Kumble', 'Z Khan')",
                  "A Kumble",
                  "Z Khan",
                  "0",
                  "0.0",
                  "0.0"
                ],
                [
                  "('A Manohar', 'DA Miller')",
                  "A Manohar",
                  "DA Miller",
                  "1",
                  "0.5",
                  "50.0"
                ],
                [
                  "('A Manohar', 'HH Pandya')",
                  "A Manohar",
                  "HH Pandya",
                  "78",
                  "1.5294117647058822",
                  "152.94117647058823"
                ],
                [
                  "('A Manohar', 'R Tewatia')",
                  "A Manohar",
                  "R Tewatia",
                  "17",
                  "1.2142857142857142",
                  "121.42857142857143"
                ]
              ],
              "shape": {
                "columns": 5,
                "rows": 7755
              }
            },
            "text/html": [
              "<div>\n",
              "<style scoped>\n",
              "    .dataframe tbody tr th:only-of-type {\n",
              "        vertical-align: middle;\n",
              "    }\n",
              "\n",
              "    .dataframe tbody tr th {\n",
              "        vertical-align: top;\n",
              "    }\n",
              "\n",
              "    .dataframe thead th {\n",
              "        text-align: right;\n",
              "    }\n",
              "</style>\n",
              "<table border=\"1\" class=\"dataframe\">\n",
              "  <thead>\n",
              "    <tr style=\"text-align: right;\">\n",
              "      <th></th>\n",
              "      <th></th>\n",
              "      <th>Batsman1</th>\n",
              "      <th>Batsman2</th>\n",
              "      <th>Runs</th>\n",
              "      <th>Avg</th>\n",
              "      <th>StrikeRate</th>\n",
              "    </tr>\n",
              "    <tr>\n",
              "      <th>batter</th>\n",
              "      <th>non-striker</th>\n",
              "      <th></th>\n",
              "      <th></th>\n",
              "      <th></th>\n",
              "      <th></th>\n",
              "      <th></th>\n",
              "    </tr>\n",
              "  </thead>\n",
              "  <tbody>\n",
              "    <tr>\n",
              "      <th rowspan=\"5\" valign=\"top\">A Ashish Reddy</th>\n",
              "      <th>A Mishra</th>\n",
              "      <td>A Ashish Reddy</td>\n",
              "      <td>A Mishra</td>\n",
              "      <td>19</td>\n",
              "      <td>1.266667</td>\n",
              "      <td>126.666667</td>\n",
              "    </tr>\n",
              "    <tr>\n",
              "      <th>AA Jhunjhunwala</th>\n",
              "      <td>A Ashish Reddy</td>\n",
              "      <td>AA Jhunjhunwala</td>\n",
              "      <td>3</td>\n",
              "      <td>1.000000</td>\n",
              "      <td>100.000000</td>\n",
              "    </tr>\n",
              "    <tr>\n",
              "      <th>CL White</th>\n",
              "      <td>A Ashish Reddy</td>\n",
              "      <td>CL White</td>\n",
              "      <td>3</td>\n",
              "      <td>1.000000</td>\n",
              "      <td>100.000000</td>\n",
              "    </tr>\n",
              "    <tr>\n",
              "      <th>DB Ravi Teja</th>\n",
              "      <td>A Ashish Reddy</td>\n",
              "      <td>DB Ravi Teja</td>\n",
              "      <td>6</td>\n",
              "      <td>2.000000</td>\n",
              "      <td>200.000000</td>\n",
              "    </tr>\n",
              "    <tr>\n",
              "      <th>DJG Sammy</th>\n",
              "      <td>A Ashish Reddy</td>\n",
              "      <td>DJG Sammy</td>\n",
              "      <td>26</td>\n",
              "      <td>1.444444</td>\n",
              "      <td>144.444444</td>\n",
              "    </tr>\n",
              "    <tr>\n",
              "      <th>...</th>\n",
              "      <th>...</th>\n",
              "      <td>...</td>\n",
              "      <td>...</td>\n",
              "      <td>...</td>\n",
              "      <td>...</td>\n",
              "      <td>...</td>\n",
              "    </tr>\n",
              "    <tr>\n",
              "      <th rowspan=\"5\" valign=\"top\">Z Khan</th>\n",
              "      <th>S Aravind</th>\n",
              "      <td>Z Khan</td>\n",
              "      <td>S Aravind</td>\n",
              "      <td>0</td>\n",
              "      <td>0.000000</td>\n",
              "      <td>0.000000</td>\n",
              "    </tr>\n",
              "    <tr>\n",
              "      <th>S Nadeem</th>\n",
              "      <td>Z Khan</td>\n",
              "      <td>S Nadeem</td>\n",
              "      <td>3</td>\n",
              "      <td>0.600000</td>\n",
              "      <td>60.000000</td>\n",
              "    </tr>\n",
              "    <tr>\n",
              "      <th>SL Malinga</th>\n",
              "      <td>Z Khan</td>\n",
              "      <td>SL Malinga</td>\n",
              "      <td>16</td>\n",
              "      <td>2.000000</td>\n",
              "      <td>200.000000</td>\n",
              "    </tr>\n",
              "    <tr>\n",
              "      <th>SR Tendulkar</th>\n",
              "      <td>Z Khan</td>\n",
              "      <td>SR Tendulkar</td>\n",
              "      <td>2</td>\n",
              "      <td>0.666667</td>\n",
              "      <td>66.666667</td>\n",
              "    </tr>\n",
              "    <tr>\n",
              "      <th>SS Tiwary</th>\n",
              "      <td>Z Khan</td>\n",
              "      <td>SS Tiwary</td>\n",
              "      <td>21</td>\n",
              "      <td>0.840000</td>\n",
              "      <td>84.000000</td>\n",
              "    </tr>\n",
              "  </tbody>\n",
              "</table>\n",
              "<p>7755 rows × 5 columns</p>\n",
              "</div>"
            ],
            "text/plain": [
              "                                      Batsman1         Batsman2  Runs  \\\n",
              "batter         non-striker                                              \n",
              "A Ashish Reddy A Mishra         A Ashish Reddy         A Mishra    19   \n",
              "               AA Jhunjhunwala  A Ashish Reddy  AA Jhunjhunwala     3   \n",
              "               CL White         A Ashish Reddy         CL White     3   \n",
              "               DB Ravi Teja     A Ashish Reddy     DB Ravi Teja     6   \n",
              "               DJG Sammy        A Ashish Reddy        DJG Sammy    26   \n",
              "...                                        ...              ...   ...   \n",
              "Z Khan         S Aravind                Z Khan        S Aravind     0   \n",
              "               S Nadeem                 Z Khan         S Nadeem     3   \n",
              "               SL Malinga               Z Khan       SL Malinga    16   \n",
              "               SR Tendulkar             Z Khan     SR Tendulkar     2   \n",
              "               SS Tiwary                Z Khan        SS Tiwary    21   \n",
              "\n",
              "                                     Avg  StrikeRate  \n",
              "batter         non-striker                            \n",
              "A Ashish Reddy A Mishra         1.266667  126.666667  \n",
              "               AA Jhunjhunwala  1.000000  100.000000  \n",
              "               CL White         1.000000  100.000000  \n",
              "               DB Ravi Teja     2.000000  200.000000  \n",
              "               DJG Sammy        1.444444  144.444444  \n",
              "...                                  ...         ...  \n",
              "Z Khan         S Aravind        0.000000    0.000000  \n",
              "               S Nadeem         0.600000   60.000000  \n",
              "               SL Malinga       2.000000  200.000000  \n",
              "               SR Tendulkar     0.666667   66.666667  \n",
              "               SS Tiwary        0.840000   84.000000  \n",
              "\n",
              "[7755 rows x 5 columns]"
            ]
          },
          "execution_count": 67,
          "metadata": {},
          "output_type": "execute_result"
        }
      ],
      "source": []
    },
    {
      "cell_type": "code",
      "execution_count": 81,
      "metadata": {},
      "outputs": [
        {
          "data": {
            "application/vnd.microsoft.datawrangler.viewer.v0+json": {
              "columns": [
                {
                  "name": "('batter', 'non-striker')",
                  "rawType": "object",
                  "type": "unknown"
                },
                {
                  "name": "Batsman1",
                  "rawType": "object",
                  "type": "string"
                },
                {
                  "name": "Batsman2",
                  "rawType": "object",
                  "type": "string"
                },
                {
                  "name": "Runs",
                  "rawType": "int64",
                  "type": "integer"
                },
                {
                  "name": "Avg",
                  "rawType": "float64",
                  "type": "float"
                },
                {
                  "name": "StrikeRate",
                  "rawType": "float64",
                  "type": "float"
                }
              ],
              "ref": "eded474f-54a9-400b-9502-eaf54c15de44",
              "rows": [
                [
                  "('AB de Villiers', 'V Kohli')",
                  "AB de Villiers",
                  "V Kohli",
                  "1566",
                  "20.605263157894736",
                  "151.8913676042677"
                ],
                [
                  "('CH Gayle', 'V Kohli')",
                  "CH Gayle",
                  "V Kohli",
                  "1508",
                  "26.45614035087719",
                  "149.90059642147116"
                ],
                [
                  "('V Kohli', 'AB de Villiers')",
                  "V Kohli",
                  "AB de Villiers",
                  "1471",
                  "19.87837837837838",
                  "143.09338521400778"
                ],
                [
                  "('DA Warner', 'S Dhawan')",
                  "DA Warner",
                  "S Dhawan",
                  "1353",
                  "27.06",
                  "144.7058823529412"
                ],
                [
                  "('V Kohli', 'CH Gayle')",
                  "V Kohli",
                  "CH Gayle",
                  "1142",
                  "20.392857142857142",
                  "118.09720785935885"
                ],
                [
                  "('RV Uthappa', 'G Gambhir')",
                  "RV Uthappa",
                  "G Gambhir",
                  "1011",
                  "21.51063829787234",
                  "136.0699865410498"
                ],
                [
                  "('S Dhawan', 'DA Warner')",
                  "S Dhawan",
                  "DA Warner",
                  "888",
                  "18.893617021276597",
                  "112.40506329113924"
                ],
                [
                  "('CH Gayle', 'KL Rahul')",
                  "CH Gayle",
                  "KL Rahul",
                  "868",
                  "24.11111111111111",
                  "134.36532507739938"
                ],
                [
                  "('MA Agarwal', 'KL Rahul')",
                  "MA Agarwal",
                  "KL Rahul",
                  "859",
                  "26.03030303030303",
                  "146.08843537414967"
                ],
                [
                  "('KL Rahul', 'MA Agarwal')",
                  "KL Rahul",
                  "MA Agarwal",
                  "804",
                  "25.93548387096774",
                  "129.0529695024077"
                ],
                [
                  "('PP Shaw', 'S Dhawan')",
                  "PP Shaw",
                  "S Dhawan",
                  "793",
                  "18.022727272727273",
                  "143.9201451905626"
                ],
                [
                  "('G Gambhir', 'RV Uthappa')",
                  "G Gambhir",
                  "RV Uthappa",
                  "784",
                  "17.043478260869566",
                  "114.95601173020528"
                ],
                [
                  "('SK Raina', 'MS Dhoni')",
                  "SK Raina",
                  "MS Dhoni",
                  "759",
                  "14.596153846153847",
                  "147.09302325581396"
                ],
                [
                  "('RR Pant', 'SS Iyer')",
                  "RR Pant",
                  "SS Iyer",
                  "740",
                  "19.473684210526315",
                  "130.28169014084506"
                ],
                [
                  "('KL Rahul', 'CH Gayle')",
                  "KL Rahul",
                  "CH Gayle",
                  "705",
                  "19.054054054054053",
                  "125.44483985765125"
                ],
                [
                  "('MS Dhoni', 'RA Jadeja')",
                  "MS Dhoni",
                  "RA Jadeja",
                  "689",
                  "13.25",
                  "137.8"
                ],
                [
                  "('JM Bairstow', 'DA Warner')",
                  "JM Bairstow",
                  "DA Warner",
                  "688",
                  "28.666666666666668",
                  "146.07218683651806"
                ],
                [
                  "('RG Sharma', 'KA Pollard')",
                  "RG Sharma",
                  "KA Pollard",
                  "686",
                  "15.953488372093023",
                  "163.33333333333334"
                ],
                [
                  "('DR Smith', 'BB McCullum')",
                  "DR Smith",
                  "BB McCullum",
                  "684",
                  "17.53846153846154",
                  "123.68896925858951"
                ],
                [
                  "('MEK Hussey', 'M Vijay')",
                  "MEK Hussey",
                  "M Vijay",
                  "671",
                  "19.17142857142857",
                  "113.72881355932203"
                ],
                [
                  "('MS Dhoni', 'SK Raina')",
                  "MS Dhoni",
                  "SK Raina",
                  "665",
                  "12.314814814814815",
                  "119.17562724014337"
                ],
                [
                  "('DA Warner', 'JM Bairstow')",
                  "DA Warner",
                  "JM Bairstow",
                  "648",
                  "25.92",
                  "129.6"
                ],
                [
                  "('SK Raina', 'MEK Hussey')",
                  "SK Raina",
                  "MEK Hussey",
                  "645",
                  "22.24137931034483",
                  "139.6103896103896"
                ],
                [
                  "('Q de Kock', 'RG Sharma')",
                  "Q de Kock",
                  "RG Sharma",
                  "637",
                  "18.2",
                  "133.8235294117647"
                ],
                [
                  "('M Vijay', 'MEK Hussey')",
                  "M Vijay",
                  "MEK Hussey",
                  "631",
                  "18.02857142857143",
                  "113.28545780969479"
                ],
                [
                  "('S Dhawan', 'PP Shaw')",
                  "S Dhawan",
                  "PP Shaw",
                  "630",
                  "17.027027027027028",
                  "130.16528925619835"
                ],
                [
                  "('R Dravid', 'AM Rahane')",
                  "R Dravid",
                  "AM Rahane",
                  "613",
                  "19.15625",
                  "107.3555166374781"
                ],
                [
                  "('KA Pollard', 'RG Sharma')",
                  "KA Pollard",
                  "RG Sharma",
                  "607",
                  "13.488888888888889",
                  "135.18930957683742"
                ],
                [
                  "('SR Watson', 'AM Rahane')",
                  "SR Watson",
                  "AM Rahane",
                  "594",
                  "21.214285714285715",
                  "130.83700440528634"
                ],
                [
                  "('BB McCullum', 'DR Smith')",
                  "BB McCullum",
                  "DR Smith",
                  "593",
                  "17.96969696969697",
                  "128.63340563991324"
                ],
                [
                  "('RG Sharma', 'Q de Kock')",
                  "RG Sharma",
                  "Q de Kock",
                  "584",
                  "16.22222222222222",
                  "116.8"
                ],
                [
                  "('SS Iyer', 'RR Pant')",
                  "SS Iyer",
                  "RR Pant",
                  "579",
                  "15.236842105263158",
                  "117.92260692464359"
                ],
                [
                  "('RV Uthappa', 'MK Pandey')",
                  "RV Uthappa",
                  "MK Pandey",
                  "573",
                  "17.90625",
                  "125.38293216630197"
                ],
                [
                  "('JC Buttler', 'SV Samson')",
                  "JC Buttler",
                  "SV Samson",
                  "570",
                  "17.8125",
                  "142.85714285714286"
                ],
                [
                  "('RG Sharma', 'AT Rayudu')",
                  "RG Sharma",
                  "AT Rayudu",
                  "566",
                  "15.722222222222221",
                  "113.2"
                ],
                [
                  "('SK Raina', 'F du Plessis')",
                  "SK Raina",
                  "F du Plessis",
                  "561",
                  "16.5",
                  "119.36170212765957"
                ],
                [
                  "('AT Rayudu', 'RG Sharma')",
                  "AT Rayudu",
                  "RG Sharma",
                  "555",
                  "15.0",
                  "110.55776892430279"
                ],
                [
                  "('RA Jadeja', 'MS Dhoni')",
                  "RA Jadeja",
                  "MS Dhoni",
                  "547",
                  "11.638297872340425",
                  "133.74083129584352"
                ],
                [
                  "('CH Gayle', 'TM Dilshan')",
                  "CH Gayle",
                  "TM Dilshan",
                  "541",
                  "27.05",
                  "161.01190476190476"
                ],
                [
                  "('SV Samson', 'JC Buttler')",
                  "SV Samson",
                  "JC Buttler",
                  "528",
                  "17.6",
                  "134.01015228426397"
                ],
                [
                  "('AM Rahane', 'SR Watson')",
                  "AM Rahane",
                  "SR Watson",
                  "522",
                  "18.0",
                  "122.53521126760563"
                ],
                [
                  "('KA Pollard', 'AT Rayudu')",
                  "KA Pollard",
                  "AT Rayudu",
                  "520",
                  "15.757575757575758",
                  "147.72727272727272"
                ],
                [
                  "('BB McCullum', 'SK Raina')",
                  "BB McCullum",
                  "SK Raina",
                  "514",
                  "19.76923076923077",
                  "146.02272727272728"
                ],
                [
                  "('SV Samson', 'AM Rahane')",
                  "SV Samson",
                  "AM Rahane",
                  "507",
                  "22.043478260869566",
                  "126.11940298507463"
                ],
                [
                  "('G Gambhir', 'JH Kallis')",
                  "G Gambhir",
                  "JH Kallis",
                  "496",
                  "16.533333333333335",
                  "120.09685230024213"
                ],
                [
                  "('AC Gilchrist', 'HH Gibbs')",
                  "AC Gilchrist",
                  "HH Gibbs",
                  "494",
                  "19.0",
                  "132.0855614973262"
                ],
                [
                  "('V Sehwag', 'G Gambhir')",
                  "V Sehwag",
                  "G Gambhir",
                  "493",
                  "18.25925925925926",
                  "156.5079365079365"
                ],
                [
                  "('MEK Hussey', 'SK Raina')",
                  "MEK Hussey",
                  "SK Raina",
                  "483",
                  "19.32",
                  "124.8062015503876"
                ],
                [
                  "('AM Rahane', 'R Dravid')",
                  "AM Rahane",
                  "R Dravid",
                  "473",
                  "15.766666666666667",
                  "104.8780487804878"
                ],
                [
                  "('D Padikkal', 'V Kohli')",
                  "D Padikkal",
                  "V Kohli",
                  "469",
                  "21.318181818181817",
                  "122.45430809399478"
                ]
              ],
              "shape": {
                "columns": 5,
                "rows": 7755
              }
            },
            "text/html": [
              "<div>\n",
              "<style scoped>\n",
              "    .dataframe tbody tr th:only-of-type {\n",
              "        vertical-align: middle;\n",
              "    }\n",
              "\n",
              "    .dataframe tbody tr th {\n",
              "        vertical-align: top;\n",
              "    }\n",
              "\n",
              "    .dataframe thead th {\n",
              "        text-align: right;\n",
              "    }\n",
              "</style>\n",
              "<table border=\"1\" class=\"dataframe\">\n",
              "  <thead>\n",
              "    <tr style=\"text-align: right;\">\n",
              "      <th></th>\n",
              "      <th></th>\n",
              "      <th>Batsman1</th>\n",
              "      <th>Batsman2</th>\n",
              "      <th>Runs</th>\n",
              "      <th>Avg</th>\n",
              "      <th>StrikeRate</th>\n",
              "    </tr>\n",
              "    <tr>\n",
              "      <th>batter</th>\n",
              "      <th>non-striker</th>\n",
              "      <th></th>\n",
              "      <th></th>\n",
              "      <th></th>\n",
              "      <th></th>\n",
              "      <th></th>\n",
              "    </tr>\n",
              "  </thead>\n",
              "  <tbody>\n",
              "    <tr>\n",
              "      <th>AB de Villiers</th>\n",
              "      <th>V Kohli</th>\n",
              "      <td>AB de Villiers</td>\n",
              "      <td>V Kohli</td>\n",
              "      <td>1566</td>\n",
              "      <td>20.605263</td>\n",
              "      <td>151.891368</td>\n",
              "    </tr>\n",
              "    <tr>\n",
              "      <th>CH Gayle</th>\n",
              "      <th>V Kohli</th>\n",
              "      <td>CH Gayle</td>\n",
              "      <td>V Kohli</td>\n",
              "      <td>1508</td>\n",
              "      <td>26.456140</td>\n",
              "      <td>149.900596</td>\n",
              "    </tr>\n",
              "    <tr>\n",
              "      <th>V Kohli</th>\n",
              "      <th>AB de Villiers</th>\n",
              "      <td>V Kohli</td>\n",
              "      <td>AB de Villiers</td>\n",
              "      <td>1471</td>\n",
              "      <td>19.878378</td>\n",
              "      <td>143.093385</td>\n",
              "    </tr>\n",
              "    <tr>\n",
              "      <th>DA Warner</th>\n",
              "      <th>S Dhawan</th>\n",
              "      <td>DA Warner</td>\n",
              "      <td>S Dhawan</td>\n",
              "      <td>1353</td>\n",
              "      <td>27.060000</td>\n",
              "      <td>144.705882</td>\n",
              "    </tr>\n",
              "    <tr>\n",
              "      <th>V Kohli</th>\n",
              "      <th>CH Gayle</th>\n",
              "      <td>V Kohli</td>\n",
              "      <td>CH Gayle</td>\n",
              "      <td>1142</td>\n",
              "      <td>20.392857</td>\n",
              "      <td>118.097208</td>\n",
              "    </tr>\n",
              "    <tr>\n",
              "      <th>...</th>\n",
              "      <th>...</th>\n",
              "      <td>...</td>\n",
              "      <td>...</td>\n",
              "      <td>...</td>\n",
              "      <td>...</td>\n",
              "      <td>...</td>\n",
              "    </tr>\n",
              "    <tr>\n",
              "      <th>Q de Kock</th>\n",
              "      <th>KD Karthik</th>\n",
              "      <td>Q de Kock</td>\n",
              "      <td>KD Karthik</td>\n",
              "      <td>0</td>\n",
              "      <td>0.000000</td>\n",
              "      <td>0.000000</td>\n",
              "    </tr>\n",
              "    <tr>\n",
              "      <th rowspan=\"2\" valign=\"top\">M Jansen</th>\n",
              "      <th>RD Chahar</th>\n",
              "      <td>M Jansen</td>\n",
              "      <td>RD Chahar</td>\n",
              "      <td>0</td>\n",
              "      <td>0.000000</td>\n",
              "      <td>0.000000</td>\n",
              "    </tr>\n",
              "    <tr>\n",
              "      <th>KH Pandya</th>\n",
              "      <td>M Jansen</td>\n",
              "      <td>KH Pandya</td>\n",
              "      <td>0</td>\n",
              "      <td>0.000000</td>\n",
              "      <td>0.000000</td>\n",
              "    </tr>\n",
              "    <tr>\n",
              "      <th>M Ashwin</th>\n",
              "      <th>JD Unadkat</th>\n",
              "      <td>M Ashwin</td>\n",
              "      <td>JD Unadkat</td>\n",
              "      <td>0</td>\n",
              "      <td>0.000000</td>\n",
              "      <td>0.000000</td>\n",
              "    </tr>\n",
              "    <tr>\n",
              "      <th>Z Khan</th>\n",
              "      <th>S Aravind</th>\n",
              "      <td>Z Khan</td>\n",
              "      <td>S Aravind</td>\n",
              "      <td>0</td>\n",
              "      <td>0.000000</td>\n",
              "      <td>0.000000</td>\n",
              "    </tr>\n",
              "  </tbody>\n",
              "</table>\n",
              "<p>7755 rows × 5 columns</p>\n",
              "</div>"
            ],
            "text/plain": [
              "                                     Batsman1        Batsman2  Runs  \\\n",
              "batter         non-striker                                            \n",
              "AB de Villiers V Kohli         AB de Villiers         V Kohli  1566   \n",
              "CH Gayle       V Kohli               CH Gayle         V Kohli  1508   \n",
              "V Kohli        AB de Villiers         V Kohli  AB de Villiers  1471   \n",
              "DA Warner      S Dhawan             DA Warner        S Dhawan  1353   \n",
              "V Kohli        CH Gayle               V Kohli        CH Gayle  1142   \n",
              "...                                       ...             ...   ...   \n",
              "Q de Kock      KD Karthik           Q de Kock      KD Karthik     0   \n",
              "M Jansen       RD Chahar             M Jansen       RD Chahar     0   \n",
              "               KH Pandya             M Jansen       KH Pandya     0   \n",
              "M Ashwin       JD Unadkat            M Ashwin      JD Unadkat     0   \n",
              "Z Khan         S Aravind               Z Khan       S Aravind     0   \n",
              "\n",
              "                                     Avg  StrikeRate  \n",
              "batter         non-striker                            \n",
              "AB de Villiers V Kohli         20.605263  151.891368  \n",
              "CH Gayle       V Kohli         26.456140  149.900596  \n",
              "V Kohli        AB de Villiers  19.878378  143.093385  \n",
              "DA Warner      S Dhawan        27.060000  144.705882  \n",
              "V Kohli        CH Gayle        20.392857  118.097208  \n",
              "...                                  ...         ...  \n",
              "Q de Kock      KD Karthik       0.000000    0.000000  \n",
              "M Jansen       RD Chahar        0.000000    0.000000  \n",
              "               KH Pandya        0.000000    0.000000  \n",
              "M Ashwin       JD Unadkat       0.000000    0.000000  \n",
              "Z Khan         S Aravind        0.000000    0.000000  \n",
              "\n",
              "[7755 rows x 5 columns]"
            ]
          },
          "execution_count": 81,
          "metadata": {},
          "output_type": "execute_result"
        }
      ],
      "source": [
        "match_played = ipl_df.groupby(['batter','non-striker'])['ID'].nunique()\n",
        "df['Avg'] = df['Runs']/match_played\n",
        "df.sort_values(ascending = False,by = 'Runs')"
      ]
    },
    {
      "cell_type": "code",
      "execution_count": null,
      "metadata": {},
      "outputs": [],
      "source": []
    }
  ],
  "metadata": {
    "colab": {
      "provenance": []
    },
    "kernelspec": {
      "display_name": "Machinelearning_new",
      "language": "python",
      "name": "python3"
    },
    "language_info": {
      "codemirror_mode": {
        "name": "ipython",
        "version": 3
      },
      "file_extension": ".py",
      "mimetype": "text/x-python",
      "name": "python",
      "nbconvert_exporter": "python",
      "pygments_lexer": "ipython3",
      "version": "3.11.11"
    }
  },
  "nbformat": 4,
  "nbformat_minor": 0
}
