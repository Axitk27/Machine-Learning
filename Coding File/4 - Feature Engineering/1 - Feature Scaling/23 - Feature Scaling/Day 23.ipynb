{
 "cells": [
  {
   "cell_type": "code",
   "execution_count": null,
   "id": "b500c519-5cd0-46e6-9b44-50978b1d3f71",
   "metadata": {},
   "outputs": [],
   "source": [
    "#Data Gathering\n",
    "#Data Analysis(EDA)\n",
    "#Feature Engineering\n",
    "#to extract the feature out of the Raw data is called as a Feature engineering\n"
   ]
  }
 ],
 "metadata": {
  "kernelspec": {
   "display_name": "Python 3 (ipykernel)",
   "language": "python",
   "name": "python3"
  },
  "language_info": {
   "codemirror_mode": {
    "name": "ipython",
    "version": 3
   },
   "file_extension": ".py",
   "mimetype": "text/x-python",
   "name": "python",
   "nbconvert_exporter": "python",
   "pygments_lexer": "ipython3",
   "version": "3.11.11"
  }
 },
 "nbformat": 4,
 "nbformat_minor": 5
}
