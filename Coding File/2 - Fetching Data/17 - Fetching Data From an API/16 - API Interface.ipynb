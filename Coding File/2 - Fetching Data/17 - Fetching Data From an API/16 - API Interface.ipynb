{
 "cells": [
  {
   "cell_type": "code",
   "execution_count": 4,
   "id": "bff72c89",
   "metadata": {},
   "outputs": [],
   "source": [
    "import pandas as pd\n",
    "import requests"
   ]
  },
  {
   "cell_type": "code",
   "execution_count": 7,
   "id": "79a6e07a",
   "metadata": {},
   "outputs": [],
   "source": [
    "response = requests.get('https://api.themoviedb.org/3/movie/top_rated?api_key=2e0850db7ea4081bf42cb37c47e14aa2&language=en-US&page=1')"
   ]
  },
  {
   "cell_type": "code",
   "execution_count": 14,
   "id": "a9ac9823",
   "metadata": {
    "scrolled": true
   },
   "outputs": [],
   "source": [
    "df = pd.DataFrame(response.json()['results'])[['id','title','release_date','popularity','vote_average','vote_count']]"
   ]
  },
  {
   "cell_type": "code",
   "execution_count": 17,
   "id": "71c45662",
   "metadata": {},
   "outputs": [
    {
     "data": {
      "text/plain": [
       "(20, 6)"
      ]
     },
     "execution_count": 17,
     "metadata": {},
     "output_type": "execute_result"
    }
   ],
   "source": [
    "df.shape"
   ]
  },
  {
   "cell_type": "code",
   "execution_count": 27,
   "id": "c8616e0e",
   "metadata": {},
   "outputs": [],
   "source": [
    "df = pd.DataFrame()#empty dataframe"
   ]
  },
  {
   "cell_type": "code",
   "execution_count": 29,
   "id": "85e5d278",
   "metadata": {
    "scrolled": true
   },
   "outputs": [
    {
     "data": {
      "text/html": [
       "<div>\n",
       "<style scoped>\n",
       "    .dataframe tbody tr th:only-of-type {\n",
       "        vertical-align: middle;\n",
       "    }\n",
       "\n",
       "    .dataframe tbody tr th {\n",
       "        vertical-align: top;\n",
       "    }\n",
       "\n",
       "    .dataframe thead th {\n",
       "        text-align: right;\n",
       "    }\n",
       "</style>\n",
       "<table border=\"1\" class=\"dataframe\">\n",
       "  <thead>\n",
       "    <tr style=\"text-align: right;\">\n",
       "      <th></th>\n",
       "    </tr>\n",
       "  </thead>\n",
       "  <tbody>\n",
       "  </tbody>\n",
       "</table>\n",
       "</div>"
      ],
      "text/plain": [
       "Empty DataFrame\n",
       "Columns: []\n",
       "Index: []"
      ]
     },
     "execution_count": 29,
     "metadata": {},
     "output_type": "execute_result"
    }
   ],
   "source": []
  },
  {
   "cell_type": "code",
   "execution_count": 32,
   "id": "cd441630",
   "metadata": {},
   "outputs": [],
   "source": [
    "for i in range(1,429):\n",
    "    response = requests.get('https://api.themoviedb.org/3/movie/top_rated?api_key=2e0850db7ea4081bf42cb37c47e14aa2&language=en-US&page={}'.format(i))\n",
    "    temp_df = pd.DataFrame(response.json()['results'])[['id','title','release_date','popularity','vote_average','vote_count']]\n",
    "    df = pd.concat([temp_df,df])"
   ]
  },
  {
   "cell_type": "code",
   "execution_count": 34,
   "id": "f77c5396",
   "metadata": {
    "scrolled": true
   },
   "outputs": [
    {
     "data": {
      "text/plain": [
       "(8560, 6)"
      ]
     },
     "execution_count": 34,
     "metadata": {},
     "output_type": "execute_result"
    }
   ],
   "source": [
    "df.shape"
   ]
  },
  {
   "cell_type": "code",
   "execution_count": 35,
   "id": "ca456a08",
   "metadata": {},
   "outputs": [
    {
     "data": {
      "text/html": [
       "<div>\n",
       "<style scoped>\n",
       "    .dataframe tbody tr th:only-of-type {\n",
       "        vertical-align: middle;\n",
       "    }\n",
       "\n",
       "    .dataframe tbody tr th {\n",
       "        vertical-align: top;\n",
       "    }\n",
       "\n",
       "    .dataframe thead th {\n",
       "        text-align: right;\n",
       "    }\n",
       "</style>\n",
       "<table border=\"1\" class=\"dataframe\">\n",
       "  <thead>\n",
       "    <tr style=\"text-align: right;\">\n",
       "      <th></th>\n",
       "      <th>id</th>\n",
       "      <th>title</th>\n",
       "      <th>release_date</th>\n",
       "      <th>popularity</th>\n",
       "      <th>vote_average</th>\n",
       "      <th>vote_count</th>\n",
       "    </tr>\n",
       "  </thead>\n",
       "  <tbody>\n",
       "    <tr>\n",
       "      <th>0</th>\n",
       "      <td>26953</td>\n",
       "      <td>Puppet Master</td>\n",
       "      <td>1989-10-12</td>\n",
       "      <td>7.115</td>\n",
       "      <td>5.800</td>\n",
       "      <td>349</td>\n",
       "    </tr>\n",
       "    <tr>\n",
       "      <th>1</th>\n",
       "      <td>6877</td>\n",
       "      <td>Failure to Launch</td>\n",
       "      <td>2006-03-10</td>\n",
       "      <td>8.355</td>\n",
       "      <td>5.800</td>\n",
       "      <td>1672</td>\n",
       "    </tr>\n",
       "    <tr>\n",
       "      <th>2</th>\n",
       "      <td>77987</td>\n",
       "      <td>Only God Forgives</td>\n",
       "      <td>2013-05-30</td>\n",
       "      <td>7.624</td>\n",
       "      <td>5.800</td>\n",
       "      <td>2442</td>\n",
       "    </tr>\n",
       "    <tr>\n",
       "      <th>3</th>\n",
       "      <td>8457</td>\n",
       "      <td>Drillbit Taylor</td>\n",
       "      <td>2008-02-04</td>\n",
       "      <td>7.385</td>\n",
       "      <td>5.831</td>\n",
       "      <td>1037</td>\n",
       "    </tr>\n",
       "    <tr>\n",
       "      <th>4</th>\n",
       "      <td>411873</td>\n",
       "      <td>The Little Hours</td>\n",
       "      <td>2017-06-30</td>\n",
       "      <td>9.535</td>\n",
       "      <td>5.830</td>\n",
       "      <td>574</td>\n",
       "    </tr>\n",
       "    <tr>\n",
       "      <th>...</th>\n",
       "      <td>...</td>\n",
       "      <td>...</td>\n",
       "      <td>...</td>\n",
       "      <td>...</td>\n",
       "      <td>...</td>\n",
       "      <td>...</td>\n",
       "    </tr>\n",
       "    <tr>\n",
       "      <th>15</th>\n",
       "      <td>769</td>\n",
       "      <td>GoodFellas</td>\n",
       "      <td>1990-09-12</td>\n",
       "      <td>28.650</td>\n",
       "      <td>8.500</td>\n",
       "      <td>13137</td>\n",
       "    </tr>\n",
       "    <tr>\n",
       "      <th>16</th>\n",
       "      <td>346</td>\n",
       "      <td>Seven Samurai</td>\n",
       "      <td>1954-04-26</td>\n",
       "      <td>14.966</td>\n",
       "      <td>8.457</td>\n",
       "      <td>3802</td>\n",
       "    </tr>\n",
       "    <tr>\n",
       "      <th>17</th>\n",
       "      <td>157336</td>\n",
       "      <td>Interstellar</td>\n",
       "      <td>2014-11-05</td>\n",
       "      <td>88.528</td>\n",
       "      <td>8.500</td>\n",
       "      <td>36578</td>\n",
       "    </tr>\n",
       "    <tr>\n",
       "      <th>18</th>\n",
       "      <td>12477</td>\n",
       "      <td>Grave of the Fireflies</td>\n",
       "      <td>1988-04-16</td>\n",
       "      <td>0.021</td>\n",
       "      <td>8.500</td>\n",
       "      <td>5734</td>\n",
       "    </tr>\n",
       "    <tr>\n",
       "      <th>19</th>\n",
       "      <td>637</td>\n",
       "      <td>Life Is Beautiful</td>\n",
       "      <td>1997-12-20</td>\n",
       "      <td>18.253</td>\n",
       "      <td>8.447</td>\n",
       "      <td>13205</td>\n",
       "    </tr>\n",
       "  </tbody>\n",
       "</table>\n",
       "<p>8560 rows × 6 columns</p>\n",
       "</div>"
      ],
      "text/plain": [
       "        id                   title release_date  popularity  vote_average  \\\n",
       "0    26953           Puppet Master   1989-10-12       7.115         5.800   \n",
       "1     6877       Failure to Launch   2006-03-10       8.355         5.800   \n",
       "2    77987       Only God Forgives   2013-05-30       7.624         5.800   \n",
       "3     8457         Drillbit Taylor   2008-02-04       7.385         5.831   \n",
       "4   411873        The Little Hours   2017-06-30       9.535         5.830   \n",
       "..     ...                     ...          ...         ...           ...   \n",
       "15     769              GoodFellas   1990-09-12      28.650         8.500   \n",
       "16     346           Seven Samurai   1954-04-26      14.966         8.457   \n",
       "17  157336            Interstellar   2014-11-05      88.528         8.500   \n",
       "18   12477  Grave of the Fireflies   1988-04-16       0.021         8.500   \n",
       "19     637       Life Is Beautiful   1997-12-20      18.253         8.447   \n",
       "\n",
       "    vote_count  \n",
       "0          349  \n",
       "1         1672  \n",
       "2         2442  \n",
       "3         1037  \n",
       "4          574  \n",
       "..         ...  \n",
       "15       13137  \n",
       "16        3802  \n",
       "17       36578  \n",
       "18        5734  \n",
       "19       13205  \n",
       "\n",
       "[8560 rows x 6 columns]"
      ]
     },
     "execution_count": 35,
     "metadata": {},
     "output_type": "execute_result"
    }
   ],
   "source": [
    "df"
   ]
  },
  {
   "cell_type": "code",
   "execution_count": 36,
   "id": "475c120e",
   "metadata": {},
   "outputs": [],
   "source": [
    "df.to_csv('Movies')"
   ]
  },
  {
   "cell_type": "code",
   "execution_count": null,
   "id": "2b81c2cf",
   "metadata": {},
   "outputs": [],
   "source": []
  },
  {
   "cell_type": "code",
   "execution_count": null,
   "id": "eeb4cc91",
   "metadata": {},
   "outputs": [],
   "source": []
  },
  {
   "cell_type": "code",
   "execution_count": null,
   "id": "4adc2643",
   "metadata": {},
   "outputs": [],
   "source": []
  }
 ],
 "metadata": {
  "kernelspec": {
   "display_name": "Python 3 (ipykernel)",
   "language": "python",
   "name": "python3"
  },
  "language_info": {
   "codemirror_mode": {
    "name": "ipython",
    "version": 3
   },
   "file_extension": ".py",
   "mimetype": "text/x-python",
   "name": "python",
   "nbconvert_exporter": "python",
   "pygments_lexer": "ipython3",
   "version": "3.11.7"
  }
 },
 "nbformat": 4,
 "nbformat_minor": 5
}
