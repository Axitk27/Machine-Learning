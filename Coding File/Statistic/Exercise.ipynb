{
 "cells": [
  {
   "cell_type": "code",
   "execution_count": 5,
   "id": "3e8a7170-0601-4b0e-8a85-b9d8684db292",
   "metadata": {},
   "outputs": [
    {
     "name": "stdin",
     "output_type": "stream",
     "text": [
      " longitutade\n"
     ]
    },
    {
     "name": "stdout",
     "output_type": "stream",
     "text": [
      "o9e\n"
     ]
    }
   ],
   "source": [
    "\n",
    "i = input()\n",
    "j = len(i)\n",
    "k = str(j-2)\n",
    "if(j>10):\n",
    "    print(i[1] + str(j-2)+i[-1])\n",
    "else:\n",
    "    print(i)"
   ]
  },
  {
   "cell_type": "code",
   "execution_count": 45,
   "id": "88d63cc9-0e50-4c47-a661-e9893e18e4f9",
   "metadata": {},
   "outputs": [
    {
     "name": "stdin",
     "output_type": "stream",
     "text": [
      "Enter a Number of row you want to print: 12\n",
      "Enter boolean parameter True/False: False\n"
     ]
    },
    {
     "name": "stdout",
     "output_type": "stream",
     "text": [
      "************\n",
      "***********\n",
      "**********\n",
      "*********\n",
      "********\n",
      "*******\n",
      "******\n",
      "*****\n",
      "****\n",
      "***\n",
      "**\n",
      "*\n"
     ]
    }
   ],
   "source": [
    "n = int(input(\"Enter a Number of row you want to print:\"))\n",
    "b = input(\"Enter boolean parameter True/False:\")\n",
    "i = 0\n",
    "\n",
    "if(b== \"True\"):\n",
    "    while(i<=n):\n",
    "        print(\"*\"*i)\n",
    "        i+=1\n",
    "elif(b == \"False\"):\n",
    "    while(n>0):\n",
    "        print(\"*\"*n)\n",
    "        n-=1\n"
   ]
  },
  {
   "cell_type": "code",
   "execution_count": 65,
   "id": "b7d95737-3dba-46b6-9f29-184211bead38",
   "metadata": {},
   "outputs": [
    {
     "name": "stdout",
     "output_type": "stream",
     "text": [
      "0\n",
      "Axit is good Man\n",
      "Axit is still a good man\n",
      "41\n",
      "17\n",
      "Axit is still a good man\n"
     ]
    }
   ],
   "source": [
    "f = open(\"Testfile.txt\",\"r\")\n",
    "#f.write(\"Axit is good Man\")\n",
    "print(f.tell())\n",
    "print(f.read())\n",
    "print(f.tell())\n",
    "print(f.seek(17))\n",
    "print(f.read())\n",
    "f.close()"
   ]
  },
  {
   "cell_type": "code",
   "execution_count": 83,
   "id": "620df949-abb1-4896-a069-5d6c3d661c01",
   "metadata": {},
   "outputs": [
    {
     "data": {
      "text/plain": [
       "True"
      ]
     },
     "execution_count": 83,
     "metadata": {},
     "output_type": "execute_result"
    }
   ],
   "source": [
    "def getdate():\n",
    "           import datetime\n",
    "           return datetime.datetime.now()\n",
    "user_list = [\"rohan\",\"harsh\", \"raghav\"]\n",
    "\n",
    "\n",
    "user_list[0]\n"
   ]
  },
  {
   "cell_type": "code",
   "execution_count": 24,
   "id": "ae81aa3e-64e3-45a6-a518-021b63efc084",
   "metadata": {},
   "outputs": [
    {
     "name": "stdout",
     "output_type": "stream",
     "text": [
      "Welcome to the health Management system\n"
     ]
    },
    {
     "name": "stdin",
     "output_type": "stream",
     "text": [
      "Please enter which mode you want to enter:\n",
      "1. write mode\n",
      "2. read mode\n",
      " 1\n",
      "Please select the user:\n",
      "1. rohan\n",
      "2. harsh\n",
      "3. raghav\n",
      " 1\n",
      "what you want to do for user\n",
      "1. diet plan \n",
      "2. exercise plan\n",
      " 1\n"
     ]
    }
   ],
   "source": [
    "def getdate():\n",
    "           import datetime\n",
    "           return datetime.datetime.now()\n",
    "    \n",
    "user_list = {1:\"rohan\",2:\"harsh\", 3:\"raghav\"}\n",
    "user_mode = {1:\"write mode\",2:\"read mode\"}\n",
    "user_management = {1:\"diet plan\",3:\"exercise plan\"}\n",
    "file_storage = {1:\"diet_management_rohan\",2:\"diet_management_harsh\",3:\"diet_management_raghav\",4:\"Exercise_management_rohan\",5:\"Exercise_management_harsh\",6:\"Exercise_management_raghav\"}\n",
    "\n",
    "print(\"Welcome to the health Management system\")\n",
    "i = int(input(\"\"\"Please enter which mode you want to enter:\n",
    "1. write mode\n",
    "2. read mode\\n\"\"\"))\n",
    "#print(user_mode[i])\n",
    "\n",
    "j = int(input(\"\"\"Please select the user:\n",
    "1. rohan\n",
    "2. harsh\n",
    "3. raghav\\n\"\"\"))\n",
    "#print(user_list[j])\n",
    "\n",
    "k = int(input(\"\"\"what you want to do for user\n",
    "1. diet plan \n",
    "2. exercise plan\\n\"\"\"))\n"
   ]
  },
  {
   "cell_type": "code",
   "execution_count": 32,
   "id": "ad9a0ac1-7848-49b7-b8dc-4a9844426b98",
   "metadata": {},
   "outputs": [
    {
     "name": "stdout",
     "output_type": "stream",
     "text": [
      "Welcome to the health Management system\n"
     ]
    },
    {
     "name": "stdin",
     "output_type": "stream",
     "text": [
      "Please enter which mode you want to enter:\n",
      "1. write mode\n",
      "2. read mode\n",
      " 2\n",
      "Please select the user:\n",
      "1. rohan\n",
      "2. harsh\n",
      "3. raghav\n",
      " 3\n",
      "what you want to do for user\n",
      "1. diet plan \n",
      "2. exercise plan\n",
      " 1\n"
     ]
    },
    {
     "name": "stdout",
     "output_type": "stream",
     "text": [
      "your required data:\n",
      "2023-12-17 23:44:15.223392:Jamun\n",
      "\n"
     ]
    }
   ],
   "source": [
    "def getdate():\n",
    "           import datetime\n",
    "           return datetime.datetime.now()\n",
    "    \n",
    "user_list = {1:\"rohan\",2:\"harsh\", 3:\"raghav\"}\n",
    "user_mode = {1:\"write mode\",2:\"read mode\"}\n",
    "user_management = {1:\"diet plan\",2:\"exercise plan\"}\n",
    "file_storage = {1:\"diet_management_rohan\",2:\"diet_management_harsh\",3:\"diet_management_raghav\",4:\"Exercise_management_rohan\",5:\"Exercise_management_harsh\",6:\"Exercise_management_raghav\"}\n",
    "\n",
    "print(\"Welcome to the health Management system\")\n",
    "i = int(input(\"\"\"Please enter which mode you want to enter:\n",
    "1. write mode\n",
    "2. read mode\\n\"\"\"))\n",
    "\n",
    "j = int(input(\"\"\"Please select the user:\n",
    "1. rohan\n",
    "2. harsh\n",
    "3. raghav\\n\"\"\"))\n",
    "\n",
    "k = int(input(\"\"\"what you want to do for user\n",
    "1. diet plan \n",
    "2. exercise plan\\n\"\"\"))\n",
    "\n",
    "def diet_update():\n",
    "    w = input(\"what have you eaten today: \") \n",
    "    v = str(getdate())\n",
    "    f.write(v + \":\" + w + \"\\n\")\n",
    "    f.close()\n",
    "\n",
    "def exercise_update():\n",
    "    w = input(\"what exercise have you done today: \") \n",
    "    v = str(getdate())\n",
    "    f.write(v + \":\" + w + \"\\n\")\n",
    "    f.close()\n",
    "    \n",
    "def read():\n",
    "    print(\"your required data:\")\n",
    "    print(f.read())\n",
    "    f.close()\n",
    "  \n",
    "if(user_mode[i] == \"write mode\"):\n",
    "    if(user_list[j] == \"rohan\"):\n",
    "        if(user_management[k] == \"diet plan\"):\n",
    "            f = open(file_storage[1],\"a\")\n",
    "            diet_update()\n",
    "        elif(user_management[k] == \"exercise plan\"):\n",
    "            f = open(file_storage[4],\"a\")\n",
    "            exercise_update()\n",
    "    elif(user_list[j] == \"harsh\"):\n",
    "        if(user_management[k] == \"diet plan\"):\n",
    "            f = open(file_storage[2],\"a\")\n",
    "            diet_update()\n",
    "        elif(user_management[k] == \"exercise plan\"):\n",
    "            f = open(file_storage[5],\"a\")\n",
    "            exercise_update()\n",
    "    elif(user_list[j] == \"raghav\"):\n",
    "        if(user_management[k] == \"diet plan\"):\n",
    "            f = open(file_storage[3],\"a\")\n",
    "            diet_update()\n",
    "        elif(user_management[k] == \"exercise plan\"):\n",
    "            f = open(file_storage[6],\"a\")\n",
    "            exercise_update()\n",
    "elif(user_mode[i] == \"read mode\"):\n",
    "    if(user_list[j] == \"rohan\"):\n",
    "        if(user_management[k] == \"diet plan\"):\n",
    "            f = open(file_storage[1],\"r\")\n",
    "            read()\n",
    "        elif(user_management[k] == \"exercise plan\"):\n",
    "            f = open(file_storage[4],\"r\")\n",
    "            read()\n",
    "    elif(user_list[j] == \"harsh\"):\n",
    "        if(user_management[k] == \"diet plan\"):\n",
    "            f = open(file_storage[2],\"r\")\n",
    "            read()\n",
    "        elif(user_management[k] == \"exercise plan\"):\n",
    "            f = open(file_storage[5],\"r\")\n",
    "            read()\n",
    "    elif(user_list[j] == \"raghav\"):\n",
    "        if(user_management[k] == \"diet plan\"):\n",
    "            f = open(file_storage[3],\"r\")\n",
    "            read()\n",
    "        elif(user_management[k] == \"exercise plan\"):\n",
    "            f = open(file_storage[6],\"r\")\n",
    "\n",
    "            read()"
   ]
  },
  {
   "cell_type": "code",
   "execution_count": 10,
   "id": "938326dd-1d03-4e11-9103-2f8e801f2ba4",
   "metadata": {},
   "outputs": [
    {
     "name": "stdin",
     "output_type": "stream",
     "text": [
      "Enter how many times you want to play this game:\n",
      " 10\n",
      "Enter your sign: \n",
      "    Press s for Snake \n",
      "    Press w for Water\n",
      "    Press g for Gun:\n",
      " s\n"
     ]
    },
    {
     "name": "stdout",
     "output_type": "stream",
     "text": [
      "s g\n",
      "computer won this round\n",
      "k is 1\n"
     ]
    },
    {
     "name": "stdin",
     "output_type": "stream",
     "text": [
      "Enter your sign: \n",
      "    Press s for Snake \n",
      "    Press w for Water\n",
      "    Press g for Gun:\n",
      " w\n"
     ]
    },
    {
     "name": "stdout",
     "output_type": "stream",
     "text": [
      "w s\n",
      "computer won this round\n",
      "k is 2\n"
     ]
    },
    {
     "name": "stdin",
     "output_type": "stream",
     "text": [
      "Enter your sign: \n",
      "    Press s for Snake \n",
      "    Press w for Water\n",
      "    Press g for Gun:\n",
      " g\n"
     ]
    },
    {
     "name": "stdout",
     "output_type": "stream",
     "text": [
      "g w\n",
      "computer won this round\n",
      "k is 3\n"
     ]
    },
    {
     "name": "stdin",
     "output_type": "stream",
     "text": [
      "Enter your sign: \n",
      "    Press s for Snake \n",
      "    Press w for Water\n",
      "    Press g for Gun:\n",
      " s\n"
     ]
    },
    {
     "name": "stdout",
     "output_type": "stream",
     "text": [
      "s g\n",
      "computer won this round\n",
      "k is 4\n"
     ]
    },
    {
     "name": "stdin",
     "output_type": "stream",
     "text": [
      "Enter your sign: \n",
      "    Press s for Snake \n",
      "    Press w for Water\n",
      "    Press g for Gun:\n",
      " w\n"
     ]
    },
    {
     "name": "stdout",
     "output_type": "stream",
     "text": [
      "w g\n",
      "you won this round \n",
      "j is 1\n"
     ]
    },
    {
     "name": "stdin",
     "output_type": "stream",
     "text": [
      "Enter your sign: \n",
      "    Press s for Snake \n",
      "    Press w for Water\n",
      "    Press g for Gun:\n",
      " g\n"
     ]
    },
    {
     "name": "stdout",
     "output_type": "stream",
     "text": [
      "g w\n",
      "computer won this round\n",
      "k is 5\n"
     ]
    },
    {
     "name": "stdin",
     "output_type": "stream",
     "text": [
      "Enter your sign: \n",
      "    Press s for Snake \n",
      "    Press w for Water\n",
      "    Press g for Gun:\n",
      " s\n"
     ]
    },
    {
     "name": "stdout",
     "output_type": "stream",
     "text": [
      "s w\n",
      "you won this round \n",
      "j is 2\n"
     ]
    },
    {
     "name": "stdin",
     "output_type": "stream",
     "text": [
      "Enter your sign: \n",
      "    Press s for Snake \n",
      "    Press w for Water\n",
      "    Press g for Gun:\n",
      " w\n"
     ]
    },
    {
     "name": "stdout",
     "output_type": "stream",
     "text": [
      "w g\n",
      "you won this round \n",
      "j is 3\n"
     ]
    },
    {
     "name": "stdin",
     "output_type": "stream",
     "text": [
      "Enter your sign: \n",
      "    Press s for Snake \n",
      "    Press w for Water\n",
      "    Press g for Gun:\n",
      " g\n"
     ]
    },
    {
     "name": "stdout",
     "output_type": "stream",
     "text": [
      "g w\n",
      "computer won this round\n",
      "k is 6\n"
     ]
    },
    {
     "name": "stdin",
     "output_type": "stream",
     "text": [
      "Enter your sign: \n",
      "    Press s for Snake \n",
      "    Press w for Water\n",
      "    Press g for Gun:\n",
      " s\n"
     ]
    },
    {
     "name": "stdout",
     "output_type": "stream",
     "text": [
      "s w\n",
      "you won this round \n",
      "j is 4\n",
      "You won the 4 time round and Computer won the 6 time round\n",
      "You loose the game\n"
     ]
    }
   ],
   "source": [
    "import random\n",
    "\n",
    "turn = int(input(\"Enter how many times you want to play this game:\\n\"))\n",
    "i = 1\n",
    "j = 0\n",
    "k = 0\n",
    "def comparison(user):\n",
    "    global j,k\n",
    "    if ((user == \"s\" and computer == \"w\") or (user == \"w\" and computer == \"g\") or (user == \"g\" and computer == \"s\")):\n",
    "        print(\"you won this round \")\n",
    "        j += 1\n",
    "        print(f\"j is {j}\")\n",
    "    elif ((computer == \"s\" and user == \"w\") or (computer == \"w\" and user == \"g\") or (computer == \"g\" and user == \"s\")):\n",
    "        print(\"computer won this round\")\n",
    "        k += 1\n",
    "        print(f\"k is {k}\")\n",
    "\n",
    "while (i <= turn):\n",
    "    user = input(\"\"\"Enter your sign: \n",
    "    Press s for Snake \n",
    "    Press w for Water\n",
    "    Press g for Gun:\\n\"\"\")\n",
    "    list = [\"s\", \"w\", \"g\"]\n",
    "    computer = random.choice(list)\n",
    "    while (user == computer):\n",
    "        computer = random.choice(list)\n",
    "    print(user,computer)\n",
    "    #print(i,j,k)\n",
    "    i+=1\n",
    "    if (user != \"s\" and user != \"w\" and user != \"g\"):\n",
    "        print(\"Invalid input!!!!!! Game Over\")\n",
    "        break\n",
    "    else:\n",
    "        comparison(user)\n",
    "print(f\"You won the {j} time round and Computer won the {k} time round\")\n",
    "if(j>k):\n",
    "    print(\"You won the game\")\n",
    "elif(j==k):\n",
    "    print(\"Game is draw\")\n",
    "else:\n",
    "    print(\"You loose the game\")\n",
    "\n"
   ]
  },
  {
   "cell_type": "code",
   "execution_count": null,
   "id": "ca8a0a97-b592-48d8-a485-451edb70e665",
   "metadata": {},
   "outputs": [],
   "source": []
  }
 ],
 "metadata": {
  "kernelspec": {
   "display_name": "Python 3 (ipykernel)",
   "language": "python",
   "name": "python3"
  },
  "language_info": {
   "codemirror_mode": {
    "name": "ipython",
    "version": 3
   },
   "file_extension": ".py",
   "mimetype": "text/x-python",
   "name": "python",
   "nbconvert_exporter": "python",
   "pygments_lexer": "ipython3",
   "version": "3.10.5"
  }
 },
 "nbformat": 4,
 "nbformat_minor": 5
}
