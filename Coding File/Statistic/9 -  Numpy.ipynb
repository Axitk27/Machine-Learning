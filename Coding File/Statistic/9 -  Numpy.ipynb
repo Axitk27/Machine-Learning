{
 "cells": [
  {
   "cell_type": "code",
   "execution_count": 1,
   "id": "c3534194-7c21-46fc-8645-3dab2fa851b0",
   "metadata": {},
   "outputs": [],
   "source": [
    "import numpy as np"
   ]
  },
  {
   "cell_type": "markdown",
   "id": "bb81be49-2d70-4c5e-851f-9340d75ba02a",
   "metadata": {},
   "source": [
    "# Creating a array which will work like a matrix in data science for engineering"
   ]
  },
  {
   "cell_type": "code",
   "execution_count": 2,
   "id": "5c12e5f0-c273-42b1-b548-5bd86b99e579",
   "metadata": {},
   "outputs": [
    {
     "name": "stdout",
     "output_type": "stream",
     "text": [
      "<class 'numpy.ndarray'>\n"
     ]
    }
   ],
   "source": [
    "a = np.array([2,1,3,4,5])\n",
    "print(type(a)) # find the type of the a"
   ]
  },
  {
   "cell_type": "code",
   "execution_count": 3,
   "id": "5549b3b3-6ef9-4c3e-9f6c-48e338dd0a87",
   "metadata": {},
   "outputs": [
    {
     "data": {
      "text/plain": [
       "(5,)"
      ]
     },
     "execution_count": 3,
     "metadata": {},
     "output_type": "execute_result"
    }
   ],
   "source": [
    "a.shape # find the shape of "
   ]
  },
  {
   "cell_type": "code",
   "execution_count": 4,
   "id": "b66d246d-8b4b-40d5-a200-30f0bbb8eb04",
   "metadata": {},
   "outputs": [
    {
     "data": {
      "text/plain": [
       "dtype('int32')"
      ]
     },
     "execution_count": 4,
     "metadata": {},
     "output_type": "execute_result"
    }
   ],
   "source": [
    "a.dtype # find the shape of  data "
   ]
  },
  {
   "cell_type": "markdown",
   "id": "0af36cbc-2d6f-4546-a8c3-7444f9c239bf",
   "metadata": {},
   "source": [
    "# Creating some value array"
   ]
  },
  {
   "cell_type": "code",
   "execution_count": 5,
   "id": "031f6b7a-5b7f-4041-9348-dc5ea5acd9f6",
   "metadata": {},
   "outputs": [
    {
     "data": {
      "text/plain": [
       "array([0., 0., 0., 0.])"
      ]
     },
     "execution_count": 5,
     "metadata": {},
     "output_type": "execute_result"
    }
   ],
   "source": [
    "np.zeros(4)"
   ]
  },
  {
   "cell_type": "code",
   "execution_count": 6,
   "id": "2045f630-983d-44b1-adfe-b6c68050bb83",
   "metadata": {},
   "outputs": [
    {
     "data": {
      "text/plain": [
       "array([[0., 0., 0., 0.],\n",
       "       [0., 0., 0., 0.],\n",
       "       [0., 0., 0., 0.],\n",
       "       [0., 0., 0., 0.]])"
      ]
     },
     "execution_count": 6,
     "metadata": {},
     "output_type": "execute_result"
    }
   ],
   "source": [
    "np.zeros((4,4)) # Creating matrix with null value"
   ]
  },
  {
   "cell_type": "code",
   "execution_count": 7,
   "id": "b3d96ae4-3d8a-4548-9e76-245764920c54",
   "metadata": {},
   "outputs": [
    {
     "data": {
      "text/plain": [
       "array([[4.],\n",
       "       [4.],\n",
       "       [4.],\n",
       "       [4.]])"
      ]
     },
     "execution_count": 7,
     "metadata": {},
     "output_type": "execute_result"
    }
   ],
   "source": [
    "np.ones((4,4))@np.ones((4,1)) #creating a matrix and then done multiplication"
   ]
  },
  {
   "cell_type": "code",
   "execution_count": 8,
   "id": "4b603b0a-a24f-40cc-8aeb-a269a558fc5d",
   "metadata": {},
   "outputs": [
    {
     "data": {
      "text/plain": [
       "array([[1.11980582e-311, 5.48412867e-322, 0.00000000e+000,\n",
       "        0.00000000e+000,             nan],\n",
       "       [1.16095484e-028, 3.94648786e+180, 2.09603059e-110,\n",
       "        7.49232601e+247, 9.38293071e-154],\n",
       "       [7.36093975e+223, 2.17436711e+243, 2.34728885e+251,\n",
       "        3.94659409e+180, 2.21002231e+214],\n",
       "       [7.79952706e-143, 2.91237123e+257, 4.71294503e+257,\n",
       "        2.60025117e-306, 1.25160617e-308]])"
      ]
     },
     "execution_count": 8,
     "metadata": {},
     "output_type": "execute_result"
    }
   ],
   "source": [
    "np.empty((4,5)) #this will just allocate the memory of the array will not assisgn the value "
   ]
  },
  {
   "cell_type": "code",
   "execution_count": null,
   "id": "8cde8352-bc74-416a-85b5-39e5755cd547",
   "metadata": {},
   "outputs": [],
   "source": [
    "#airithmatic operation + - * / this will create a element wise everything"
   ]
  },
  {
   "cell_type": "code",
   "execution_count": 9,
   "id": "f2fa10b3-ca53-426f-b54b-f2e04d0aab09",
   "metadata": {},
   "outputs": [
    {
     "data": {
      "text/plain": [
       "array([   4,    1,   27,  256, 3125])"
      ]
     },
     "execution_count": 9,
     "metadata": {},
     "output_type": "execute_result"
    }
   ],
   "source": [
    "a**a (element wise a^a)"
   ]
  },
  {
   "cell_type": "code",
   "execution_count": 13,
   "id": "3c19bd5e-0723-4908-9287-1f82ecc89bff",
   "metadata": {},
   "outputs": [
    {
     "data": {
      "text/plain": [
       "array([2, 1, 3, 4, 5])"
      ]
     },
     "execution_count": 13,
     "metadata": {},
     "output_type": "execute_result"
    }
   ],
   "source": [
    "a"
   ]
  },
  {
   "cell_type": "code",
   "execution_count": 16,
   "id": "784a318d-34c0-42c7-9995-d7bafaa83096",
   "metadata": {},
   "outputs": [
    {
     "data": {
      "text/plain": [
       "array([2])"
      ]
     },
     "execution_count": 16,
     "metadata": {},
     "output_type": "execute_result"
    }
   ],
   "source": [
    "a[0:1] #you need to observe that when [a:b] start from a and go till the location of b-1"
   ]
  },
  {
   "cell_type": "code",
   "execution_count": null,
   "id": "e3d7e344-c874-43f7-9f7f-666b81cb0873",
   "metadata": {},
   "outputs": [],
   "source": []
  }
 ],
 "metadata": {
  "kernelspec": {
   "display_name": "Python 3 (ipykernel)",
   "language": "python",
   "name": "python3"
  },
  "language_info": {
   "codemirror_mode": {
    "name": "ipython",
    "version": 3
   },
   "file_extension": ".py",
   "mimetype": "text/x-python",
   "name": "python",
   "nbconvert_exporter": "python",
   "pygments_lexer": "ipython3",
   "version": "3.12.2"
  }
 },
 "nbformat": 4,
 "nbformat_minor": 5
}
