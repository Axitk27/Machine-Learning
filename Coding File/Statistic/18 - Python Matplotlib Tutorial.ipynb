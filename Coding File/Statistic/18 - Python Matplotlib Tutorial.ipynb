{
 "cells": [
  {
   "cell_type": "code",
   "execution_count": 38,
   "id": "f8ef45e9-deb4-4d15-b278-ff100d6229ea",
   "metadata": {},
   "outputs": [
    {
     "name": "stdout",
     "output_type": "stream",
     "text": [
      "Using matplotlib backend: TkAgg\n"
     ]
    }
   ],
   "source": [
    "%matplotlib\n",
    "from matplotlib import pyplot as plt\n",
    "from matplotlib import style\n",
    "import numpy as np"
   ]
  },
  {
   "cell_type": "code",
   "execution_count": 39,
   "id": "789da654-942b-42ff-9421-5fa4497eff8a",
   "metadata": {},
   "outputs": [
    {
     "name": "stdout",
     "output_type": "stream",
     "text": [
      "[[1 2 3 4]\n",
      " [3 5 7 9]]\n"
     ]
    }
   ],
   "source": [
    "x = np.array([[1,2,3,4],[3,5,7,9]])\n",
    "y = np.array([[3,4,5,8],[2,3,9,56]])\n",
    "print(x)"
   ]
  },
  {
   "cell_type": "code",
   "execution_count": 40,
   "id": "d27463f2-e5e9-484d-a4a5-5ce74a0637b1",
   "metadata": {},
   "outputs": [],
   "source": [
    "\n",
    "plt.plot(x)\n",
    "plt.xlabel('x',la)\n",
    "plt.ylabel('y')\n",
    "plt.title('This is going to be legendary')\n",
    "plt.show()"
   ]
  },
  {
   "cell_type": "code",
   "execution_count": 56,
   "id": "7ee8d0c6-2ce3-4766-9fba-865a786d5da8",
   "metadata": {},
   "outputs": [],
   "source": [
    "plt.style.use('ggplot')\n",
    "plt.plot([1, 2, 3], [1, 2, 3], 'go-', label='line 1', linewidth=2)\n",
    "plt.plot([2, 3, 5], [6, 7, 3], 'bo-', label='line 2', linewidth=2)\n",
    "plt.xlabel('x')\n",
    "plt.ylabel('y')\n",
    "plt.legend()\n",
    "plt.show()"
   ]
  },
  {
   "cell_type": "code",
   "execution_count": null,
   "id": "35cce04c-f2ba-4817-863e-5c93bc660eff",
   "metadata": {},
   "outputs": [],
   "source": []
  }
 ],
 "metadata": {
  "kernelspec": {
   "display_name": "Python 3 (ipykernel)",
   "language": "python",
   "name": "python3"
  },
  "language_info": {
   "codemirror_mode": {
    "name": "ipython",
    "version": 3
   },
   "file_extension": ".py",
   "mimetype": "text/x-python",
   "name": "python",
   "nbconvert_exporter": "python",
   "pygments_lexer": "ipython3",
   "version": "3.12.2"
  }
 },
 "nbformat": 4,
 "nbformat_minor": 5
}
