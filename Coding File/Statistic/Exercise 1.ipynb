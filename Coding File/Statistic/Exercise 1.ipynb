{
 "cells": [
  {
   "cell_type": "code",
   "execution_count": 3,
   "id": "08e42f57-0e2c-4e65-81b8-ee6c82952e86",
   "metadata": {},
   "outputs": [],
   "source": [
    "import pandas as pd\n",
    "import os"
   ]
  },
  {
   "cell_type": "markdown",
   "id": "79af350b-36be-48d1-b542-42e5ec0756c6",
   "metadata": {},
   "source": [
    "First Change the directory here"
   ]
  },
  {
   "cell_type": "code",
   "execution_count": 22,
   "id": "73615757-67d1-4b7f-9427-c98ac710a209",
   "metadata": {},
   "outputs": [
    {
     "data": {
      "text/plain": [
       "'C:\\\\Users\\\\axitk\\\\PycharmProjects\\\\Python project 2\\\\Python Learning\\\\DataScience'"
      ]
     },
     "execution_count": 22,
     "metadata": {},
     "output_type": "execute_result"
    }
   ],
   "source": [
    "os.chdir(r'C:\\Users\\axitk\\PycharmProjects\\Python project 2\\Python Learning\\DataScience')\n",
    "os.getcwd()"
   ]
  },
  {
   "cell_type": "markdown",
   "id": "a509c492-6ba1-4f26-acc3-b818c5f40da5",
   "metadata": {},
   "source": [
    "Here is the code to load the csv file using the pandas library"
   ]
  },
  {
   "cell_type": "code",
   "execution_count": 23,
   "id": "7de22006-2c31-408a-93b9-d6df87361972",
   "metadata": {},
   "outputs": [],
   "source": [
    "df = pd.read_csv(\"AB_NYC_2019.csv\")"
   ]
  },
  {
   "cell_type": "markdown",
   "id": "532150e2-86ca-4cf5-b89d-f44c52b24f1c",
   "metadata": {},
   "source": [
    "Doing some operation on the data for Median Mean and Mode and Percentile"
   ]
  },
  {
   "cell_type": "code",
   "execution_count": 6,
   "id": "9263dc09-f8a5-419d-b694-8317d4416da1",
   "metadata": {},
   "outputs": [
    {
     "data": {
      "text/plain": [
       "count    48895.000000\n",
       "mean       152.720687\n",
       "std        240.154170\n",
       "min          0.000000\n",
       "25%         69.000000\n",
       "50%        106.000000\n",
       "75%        175.000000\n",
       "max      10000.000000\n",
       "Name: price, dtype: float64"
      ]
     },
     "execution_count": 6,
     "metadata": {},
     "output_type": "execute_result"
    }
   ],
   "source": [
    "df.price.describe()"
   ]
  },
  {
   "cell_type": "code",
   "execution_count": 24,
   "id": "fbc5b8b8-2272-405e-86ed-14d5ce973ce8",
   "metadata": {},
   "outputs": [],
   "source": [
    "find_outliner = df[df.price <= df.price.quantile(0.99)] \n",
    "find_outliner;"
   ]
  },
  {
   "cell_type": "code",
   "execution_count": 12,
   "id": "2c3dab43-afdb-427f-824a-bce02d10d24c",
   "metadata": {},
   "outputs": [
    {
     "data": {
      "text/plain": [
       "(49.0, 799.0)"
      ]
     },
     "execution_count": 12,
     "metadata": {},
     "output_type": "execute_result"
    }
   ],
   "source": [
    "min_threshold,max_threshold = df.price.quantile([0.1,0.99])\n",
    "min_threshold,max_threshold"
   ]
  },
  {
   "cell_type": "code",
   "execution_count": 25,
   "id": "7855731d-e8e2-40d9-b772-b9e68a407d7e",
   "metadata": {},
   "outputs": [],
   "source": [
    "df[df.price <= min_threshold];"
   ]
  },
  {
   "cell_type": "code",
   "execution_count": 26,
   "id": "f3b217b3-af57-40d3-84ff-f6f39d39e623",
   "metadata": {},
   "outputs": [],
   "source": [
    "df2 = df[(df.price>min_threshold)&(df.price<max_threshold)]\n",
    "df2;"
   ]
  },
  {
   "cell_type": "code",
   "execution_count": 18,
   "id": "f9f22ef9-a001-4949-beaa-fe752f2e62f1",
   "metadata": {},
   "outputs": [
    {
     "data": {
      "text/plain": [
       "(43376, 16)"
      ]
     },
     "execution_count": 18,
     "metadata": {},
     "output_type": "execute_result"
    }
   ],
   "source": [
    "df2.shape"
   ]
  },
  {
   "cell_type": "code",
   "execution_count": 27,
   "id": "dba8c518-07e2-47ed-ab99-18bc6a8f0d74",
   "metadata": {},
   "outputs": [],
   "source": [
    "df2.sample(5);"
   ]
  },
  {
   "cell_type": "code",
   "execution_count": 20,
   "id": "ca212b12-2c41-4973-aad4-fa8002514b76",
   "metadata": {},
   "outputs": [
    {
     "data": {
      "text/plain": [
       "count    43376.000000\n",
       "mean       148.640723\n",
       "std        102.949817\n",
       "min         50.000000\n",
       "25%         80.000000\n",
       "50%        120.000000\n",
       "75%        185.000000\n",
       "max        795.000000\n",
       "Name: price, dtype: float64"
      ]
     },
     "execution_count": 20,
     "metadata": {},
     "output_type": "execute_result"
    }
   ],
   "source": [
    "df2.price.describe()"
   ]
  },
  {
   "cell_type": "code",
   "execution_count": 21,
   "id": "99057bde-cb84-4e10-8871-50c5e5ff7029",
   "metadata": {},
   "outputs": [
    {
     "data": {
      "text/plain": [
       "count    48895.000000\n",
       "mean       152.720687\n",
       "std        240.154170\n",
       "min          0.000000\n",
       "25%         69.000000\n",
       "50%        106.000000\n",
       "75%        175.000000\n",
       "max      10000.000000\n",
       "Name: price, dtype: float64"
      ]
     },
     "execution_count": 21,
     "metadata": {},
     "output_type": "execute_result"
    }
   ],
   "source": [
    "df.price.describe()"
   ]
  },
  {
   "cell_type": "code",
   "execution_count": null,
   "id": "bf8e9242-0d4a-4e83-8bca-35e9a6d52767",
   "metadata": {},
   "outputs": [],
   "source": []
  }
 ],
 "metadata": {
  "kernelspec": {
   "display_name": "Python 3 (ipykernel)",
   "language": "python",
   "name": "python3"
  },
  "language_info": {
   "codemirror_mode": {
    "name": "ipython",
    "version": 3
   },
   "file_extension": ".py",
   "mimetype": "text/x-python",
   "name": "python",
   "nbconvert_exporter": "python",
   "pygments_lexer": "ipython3",
   "version": "3.12.2"
  }
 },
 "nbformat": 4,
 "nbformat_minor": 5
}
