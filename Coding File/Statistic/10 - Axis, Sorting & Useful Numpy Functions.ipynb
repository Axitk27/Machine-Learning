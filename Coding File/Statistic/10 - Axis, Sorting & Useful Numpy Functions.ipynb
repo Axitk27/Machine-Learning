{
 "cells": [
  {
   "cell_type": "code",
   "execution_count": 1,
   "id": "0b405962-53f4-4ecb-bfaa-fff48c1e8e66",
   "metadata": {},
   "outputs": [],
   "source": [
    "import numpy as np"
   ]
  },
  {
   "cell_type": "code",
   "execution_count": 2,
   "id": "65116bb7-7529-40f6-a82d-412a8e887c80",
   "metadata": {},
   "outputs": [
    {
     "data": {
      "text/plain": [
       "array([[ 1, 16,  3, 10,  5],\n",
       "       [ 1,  2,  3,  5,  7]])"
      ]
     },
     "execution_count": 2,
     "metadata": {},
     "output_type": "execute_result"
    }
   ],
   "source": [
    "a = np.array([[1,16,3,10,5],\n",
    "              [1,2,3,5,7]])\n",
    "a"
   ]
  },
  {
   "cell_type": "code",
   "execution_count": 3,
   "id": "52940485-1faa-4bb9-ace7-cd8fb37c0755",
   "metadata": {},
   "outputs": [
    {
     "data": {
      "text/plain": [
       "array([35, 18])"
      ]
     },
     "execution_count": 3,
     "metadata": {},
     "output_type": "execute_result"
    }
   ],
   "source": [
    "a.sum(axis=1) #axis 1 will give me the answer row wise and 0 will give answer column wise"
   ]
  },
  {
   "cell_type": "code",
   "execution_count": 4,
   "id": "1e3cda72-179c-44a8-b75c-155a1311bc20",
   "metadata": {},
   "outputs": [],
   "source": [
    "dir(np); #this will give the function available in the numpy"
   ]
  },
  {
   "cell_type": "code",
   "execution_count": 11,
   "id": "598bd8db-1e33-4b76-b4fe-8e04bc44f733",
   "metadata": {},
   "outputs": [
    {
     "name": "stdout",
     "output_type": "stream",
     "text": [
      "2.48 µs ± 136 ns per loop (mean ± std. dev. of 7 runs, 100,000 loops each)\n"
     ]
    }
   ],
   "source": [
    "%%timeit\n",
    "np.sort(a,axis=1,kind='mergesort')"
   ]
  },
  {
   "cell_type": "code",
   "execution_count": 13,
   "id": "07041acc-8599-497d-b2eb-4206833ac61f",
   "metadata": {},
   "outputs": [
    {
     "name": "stdout",
     "output_type": "stream",
     "text": [
      "2.44 µs ± 101 ns per loop (mean ± std. dev. of 7 runs, 100,000 loops each)\n"
     ]
    }
   ],
   "source": [
    "%%timeit\n",
    "np.sort(a,axis=1,kind='quicksort')"
   ]
  },
  {
   "cell_type": "code",
   "execution_count": 14,
   "id": "78c22a8a-0a84-48d5-b521-4a49f671f92c",
   "metadata": {},
   "outputs": [
    {
     "name": "stdout",
     "output_type": "stream",
     "text": [
      "2.49 µs ± 157 ns per loop (mean ± std. dev. of 7 runs, 100,000 loops each)\n"
     ]
    }
   ],
   "source": [
    "%%timeit\n",
    "np.sort(a,axis=1,kind='heapsort')"
   ]
  },
  {
   "cell_type": "code",
   "execution_count": 15,
   "id": "157e9ed1-569a-4358-8cf7-bfbc205b3c28",
   "metadata": {},
   "outputs": [
    {
     "name": "stdout",
     "output_type": "stream",
     "text": [
      "2.58 µs ± 344 ns per loop (mean ± std. dev. of 7 runs, 100,000 loops each)\n"
     ]
    }
   ],
   "source": [
    "%%timeit\n",
    "np.sort(a,axis=1,kind='stable')"
   ]
  },
  {
   "cell_type": "code",
   "execution_count": 19,
   "id": "0de7f9fe-8249-4dc5-959d-2f176a4de93b",
   "metadata": {},
   "outputs": [
    {
     "name": "stdout",
     "output_type": "stream",
     "text": [
      "2.47 µs ± 215 ns per loop (mean ± std. dev. of 7 runs, 100,000 loops each)\n"
     ]
    }
   ],
   "source": [
    "%%timeit\n",
    "np.sort(a,axis=1)"
   ]
  },
  {
   "cell_type": "code",
   "execution_count": 9,
   "id": "734a8aab-85a8-4c33-9449-b1053b1c592f",
   "metadata": {},
   "outputs": [
    {
     "name": "stdout",
     "output_type": "stream",
     "text": [
      "[16  3]\n",
      "[16 10]\n"
     ]
    },
    {
     "data": {
      "text/plain": [
       "array([[ 1, 16,  3, 10,  5],\n",
       "       [ 1,  2,  3,  5,  7]])"
      ]
     },
     "execution_count": 9,
     "metadata": {},
     "output_type": "execute_result"
    }
   ],
   "source": [
    "b = a[0][1:3].copy()\n",
    "print(b)\n",
    "b[1] = 10\n",
    "print(b)\n",
    "a"
   ]
  },
  {
   "cell_type": "code",
   "execution_count": null,
   "id": "dddf0621-a71f-46b4-b45b-887ff9e3766f",
   "metadata": {},
   "outputs": [],
   "source": []
  }
 ],
 "metadata": {
  "kernelspec": {
   "display_name": "Python 3 (ipykernel)",
   "language": "python",
   "name": "python3"
  },
  "language_info": {
   "codemirror_mode": {
    "name": "ipython",
    "version": 3
   },
   "file_extension": ".py",
   "mimetype": "text/x-python",
   "name": "python",
   "nbconvert_exporter": "python",
   "pygments_lexer": "ipython3",
   "version": "3.12.2"
  }
 },
 "nbformat": 4,
 "nbformat_minor": 5
}
