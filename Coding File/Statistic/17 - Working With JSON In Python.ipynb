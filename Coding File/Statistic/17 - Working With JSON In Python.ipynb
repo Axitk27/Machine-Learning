{
 "cells": [
  {
   "cell_type": "code",
   "execution_count": 2,
   "id": "513aefba-a61a-4598-8e94-8a27f5805123",
   "metadata": {},
   "outputs": [],
   "source": [
    "import json\n",
    "import pandas as pd"
   ]
  },
  {
   "cell_type": "code",
   "execution_count": 5,
   "id": "1cf47947-1d8d-44cd-b79e-edf454e2ebd5",
   "metadata": {},
   "outputs": [],
   "source": [
    "x = '{\"a\": 1,\"b\" :2 ,\"c\":3}'\n",
    "y = json.loads(x)"
   ]
  },
  {
   "cell_type": "code",
   "execution_count": 6,
   "id": "a23ad4c8-18eb-4779-8648-794545652ac9",
   "metadata": {},
   "outputs": [
    {
     "data": {
      "text/plain": [
       "{'a': 1, 'b': 2, 'c': 3}"
      ]
     },
     "execution_count": 6,
     "metadata": {},
     "output_type": "execute_result"
    }
   ],
   "source": [
    "y"
   ]
  },
  {
   "cell_type": "code",
   "execution_count": 13,
   "id": "0ee3ae7d-228b-4a6b-a2ec-42731ea6da02",
   "metadata": {},
   "outputs": [
    {
     "data": {
      "text/plain": [
       "{'a': 1, 'b': 2, 'c': 3}"
      ]
     },
     "execution_count": 13,
     "metadata": {},
     "output_type": "execute_result"
    }
   ],
   "source": [
    "y"
   ]
  },
  {
   "cell_type": "code",
   "execution_count": 16,
   "id": "a5b2ec5f-b0f0-485d-a28e-8eba56a8551f",
   "metadata": {},
   "outputs": [],
   "source": [
    "with open('workfile','w') as f:\n",
    "    json.dump(y,f) # when you write dump then you need to give file in argument in dumps it is work on a string"
   ]
  },
  {
   "cell_type": "code",
   "execution_count": null,
   "id": "259f62c1-4a5d-4d3a-8665-d941c7242ce7",
   "metadata": {},
   "outputs": [],
   "source": []
  }
 ],
 "metadata": {
  "kernelspec": {
   "display_name": "Python 3 (ipykernel)",
   "language": "python",
   "name": "python3"
  },
  "language_info": {
   "codemirror_mode": {
    "name": "ipython",
    "version": 3
   },
   "file_extension": ".py",
   "mimetype": "text/x-python",
   "name": "python",
   "nbconvert_exporter": "python",
   "pygments_lexer": "ipython3",
   "version": "3.12.2"
  }
 },
 "nbformat": 4,
 "nbformat_minor": 5
}
